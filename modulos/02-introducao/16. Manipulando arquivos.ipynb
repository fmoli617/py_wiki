{
 "cells": [
  {
   "cell_type": "markdown",
   "metadata": {},
   "source": [
    "# Manipulando arquivos\n",
    "É muito fácil manipular arquivos em Python. Este notebook vai apresentar os principais métodos."
   ]
  },
  {
   "cell_type": "markdown",
   "metadata": {},
   "source": [
    "## Abrir arquivos\n",
    "A função `open` permite a abertura de arquivos, tanto do tipo texto, como binários.\n",
    "\n",
    "Assinatura da função\n",
    "```python\n",
    "file_object = open(filename[, accessmode][, buffersize])\n",
    "```\n",
    "O modo de acesso (accessmode) é definido por:\n",
    "\n",
    "| Modo de acesso | Descrição |\n",
    "| :-: | :-- |\n",
    "| **r** | Abre arquivo como somente leitura |\n",
    "| **rb** | Abre arquivo no formato binário como somente leitura |\n",
    "| **r+** | Abre arquivo para leitura e escrita |\n",
    "| **rb+** | Abre arquivo no formato binário para leitura e escrita |\n",
    "| **w** | Abre arquivo como somente escrita |\n",
    "| **wb** | Abre arquivo no formato binário como somente escrita |\n",
    "| **w+** | Abre arquivo para escrita e leitura |\n",
    "| **wb+** | Abre arquivo no formato binário para escrita e leitura |\n",
    "| **a** | Abre arquivo como somente append |\n",
    "| **ab** | Abre arquivo no formato binário como somente append |\n",
    "| **a+** | Abre arquivo para append e leitura |\n",
    "| **ab+** | Abre arquivo no formato binário para append e leitura |"
   ]
  },
  {
   "cell_type": "markdown",
   "metadata": {},
   "source": [
    "## Escrevendo arquivos\n",
    "O seguinte exemplo cria um arquivo texto com uma única string."
   ]
  },
  {
   "cell_type": "code",
   "execution_count": 1,
   "metadata": {},
   "outputs": [],
   "source": [
    "f = open('arquivo.txt', 'w')\n",
    "f.write('Hello! Vocês estão escrevendo seu primeiro arquivo texto.')\n",
    "f.close()"
   ]
  },
  {
   "cell_type": "markdown",
   "metadata": {},
   "source": [
    "A função `open` com a opção **w** indica que irá abrir o arquivo \"arquivo.txt\" para escrita. Caso ele não exista, o mesmo será criado.\n",
    "\n",
    "Depois, o método `write()` recebe uma string como parâmetro e o mesmo é gravado no arquivo aberto.\n",
    "\n",
    "O método `close()` indica que o arquivo deve ser fechado para que não continue aberto e assim bloqueado para outras aplicações."
   ]
  },
  {
   "cell_type": "code",
   "execution_count": 2,
   "metadata": {},
   "outputs": [],
   "source": [
    "with open('arquivo.txt', 'w') as f:\n",
    "    f.write('Hello! Vocês estão escrevendo seu primeiro arquivo texto com \"with\"')"
   ]
  },
  {
   "cell_type": "markdown",
   "metadata": {},
   "source": [
    "Note que podemos fazer o mesmo dentro de um bloco `with`, o que é mais seguro, pois ele sempre chama o método `close()` no final do seu bloco."
   ]
  },
  {
   "cell_type": "markdown",
   "metadata": {},
   "source": [
    "### Escrevendo múltiplas linhas"
   ]
  },
  {
   "cell_type": "code",
   "execution_count": null,
   "metadata": {},
   "outputs": [],
   "source": [
    "linhas = ['1ª linha do arquivo\\n', '2ª linha do arquivo\\n']\n",
    "with open('arquivo.txt', 'w') as f:\n",
    "    f.writelines(linhas)"
   ]
  },
  {
   "cell_type": "markdown",
   "metadata": {},
   "source": [
    "O método `writelines()` não insere a quebra de linha automaticamente. Por isso a necessidade de colocar \"\\n\" ao término de cada string."
   ]
  },
  {
   "cell_type": "markdown",
   "metadata": {},
   "source": [
    "## Lendo arquivos\n",
    "Existem basicamente 3 formas de ler arquivos.\n",
    "* `readline()`: lê caracteres até encontrar uma nova linha\n",
    "* `read(chars)`: lê um número específico de caracteres.\n",
    "* `readlines()`: lê todas as linhas do arquivo e retorna uma lista."
   ]
  },
  {
   "cell_type": "code",
   "execution_count": null,
   "metadata": {},
   "outputs": [],
   "source": [
    "# com while\n",
    "with open('arquivo.txt', 'r') as f:\n",
    "    line = f.readline()\n",
    "    while line != '':\n",
    "        print(line, end='')\n",
    "        line = f.readline()"
   ]
  },
  {
   "cell_type": "code",
   "execution_count": null,
   "metadata": {},
   "outputs": [],
   "source": [
    "# com generator implícito\n",
    "with open('arquivo.txt', 'r') as f:\n",
    "    for line in f:\n",
    "        print(line)"
   ]
  },
  {
   "cell_type": "code",
   "execution_count": null,
   "metadata": {},
   "outputs": [],
   "source": [
    "# com iterator\n",
    "with open('arquivo.txt', 'r') as f:\n",
    "    for line in iter(f.readlines()):\n",
    "        print(line)"
   ]
  },
  {
   "cell_type": "code",
   "execution_count": null,
   "metadata": {},
   "outputs": [],
   "source": [
    "# com iterator\n",
    "with open('arquivo.txt', 'r') as f:\n",
    "    for line in iter(f.readline, ''):\n",
    "        print(line)"
   ]
  },
  {
   "cell_type": "code",
   "execution_count": null,
   "metadata": {},
   "outputs": [],
   "source": [
    "# lendo apenas alguns caracteres\n",
    "with open('arquivo.txt', 'r') as f:\n",
    "    print(f.read(5))\n",
    "    print(f.read(5))"
   ]
  },
  {
   "cell_type": "markdown",
   "metadata": {},
   "source": [
    "## Append em arquivos\n",
    "Operação de write e append são diferentes. Vamos ver a diferença."
   ]
  },
  {
   "cell_type": "code",
   "execution_count": null,
   "metadata": {},
   "outputs": [],
   "source": [
    "# usando write\n",
    "for i in range(10):\n",
    "    with open('arquivo.txt', 'w') as f:\n",
    "        f.write(f'Escrevendo linha número {i}\\n')"
   ]
  },
  {
   "cell_type": "markdown",
   "metadata": {},
   "source": [
    "Abra o arquivo para ver o resultado. Apague o arquivo antes de executar o bloco abaixo."
   ]
  },
  {
   "cell_type": "code",
   "execution_count": null,
   "metadata": {},
   "outputs": [],
   "source": [
    "# usando append\n",
    "for i in range(10):\n",
    "    with open('arquivo.txt', 'a') as f:\n",
    "        f.write(f'Escrevendo linha número {i}\\n')"
   ]
  },
  {
   "cell_type": "markdown",
   "metadata": {},
   "source": [
    "Notou a diferença? Append vai escrevendo sempre a partir da posição final do arquivo."
   ]
  },
  {
   "cell_type": "markdown",
   "metadata": {},
   "source": [
    "## Seek em arquivos\n",
    "Para ler ou escrever em um arquivo a partir de uma determinada posição, você deverá usar o método `seek()`.\n",
    "```python\n",
    "seek(offset, from)\n",
    "```\n",
    "Onde `from` pode receber os seguintes valores:\n",
    "* **0**: Calculado a partir do começo do arquivo.\n",
    "* **1**: Calculado a partir da posição atual do arquivo.\n",
    "* **2**: Calculado a partir do fim do arquivo."
   ]
  },
  {
   "cell_type": "code",
   "execution_count": null,
   "metadata": {},
   "outputs": [],
   "source": [
    "with open('arquivo.txt', 'a+') as f:\n",
    "    f.seek(5, 0)\n",
    "    for line in f:\n",
    "        print(line)"
   ]
  },
  {
   "cell_type": "code",
   "execution_count": null,
   "metadata": {},
   "outputs": [],
   "source": [
    "with open('arquivo.txt', 'w') as f:\n",
    "    f.write('Oi amiguinhos!')\n",
    "    \n",
    "    f.seek(0, 2)\n",
    "    f.write('>')\n",
    "    \n",
    "    f.seek(0, 0)\n",
    "    f.write('<')"
   ]
  },
  {
   "cell_type": "code",
   "execution_count": null,
   "metadata": {},
   "outputs": [],
   "source": [
    "with open('arquivo.txt', 'w+') as f:\n",
    "    f.write('Oi amiguinhos!')\n",
    "    \n",
    "    f.seek(0, 0)\n",
    "    content = f.read()\n",
    "    \n",
    "    f.seek(0, 0)\n",
    "    f.write('<')\n",
    "    f.write(content)\n",
    "    f.write('>')"
   ]
  },
  {
   "cell_type": "markdown",
   "metadata": {},
   "source": [
    "# Exercícios"
   ]
  },
  {
   "cell_type": "markdown",
   "metadata": {},
   "source": [
    "**1)** Huguinho, Zezinho e Luisinho fizeram um curso de Python. Como prova final do curso, tiveram que implementar um arquivo .py com duas funções, `autor()`, que retorna o nome do aluno, e `func(n)`, que deve retornar o número `n` ao quadrado.\n",
    "\n",
    "Seu trabalho é implemntar a função `corrigir_provas(provas)` corrigir cada uma das provas e guardar um dicionário do tipo {nome: 1 | 0}.\n",
    "\n",
    "Parâmetros:\n",
    "* **provas**: Lista com o caminho dos arquivos .py\n",
    "\n",
    "Retorno: dicionário com o nome dos alunos como chave e como valor 1 caso estejam corretos e 0 quando não estiverem.\n",
    "\n",
    "Exemplo de uso:\n",
    "```python \n",
    "corrigir_provas(['input/prova01.py', 'input/prova02.py', 'input/prova03.py']) -> \n",
    "{'Huguinho': 0, 'Zezinho': 1, 'Luisinho': 1}\n",
    "```\n",
    "\n",
    "**Dicas**:\n",
    "* Abra cada arquivo e use a função `exec(content, globals())`, onde `content` é o conteúdo do arquivo lido, para compilar o conteúdo."
   ]
  },
  {
   "cell_type": "code",
   "execution_count": null,
   "metadata": {},
   "outputs": [],
   "source": [
    "def corrigir_provas(provas):\n",
    "    # seu código vem aqui            \n",
    "    return # seu retorno vem aqui\n",
    "\n",
    "# resultado esperado: {'Huguinho': 0, 'Zezinho': 1, 'Luisinho': 1}\n",
    "corrigir_provas(['input/prova01.py', 'input/prova02.py', 'input/prova03.py'])"
   ]
  },
  {
   "cell_type": "code",
   "execution_count": null,
   "metadata": {},
   "outputs": [],
   "source": []
  }
 ],
 "metadata": {
  "kernelspec": {
   "display_name": "Python 3",
   "language": "python",
   "name": "python3"
  },
  "language_info": {
   "codemirror_mode": {
    "name": "ipython",
    "version": 3
   },
   "file_extension": ".py",
   "mimetype": "text/x-python",
   "name": "python",
   "nbconvert_exporter": "python",
   "pygments_lexer": "ipython3",
   "version": "3.8.5"
  }
 },
 "nbformat": 4,
 "nbformat_minor": 2
}
