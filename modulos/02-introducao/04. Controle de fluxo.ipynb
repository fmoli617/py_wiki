{
 "cells": [
  {
   "cell_type": "markdown",
   "metadata": {},
   "source": [
    "# Controle de Fluxo\n",
    "\n",
    "Em programação, as instruções são executadas uma após a outra de forma sequencial. Em diversos momentos, precisamos ignorar instruções quando alguma condição ocorrer, ou precisamos repetir execuções de forma definida ou indefinida. Tudo isso são artifícios de controle de fluxo.\n",
    "\n",
    "Vamos ver neste notebook as principais formas de controle de fluxo.\n",
    "\n",
    "## Condições\n",
    "\n",
    "Uma condição nada mais é que uma ramificação dentro da execução do código que verifica se um determinado trecho de código pode ser executado ou não. Condição é a forma mais básica de controle de fluxo.\n",
    "\n",
    "![alt text](images/decision_making.jpg \"Fluxo de decisão\")\n",
    "\n",
    "### Usando apenas `if`\n",
    "\n",
    "Vamos simular condições com 2 variáveis."
   ]
  },
  {
   "cell_type": "code",
   "execution_count": 5,
   "metadata": {},
   "outputs": [],
   "source": [
    "a = 1\n",
    "b = 2"
   ]
  },
  {
   "cell_type": "markdown",
   "metadata": {},
   "source": [
    "Um `if` precisa de algo que indique se o resultado é `True` ou `False` para poder verificar se segue ou não adiante. Normalmente é feito com operadores de comparação.\n",
    "\n",
    "Além disso, Python \"sabe\" que o bloco de código está dentro do `if` quando ele se encontra indentado logo após a condição."
   ]
  },
  {
   "cell_type": "code",
   "execution_count": 6,
   "metadata": {},
   "outputs": [
    {
     "name": "stdout",
     "output_type": "stream",
     "text": [
      "\"A\" é menor que \"B\"\n"
     ]
    }
   ],
   "source": [
    "# condição simples\n",
    "if a < b:\n",
    "    print('\"A\" é menor que \"B\"')"
   ]
  },
  {
   "cell_type": "code",
   "execution_count": 7,
   "metadata": {},
   "outputs": [],
   "source": [
    "# caso não entre na condição, o código dentro do bloco if não é executado\n",
    "if a > b:\n",
    "    print('\"A\" é maior que \"B\"')"
   ]
  },
  {
   "cell_type": "code",
   "execution_count": 8,
   "metadata": {},
   "outputs": [
    {
     "name": "stdout",
     "output_type": "stream",
     "text": [
      "\"A\" é menor que \"B\"\n"
     ]
    }
   ],
   "source": [
    "# pode ser escrito em uma única linha (menos legível)\n",
    "if a < b: print('\"A\" é menor que \"B\"')"
   ]
  },
  {
   "cell_type": "code",
   "execution_count": 10,
   "metadata": {},
   "outputs": [
    {
     "name": "stdout",
     "output_type": "stream",
     "text": [
      "comando 1\n",
      "comando 2\n"
     ]
    }
   ],
   "source": [
    "# em algumas linguagens, há a necessidade de identificar os blocos através de abertura de chaves { e }\n",
    "# em python, a identação é que identifica o bloco\n",
    "if a < b:\n",
    "    print('comando 1')\n",
    "print('comando 2')"
   ]
  },
  {
   "cell_type": "markdown",
   "metadata": {},
   "source": [
    "### Usando `if` e `else`\n",
    "\n",
    "Vimos que o `if` executa um bloco de código caso a condição seja verdadeira. Podemos usar o `else` caso optemos em executar um bloco de código quando a condição for falsa."
   ]
  },
  {
   "cell_type": "code",
   "execution_count": 11,
   "metadata": {},
   "outputs": [
    {
     "name": "stdout",
     "output_type": "stream",
     "text": [
      "\"A\" é menor ou igual a \"B\"\n"
     ]
    }
   ],
   "source": [
    "if a > b:\n",
    "    print('\"A\" é maior que \"B\"')\n",
    "else:\n",
    "    print('\"A\" é menor ou igual a \"B\"')"
   ]
  },
  {
   "cell_type": "code",
   "execution_count": 12,
   "metadata": {},
   "outputs": [
    {
     "name": "stdout",
     "output_type": "stream",
     "text": [
      "comando 1\n",
      "comando 2\n"
     ]
    }
   ],
   "source": [
    "# a condição pode estar dentro de uma variável\n",
    "condicao = a < b\n",
    "if condicao:\n",
    "    print('comando 1') # note que é possível colocar códigos dentro do bloco do if\n",
    "    print('comando 2') # não somente uma única linha\n",
    "else:\n",
    "    print('comando 3')\n",
    "    print('comando 4')"
   ]
  },
  {
   "cell_type": "markdown",
   "metadata": {},
   "source": [
    "### Usando `if`, `elif` e `else`\n",
    "\n",
    "Em alguns momentos queremos fazer mais comparações e ter blocos distintos para cada uma das comparações."
   ]
  },
  {
   "cell_type": "markdown",
   "metadata": {},
   "source": [
    "Imagine que queremos avaliar `a` e `b` e ter 3 resultados, se `a` for maior, igual ou menor que `b`. Usanod `if` e `else` apenas, teríamos algo assim."
   ]
  },
  {
   "cell_type": "code",
   "execution_count": 14,
   "metadata": {},
   "outputs": [
    {
     "name": "stdout",
     "output_type": "stream",
     "text": [
      "\"A\" é menor que \"B\"\n"
     ]
    }
   ],
   "source": [
    "if a > b:\n",
    "    print('\"A\" é maior que \"B\"')\n",
    "else:\n",
    "    if a == b:\n",
    "        print('\"A\" é igual a \"B\"')\n",
    "    else:\n",
    "        print('\"A\" é menor que \"B\"')"
   ]
  },
  {
   "cell_type": "markdown",
   "metadata": {},
   "source": [
    "Nesses casos, é muito mais simples usar `elif`, que nada mais é do que um `else` seguido de `if`."
   ]
  },
  {
   "cell_type": "code",
   "execution_count": 13,
   "metadata": {},
   "outputs": [
    {
     "name": "stdout",
     "output_type": "stream",
     "text": [
      "\"A\" é menor que \"B\"\n"
     ]
    }
   ],
   "source": [
    "if a > b:\n",
    "    print('\"A\" é maior que \"B\"')\n",
    "elif a == b: # o mesmo que escrever \"else if\"\n",
    "    print('\"A\" é igual a \"B\"')\n",
    "else:\n",
    "    print('\"A\" é menor que \"B\"')"
   ]
  },
  {
   "cell_type": "markdown",
   "metadata": {},
   "source": [
    "### Operador  ternário\n",
    "\n",
    "Operador ternário é uma forma de escrever condições facilitadas do tipo `if-else`.\n",
    "\n",
    "Em C# existe o conceito de operador ternário: \n",
    "```javascript\n",
    "resultado = condição ? valor_se_true : valor_se_false\n",
    "```\n",
    "Em python, há uma forma de usar o mesmo conceito\n",
    "```python\n",
    "resultado = valor_se_true if condicao else valor_se_false\n",
    "```\n",
    "\n",
    "Imagine que queremos armazenar em `maior` a maior variável entre `a` e `b`."
   ]
  },
  {
   "cell_type": "code",
   "execution_count": 16,
   "metadata": {},
   "outputs": [
    {
     "name": "stdout",
     "output_type": "stream",
     "text": [
      "a: 1\n",
      "b: 2\n",
      "maior: 2\n"
     ]
    }
   ],
   "source": [
    "print('a:', a)\n",
    "print('b:', b)\n",
    "\n",
    "if a > b:\n",
    "    maior = a\n",
    "else:\n",
    "    maior = b\n",
    "    \n",
    "print('maior:', maior)"
   ]
  },
  {
   "cell_type": "markdown",
   "metadata": {},
   "source": [
    "Podemos reescrever da seguinte forma:"
   ]
  },
  {
   "cell_type": "code",
   "execution_count": 15,
   "metadata": {},
   "outputs": [
    {
     "name": "stdout",
     "output_type": "stream",
     "text": [
      "a: 1\n",
      "b: 2\n",
      "maior: 2\n"
     ]
    }
   ],
   "source": [
    "print('a:', a)\n",
    "print('b:', b)\n",
    "\n",
    "maior = a if a > b else b\n",
    "\n",
    "print('maior:', maior)"
   ]
  },
  {
   "cell_type": "markdown",
   "metadata": {},
   "source": [
    "### `if` dentro de `if`\n",
    "\n",
    "Podemos encadear condições dentro de outras. Lembre-se de indentar o código para indicar que uma está dentro da outra."
   ]
  },
  {
   "cell_type": "code",
   "execution_count": 17,
   "metadata": {},
   "outputs": [
    {
     "name": "stdout",
     "output_type": "stream",
     "text": [
      "\"A\" é maior que 4\n",
      "\"A\" é maior que 3\n",
      "\"A\" é maior que 2\n",
      "\"A\" é maior que 1\n",
      "Ufa!\n"
     ]
    }
   ],
   "source": [
    "a = 5\n",
    "\n",
    "if a > 1:\n",
    "    if a > 2:\n",
    "        if a > 3:\n",
    "            if a > 4:\n",
    "                if a > 5:\n",
    "                    print('\"A\" é maior que 5')\n",
    "                print('\"A\" é maior que 4')\n",
    "            print('\"A\" é maior que 3')\n",
    "        print('\"A\" é maior que 2')\n",
    "    print('\"A\" é maior que 1')\n",
    "print('Ufa!')"
   ]
  },
  {
   "cell_type": "markdown",
   "metadata": {},
   "source": [
    "## Loops\n",
    "\n",
    "Loops, ou laços, são mecanismos de controle de fluxo presente em todas as linguagens de programação. Em Python, temos basicamente 2 tipos de loop: `while` e `for`.\n",
    "\n",
    "A cada rodada do loop, chamamos de **iteração**."
   ]
  },
  {
   "cell_type": "markdown",
   "metadata": {},
   "source": [
    "### `while`\n",
    "Repete o bloco de código **enquanto** a condição for **verdadeira** (True). Ele testa a condição antes de executar o loop.\n",
    "![alt text](images/python_while_loop.jpg \"Loop com while\")\n",
    "\n",
    "Na prática, é um tipo de loop usado quando não sabemos quantas iterações iremos fazer."
   ]
  },
  {
   "cell_type": "code",
   "execution_count": 18,
   "metadata": {},
   "outputs": [
    {
     "name": "stdout",
     "output_type": "stream",
     "text": [
      "5\n",
      "4\n",
      "3\n",
      "2\n",
      "1\n"
     ]
    }
   ],
   "source": [
    "a = 5\n",
    "while a > 0:\n",
    "    print(a)\n",
    "    a -= 1 # o mesmo que a = a - 1"
   ]
  },
  {
   "cell_type": "markdown",
   "metadata": {},
   "source": [
    "#### Cuidado com loops infinitos\n",
    "\n",
    "Não é incomum esquecer de atualizar a variável que está condicionando o `while`. Quando isso ocorre, geramos um loop infinito."
   ]
  },
  {
   "cell_type": "code",
   "execution_count": null,
   "metadata": {},
   "outputs": [],
   "source": [
    "# não se assuste por enquanto com essa linha\n",
    "from time import sleep\n",
    "\n",
    "a = 5\n",
    "while a > 0:\n",
    "    print(a)\n",
    "    sleep(1)"
   ]
  },
  {
   "cell_type": "markdown",
   "metadata": {},
   "source": [
    "### `for`\n",
    "Executa um bloco de código uma determinada quantidade de vezes.\n",
    "\n",
    "![alt text](images/python_for_loop.jpg \"Loop com for\")\n",
    "\n",
    "Muito usado quando sabemos quantas iterações teremos.\n",
    "\n",
    "Em algumas linguagens, o `for` possui outra sintaxe. Nas linguagens derivadas do \"C\" teremos algo como isso:\n",
    "\n",
    "```javascript\n",
    "for (int i = 0; i < 10; i++) {\n",
    "    .\n",
    "    .\n",
    "    .\n",
    "}\n",
    "```\n",
    "\n",
    "No caso de Python, isso não existe. O `for` do Python atua similar ao `foreach` do C#."
   ]
  },
  {
   "cell_type": "code",
   "execution_count": 19,
   "metadata": {},
   "outputs": [
    {
     "name": "stdout",
     "output_type": "stream",
     "text": [
      "H\n",
      "e\n",
      "l\n",
      "l\n",
      "o\n",
      " \n",
      "W\n",
      "o\n",
      "r\n",
      "l\n",
      "d\n"
     ]
    }
   ],
   "source": [
    "s = 'Hello World'\n",
    "for c in s: # o mesmo que falar: para cada caracter \"c\" da string \"s\" faça\n",
    "    print(c)"
   ]
  },
  {
   "cell_type": "markdown",
   "metadata": {},
   "source": [
    "E como iteraríamos de 0 a 10 dessa forma? "
   ]
  },
  {
   "cell_type": "markdown",
   "metadata": {},
   "source": [
    "### Função `range`\n",
    "\n",
    "A função `range()` gera números inteiros entre um determinado início (`start`), fim (`stop`) e um passo (`step`), geralmente usado para iterar dentro de um loop.\n",
    "\n",
    "![alt text](images/python_range.png \"Função range()\")"
   ]
  },
  {
   "cell_type": "markdown",
   "metadata": {},
   "source": [
    "**Definição da função range()**\n",
    "```python\n",
    "range (start, stop[, step])\n",
    "```\n",
    "\n",
    "Seria algo muito similar a isso:\n",
    "```javascript\n",
    "for (int i = start; i < stop; i += step) {\n",
    "    .\n",
    "    .\n",
    "    .\n",
    "}\n",
    "```"
   ]
  },
  {
   "cell_type": "markdown",
   "metadata": {},
   "source": [
    "Quando passamos apenas um parâmetro, `start` começa em zero e `stop` termina no valor informado. O `step` neste caso é 1."
   ]
  },
  {
   "cell_type": "code",
   "execution_count": 20,
   "metadata": {},
   "outputs": [
    {
     "name": "stdout",
     "output_type": "stream",
     "text": [
      "0, 1, 2, 3, 4, 5, "
     ]
    }
   ],
   "source": [
    "for i in range(6):\n",
    "    print(i, end=', ')"
   ]
  },
  {
   "cell_type": "markdown",
   "metadata": {},
   "source": [
    "Quando passamos duas variáveis, `start` começa pelo primeiro argumento e `stop` pelo segundo. O `step` neste caso é 1 também."
   ]
  },
  {
   "cell_type": "code",
   "execution_count": 21,
   "metadata": {},
   "outputs": [
    {
     "name": "stdout",
     "output_type": "stream",
     "text": [
      "1, 2, 3, 4, 5, "
     ]
    }
   ],
   "source": [
    "for i in range(1, 6):\n",
    "    print(i, end=', ')"
   ]
  },
  {
   "cell_type": "markdown",
   "metadata": {},
   "source": [
    "Quando passamos os 3 argumentos, `start`, `stop` e `step` são definidos respectivamente."
   ]
  },
  {
   "cell_type": "code",
   "execution_count": 22,
   "metadata": {},
   "outputs": [
    {
     "name": "stdout",
     "output_type": "stream",
     "text": [
      "1, 3, 5, "
     ]
    }
   ],
   "source": [
    "for i in range(1, 6, 2):\n",
    "    print(i, end=', ')"
   ]
  },
  {
   "cell_type": "markdown",
   "metadata": {},
   "source": [
    "### Loops dentro de loops\n",
    "\n",
    "Não é incomum encontrarmos algoritmos onde há loops dentro de loops e eles podem se misturar, `while` e `for`."
   ]
  },
  {
   "cell_type": "code",
   "execution_count": 23,
   "metadata": {},
   "outputs": [
    {
     "name": "stdout",
     "output_type": "stream",
     "text": [
      "0\n",
      "1\n",
      "3\n",
      "6\n",
      "10\n",
      "15\n",
      "21\n",
      "28\n",
      "36\n",
      "45\n"
     ]
    }
   ],
   "source": [
    "for i in range(10):\n",
    "    soma = 0\n",
    "    while i > 0:\n",
    "        soma += i\n",
    "        i -= 1\n",
    "    print(soma)"
   ]
  },
  {
   "cell_type": "code",
   "execution_count": 54,
   "metadata": {},
   "outputs": [
    {
     "name": "stdout",
     "output_type": "stream",
     "text": [
      "2 é um número primo\n",
      "3 é um número primo\n",
      "5 é um número primo\n",
      "7 é um número primo\n",
      "11 é um número primo\n",
      "13 é um número primo\n",
      "17 é um número primo\n",
      "19 é um número primo\n",
      "23 é um número primo\n",
      "29 é um número primo\n",
      "31 é um número primo\n",
      "37 é um número primo\n",
      "41 é um número primo\n",
      "43 é um número primo\n",
      "47 é um número primo\n",
      "53 é um número primo\n",
      "59 é um número primo\n",
      "61 é um número primo\n",
      "67 é um número primo\n",
      "71 é um número primo\n",
      "73 é um número primo\n",
      "79 é um número primo\n",
      "83 é um número primo\n",
      "89 é um número primo\n",
      "97 é um número primo\n",
      "Flw!\n"
     ]
    }
   ],
   "source": [
    "i = 2\n",
    "while (i < 100):\n",
    "    j = 2\n",
    "    \n",
    "    while j <= (i / j):\n",
    "        if not (i % j): \n",
    "            break\n",
    "        j += 1\n",
    "        \n",
    "    if j > (i / j):\n",
    "        print(i, 'é um número primo')\n",
    "        \n",
    "    i += 1\n",
    "\n",
    "print('Flw!')"
   ]
  },
  {
   "cell_type": "markdown",
   "metadata": {},
   "source": [
    "### `break`\n",
    "\n",
    "Sai do loop e transfere a execução para o código seguinte ao loop.\n",
    "\n",
    "![alt text](images/cpp_break_statement.jpg \"Controlando fluxo com break\")"
   ]
  },
  {
   "cell_type": "code",
   "execution_count": 55,
   "metadata": {},
   "outputs": [
    {
     "name": "stdout",
     "output_type": "stream",
     "text": [
      "Letra atual: P\n",
      "Letra atual: y\n",
      "Letra atual: t\n",
      "fim\n"
     ]
    }
   ],
   "source": [
    "for letra in 'Python':\n",
    "    if letra == 'h':\n",
    "        break\n",
    "    print('Letra atual:', letra)\n",
    "    \n",
    "print('fim')"
   ]
  },
  {
   "cell_type": "markdown",
   "metadata": {},
   "source": [
    "### `continue`\n",
    "\n",
    "Ignora o resto do bloco do loop para imediatamente testar sua condição de loop.\n",
    "\n",
    "![alt text](images/cpp_continue_statement.jpg \"Controle de loop com continue\")"
   ]
  },
  {
   "cell_type": "code",
   "execution_count": 56,
   "metadata": {},
   "outputs": [
    {
     "name": "stdout",
     "output_type": "stream",
     "text": [
      "Letra atual: P\n",
      "Letra atual: y\n",
      "Letra atual: t\n",
      "Letra atual: o\n",
      "Letra atual: n\n",
      "fim\n"
     ]
    }
   ],
   "source": [
    "for letra in 'Python':\n",
    "    if letra == 'h':\n",
    "        continue\n",
    "    print('Letra atual:', letra)\n",
    "    \n",
    "print('fim')"
   ]
  },
  {
   "cell_type": "markdown",
   "metadata": {},
   "source": [
    "### `pass`\n",
    "\n",
    "O comando **pass** é usado quando sintaticamente é requerido algum código, mas que você não quer que execute nada."
   ]
  },
  {
   "cell_type": "code",
   "execution_count": 57,
   "metadata": {},
   "outputs": [
    {
     "name": "stdout",
     "output_type": "stream",
     "text": [
      "Letra atual: P\n",
      "Letra atual: y\n",
      "Letra atual: t\n",
      "viu que não fez nada?\n",
      "Letra atual: h\n",
      "Letra atual: o\n",
      "Letra atual: n\n",
      "fim\n"
     ]
    }
   ],
   "source": [
    "for letra in 'Python':\n",
    "    if letra == 'h':\n",
    "        pass\n",
    "        print('viu que não fez nada?')\n",
    "    print('Letra atual:', letra)\n",
    "    \n",
    "print('fim')"
   ]
  },
  {
   "cell_type": "markdown",
   "metadata": {},
   "source": [
    "### `do while`\n",
    "\n",
    "Em muitas linguagens de programação, existe o tipo de laço `do ... while` que primeiro executa o bloco de código e depois valida a condição para saber se deve permanecer no laço ou não.\n",
    "\n",
    "Em Python, não existe esse tipo de laço, mas há uma alternativa... Vamos dar uma olhada."
   ]
  },
  {
   "cell_type": "code",
   "execution_count": 60,
   "metadata": {},
   "outputs": [
    {
     "name": "stdout",
     "output_type": "stream",
     "text": [
      "10\n",
      "9\n",
      "8\n",
      "7\n",
      "6\n",
      "5\n",
      "4\n",
      "3\n",
      "2\n",
      "1\n"
     ]
    }
   ],
   "source": [
    "i = 10\n",
    "# while True ou while 1 criam o conceito do laço infinito\n",
    "while True:\n",
    "    print(i)\n",
    "    i -= 1\n",
    "    \n",
    "    # essa é a condição de saída... muito semelhante ao final do do-while\n",
    "    if i == 0:\n",
    "        break\n",
    "\n"
   ]
  },
  {
   "cell_type": "markdown",
   "metadata": {},
   "source": [
    "### switch case\n",
    "\n",
    "Em muitas linguagens, existe o conceito do switch case, que nada mais é do que validar uma variável a uma sequência de valores. É uma forma mais simplificada e específica do que usar vários `if-elif-else`.\n",
    "\n",
    "Em C#, seria algo do tipo:\n",
    "```\n",
    "switch (opcao)\n",
    "{\n",
    "    case 0:\n",
    "        ...\n",
    "        break;\n",
    "    case 1:\n",
    "        ...\n",
    "        break;\n",
    "    default:\n",
    "        ...\n",
    "        break;\n",
    "}\n",
    "```\n",
    "\n",
    "Em Python, isso não existe, mas há uma forma de simular switch case com dicionários, mas isso veremos mais adiante."
   ]
  },
  {
   "cell_type": "markdown",
   "metadata": {},
   "source": [
    "# Exercícios"
   ]
  },
  {
   "cell_type": "markdown",
   "metadata": {},
   "source": [
    "**1)** Faça um laço de 1 a 10 e imprima o número atual multiplicado pelo seu sucessor."
   ]
  },
  {
   "cell_type": "code",
   "execution_count": 70,
   "metadata": {},
   "outputs": [
    {
     "name": "stdout",
     "output_type": "stream",
     "text": [
      "2\n",
      "6\n",
      "12\n",
      "20\n",
      "30\n",
      "42\n",
      "56\n",
      "72\n",
      "90\n",
      "110\n"
     ]
    }
   ],
   "source": [
    "i = 1\n",
    "while (i < 11):\n",
    "    \n",
    "    produto = i * (i+1)\n",
    "\n",
    "    print(produto)\n",
    "    \n",
    "    i+=1"
   ]
  },
  {
   "cell_type": "markdown",
   "metadata": {},
   "source": [
    "**2)** Faça um laço de 1 a 10, imprima o número atual e ao atingir um número acima de 5, saia dele."
   ]
  },
  {
   "cell_type": "code",
   "execution_count": 72,
   "metadata": {},
   "outputs": [
    {
     "name": "stdout",
     "output_type": "stream",
     "text": [
      "1\n",
      "2\n",
      "3\n",
      "4\n",
      "5\n"
     ]
    }
   ],
   "source": [
    "i = 1\n",
    "while (i < 11):\n",
    "\n",
    "    if i > 5:\n",
    "        break\n",
    "    print(i)\n",
    "    \n",
    "    i+=1"
   ]
  },
  {
   "cell_type": "markdown",
   "metadata": {},
   "source": [
    "**3)** Crie um bloco de código que imprima números de 1 a 100 (inclusive) e que quando for múltiplo de 3 imprima **pif**, múltiplo de 5 imprima **paf** e quando for múltiplo de 3 e 5 imprima **pif-paf**"
   ]
  },
  {
   "cell_type": "code",
   "execution_count": 117,
   "metadata": {},
   "outputs": [
    {
     "name": "stdout",
     "output_type": "stream",
     "text": [
      "3  - Pif\n",
      "5 - Paf\n",
      "6  - Pif\n",
      "9  - Pif\n",
      "10 - Paf\n",
      "12  - Pif\n",
      "15  - Pif-Paf\n",
      "18  - Pif\n",
      "20 - Paf\n",
      "21  - Pif\n",
      "24  - Pif\n",
      "25 - Paf\n",
      "27  - Pif\n",
      "30  - Pif-Paf\n",
      "33  - Pif\n",
      "35 - Paf\n",
      "36  - Pif\n",
      "39  - Pif\n",
      "40 - Paf\n",
      "42  - Pif\n",
      "45  - Pif-Paf\n",
      "48  - Pif\n",
      "50 - Paf\n",
      "51  - Pif\n",
      "54  - Pif\n",
      "55 - Paf\n",
      "57  - Pif\n",
      "60  - Pif-Paf\n",
      "63  - Pif\n",
      "65 - Paf\n",
      "66  - Pif\n",
      "69  - Pif\n",
      "70 - Paf\n",
      "72  - Pif\n",
      "75  - Pif-Paf\n",
      "78  - Pif\n",
      "80 - Paf\n",
      "81  - Pif\n",
      "84  - Pif\n",
      "85 - Paf\n",
      "87  - Pif\n",
      "90  - Pif-Paf\n",
      "93  - Pif\n",
      "95 - Paf\n",
      "96  - Pif\n",
      "99  - Pif\n",
      "100 - Paf\n"
     ]
    }
   ],
   "source": [
    "i = 1\n",
    "while (i <= 100):\n",
    "    \n",
    "    if (i % 3 == 0) and (i % 5 == 0):\n",
    "    \n",
    "        print(i,' - Pif-Paf')\n",
    "        \n",
    "    elif i % 3 == 0:\n",
    "        \n",
    "        print(i,' - Pif')\n",
    "        \n",
    "    elif i % 5 == 0:\n",
    "        \n",
    "        print(i,'- Paf')\n",
    "\n",
    "    i+=1\n",
    "\n"
   ]
  },
  {
   "cell_type": "markdown",
   "metadata": {},
   "source": [
    "**4)** Crie um loop dentro de outro onde o primeiro loop vai de 1 a 10 (inclusive) e o segundo servirá para imprimir de 1 ao elemento do primeiro loop (inclusive), mas todos devem ser impressos um ao lado do outro. Usem o parâmetro `end` da função `print`."
   ]
  },
  {
   "cell_type": "code",
   "execution_count": 122,
   "metadata": {},
   "outputs": [
    {
     "name": "stdout",
     "output_type": "stream",
     "text": [
      "1 - 1 1 - 2 1 - 3 1 - 4 1 - 5 1 - 6 1 - 7 1 - 8 1 - 9 1 - 10 2 - 1 2 - 2 2 - 3 2 - 4 2 - 5 2 - 6 2 - 7 2 - 8 2 - 9 2 - 10 3 - 1 3 - 2 3 - 3 3 - 4 3 - 5 3 - 6 3 - 7 3 - 8 3 - 9 3 - 10 4 - 1 4 - 2 4 - 3 4 - 4 4 - 5 4 - 6 4 - 7 4 - 8 4 - 9 4 - 10 5 - 1 5 - 2 5 - 3 5 - 4 5 - 5 5 - 6 5 - 7 5 - 8 5 - 9 5 - 10 6 - 1 6 - 2 6 - 3 6 - 4 6 - 5 6 - 6 6 - 7 6 - 8 6 - 9 6 - 10 7 - 1 7 - 2 7 - 3 7 - 4 7 - 5 7 - 6 7 - 7 7 - 8 7 - 9 7 - 10 8 - 1 8 - 2 8 - 3 8 - 4 8 - 5 8 - 6 8 - 7 8 - 8 8 - 9 8 - 10 9 - 1 9 - 2 9 - 3 9 - 4 9 - 5 9 - 6 9 - 7 9 - 8 9 - 9 9 - 10 10 - 1 10 - 2 10 - 3 10 - 4 10 - 5 10 - 6 10 - 7 10 - 8 10 - 9 10 - 10 "
     ]
    }
   ],
   "source": [
    "for a in range(1,11):\n",
    "    for b in range(1, 11):\n",
    "        print(a,'-',b, end=' ')"
   ]
  },
  {
   "cell_type": "code",
   "execution_count": 121,
   "metadata": {},
   "outputs": [
    {
     "name": "stdout",
     "output_type": "stream",
     "text": [
      "1 \n",
      "1 2 \n",
      "1 2 3 \n",
      "1 2 3 4 \n",
      "1 2 3 4 5 \n",
      "1 2 3 4 5 6 \n",
      "1 2 3 4 5 6 7 \n",
      "1 2 3 4 5 6 7 8 \n",
      "1 2 3 4 5 6 7 8 9 \n",
      "1 2 3 4 5 6 7 8 9 10 \n"
     ]
    }
   ],
   "source": [
    "for a in range(1,11):\n",
    "    for b in range(1, a+1):\n",
    "        print(b, end=' ')\n",
    "    print()\n",
    "    "
   ]
  },
  {
   "cell_type": "code",
   "execution_count": null,
   "metadata": {},
   "outputs": [],
   "source": []
  }
 ],
 "metadata": {
  "kernelspec": {
   "display_name": "Python 3 (ipykernel)",
   "language": "python",
   "name": "python3"
  },
  "language_info": {
   "codemirror_mode": {
    "name": "ipython",
    "version": 3
   },
   "file_extension": ".py",
   "mimetype": "text/x-python",
   "name": "python",
   "nbconvert_exporter": "python",
   "pygments_lexer": "ipython3",
   "version": "3.10.9"
  }
 },
 "nbformat": 4,
 "nbformat_minor": 2
}
