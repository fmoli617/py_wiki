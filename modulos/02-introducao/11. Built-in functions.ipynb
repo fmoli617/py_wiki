{
 "cells": [
  {
   "cell_type": "markdown",
   "metadata": {},
   "source": [
    "# Built-in functions\n",
    "O Python já vem com diversas funções disponíveis para uso, como o caso do `print`, `len`, `sum`, `sorted`, etc, que vimos nos notebooks anteriores.\n",
    "\n",
    "Referência: \n",
    "https://docs.python.org/3.3/library/functions.html"
   ]
  },
  {
   "cell_type": "markdown",
   "metadata": {},
   "source": [
    "## `print`\n",
    "Imprime algo no prompt imediato. Vimos o uso em diversos notebooks, mas vamos detalhar um pouco mais sobre alguns de seus parâmetros."
   ]
  },
  {
   "cell_type": "code",
   "execution_count": null,
   "metadata": {},
   "outputs": [],
   "source": [
    "a = 1\n",
    "b = 2\n",
    "c = 3\n",
    "\n",
    "print(a, b, c)"
   ]
  },
  {
   "cell_type": "markdown",
   "metadata": {},
   "source": [
    "Essa é a forma comum de uso do `print` com mais de um valor a ser impresso. E se o dado fosse uma lista?"
   ]
  },
  {
   "cell_type": "code",
   "execution_count": null,
   "metadata": {},
   "outputs": [],
   "source": [
    "lista = [a, b, c]\n",
    "print(lista)"
   ]
  },
  {
   "cell_type": "markdown",
   "metadata": {},
   "source": [
    "Note que a lista foi impressa, ao invés de imprimir cada um de seus elementos. Caso seja essa a intenção, basta lembrar de como vimos no notebook anterior."
   ]
  },
  {
   "cell_type": "code",
   "execution_count": null,
   "metadata": {},
   "outputs": [],
   "source": [
    "print(*lista)"
   ]
  },
  {
   "cell_type": "markdown",
   "metadata": {},
   "source": [
    "O parâmetro `sep` indica qual o caractere separador entre um elemento e outro. Por padrão, `sep` é ' '."
   ]
  },
  {
   "cell_type": "code",
   "execution_count": null,
   "metadata": {},
   "outputs": [],
   "source": [
    "print(a, b, c, sep='~')"
   ]
  },
  {
   "cell_type": "markdown",
   "metadata": {},
   "source": [
    "Com um pouco de abstração, é possível imprimir vários elementos de uma lista em linhas separadas, pois podemos usar `sep` com `'\\n'`."
   ]
  },
  {
   "cell_type": "code",
   "execution_count": null,
   "metadata": {},
   "outputs": [],
   "source": [
    "print(*lista, sep='\\n')"
   ]
  },
  {
   "cell_type": "markdown",
   "metadata": {},
   "source": [
    "O parâmetro `end` indica como a impressão deve terminar. Por padrão, `'\\n'`."
   ]
  },
  {
   "cell_type": "code",
   "execution_count": null,
   "metadata": {},
   "outputs": [],
   "source": [
    "print(a, end=' ')\n",
    "print(b, end=' ')\n",
    "print(c)"
   ]
  },
  {
   "cell_type": "markdown",
   "metadata": {},
   "source": [
    "## `reversed`\n",
    "Inverte a ordem de uma lista ou qualquer outro iterable. Vale comentar que o retorno é do tipo `generator`, ou seja, cria um gerador para ser percorrido, o que traz eficiência em memória."
   ]
  },
  {
   "cell_type": "code",
   "execution_count": null,
   "metadata": {},
   "outputs": [],
   "source": [
    "lista = [1, 2, 3, 4, 5]\n",
    "list(reversed(lista))"
   ]
  },
  {
   "cell_type": "markdown",
   "metadata": {},
   "source": [
    "É o que mesmo que inverter da seguinte forma."
   ]
  },
  {
   "cell_type": "code",
   "execution_count": null,
   "metadata": {},
   "outputs": [],
   "source": [
    "lista[::-1]"
   ]
  },
  {
   "cell_type": "markdown",
   "metadata": {},
   "source": [
    "## `sorted`\n",
    "Vimos que `sorted` ordena um iterable e retorna uma lista. Vamos explorar agora um pouco mais dessa função."
   ]
  },
  {
   "cell_type": "code",
   "execution_count": 1,
   "metadata": {},
   "outputs": [
    {
     "data": {
      "text/plain": [
       "[5, 10, 20, 40]"
      ]
     },
     "execution_count": 1,
     "metadata": {},
     "output_type": "execute_result"
    }
   ],
   "source": [
    "lista = [10, 5, 40, 20]\n",
    "\n",
    "sorted(lista)"
   ]
  },
  {
   "cell_type": "markdown",
   "metadata": {},
   "source": [
    "Podemos usar o parâmetro `reverse` como `True` para ordenar a lista na ordem decrescente."
   ]
  },
  {
   "cell_type": "code",
   "execution_count": 2,
   "metadata": {},
   "outputs": [
    {
     "data": {
      "text/plain": [
       "[40, 20, 10, 5]"
      ]
     },
     "execution_count": 2,
     "metadata": {},
     "output_type": "execute_result"
    }
   ],
   "source": [
    "sorted(lista, reverse=True)"
   ]
  },
  {
   "cell_type": "markdown",
   "metadata": {},
   "source": [
    "E se os elementos fossem tuplas ou quiséssemos ordenar de forma diferente?"
   ]
  },
  {
   "cell_type": "code",
   "execution_count": 3,
   "metadata": {},
   "outputs": [
    {
     "data": {
      "text/plain": [
       "[('a', 10), ('b', 5), ('c', 40), ('d', 20)]"
      ]
     },
     "execution_count": 3,
     "metadata": {},
     "output_type": "execute_result"
    }
   ],
   "source": [
    "lista = [('a', 10), ('b', 5), ('c', 40), ('d', 20)]\n",
    "sorted(lista)"
   ]
  },
  {
   "cell_type": "markdown",
   "metadata": {},
   "source": [
    "Ué?! Não deu certo? \n",
    "\n",
    "`sorted` por padrão usa como chave o primeiro elemento, caso os elementos sejam do tipo iterable. Para mudar isso, vamos usar o parâmetro `key` que recebe como valor o resultado de uma função que é executada a cada um dos elementos."
   ]
  },
  {
   "cell_type": "code",
   "execution_count": 4,
   "metadata": {},
   "outputs": [
    {
     "data": {
      "text/plain": [
       "[('b', 5), ('a', 10), ('d', 20), ('c', 40)]"
      ]
     },
     "execution_count": 4,
     "metadata": {},
     "output_type": "execute_result"
    }
   ],
   "source": [
    "sorted(lista, key=lambda x: x[1])"
   ]
  },
  {
   "cell_type": "markdown",
   "metadata": {},
   "source": [
    "O que aconteceu aqui é que a função retorna o segundo elemento de cada um dos itens da lista. Dessa forma, podemos ordenar pelo segundo valor."
   ]
  },
  {
   "cell_type": "markdown",
   "metadata": {},
   "source": [
    "## `max` e `min`\n",
    "Vimos que `max` e `min` retornam respectivamente o maior e o menor elemento de uma lista. Até aí nada de mais, mas vamos agora entender o parâmetro `key`, da mesma forma que usamos em `sorted`."
   ]
  },
  {
   "cell_type": "code",
   "execution_count": 6,
   "metadata": {},
   "outputs": [
    {
     "name": "stdout",
     "output_type": "stream",
     "text": [
      "max ('d', 20)\n",
      "min ('a', 10)\n"
     ]
    }
   ],
   "source": [
    "print('max', max(lista))\n",
    "print('min', min(lista))"
   ]
  },
  {
   "cell_type": "code",
   "execution_count": 7,
   "metadata": {},
   "outputs": [
    {
     "name": "stdout",
     "output_type": "stream",
     "text": [
      "max ('c', 40)\n",
      "min ('b', 5)\n"
     ]
    }
   ],
   "source": [
    "print('max', max(lista, key=lambda x: x[1]))\n",
    "print('min', min(lista, key=lambda x: x[1]))"
   ]
  },
  {
   "cell_type": "markdown",
   "metadata": {},
   "source": [
    "## `abs`\n",
    "Retorna o valor absoluto de um número."
   ]
  },
  {
   "cell_type": "code",
   "execution_count": 8,
   "metadata": {},
   "outputs": [
    {
     "name": "stdout",
     "output_type": "stream",
     "text": [
      "abs(1) -> 1\n",
      "abs(-1) -> 1\n"
     ]
    }
   ],
   "source": [
    "print('abs(1) ->', abs(1))\n",
    "print('abs(-1) ->', abs(-1))"
   ]
  },
  {
   "cell_type": "markdown",
   "metadata": {},
   "source": [
    "## `all`\n",
    "Retorna `True` quando todos os itens de um iterable são `True`'s.\n",
    "\n",
    "O mesmo que desenvolver uma função da seguinte forma:\n",
    "```python\n",
    "def all(iterable):\n",
    "    for element in iterable:\n",
    "        if not element:\n",
    "            return False\n",
    "    return True\n",
    "```"
   ]
  },
  {
   "cell_type": "code",
   "execution_count": 9,
   "metadata": {},
   "outputs": [
    {
     "name": "stdout",
     "output_type": "stream",
     "text": [
      "False\n"
     ]
    }
   ],
   "source": [
    "list1 = [True, False, False, True, True]\n",
    "print(all(list1))"
   ]
  },
  {
   "cell_type": "code",
   "execution_count": 10,
   "metadata": {},
   "outputs": [
    {
     "name": "stdout",
     "output_type": "stream",
     "text": [
      "True\n"
     ]
    }
   ],
   "source": [
    "list2 = [True, True]\n",
    "print(all(list2))"
   ]
  },
  {
   "cell_type": "code",
   "execution_count": 11,
   "metadata": {},
   "outputs": [
    {
     "name": "stdout",
     "output_type": "stream",
     "text": [
      "[10, 50, 2, 4]\n",
      "[True, True, True, True]\n",
      "Todos os itens da lista são pares? True\n"
     ]
    }
   ],
   "source": [
    "# exemplo mais prático\n",
    "list1 = [10, 50, 2, 4]\n",
    "print(list1)\n",
    "pares = [x % 2 == 0 for x in list1]\n",
    "print(pares)\n",
    "print('Todos os itens da lista são pares?', all(pares))"
   ]
  },
  {
   "cell_type": "markdown",
   "metadata": {},
   "source": [
    "## `any`\n",
    "Retorna `True` quando pelo menos um elemento de um iterable é `True`.\n",
    "\n",
    "O mesmo que desenvolver uma função da seguinte forma:\n",
    "```python\n",
    "def any(iterable):\n",
    "    for element in iterable:\n",
    "        if element:\n",
    "            return True\n",
    "    return False\n",
    "```"
   ]
  },
  {
   "cell_type": "code",
   "execution_count": 12,
   "metadata": {},
   "outputs": [
    {
     "name": "stdout",
     "output_type": "stream",
     "text": [
      "True\n"
     ]
    }
   ],
   "source": [
    "list1 = [True, False, False, True, True]\n",
    "print(any(list1))"
   ]
  },
  {
   "cell_type": "code",
   "execution_count": 13,
   "metadata": {},
   "outputs": [
    {
     "name": "stdout",
     "output_type": "stream",
     "text": [
      "False\n"
     ]
    }
   ],
   "source": [
    "list2 = [False, False]\n",
    "print(any(list2))"
   ]
  },
  {
   "cell_type": "code",
   "execution_count": 14,
   "metadata": {},
   "outputs": [
    {
     "name": "stdout",
     "output_type": "stream",
     "text": [
      "[5, 30, 1, 3]\n",
      "[False, True, False, False]\n",
      "Alguns dos itens da lista são pares? True\n"
     ]
    }
   ],
   "source": [
    "# exemplo mais prático\n",
    "list1 = [5, 30, 1, 3]\n",
    "print(list1)\n",
    "pares = [x % 2 == 0 for x in list1]\n",
    "print(pares)\n",
    "print('Alguns dos itens da lista são pares?', any(pares))"
   ]
  },
  {
   "cell_type": "markdown",
   "metadata": {},
   "source": [
    "## `filter`\n",
    "Retorna um iterator com somente os itens cuja avaliação resulte em `True`.\n",
    "\n",
    "Seria o mesmo que:\n",
    "```python\n",
    "def filter(function, iterable):\n",
    "    return (item for item in iterable if function(item))\n",
    "```"
   ]
  },
  {
   "cell_type": "code",
   "execution_count": 15,
   "metadata": {},
   "outputs": [
    {
     "name": "stdout",
     "output_type": "stream",
     "text": [
      "Lista completa: [5, 30, 1, 3]\n",
      "Lista filtrada com somente pares: [30]\n"
     ]
    }
   ],
   "source": [
    "list1 = [5, 30, 1, 3]\n",
    "print('Lista completa:', list1)\n",
    "pares = filter(lambda x: x % 2 == 0, list1) # bom exemplo de lambda functions\n",
    "print('Lista filtrada com somente pares:', list(pares)) # convertendo para list, pois o resultado de um filter é um iterator"
   ]
  },
  {
   "cell_type": "markdown",
   "metadata": {},
   "source": [
    "## `map`\n",
    "Executa uma função a cada item de um dos iterable's passados.\n",
    "\n",
    "É similar ao trecho abaixo:\n",
    "```python\n",
    "def map(function, iterable):\n",
    "    return (function(item) for item in iterable)\n",
    "```"
   ]
  },
  {
   "cell_type": "code",
   "execution_count": 16,
   "metadata": {},
   "outputs": [
    {
     "name": "stdout",
     "output_type": "stream",
     "text": [
      "[1, 2, 3, 4]\n",
      "['1', '2', '3', '4']\n"
     ]
    }
   ],
   "source": [
    "list1 = [1, 2, 3, 4]\n",
    "print(list1)\n",
    "strlist = map(str, list1) # a função mapeada é str\n",
    "print(list(strlist))"
   ]
  },
  {
   "cell_type": "code",
   "execution_count": 17,
   "metadata": {},
   "outputs": [
    {
     "name": "stdout",
     "output_type": "stream",
     "text": [
      "[1, 2, 3, 4]\n",
      "[1, 8, 27, 64]\n"
     ]
    }
   ],
   "source": [
    "list1 = [1, 2, 3, 4]\n",
    "print(list1)\n",
    "cube = map(lambda x: x**3, list1)\n",
    "print(list(cube))"
   ]
  },
  {
   "cell_type": "markdown",
   "metadata": {},
   "source": [
    "## `eval`\n",
    "Executa cálculo em formato de string."
   ]
  },
  {
   "cell_type": "code",
   "execution_count": 18,
   "metadata": {},
   "outputs": [
    {
     "data": {
      "text/plain": [
       "1024"
      ]
     },
     "execution_count": 18,
     "metadata": {},
     "output_type": "execute_result"
    }
   ],
   "source": [
    "x = 2\n",
    "eval('(x + 30) ** 2')"
   ]
  },
  {
   "cell_type": "markdown",
   "metadata": {},
   "source": [
    "## `exec`\n",
    "Compila string com código."
   ]
  },
  {
   "cell_type": "code",
   "execution_count": 19,
   "metadata": {},
   "outputs": [
    {
     "name": "stdout",
     "output_type": "stream",
     "text": [
      "Hello World\n"
     ]
    }
   ],
   "source": [
    "code = \"\"\"\\\n",
    "def func():\n",
    "    print('Hello World')\n",
    "\"\"\"\n",
    "\n",
    "exec(code)\n",
    "func()"
   ]
  },
  {
   "cell_type": "markdown",
   "metadata": {},
   "source": [
    "## `open`\n",
    "Abre um arquivo para leitura e/ ou escrita e formato normal ou binário."
   ]
  },
  {
   "cell_type": "code",
   "execution_count": 20,
   "metadata": {},
   "outputs": [
    {
     "name": "stdout",
     "output_type": "stream",
     "text": [
      "E aí, galera!\n",
      "\n",
      "Beleza?!\n",
      "\n",
      "Manda uma alô aí para o pessoal!\n",
      "\n",
      "Flw!\n"
     ]
    }
   ],
   "source": [
    "# with indica que ao final do seu bloco, a função close() será acionada, garantindo que o arquivo seja lido e depois fechado.\n",
    "with open('input/textfile.txt') as fp:\n",
    "    for line in iter(fp.readline, ''):\n",
    "        print(line)"
   ]
  },
  {
   "cell_type": "markdown",
   "metadata": {},
   "source": [
    "## `round`\n",
    "Arredonda um valor de acondo com a quantidade de casas decimais indicadas."
   ]
  },
  {
   "cell_type": "code",
   "execution_count": 21,
   "metadata": {},
   "outputs": [
    {
     "name": "stdout",
     "output_type": "stream",
     "text": [
      "1005.9467\n",
      "1005.95\n",
      "1000.0\n"
     ]
    }
   ],
   "source": [
    "num = 1005.946703\n",
    "\n",
    "print(round(num, 5))\n",
    "print(round(num, 2))\n",
    "print(round(num, -3))"
   ]
  },
  {
   "cell_type": "markdown",
   "metadata": {},
   "source": [
    "## `zip`\n",
    "Cria um iterator que gera tuplas contendo o elemento *n* de cada lista.\n",
    "\n",
    "Em Python, é equivalente a:\n",
    "```python\n",
    "def zip(*iterables):\n",
    "    # zip('ABCD', 'xy') --> Ax By\n",
    "    sentinel = object()\n",
    "    iterators = [iter(it) for it in iterables]\n",
    "    while iterators:\n",
    "        result = []\n",
    "        for it in iterators:\n",
    "            elem = next(it, sentinel)\n",
    "            if elem is sentinel:\n",
    "                return\n",
    "            result.append(elem)\n",
    "        yield tuple(result)\n",
    "```"
   ]
  },
  {
   "cell_type": "code",
   "execution_count": 22,
   "metadata": {},
   "outputs": [
    {
     "name": "stdout",
     "output_type": "stream",
     "text": [
      "(0, 4)\n",
      "(1, 5)\n",
      "(2, 6)\n",
      "(3, 7)\n",
      "\n",
      "(0, 4, 8)\n",
      "(1, 5, 9)\n"
     ]
    }
   ],
   "source": [
    "list1 = [0, 1, 2, 3]\n",
    "list2 = [4, 5, 6, 7]\n",
    "list3 = [8, 9]\n",
    "\n",
    "zipped = zip(list1, list2)\n",
    "for z in zipped:\n",
    "    print(z)\n",
    "    \n",
    "print()\n",
    "\n",
    "zipped = zip(list1, list2, list3)\n",
    "for z in zipped:\n",
    "    print(z)"
   ]
  },
  {
   "cell_type": "markdown",
   "metadata": {},
   "source": [
    "# Exercícios"
   ]
  },
  {
   "cell_type": "markdown",
   "metadata": {},
   "source": [
    "**1)** Com as funções `map` e `filter` substitua adequadamente os laços a seguir. Não esqueça de converter como `list` caso tenha interesse em visualizar os resultados."
   ]
  },
  {
   "cell_type": "markdown",
   "metadata": {},
   "source": [
    "**a)**\n",
    "```python\n",
    "result = []\n",
    "for i in range(10):\n",
    "    result.append(i ** i)\n",
    "```"
   ]
  },
  {
   "cell_type": "code",
   "execution_count": null,
   "metadata": {},
   "outputs": [],
   "source": [
    "result = # seu código vai aqui\n",
    "assert list(result) == [1, 1, 4, 27, 256, 3125, 46656, 823543, 16777216, 387420489], 'Você errroooouuuuu!'\n",
    "print('Show de bola!')"
   ]
  },
  {
   "cell_type": "markdown",
   "metadata": {},
   "source": [
    "**b)**\n",
    "```python\n",
    "result = []\n",
    "for i in range(10):\n",
    "    if i % 2 == 0:\n",
    "        result.append(i)\n",
    "```"
   ]
  },
  {
   "cell_type": "code",
   "execution_count": null,
   "metadata": {},
   "outputs": [],
   "source": [
    "result = # seu código vai aqui\n",
    "assert list(result) == [0, 2, 4, 6, 8], 'Você errroooouuuuu!'\n",
    "print('Show de bola!')"
   ]
  },
  {
   "cell_type": "markdown",
   "metadata": {},
   "source": [
    "**c)**\n",
    "```python\n",
    "result = []\n",
    "for i in range(10):\n",
    "    if i % 2 == 0:\n",
    "        result.append(i ** i)\n",
    "```"
   ]
  },
  {
   "cell_type": "code",
   "execution_count": null,
   "metadata": {},
   "outputs": [],
   "source": [
    "result = # seu código vai aqui\n",
    "assert list(result) == [1, 4, 256, 46656, 16777216], 'Você errroooouuuuu!'\n",
    "print('Show de bola!')"
   ]
  },
  {
   "cell_type": "markdown",
   "metadata": {},
   "source": [
    "**2)** Reprograme a função `splitstring(s, sep)` vista anteriormente. **Faça uso da função *filter***. Ela é similar ao método `split` da string, porém ela remove espaços das strings resultantes e se a string resultante for vazia, ignora.\n",
    "\n",
    "Parâmetros:\n",
    "* **s**: string de entrada\n",
    "* **sep**: string de separação\n",
    "\n",
    "Retorno:\n",
    "Lista com substrings sem espaços separadas ignorando strings vazias.\n",
    "\n",
    "Exemplos de uso:\n",
    "```python\n",
    "splitstring('A,B,C', ',') -> ['A', 'B', 'C']\n",
    "splitstring('A, B, C, ', ',') -> ['A', 'B', 'C']\n",
    "splitstring('aaaa', 'a') -> []\n",
    "splitstring('Python é legal!', 'z') -> ['Python é legal!']\n",
    "splitstring('Texto com    vários    espaços   !', ' ') -> ['Texto', 'com', 'vários', 'espaços', '!']\n",
    "```"
   ]
  },
  {
   "cell_type": "code",
   "execution_count": null,
   "metadata": {},
   "outputs": [],
   "source": [
    "def splitstring(s, sep=' '):\n",
    "    # seu código vem aqui\n",
    "    return # seu retorno vem aqui\n",
    "\n",
    "# resultado esperado: ['A', 'B', 'C']\n",
    "splitstring('A, B, C, ', ',')"
   ]
  },
  {
   "cell_type": "code",
   "execution_count": null,
   "metadata": {},
   "outputs": [],
   "source": [
    "assert splitstring('A,B,C', ',') == ['A', 'B', 'C'], 'Você errroooouuuuu!'\n",
    "assert splitstring('A, B, C, ', ',') == ['A', 'B', 'C'], 'Você errroooouuuuu!'\n",
    "assert splitstring('aaaa', 'a') == [], 'Você errroooouuuuu!'\n",
    "assert splitstring('Python é legal!', 'z') == ['Python é legal!'], 'Você errroooouuuuu!'\n",
    "assert splitstring('Texto com    vários    espaços   !', ' ') == ['Texto', 'com', 'vários', 'espaços', '!'], 'Você errroooouuuuu!'\n",
    "print('Show de bola!')"
   ]
  },
  {
   "cell_type": "markdown",
   "metadata": {},
   "source": [
    "**3)** Implemente a função `lensorted(it, reverse=False)` que retorna uma lista ordenada de acordo com o tamanho de cada iterable dentro de `it`.\n",
    "\n",
    "Parâmetros:\n",
    "* **it**: lista de entrada com iterables como elementos.\n",
    "* **reverse**: Se `True`, deve trazer ordenado de forma decrescente.\n",
    "\n",
    "Retorno: uma lista ordenada de acordo com o tamanho de cada iterable.\n",
    "\n",
    "Exemplos de uso:\n",
    "```python\n",
    "lensorted(['aaa', 'b', 'cc']) -> ['b', 'cc', 'aaa']\n",
    "lensorted([[1, 2, 3], [4], [5, 6]]) -> [[4], [5, 6], [1, 2, 3]]\n",
    "```\n",
    "\n",
    "**Observações**:\n",
    "* Não há a necessidade de validar se os elementos internos são iterables.\n",
    "* Não há a necessidade de implementar nenhum mecanismo de pós ordenação, caso o tamanho seja o mesmo de um outro elemento."
   ]
  },
  {
   "cell_type": "code",
   "execution_count": null,
   "metadata": {},
   "outputs": [],
   "source": [
    "def lensorted(it, reverse=False):\n",
    "    # seu código vai aqui\n",
    "    return # seu retorno vem aqui\n",
    "\n",
    "# resultado esperado: ['b', 'cc', 'aaa']\n",
    "lensorted(['aaa', 'b', 'cc'])"
   ]
  },
  {
   "cell_type": "code",
   "execution_count": null,
   "metadata": {},
   "outputs": [],
   "source": [
    "assert lensorted(['aaa', 'b', 'cc']) == ['b', 'cc', 'aaa'], 'Você errroooouuuuu!'\n",
    "assert lensorted([[1, 2, 3], [4], [5, 6]]) == [[4], [5, 6], [1, 2, 3]], 'Você errroooouuuuu!'\n",
    "assert lensorted([[1, 2, 3], [4], [5, 6]], reverse=True) == [[1, 2, 3], [5, 6], [4]], 'Você errroooouuuuu!'\n",
    "print('Show de bola!')"
   ]
  },
  {
   "cell_type": "markdown",
   "metadata": {},
   "source": [
    "**4)** Programe a função `multisort(values, by, ascending)` para ordenar uma lista com sub-listas ou sub-tuplas internas em diversos graus de ordenação.\n",
    "\n",
    "Parâmetros:\n",
    "* **values**: Lista com sub-listas ou sub-tuplas internas.\n",
    "* **by**: Lista com os índices de ordenação.\n",
    "* **ascending**: Lista com as ordenações de cada índice informado. Quando `True`, indica ordem ascendente.\n",
    "\n",
    "Retorno: Lista com os itens ordenados de acordo com as especificações.\n",
    "\n",
    "Exemplos de uso:\n",
    "```python\n",
    "estudantes = [('Belinha', 35, 5.0), ('Abelardo', 24, 10.0), ('Duda', 32, 10.0)]\n",
    "multisort(estudantes, (2, 0, 1), (False, True, False)) -> [('Abelardo', 24, 10.0), ('Duda', 32, 10.0), ('Belinha', 35, 5.0)]\n",
    "```"
   ]
  },
  {
   "cell_type": "code",
   "execution_count": null,
   "metadata": {},
   "outputs": [],
   "source": [
    "def multisort(values, by, ascending):\n",
    "    # seu código vem aqui\n",
    "    return # seu retorno vem aqui\n",
    "\n",
    "estudantes = [('Belinha', 35, 5.0), ('Abelardo', 24, 10.0), ('Duda', 32, 10.0)]\n",
    "by = (2, 0, 1)\n",
    "ascending = (False, True, False)\n",
    "\n",
    "# resultado esperado: [('Abelardo', 24, 10.0), ('Duda', 32, 10.0), ('Belinha', 35, 5.0)]\n",
    "multisort(estudantes, by, ascending)"
   ]
  },
  {
   "cell_type": "code",
   "execution_count": null,
   "metadata": {},
   "outputs": [],
   "source": [
    "assert multisort(estudantes, (2, 0, 1), (False, True, True)) == \\\n",
    "    [('Abelardo', 24, 10.0), ('Duda', 32, 10.0), ('Belinha', 35, 5.0)], 'Você errroooouuuuu!'\n",
    "\n",
    "assert multisort(estudantes, (0, ), (True, )) == \\\n",
    "    [('Abelardo', 24, 10.0), ('Belinha', 35, 5.0), ('Duda', 32, 10.0)], 'Você errroooouuuuu!'\n",
    "\n",
    "assert multisort(estudantes, (1, ), (False, )) == \\\n",
    "    [('Belinha', 35, 5.0), ('Duda', 32, 10.0), ('Abelardo', 24, 10.0)], 'Você errroooouuuuu!'\n",
    "\n",
    "print('Show de bola!')"
   ]
  },
  {
   "cell_type": "code",
   "execution_count": null,
   "metadata": {},
   "outputs": [],
   "source": []
  }
 ],
 "metadata": {
  "kernelspec": {
   "display_name": "Python 3",
   "language": "python",
   "name": "python3"
  },
  "language_info": {
   "codemirror_mode": {
    "name": "ipython",
    "version": 3
   },
   "file_extension": ".py",
   "mimetype": "text/x-python",
   "name": "python",
   "nbconvert_exporter": "python",
   "pygments_lexer": "ipython3",
   "version": "3.8.5"
  }
 },
 "nbformat": 4,
 "nbformat_minor": 2
}
