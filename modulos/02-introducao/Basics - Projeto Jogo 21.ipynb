{
 "cells": [
  {
   "cell_type": "markdown",
   "metadata": {},
   "source": [
    "# Basics - Projeto Jogo 21\n",
    "Este projeto servirá para consolidar o aprendizado no módulo. Vamos desenvolver uma aplicação em Python para executar o jogo 21.\n",
    "\n",
    "## Jogo 21\n",
    "O jogo 21 é um jogo bem simples, jogado com cartas de baralho. É similar, mas mais simples, ao Blackjack.\n",
    "\n",
    "### Dinâmica\n",
    "A partir de um `baralho` (embaralhado, claro!), a `banca` apresenta uma `carta` ao `jogador`, no caso você. De acordo com sua pontuação, você pode optar por solicitar uma nova `carta` à `banca`.\n",
    "\n",
    "A partir do momento que o `jogador` pára de pedir novas `cartas`, é a vez da `banca` jogar.\n",
    "\n",
    "Ganha quem atingir a maior pontuação, porém no máximo de 21 pontos. A `banca` ganha no empate.\n",
    "\n",
    "### Contagem de pontos\n",
    "Cartas entre 2 e 10 (inclusive) possuem pontos relativos aos seus valores, ou seja, um 2 de paus equivale a 2 pontos.\n",
    "\n",
    "Figuras (valete, dama/ rainha, rei) equivalem a 10 pontos.\n",
    "\n",
    "O \"às\" pode valer 1 ou 11 pontos e sempre será o que trouxer a melhor pontuação possível.\n",
    "\n",
    "## Projeto\n",
    "O esqueleto do projeto está pronto (arquivo `vinteum.py`). Restam a conclusão de 3 partes: o método `__embaralhar`, o método `__calcularscore` e o método `getvencedor`.\n",
    "\n",
    "### Método `__embaralhar`\n",
    "O método `__embaralhar` pertence à classe `Baralho` e recebe como parâmetro `cartas`, que é uma lista de objetos do tipo `Carta`. Seu objetivo é retornar a mesma lista embaralhada aleatoriamente.\n",
    "\n",
    "### Método `__calcularscore`\n",
    "O método `__calcularscore` pertence à classe `Jogador` e serve para calcular a melhor pontuação com as cartas que o `Jogador` possui. As regras de cálculo foram discutidas acima.\n",
    "\n",
    "### Método `getvencedor`\n",
    "O método `getvencedor` pertence à classe `Jogo` e recebe dois parâmetros, um do tipo `Jogador` e outro do tipo `Banca`. O objetivo desse método é retornar o objeto que venceu o jogo. As regras foram discutidas acima.\n",
    "\n",
    "## Execução\n",
    "Para executar o projeto, basta executar o comando abaixo no prompt (dentro da pasta do projeto).\n",
    "```\n",
    "python vinteum.py\n",
    "```\n",
    "\n",
    "Lembre-se de estar no ambiente do curso.\n",
    "```\n",
    "conda activate cursopython\n",
    "```\n",
    "\n",
    "## Testes unitários\n",
    "Foi criado um programa para testar unitariamente cada um dos métodos. Ao invés de executar o programa da aplicação, execute o programa de testes para uma rápida validação.\n",
    "```\n",
    "python test_vinteum.py\n",
    "```\n",
    "\n",
    "Lembre-se de estar no ambiente do curso.\n",
    "```\n",
    "conda activate cursopython\n",
    "```"
   ]
  },
  {
   "cell_type": "code",
   "execution_count": null,
   "metadata": {},
   "outputs": [],
   "source": []
  }
 ],
 "metadata": {
  "kernelspec": {
   "display_name": "Python 3",
   "language": "python",
   "name": "python3"
  },
  "language_info": {
   "codemirror_mode": {
    "name": "ipython",
    "version": 3
   },
   "file_extension": ".py",
   "mimetype": "text/x-python",
   "name": "python",
   "nbconvert_exporter": "python",
   "pygments_lexer": "ipython3",
   "version": "3.8.5"
  }
 },
 "nbformat": 4,
 "nbformat_minor": 2
}
