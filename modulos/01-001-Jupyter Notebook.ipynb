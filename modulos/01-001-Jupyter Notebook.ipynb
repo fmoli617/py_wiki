{
 "cells": [
  {
   "cell_type": "markdown",
   "metadata": {},
   "source": [
    "# Modulo 01 - Introdução - Etapa 001 - Jupyter Notebook"
   ]
  },
  {
   "cell_type": "markdown",
   "metadata": {},
   "source": [
    "Abaixo tem uma linha de código em Python. \n",
    "\n",
    "Depois explicaremos o que ela faz. Selecionem a linha do código e ou apertem o botão **Run** ou **SHIFT+ENTER**. "
   ]
  },
  {
   "cell_type": "code",
   "execution_count": 1,
   "metadata": {},
   "outputs": [
    {
     "name": "stdout",
     "output_type": "stream",
     "text": [
      "Hello World!\n"
     ]
    }
   ],
   "source": [
    "print('Hello World!')"
   ]
  },
  {
   "cell_type": "markdown",
   "metadata": {},
   "source": [
    "Essa foi sua primeira linha de código executada.\n",
    "\n",
    "Notem que agora aparece o número de execução entre []'s."
   ]
  },
  {
   "cell_type": "markdown",
   "metadata": {},
   "source": [
    "## Codificando\n",
    "Vamos ver o comportamento do Jupyter Notebook na execução de código Python."
   ]
  },
  {
   "cell_type": "markdown",
   "metadata": {},
   "source": [
    "Execute os comandos abaixo em qualquer ordem. Note que:\n",
    "* É permitido pular linhas de execução.\n",
    "* É permitido executar em qualquer ordem.\n",
    "* É permitido repetir a execução de qualquer linha."
   ]
  },
  {
   "cell_type": "code",
   "execution_count": 2,
   "metadata": {},
   "outputs": [],
   "source": [
    "i = 0"
   ]
  },
  {
   "cell_type": "code",
   "execution_count": 3,
   "metadata": {},
   "outputs": [
    {
     "name": "stdout",
     "output_type": "stream",
     "text": [
      "0\n"
     ]
    }
   ],
   "source": [
    "print(i)"
   ]
  },
  {
   "cell_type": "code",
   "execution_count": 4,
   "metadata": {},
   "outputs": [],
   "source": [
    "i = i + 1"
   ]
  },
  {
   "cell_type": "markdown",
   "metadata": {},
   "source": [
    "## Editando\n",
    "* **Adicionar linhas**: Menu Insert > Insert cell above/ below\n",
    "* **Remover linhas**: Menu Edit > Delete Cells\n",
    "* **Converter linha de código em markdown**: Menu Cell > Cell Type > Markdown\n",
    "* **Converter linha de markdown em código**: Menu Cell > Cell Type > Code\n",
    "* **Reiniciar kernel ou notebook**: Menu Kernel > Restart"
   ]
  },
  {
   "cell_type": "markdown",
   "metadata": {},
   "source": [
    "## Documentando notebook\n",
    "Cliquem 2 vezes nessa linha para abrir as opções mais comuns\n",
    "\n",
    "# Título 1\n",
    "## Título 1.1\n",
    "### Título 1.1.1\n",
    "#### Título 1.1.1.1\n",
    "Texto comum sem formatação, mas podem usar \\*'s para *deixar em itálico* ou deixar em **negrito** ou em ***negrito itálico***.\n",
    "Caso queiram criar tópicos, usem \\*'s pulando linha. Assim ó:\n",
    "* Bla bla bla\n",
    "* Bla bla bla\n",
    "\n",
    "Vocês também podem abrir blocos de código para realçar algo `como isso`.\n",
    "```\n",
    "Assim é como podemos escrever um bloco de código\n",
    "```\n",
    "\n",
    "Assim é como podemos montar um bloco de código em python.\n",
    "```python\n",
    "print('Hello World!')\n",
    "```"
   ]
  }
 ],
 "metadata": {
  "kernelspec": {
   "display_name": "venv",
   "language": "python",
   "name": "python3"
  },
  "language_info": {
   "codemirror_mode": {
    "name": "ipython",
    "version": 3
   },
   "file_extension": ".py",
   "mimetype": "text/x-python",
   "name": "python",
   "nbconvert_exporter": "python",
   "pygments_lexer": "ipython3",
   "version": "3.9.0"
  }
 },
 "nbformat": 4,
 "nbformat_minor": 2
}
