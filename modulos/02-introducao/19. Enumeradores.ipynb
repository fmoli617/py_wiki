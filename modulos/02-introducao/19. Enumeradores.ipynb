{
 "cells": [
  {
   "cell_type": "markdown",
   "metadata": {},
   "source": [
    "# Enumeradores\n",
    "Enumeradores ou *enums* são classes especiais em Python. Em outras linguagens de programação, enums já fazem parte da sintaxe.\n",
    "\n",
    "Enumeradores nada mais são do que uma forma de limitar valores definidos a um objeto. É como se fosse uma lista predefinida de constantes e o objeto se limita a elas."
   ]
  },
  {
   "cell_type": "markdown",
   "metadata": {},
   "source": [
    "Imagina que gostaríamos de guardar em uma variável o dia da semana. Poderia ser algo do tipo."
   ]
  },
  {
   "cell_type": "code",
   "execution_count": null,
   "metadata": {},
   "outputs": [],
   "source": [
    "diadasemana = 1"
   ]
  },
  {
   "cell_type": "markdown",
   "metadata": {},
   "source": [
    "OK! Mas de que dia estamos falando? Domingo por ser o primeiro dia da semana ou está baseado no índice zero?\n",
    "\n",
    "Podemos fazer da seguinte forma."
   ]
  },
  {
   "cell_type": "code",
   "execution_count": null,
   "metadata": {},
   "outputs": [],
   "source": [
    "diadasemana = 'domingo'"
   ]
  },
  {
   "cell_type": "markdown",
   "metadata": {},
   "source": [
    "Hmmm... parece que ficou mais humanizado, mas traz outros problemas. Strings são fracas. E se em algum ponto eu, por descuido, declarar como `'Domingo'` ou `'domingão'`. Faz muita diferença."
   ]
  },
  {
   "cell_type": "markdown",
   "metadata": {},
   "source": [
    "É nisso que enumaradores vem para ajudar."
   ]
  },
  {
   "cell_type": "markdown",
   "metadata": {},
   "source": [
    "## Criando um enumerador\n",
    "Para criarmos nosso enumerador, precisamos importar a classe `Enum` da biblioteca `enum`."
   ]
  },
  {
   "cell_type": "code",
   "execution_count": null,
   "metadata": {},
   "outputs": [],
   "source": [
    "from enum import Enum"
   ]
  },
  {
   "cell_type": "markdown",
   "metadata": {},
   "source": [
    "Agora é só criarmos uma classe herdando de `Enum`."
   ]
  },
  {
   "cell_type": "code",
   "execution_count": null,
   "metadata": {},
   "outputs": [],
   "source": [
    "class DiaDaSemana(Enum):\n",
    "    DOMINGO = 1\n",
    "    SEGUNDA = 2\n",
    "    TERCA = 3 \n",
    "    QUARTA = 4\n",
    "    QUINTA = 5\n",
    "    SEXTA = 6\n",
    "    SABADO = 7 "
   ]
  },
  {
   "cell_type": "markdown",
   "metadata": {},
   "source": [
    "Voilà! Criamos nosso primeiro enumerador. Note que um enumerador é definido por um nome e um valor. O valor pode ser qualquer coisa, inteiros, flutuantes, strings, etc.\n",
    "\n",
    "**Observação**: Por convenção, declaramos os membros com todas em maiúsculo."
   ]
  },
  {
   "cell_type": "markdown",
   "metadata": {},
   "source": [
    "Podemos usar através do seu valor..."
   ]
  },
  {
   "cell_type": "code",
   "execution_count": null,
   "metadata": {},
   "outputs": [],
   "source": [
    "DiaDaSemana(1)"
   ]
  },
  {
   "cell_type": "markdown",
   "metadata": {},
   "source": [
    "Pelo seu nome..."
   ]
  },
  {
   "cell_type": "code",
   "execution_count": null,
   "metadata": {},
   "outputs": [],
   "source": [
    "DiaDaSemana['DOMINGO']"
   ]
  },
  {
   "cell_type": "markdown",
   "metadata": {},
   "source": [
    "Ou da forma mais fácil, através de seus membros..."
   ]
  },
  {
   "cell_type": "code",
   "execution_count": null,
   "metadata": {},
   "outputs": [],
   "source": [
    "DiaDaSemana.DOMINGO"
   ]
  },
  {
   "cell_type": "markdown",
   "metadata": {},
   "source": [
    "Agora sim podemos guardar em uma variável."
   ]
  },
  {
   "cell_type": "code",
   "execution_count": null,
   "metadata": {},
   "outputs": [],
   "source": [
    "diadasemana = DiaDaSemana.DOMINGO"
   ]
  },
  {
   "cell_type": "markdown",
   "metadata": {},
   "source": [
    "Muito mais simples!"
   ]
  },
  {
   "cell_type": "markdown",
   "metadata": {},
   "source": [
    "Podemos acessar seu nome e valor pelas propriedades `name` e `value`."
   ]
  },
  {
   "cell_type": "code",
   "execution_count": null,
   "metadata": {},
   "outputs": [],
   "source": [
    "print(diadasemana.name)\n",
    "print(diadasemana.value)"
   ]
  },
  {
   "cell_type": "markdown",
   "metadata": {},
   "source": [
    "Podemos realizar algumas comparações com os operadores `==`, `!=` e `is`."
   ]
  },
  {
   "cell_type": "code",
   "execution_count": null,
   "metadata": {},
   "outputs": [],
   "source": [
    "diadasemana is DiaDaSemana.DOMINGO"
   ]
  },
  {
   "cell_type": "code",
   "execution_count": null,
   "metadata": {},
   "outputs": [],
   "source": [
    "diadasemana == DiaDaSemana.DOMINGO"
   ]
  },
  {
   "cell_type": "code",
   "execution_count": null,
   "metadata": {},
   "outputs": [],
   "source": [
    "diadasemana != DiaDaSemana.QUARTA"
   ]
  },
  {
   "cell_type": "markdown",
   "metadata": {},
   "source": [
    "Porém não podemos comparar diretamente com seus valores. Veremos adiante enumeradores inteiros que possui um comportamento diferente."
   ]
  },
  {
   "cell_type": "code",
   "execution_count": null,
   "metadata": {},
   "outputs": [],
   "source": [
    "diadasemana == 1"
   ]
  },
  {
   "cell_type": "markdown",
   "metadata": {},
   "source": [
    "Também não podemos usar comparações com os operadores `<` e `>`."
   ]
  },
  {
   "cell_type": "code",
   "execution_count": null,
   "metadata": {},
   "outputs": [],
   "source": [
    "diadasemana < DiaDaSemana.SEGUNDA"
   ]
  },
  {
   "cell_type": "markdown",
   "metadata": {},
   "source": [
    "### Observações na criação\n",
    "Enumeradores são bem simples, mas há de se observar alguns pontos."
   ]
  },
  {
   "cell_type": "markdown",
   "metadata": {},
   "source": [
    "#### 1. Não podem existir 2 nomes iguais"
   ]
  },
  {
   "cell_type": "code",
   "execution_count": null,
   "metadata": {},
   "outputs": [],
   "source": [
    "class Cor(Enum):\n",
    "    BRANCA = 1\n",
    "    BRANCA = 2\n",
    "    AZUL = 3"
   ]
  },
  {
   "cell_type": "markdown",
   "metadata": {},
   "source": [
    "#### 2. Mas podem existir 2 valores iguais"
   ]
  },
  {
   "cell_type": "code",
   "execution_count": null,
   "metadata": {},
   "outputs": [],
   "source": [
    "class Cor(Enum):\n",
    "    BRANCA = 1\n",
    "    AZUL = 2\n",
    "    CLARA = 1"
   ]
  },
  {
   "cell_type": "markdown",
   "metadata": {},
   "source": [
    "A não ser que o enumerador seja definido com `unique`."
   ]
  },
  {
   "cell_type": "code",
   "execution_count": null,
   "metadata": {},
   "outputs": [],
   "source": [
    "from enum import Enum, unique\n",
    "\n",
    "@unique\n",
    "class Cor(Enum):\n",
    "    BRANCA = 1\n",
    "    AZUL = 2\n",
    "    CLARA = 1"
   ]
  },
  {
   "cell_type": "markdown",
   "metadata": {},
   "source": [
    "#### 3. Quando o valor não importa, use `auto()`"
   ]
  },
  {
   "cell_type": "code",
   "execution_count": null,
   "metadata": {},
   "outputs": [],
   "source": [
    "from enum import Enum, unique, auto\n",
    "\n",
    "@unique\n",
    "class Cor(Enum):\n",
    "    BRANCA = auto()\n",
    "    AZUL = auto()\n",
    "    CLARA = auto()"
   ]
  },
  {
   "cell_type": "code",
   "execution_count": null,
   "metadata": {},
   "outputs": [],
   "source": [
    "print(repr(Cor.BRANCA))\n",
    "print(repr(Cor.AZUL))\n",
    "print(repr(Cor.CLARA))"
   ]
  },
  {
   "cell_type": "markdown",
   "metadata": {},
   "source": [
    "## Iterando um `Enum`\n",
    "No exemplo acima, imprimimos cada um dos valores um a um, mas podemos iterar. \n",
    "\n",
    "Imagine o seguinte enumerador."
   ]
  },
  {
   "cell_type": "code",
   "execution_count": null,
   "metadata": {},
   "outputs": [],
   "source": [
    "class Forma(Enum):\n",
    "    REDONDA = 1\n",
    "    QUADRADA = 2\n",
    "    RETANGULAR = 2\n",
    "    TRAPEZOIDAL = 2\n",
    "    HEXAGONAL = 3"
   ]
  },
  {
   "cell_type": "markdown",
   "metadata": {},
   "source": [
    "Note que alguns valores foram duplicados, por pertencerem à mesma família, a de quadriláteros.\n",
    "\n",
    "Podemos converter a classe em lista."
   ]
  },
  {
   "cell_type": "code",
   "execution_count": null,
   "metadata": {},
   "outputs": [],
   "source": [
    "list(Forma)"
   ]
  },
  {
   "cell_type": "markdown",
   "metadata": {},
   "source": [
    "Note que alguns valores foram suprimidos, pois só traz a primeira ocorrência de cada valor. O mesmo acontecerá se iterarmos com `for`."
   ]
  },
  {
   "cell_type": "code",
   "execution_count": null,
   "metadata": {},
   "outputs": [],
   "source": [
    "for m in Forma:\n",
    "    print(m)"
   ]
  },
  {
   "cell_type": "markdown",
   "metadata": {},
   "source": [
    "Para resolvermos isso, podemos iterar `__members__.items()`."
   ]
  },
  {
   "cell_type": "code",
   "execution_count": null,
   "metadata": {},
   "outputs": [],
   "source": [
    "for name, member in Forma.__members__.items():\n",
    "    print(name, repr(member))"
   ]
  },
  {
   "cell_type": "markdown",
   "metadata": {},
   "source": [
    "## Enumeradores como inteiros\n",
    "Enumeradores inteiros (ou `IntEnum`) servem para guardar apenas valores inteiros em seus membros. A diferença está em como podemos comparar com números."
   ]
  },
  {
   "cell_type": "code",
   "execution_count": null,
   "metadata": {},
   "outputs": [],
   "source": [
    "from enum import Enum, IntEnum, auto, unique"
   ]
  },
  {
   "cell_type": "code",
   "execution_count": null,
   "metadata": {},
   "outputs": [],
   "source": [
    "class Tamanho(IntEnum):\n",
    "    PEQUENO = 1\n",
    "    MEDIO = 2\n",
    "    GRANDE = 3"
   ]
  },
  {
   "cell_type": "code",
   "execution_count": null,
   "metadata": {},
   "outputs": [],
   "source": [
    "tamanho = Tamanho.PEQUENO\n",
    "tamanho"
   ]
  },
  {
   "cell_type": "code",
   "execution_count": null,
   "metadata": {},
   "outputs": [],
   "source": [
    "tamanho == 1"
   ]
  },
  {
   "cell_type": "markdown",
   "metadata": {},
   "source": [
    "Olha como se comporta a comparação. Agora sim, podemos comparar diretamente com inteiros, ao invés de termos que comparar com enumeradores."
   ]
  },
  {
   "cell_type": "code",
   "execution_count": null,
   "metadata": {},
   "outputs": [],
   "source": [
    "Tamanho.PEQUENO < Tamanho.MEDIO"
   ]
  },
  {
   "cell_type": "markdown",
   "metadata": {},
   "source": [
    "Agora podemos comparar também com os operadores `<` e `>`."
   ]
  },
  {
   "cell_type": "markdown",
   "metadata": {},
   "source": [
    "## Flags\n",
    "Flags são enumeradores especiais, similares a `IntEnum`, mas que permite realizarmos operações binárias. "
   ]
  },
  {
   "cell_type": "code",
   "execution_count": null,
   "metadata": {},
   "outputs": [],
   "source": [
    "from enum import Enum, IntEnum, Flag, auto, unique"
   ]
  },
  {
   "cell_type": "code",
   "execution_count": null,
   "metadata": {},
   "outputs": [],
   "source": [
    "class Cor(Flag):\n",
    "    PRETA = 0\n",
    "    VERMELHA = auto()\n",
    "    VERDE = auto()\n",
    "    AZUL = auto()\n",
    "    BRANCA = VERMELHA | VERDE | AZUL"
   ]
  },
  {
   "cell_type": "code",
   "execution_count": null,
   "metadata": {},
   "outputs": [],
   "source": [
    "000\n",
    "001\n",
    "010\n",
    "011\n",
    "100\n",
    "101\n",
    "110\n",
    "111"
   ]
  },
  {
   "cell_type": "code",
   "execution_count": null,
   "metadata": {},
   "outputs": [],
   "source": [
    "for cor in Cor:\n",
    "    print(repr(cor))"
   ]
  },
  {
   "cell_type": "markdown",
   "metadata": {},
   "source": [
    "Note que quando usamos `auto()` para definir os valores, os valores são atribuídos na potência de 2 (1, 2, 4, 8, 16, ...). Quando combinamos `VERMELHA` com `VERDE` e com `AZUL` chegamos a uma nova cor.\n",
    "\n",
    "Até aqui, grande coisa... \n",
    "\n",
    "A vantagem aparece quando vamos realizar algumas comparações."
   ]
  },
  {
   "cell_type": "code",
   "execution_count": null,
   "metadata": {},
   "outputs": [],
   "source": [
    "def get_componentes(cor):\n",
    "    if cor & Cor.VERMELHA:\n",
    "        print('Essa cor possui o componente vermelho em sua composição')\n",
    "    if cor & Cor.VERDE:\n",
    "        print('Essa cor possui o componente verde em sua composição')\n",
    "    if cor & Cor.AZUL:\n",
    "        print('Essa cor possui o componente azul em sua composição')"
   ]
  },
  {
   "cell_type": "code",
   "execution_count": null,
   "metadata": {},
   "outputs": [],
   "source": [
    "get_componentes(Cor.VERDE)"
   ]
  },
  {
   "cell_type": "code",
   "execution_count": null,
   "metadata": {},
   "outputs": [],
   "source": [
    "get_componentes(Cor.BRANCA)"
   ]
  },
  {
   "cell_type": "code",
   "execution_count": null,
   "metadata": {},
   "outputs": [],
   "source": [
    "amarelo = Cor.VERMELHA | Cor.VERDE\n",
    "get_componentes(amarelo)"
   ]
  },
  {
   "cell_type": "markdown",
   "metadata": {},
   "source": [
    "Legal né?!"
   ]
  },
  {
   "cell_type": "markdown",
   "metadata": {},
   "source": [
    "## Considerações\n",
    "Em sua grande maioria, você irá implementar enumeradores com `Enum` e em alguns casos específicos `Flag`. `IntEnum` e `IntFlag` (que não vimos aqui, mas é fácil de achar documentação) deverão ser usados em casos muito específicos."
   ]
  },
  {
   "cell_type": "markdown",
   "metadata": {},
   "source": [
    "## switch case\n",
    "Vimos em notebooks anteriores de que switch case não existe em Python, mas é possível simular algo com dicionários."
   ]
  },
  {
   "cell_type": "markdown",
   "metadata": {},
   "source": [
    "Vamos imaginar o nosso enumerador do dia da semana."
   ]
  },
  {
   "cell_type": "code",
   "execution_count": null,
   "metadata": {},
   "outputs": [],
   "source": [
    "class DiaDaSemana(Enum):\n",
    "    DOMINGO = 1\n",
    "    SEGUNDA = 2\n",
    "    TERCA = 3 \n",
    "    QUARTA = 4\n",
    "    QUINTA = 5\n",
    "    SEXTA = 6\n",
    "    SABADO = 7 "
   ]
  },
  {
   "cell_type": "markdown",
   "metadata": {},
   "source": [
    "Vamos atribuir um valor à nossa variável."
   ]
  },
  {
   "cell_type": "code",
   "execution_count": null,
   "metadata": {},
   "outputs": [],
   "source": [
    "diadasemana = DiaDaSemana.DOMINGO"
   ]
  },
  {
   "cell_type": "markdown",
   "metadata": {},
   "source": [
    "Para cada opção, uma tratativa. Similar a um switch case. Pense nas tratativas como possibilidades até para executar funções e outras coisas."
   ]
  },
  {
   "cell_type": "code",
   "execution_count": null,
   "metadata": {},
   "outputs": [],
   "source": [
    "frase = {\n",
    "    DiaDaSemana.DOMINGO: 'É seu último dia de descanso.',\n",
    "    DiaDaSemana.SEGUNDA: 'Seu descanso acabou. Vá trabalhar!',\n",
    "    DiaDaSemana.TERCA: 'Vá trabalhar!',\n",
    "    DiaDaSemana.QUARTA: 'Vá trabalhar!',\n",
    "    DiaDaSemana.QUINTA: 'Amanhã é sexta, mas continue seu trabalho.',\n",
    "    DiaDaSemana.SEXTA: 'Sextou!',\n",
    "    DiaDaSemana.SABADO: 'Opa! Descanso merecido!'\n",
    "}"
   ]
  },
  {
   "cell_type": "markdown",
   "metadata": {},
   "source": [
    "Pronto! Agora é só verificar a tratativa pelo seu índice. Assim como se tivéssemos criando um switch case."
   ]
  },
  {
   "cell_type": "code",
   "execution_count": null,
   "metadata": {},
   "outputs": [],
   "source": [
    "print(frase[diadasemana])"
   ]
  },
  {
   "cell_type": "markdown",
   "metadata": {},
   "source": [
    "# Exercícios"
   ]
  },
  {
   "cell_type": "markdown",
   "metadata": {},
   "source": [
    "**1)** Crie um enumerador para representar os meses do ano. Os membros devem estar com todas as letras em maiúsculas."
   ]
  },
  {
   "cell_type": "code",
   "execution_count": null,
   "metadata": {},
   "outputs": [],
   "source": []
  },
  {
   "cell_type": "code",
   "execution_count": null,
   "metadata": {},
   "outputs": [],
   "source": [
    "assert len(list(Meses)) == 12, 'Você errroooouuuuu!'\n",
    "assert Meses.JANEIRO in Meses, 'Você errroooouuuuu!'\n",
    "assert Meses.DEZEMBRO.value == 12, 'Você errroooouuuuu!'\n",
    "print('Show de bola!')"
   ]
  },
  {
   "cell_type": "markdown",
   "metadata": {},
   "source": [
    "**2)** Crie um enumerador para representar a forma de abertura de arquivos, que pode ser de leitura (`READ`), escrita (`WRITE`) ou ambos (`ALL`). "
   ]
  },
  {
   "cell_type": "code",
   "execution_count": null,
   "metadata": {},
   "outputs": [],
   "source": []
  },
  {
   "cell_type": "code",
   "execution_count": null,
   "metadata": {},
   "outputs": [],
   "source": [
    "assert FileAccessMode.ALL & FileAccessMode.READ, 'Você errroooouuuuu!'\n",
    "assert FileAccessMode.ALL & FileAccessMode.WRITE, 'Você errroooouuuuu!'\n",
    "print('Show de bola!')"
   ]
  },
  {
   "cell_type": "code",
   "execution_count": null,
   "metadata": {},
   "outputs": [],
   "source": []
  }
 ],
 "metadata": {
  "file_extension": ".py",
  "kernelspec": {
   "display_name": "Python (curso)",
   "language": "python",
   "name": "cursopython"
  },
  "language_info": {
   "codemirror_mode": {
    "name": "ipython",
    "version": 3
   },
   "file_extension": ".py",
   "mimetype": "text/x-python",
   "name": "python",
   "nbconvert_exporter": "python",
   "pygments_lexer": "ipython3",
   "version": "3.7.9"
  },
  "mimetype": "text/x-python",
  "name": "python",
  "npconvert_exporter": "python",
  "pygments_lexer": "ipython3",
  "version": 3
 },
 "nbformat": 4,
 "nbformat_minor": 2
}
