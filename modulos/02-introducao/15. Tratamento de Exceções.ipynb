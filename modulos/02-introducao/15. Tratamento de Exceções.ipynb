{
 "cells": [
  {
   "cell_type": "markdown",
   "metadata": {},
   "source": [
    "# Tratamento de exceções\n",
    "Assim como em diversas linguagens de programação, Python permite realizar o tratamento de exceções com blocos do tipo try-except."
   ]
  },
  {
   "cell_type": "markdown",
   "metadata": {},
   "source": [
    "## Tratamento básico\n",
    "Basicamente, você estabelece um bloco de código \"observando\" se ocorrerá exceções dentro de um bloco do tipo `try`. As exceções geradas cairão para o bloco de código dentro de `except`."
   ]
  },
  {
   "cell_type": "code",
   "execution_count": 1,
   "metadata": {},
   "outputs": [
    {
     "ename": "NameError",
     "evalue": "name 'x' is not defined",
     "output_type": "error",
     "traceback": [
      "\u001b[1;31m---------------------------------------------------------------------------\u001b[0m",
      "\u001b[1;31mNameError\u001b[0m                                 Traceback (most recent call last)",
      "\u001b[1;32m<ipython-input-1-b30006fa5f6d>\u001b[0m in \u001b[0;36m<module>\u001b[1;34m\u001b[0m\n\u001b[0;32m      1\u001b[0m \u001b[1;31m# sem tratamento de exceções\u001b[0m\u001b[1;33m\u001b[0m\u001b[1;33m\u001b[0m\u001b[1;33m\u001b[0m\u001b[0m\n\u001b[1;32m----> 2\u001b[1;33m \u001b[0mprint\u001b[0m\u001b[1;33m(\u001b[0m\u001b[0mx\u001b[0m\u001b[1;33m)\u001b[0m\u001b[1;33m\u001b[0m\u001b[1;33m\u001b[0m\u001b[0m\n\u001b[0m",
      "\u001b[1;31mNameError\u001b[0m: name 'x' is not defined"
     ]
    }
   ],
   "source": [
    "# sem tratamento de exceções\n",
    "print(x)"
   ]
  },
  {
   "cell_type": "code",
   "execution_count": 2,
   "metadata": {},
   "outputs": [
    {
     "name": "stdout",
     "output_type": "stream",
     "text": [
      "Ops... Ocorreu uma exceção!\n"
     ]
    }
   ],
   "source": [
    "# com tratamento de exceções\n",
    "try:\n",
    "    print(x)\n",
    "except:\n",
    "    print('Ops... Ocorreu uma exceção!')"
   ]
  },
  {
   "cell_type": "markdown",
   "metadata": {},
   "source": [
    "## Obtendo acesso ao objeto de erro\n",
    "O bloco `except` te ajuda a detectar que o código caiu em uma condição de erro esperada, mas em muitos casos, há a encessidade de saber mais detalhes sobre o erro ocorrido (para algum log, por exemplo). "
   ]
  },
  {
   "cell_type": "code",
   "execution_count": 3,
   "metadata": {},
   "outputs": [
    {
     "name": "stdout",
     "output_type": "stream",
     "text": [
      "Classe do erro: <class 'NameError'>\n",
      "Mensagem do erro: name 'x' is not defined\n"
     ]
    }
   ],
   "source": [
    "try:\n",
    "    print(x)\n",
    "except Exception as e:\n",
    "    print('Classe do erro:', type(e))\n",
    "    print('Mensagem do erro:', e)"
   ]
  },
  {
   "cell_type": "markdown",
   "metadata": {},
   "source": [
    "## Várias exceções\n",
    "Um mesmo bloco de código pode gerar vários tipos de exceções distintas. Caso queira dar alguma tratativa diferente, coloque o tipo do erro em blocos `except`. A ordem é importante."
   ]
  },
  {
   "cell_type": "code",
   "execution_count": 4,
   "metadata": {},
   "outputs": [
    {
     "name": "stdout",
     "output_type": "stream",
     "text": [
      "Variável não definida\n"
     ]
    }
   ],
   "source": [
    "try:\n",
    "    print(x)\n",
    "except NameError:\n",
    "    print('Variável não definida')\n",
    "except:\n",
    "    print('Hmm... Alguma coisa deu errada!')"
   ]
  },
  {
   "cell_type": "code",
   "execution_count": 5,
   "metadata": {},
   "outputs": [
    {
     "ename": "SyntaxError",
     "evalue": "default 'except:' must be last (<ipython-input-5-e4f5c9fed3a9>, line 2)",
     "output_type": "error",
     "traceback": [
      "\u001b[1;36m  File \u001b[1;32m\"<ipython-input-5-e4f5c9fed3a9>\"\u001b[1;36m, line \u001b[1;32m2\u001b[0m\n\u001b[1;33m    print(x)\u001b[0m\n\u001b[1;37m    ^\u001b[0m\n\u001b[1;31mSyntaxError\u001b[0m\u001b[1;31m:\u001b[0m default 'except:' must be last\n"
     ]
    }
   ],
   "source": [
    "try:\n",
    "    print(x)\n",
    "except:\n",
    "    print('Hmm... Alguma coisa deu errada!')\n",
    "except NameError:\n",
    "    print('Variável não definida')"
   ]
  },
  {
   "cell_type": "markdown",
   "metadata": {},
   "source": [
    "## `else`\n",
    "\n",
    "Muito pouco usado e pode confundir com uma execução simples. Basicamente é um bloco de código executado caso nenhuma exceção seja gerada."
   ]
  },
  {
   "cell_type": "code",
   "execution_count": 6,
   "metadata": {},
   "outputs": [
    {
     "name": "stdout",
     "output_type": "stream",
     "text": [
      "Oi\n",
      "Nada deu errado\n"
     ]
    }
   ],
   "source": [
    "try:\n",
    "    print('Oi')\n",
    "except:\n",
    "    print('Alguma coisa deu errada')\n",
    "\n",
    "print('Nada deu errado')"
   ]
  },
  {
   "cell_type": "code",
   "execution_count": 7,
   "metadata": {},
   "outputs": [
    {
     "name": "stdout",
     "output_type": "stream",
     "text": [
      "Oi\n",
      "Nada deu errado\n"
     ]
    }
   ],
   "source": [
    "try:\n",
    "    print('Oi')\n",
    "except:\n",
    "    print('Alguma coisa deu errada')\n",
    "else:\n",
    "    print('Nada deu errado')"
   ]
  },
  {
   "cell_type": "markdown",
   "metadata": {},
   "source": [
    "## `finally`\n",
    "\n",
    "É um bloco de código executado independentemente se ocorreu ou não exceção."
   ]
  },
  {
   "cell_type": "code",
   "execution_count": 9,
   "metadata": {},
   "outputs": [],
   "source": [
    "try:\n",
    "    f = open('teste.txt', mode='w')\n",
    "    f.write('E aí, maluco. Beleza?!')\n",
    "except:\n",
    "    print('Algum erro ocorreu')\n",
    "finally:\n",
    "    f.close()"
   ]
  },
  {
   "cell_type": "markdown",
   "metadata": {},
   "source": [
    "## Chamando uma exceção\n",
    "\n",
    "Provavelmente em algum momento, você precisará informar ao programador (ou você mesmo) de que aconteceu algo não esperado dentro da aplicação."
   ]
  },
  {
   "cell_type": "markdown",
   "metadata": {},
   "source": [
    "### `raise`\n",
    "\n",
    "Com `raise` você especifica um objeto do tipo `Exception` (ou derivados) e invoca com `raise` da seguinte forma:"
   ]
  },
  {
   "cell_type": "code",
   "execution_count": 10,
   "metadata": {},
   "outputs": [
    {
     "ename": "Exception",
     "evalue": "Deu biziu aqui",
     "output_type": "error",
     "traceback": [
      "\u001b[1;31m---------------------------------------------------------------------------\u001b[0m",
      "\u001b[1;31mException\u001b[0m                                 Traceback (most recent call last)",
      "\u001b[1;32m<ipython-input-10-5f85f2381814>\u001b[0m in \u001b[0;36m<module>\u001b[1;34m\u001b[0m\n\u001b[1;32m----> 1\u001b[1;33m \u001b[1;32mraise\u001b[0m \u001b[0mException\u001b[0m\u001b[1;33m(\u001b[0m\u001b[1;34m'Deu biziu aqui'\u001b[0m\u001b[1;33m)\u001b[0m\u001b[1;33m\u001b[0m\u001b[1;33m\u001b[0m\u001b[0m\n\u001b[0m",
      "\u001b[1;31mException\u001b[0m: Deu biziu aqui"
     ]
    }
   ],
   "source": [
    "raise Exception('Deu biziu aqui')"
   ]
  },
  {
   "cell_type": "markdown",
   "metadata": {},
   "source": [
    "No exemplo abaixo, vamos criar uma função que só aceita objetos do tipo `list`. Mesmo que o código funcione com qualquer iterator, podemos gerar uma exceção para quando for algo diferente, como strings ou tuplas."
   ]
  },
  {
   "cell_type": "code",
   "execution_count": null,
   "metadata": {},
   "outputs": [],
   "source": [
    "def printlista(lista):\n",
    "    if not isinstance(lista, list):\n",
    "        raise Exception('Apenas objetos do tipo list, por favor')\n",
    "    print(*lista, sep='\\n')\n",
    "    \n",
    "printlista([1, 2, 3, 4])\n",
    "printlista((1, 2, 3, 4))"
   ]
  },
  {
   "cell_type": "markdown",
   "metadata": {},
   "source": [
    "### `assert`\n",
    "\n",
    "Asserções são formas bem comuns de usar em programação defensiva (validação antes de execução). O tipo de exceção gerada é do tipo `AssertionError`."
   ]
  },
  {
   "cell_type": "code",
   "execution_count": null,
   "metadata": {},
   "outputs": [],
   "source": [
    "def printlista(lista):\n",
    "    assert isinstance(lista, list), 'Apenas objetos do tipo list, por favor'\n",
    "    print(*lista, sep='\\n')\n",
    "    \n",
    "printlista([1, 2, 3, 4])\n",
    "printlista((1, 2, 3, 4))"
   ]
  },
  {
   "cell_type": "markdown",
   "metadata": {},
   "source": [
    "# Exercícios"
   ]
  },
  {
   "cell_type": "markdown",
   "metadata": {},
   "source": [
    "**1)** Para cada bloco abaixo de código, faça o tratamento adequado de exceções para cair na exceção específica. A mensagem que deve ser enviada é `Erro corretamente detectado!`."
   ]
  },
  {
   "cell_type": "code",
   "execution_count": null,
   "metadata": {},
   "outputs": [],
   "source": [
    "try:\n",
    "    with open('arquivoinexistente.txt', 'r') as f:\n",
    "        print(f.read())\n",
    "except:\n",
    "    print('Ocorreu um erro do qual você não tratou adequadamente.')"
   ]
  },
  {
   "cell_type": "code",
   "execution_count": null,
   "metadata": {},
   "outputs": [],
   "source": [
    "try:\n",
    "    number = 42.5\n",
    "    print(f'{number:5d}')\n",
    "except:\n",
    "    print('Ocorreu um erro do qual você não tratou adequadamente.')"
   ]
  },
  {
   "cell_type": "code",
   "execution_count": null,
   "metadata": {},
   "outputs": [],
   "source": [
    "try:\n",
    "    numerador = 10\n",
    "    denominador = 0\n",
    "    resultado = numerador / denominador\n",
    "except:\n",
    "    print('Ocorreu um erro do qual você não tratou adequadamente.')"
   ]
  },
  {
   "cell_type": "markdown",
   "metadata": {},
   "source": [
    "**2)** Implemente a função `iferror(func, retvalueiferror, *args, **kwargs)` onde uma função (`func`) será executada e, em caso de erro, deve retornar o que foi especificado em `retvalueiferror`.\n",
    "\n",
    "Parâmetros:\n",
    "* **func**: função a ser executada\n",
    "* **retvalueiferror**: valor de retorno caso a função dê algum erro\n",
    "* **args**: argumentos de entrada da função como lista de valores\n",
    "* **kwargs**: argumentos de entrada da função como dicionário\n",
    "\n",
    "Exemplos de uso:\n",
    "```python\n",
    "iferror(int, 0, '1') -> 1\n",
    "iferror(int, 0, 'a') -> 0\n",
    "iferror(int, 0, '101', base=2) -> 5\n",
    "iferror(lambda x, y: x / y, 0, x=5, y=0)\n",
    "```\n",
    "\n",
    "Dica:\n",
    "* Chame `func` da seguinte forma: `func(*args, **kwargs)`. Vai funcionar com qualquer função e com quantos parâmetros existirem."
   ]
  },
  {
   "cell_type": "code",
   "execution_count": null,
   "metadata": {},
   "outputs": [],
   "source": [
    "def iferror(func, retvalueiferror, *args, **kwargs):\n",
    "    # seu código vem aqui\n",
    "    return # seu retorno vem aqui\n",
    "\n",
    "# resultado esperado: 0\n",
    "iferror(int, 0, 'a')"
   ]
  },
  {
   "cell_type": "code",
   "execution_count": null,
   "metadata": {},
   "outputs": [],
   "source": [
    "assert iferror(int, 0, '1') == 1, 'Você errroooouuuuu!'\n",
    "assert iferror(int, 0, 'a') == 0, 'Você errroooouuuuu!'\n",
    "assert iferror(int, 0, '101', base=2) == 5, 'Você errroooouuuuu!'\n",
    "assert iferror(lambda x, y: x / y, 0, x=5, y=0) == 0, 'Você errroooouuuuu!'\n",
    "print('Show de bola!')"
   ]
  },
  {
   "cell_type": "code",
   "execution_count": null,
   "metadata": {},
   "outputs": [],
   "source": []
  }
 ],
 "metadata": {
  "kernelspec": {
   "display_name": "Python 3",
   "language": "python",
   "name": "python3"
  },
  "language_info": {
   "codemirror_mode": {
    "name": "ipython",
    "version": 3
   },
   "file_extension": ".py",
   "mimetype": "text/x-python",
   "name": "python",
   "nbconvert_exporter": "python",
   "pygments_lexer": "ipython3",
   "version": "3.8.5"
  }
 },
 "nbformat": 4,
 "nbformat_minor": 2
}
