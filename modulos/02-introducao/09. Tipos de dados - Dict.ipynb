{
 "cells": [
  {
   "cell_type": "markdown",
   "metadata": {},
   "source": [
    "# Tipos de dados\n",
    "Por padrão, Python oferece alguns tipos de dados comuns.\n",
    "* ~~Números (inteiros, decimais, complexos)~~\n",
    "* ~~Strings~~\n",
    "* ~~Listas~~\n",
    "* ~~Tuplas~~\n",
    "* ~~Conjuntos~~\n",
    "* **Dicionários**"
   ]
  },
  {
   "cell_type": "markdown",
   "metadata": {},
   "source": [
    "# Dicionários\n",
    "* Dicionário é uma coleção de pares chave-valor.\n",
    "* Permite a busca simples de recuperar, adicionar, remover, alterar valores através de sua chave.\n",
    "* Muito similar a um hashtable encontrado em outras linguagens.\n",
    "* Dicionários são mutáveis, ou seja, podem ser alterados.\n",
    "* Não existe o conceito de índice em dicionários.\n",
    "* Representados entre { }. A chave vem primeiro e o valor vem em seguida, separados por :"
   ]
  },
  {
   "cell_type": "markdown",
   "metadata": {},
   "source": [
    "## Declaração"
   ]
  },
  {
   "cell_type": "code",
   "execution_count": 2,
   "metadata": {},
   "outputs": [
    {
     "name": "stdout",
     "output_type": "stream",
     "text": [
      "Dicionário vazio {}\n",
      "Dicionário com chaves inteiras {1: 'Python', 2: 'Java'}\n",
      "Dicionário com chaves e valores mistos {1: 'Python', 'lista': [1, 2, 3], 'tupla': ('a', 'b', 'c')}\n",
      "<class 'dict'>\n"
     ]
    }
   ],
   "source": [
    "# dicionário vazio\n",
    "dict1 = {}\n",
    "print('Dicionário vazio', dict1)\n",
    "\n",
    "# dicionário com chaves inteiras\n",
    "dict2 = {1: 'Python', 2: 'Java'}\n",
    "print('Dicionário com chaves inteiras', dict2)\n",
    "\n",
    "# dicionário com chaves e valores mistos\n",
    "dict3 = {1: 'Python', 'lista': [1, 2, 3], 'tupla': ('a', 'b', 'c')}\n",
    "print('Dicionário com chaves e valores mistos', dict3)\n",
    "\n",
    "print(type(dict3))"
   ]
  },
  {
   "cell_type": "markdown",
   "metadata": {},
   "source": [
    "### Não existem chaves duplicadas"
   ]
  },
  {
   "cell_type": "code",
   "execution_count": 6,
   "metadata": {},
   "outputs": [
    {
     "name": "stdout",
     "output_type": "stream",
     "text": [
      "{1: 'Amarelo', 2: 'Azul', 3: 'Vermelho', 4: 'Violeta'}\n"
     ]
    }
   ],
   "source": [
    "cores = {1: 'Amarelo', 2: 'Azul', 3: 'Vermelho', 2: 'Violeta'}\n",
    "print(cores)"
   ]
  },
  {
   "cell_type": "markdown",
   "metadata": {},
   "source": [
    "## Acessando elementos do dicionário\n",
    "Basta acessar com o nome da chave entre [ ]."
   ]
  },
  {
   "cell_type": "code",
   "execution_count": 7,
   "metadata": {},
   "outputs": [
    {
     "name": "stdout",
     "output_type": "stream",
     "text": [
      "William Bonner\n",
      "52\n"
     ]
    }
   ],
   "source": [
    "detalhes = {'nome': 'William Bonner', 'estado': 'RJ', 'idade': 52}\n",
    "print(detalhes['nome'])\n",
    "print(detalhes['idade'])"
   ]
  },
  {
   "cell_type": "code",
   "execution_count": 32,
   "metadata": {},
   "outputs": [
    {
     "ename": "KeyError",
     "evalue": "'telefone'",
     "output_type": "error",
     "traceback": [
      "\u001b[1;31m---------------------------------------------------------------------------\u001b[0m",
      "\u001b[1;31mKeyError\u001b[0m                                  Traceback (most recent call last)",
      "\u001b[1;32m<ipython-input-32-855a8a742b4b>\u001b[0m in \u001b[0;36m<module>\u001b[1;34m\u001b[0m\n\u001b[1;32m----> 1\u001b[1;33m \u001b[0mprint\u001b[0m\u001b[1;33m(\u001b[0m\u001b[0mdetalhes\u001b[0m\u001b[1;33m[\u001b[0m\u001b[1;34m'telefone'\u001b[0m\u001b[1;33m]\u001b[0m\u001b[1;33m)\u001b[0m\u001b[1;33m\u001b[0m\u001b[1;33m\u001b[0m\u001b[0m\n\u001b[0m",
      "\u001b[1;31mKeyError\u001b[0m: 'telefone'"
     ]
    }
   ],
   "source": [
    "print(detalhes['telefone'])"
   ]
  },
  {
   "cell_type": "markdown",
   "metadata": {},
   "source": [
    "### Acessando elementos com `get`\n",
    "Pode-se usar o método get para acessar itens. A diferença com a forma anterior é de que retorna None quando não encontra a chave ao invés de gerar exceção."
   ]
  },
  {
   "cell_type": "code",
   "execution_count": 33,
   "metadata": {},
   "outputs": [
    {
     "name": "stdout",
     "output_type": "stream",
     "text": [
      "None\n",
      "None\n"
     ]
    }
   ],
   "source": [
    "print(detalhes.get('nome'))\n",
    "print(detalhes.get('idade'))"
   ]
  },
  {
   "cell_type": "code",
   "execution_count": 34,
   "metadata": {},
   "outputs": [
    {
     "name": "stdout",
     "output_type": "stream",
     "text": [
      "None\n"
     ]
    }
   ],
   "source": [
    "print(detalhes.get('telefone'))"
   ]
  },
  {
   "cell_type": "markdown",
   "metadata": {},
   "source": [
    "Pode-se definir um valor padrão, caso não exista a chave."
   ]
  },
  {
   "cell_type": "code",
   "execution_count": 35,
   "metadata": {},
   "outputs": [
    {
     "name": "stdout",
     "output_type": "stream",
     "text": [
      "(21) 1234-5678\n"
     ]
    }
   ],
   "source": [
    "print(detalhes.get('telefone', '(21) 1234-5678'))"
   ]
  },
  {
   "cell_type": "markdown",
   "metadata": {},
   "source": [
    "### Acessando elementos com `setdefault`\n",
    "Pode-se usar também o método `setdefault` para acessar itens. A diferença entre `get` e `setdefault` é que enquanto `get` apenas consulta, o método `setdefault` consulta e no caso de não existir, cria uma nova chave no dicionário com o valor padrão indicado."
   ]
  },
  {
   "cell_type": "code",
   "execution_count": 36,
   "metadata": {},
   "outputs": [
    {
     "name": "stdout",
     "output_type": "stream",
     "text": [
      "None\n",
      "None\n"
     ]
    }
   ],
   "source": [
    "print(detalhes.setdefault('nome'))\n",
    "print(detalhes.setdefault('idade'))"
   ]
  },
  {
   "cell_type": "markdown",
   "metadata": {},
   "source": [
    "Sabemos que a chave `telefone` não existe no dicionário. Vamos ver agora como se comporta o método `setdefault`."
   ]
  },
  {
   "cell_type": "code",
   "execution_count": 37,
   "metadata": {},
   "outputs": [
    {
     "name": "stdout",
     "output_type": "stream",
     "text": [
      "(21) 1234-5678\n"
     ]
    }
   ],
   "source": [
    "print(detalhes.setdefault('telefone', '(21) 1234-5678'))"
   ]
  },
  {
   "cell_type": "markdown",
   "metadata": {},
   "source": [
    "Quando não informamos nada, `None` assume como valor padrão."
   ]
  },
  {
   "cell_type": "code",
   "execution_count": 38,
   "metadata": {},
   "outputs": [
    {
     "name": "stdout",
     "output_type": "stream",
     "text": [
      "None\n"
     ]
    }
   ],
   "source": [
    "print(detalhes.setdefault('email'))"
   ]
  },
  {
   "cell_type": "markdown",
   "metadata": {},
   "source": [
    "Agora vamos ver como ficou nosso dicionário."
   ]
  },
  {
   "cell_type": "code",
   "execution_count": 18,
   "metadata": {},
   "outputs": [
    {
     "name": "stdout",
     "output_type": "stream",
     "text": [
      "{'nome': 'William Bonner', 'estado': 'RJ', 'idade': 52, 'telefone': '(21) 1234-5678', 'email': None}\n"
     ]
    }
   ],
   "source": [
    "print(detalhes)"
   ]
  },
  {
   "cell_type": "markdown",
   "metadata": {},
   "source": [
    "## Adicionando chaves ao dicionário"
   ]
  },
  {
   "cell_type": "code",
   "execution_count": 19,
   "metadata": {},
   "outputs": [
    {
     "name": "stdout",
     "output_type": "stream",
     "text": [
      "{'nome': 'William Bonner', 'estado': 'RJ', 'idade': 52, 'telefone': '(21) 99999-8765'}\n"
     ]
    }
   ],
   "source": [
    "detalhes = {'nome': 'William Bonner', 'estado': 'RJ', 'idade': 52}\n",
    "detalhes['telefone'] = '(21) 99999-8765' # boiada, vá!\n",
    "print(detalhes)"
   ]
  },
  {
   "cell_type": "markdown",
   "metadata": {},
   "source": [
    "## Alterando valores de um dicionário"
   ]
  },
  {
   "cell_type": "code",
   "execution_count": 20,
   "metadata": {},
   "outputs": [
    {
     "name": "stdout",
     "output_type": "stream",
     "text": [
      "{'nome': 'William Bonner', 'estado': 'RJ', 'idade': 31}\n"
     ]
    }
   ],
   "source": [
    "detalhes = {'nome': 'William Bonner', 'estado': 'RJ', 'idade': 52}\n",
    "detalhes['idade'] = 31\n",
    "print(detalhes)"
   ]
  },
  {
   "cell_type": "markdown",
   "metadata": {},
   "source": [
    "## Deletando itens de um dicionário\n",
    "### 1. Método `pop`"
   ]
  },
  {
   "cell_type": "code",
   "execution_count": 21,
   "metadata": {},
   "outputs": [
    {
     "name": "stdout",
     "output_type": "stream",
     "text": [
      "RJ\n",
      "{'nome': 'William Bonner', 'idade': 52}\n"
     ]
    }
   ],
   "source": [
    "detalhes = {'nome': 'William Bonner', 'estado': 'RJ', 'idade': 52}\n",
    "print(detalhes.pop('estado'))\n",
    "print(detalhes)"
   ]
  },
  {
   "cell_type": "markdown",
   "metadata": {},
   "source": [
    "### 2. Método `popitem`"
   ]
  },
  {
   "cell_type": "code",
   "execution_count": 22,
   "metadata": {},
   "outputs": [
    {
     "name": "stdout",
     "output_type": "stream",
     "text": [
      "('idade', 52)\n",
      "{'nome': 'William Bonner', 'estado': 'RJ'}\n"
     ]
    }
   ],
   "source": [
    "detalhes = {'nome': 'William Bonner', 'estado': 'RJ', 'idade': 52}\n",
    "print(detalhes.popitem())\n",
    "print(detalhes)"
   ]
  },
  {
   "cell_type": "markdown",
   "metadata": {},
   "source": [
    "### 3. `del`"
   ]
  },
  {
   "cell_type": "code",
   "execution_count": 23,
   "metadata": {},
   "outputs": [
    {
     "name": "stdout",
     "output_type": "stream",
     "text": [
      "{'nome': 'William Bonner', 'idade': 52}\n"
     ]
    }
   ],
   "source": [
    "detalhes = {'nome': 'William Bonner', 'estado': 'RJ', 'idade': 52}\n",
    "del detalhes['estado']\n",
    "print(detalhes)"
   ]
  },
  {
   "cell_type": "code",
   "execution_count": 39,
   "metadata": {},
   "outputs": [
    {
     "ename": "NameError",
     "evalue": "name 'detalhes' is not defined",
     "output_type": "error",
     "traceback": [
      "\u001b[1;31m---------------------------------------------------------------------------\u001b[0m",
      "\u001b[1;31mNameError\u001b[0m                                 Traceback (most recent call last)",
      "\u001b[1;32m<ipython-input-39-fae32e9b0e75>\u001b[0m in \u001b[0;36m<module>\u001b[1;34m\u001b[0m\n\u001b[0;32m      1\u001b[0m \u001b[1;32mdel\u001b[0m \u001b[0mdetalhes\u001b[0m\u001b[1;33m\u001b[0m\u001b[1;33m\u001b[0m\u001b[0m\n\u001b[1;32m----> 2\u001b[1;33m \u001b[0mprint\u001b[0m\u001b[1;33m(\u001b[0m\u001b[0mdetalhes\u001b[0m\u001b[1;33m)\u001b[0m\u001b[1;33m\u001b[0m\u001b[1;33m\u001b[0m\u001b[0m\n\u001b[0m",
      "\u001b[1;31mNameError\u001b[0m: name 'detalhes' is not defined"
     ]
    }
   ],
   "source": [
    "del detalhes\n",
    "print(detalhes)"
   ]
  },
  {
   "cell_type": "markdown",
   "metadata": {},
   "source": [
    "### 4. Método `clear`"
   ]
  },
  {
   "cell_type": "code",
   "execution_count": 40,
   "metadata": {},
   "outputs": [
    {
     "name": "stdout",
     "output_type": "stream",
     "text": [
      "{}\n"
     ]
    }
   ],
   "source": [
    "detalhes = {'nome': 'William Bonner', 'estado': 'RJ', 'idade': 52}\n",
    "detalhes.clear()\n",
    "print(detalhes)"
   ]
  },
  {
   "cell_type": "markdown",
   "metadata": {},
   "source": [
    "## Iterando dicionários"
   ]
  },
  {
   "cell_type": "markdown",
   "metadata": {},
   "source": [
    "### Por chaves (padrão)"
   ]
  },
  {
   "cell_type": "code",
   "execution_count": 41,
   "metadata": {},
   "outputs": [
    {
     "name": "stdout",
     "output_type": "stream",
     "text": [
      "1 Python\n",
      "2 Java\n",
      "3 C\n",
      "4 R\n",
      "5 .NET\n"
     ]
    }
   ],
   "source": [
    "dict1 = {1: 'Python', 2: 'Java', 3: 'C', 4: 'R', 5: '.NET'}\n",
    "for k in dict1:\n",
    "    print(k, dict1[k])"
   ]
  },
  {
   "cell_type": "code",
   "execution_count": 42,
   "metadata": {},
   "outputs": [
    {
     "name": "stdout",
     "output_type": "stream",
     "text": [
      "1 Python\n",
      "2 Java\n",
      "3 C\n",
      "4 R\n",
      "5 .NET\n",
      "dict_keys([1, 2, 3, 4, 5])\n"
     ]
    }
   ],
   "source": [
    "dict1 = {1: 'Python', 2: 'Java', 3: 'C', 4: 'R', 5: '.NET'}\n",
    "for k in dict1.keys():\n",
    "    print(k, dict1[k])\n",
    "    \n",
    "print(dict1.keys())"
   ]
  },
  {
   "cell_type": "markdown",
   "metadata": {},
   "source": [
    "### Por valores"
   ]
  },
  {
   "cell_type": "code",
   "execution_count": 43,
   "metadata": {},
   "outputs": [
    {
     "name": "stdout",
     "output_type": "stream",
     "text": [
      "Python\n",
      "Java\n",
      "C\n",
      "R\n",
      ".NET\n",
      "dict_values(['Python', 'Java', 'C', 'R', '.NET'])\n"
     ]
    }
   ],
   "source": [
    "dict1 = {1: 'Python', 2: 'Java', 3: 'C', 4: 'R', 5: '.NET'}\n",
    "for v in dict1.values():\n",
    "    print(v)\n",
    "    \n",
    "print(dict1.values())"
   ]
  },
  {
   "cell_type": "markdown",
   "metadata": {},
   "source": [
    "### Por itens"
   ]
  },
  {
   "cell_type": "code",
   "execution_count": 44,
   "metadata": {},
   "outputs": [
    {
     "name": "stdout",
     "output_type": "stream",
     "text": [
      "1 Python\n",
      "2 Java\n",
      "3 C\n",
      "4 R\n",
      "5 .NET\n",
      "dict_items([(1, 'Python'), (2, 'Java'), (3, 'C'), (4, 'R'), (5, '.NET')])\n"
     ]
    }
   ],
   "source": [
    "dict1 = {1: 'Python', 2: 'Java', 3: 'C', 4: 'R', 5: '.NET'}\n",
    "for k, v in dict1.items():\n",
    "    print(k, v)\n",
    "    \n",
    "print(dict1.items())"
   ]
  },
  {
   "cell_type": "markdown",
   "metadata": {},
   "source": [
    "## Métodos e funções"
   ]
  },
  {
   "cell_type": "markdown",
   "metadata": {},
   "source": [
    "### Tamanho"
   ]
  },
  {
   "cell_type": "code",
   "execution_count": 45,
   "metadata": {},
   "outputs": [
    {
     "name": "stdout",
     "output_type": "stream",
     "text": [
      "Tamanho do dicionário 5\n"
     ]
    }
   ],
   "source": [
    "dict1 = {1: 'Python', 2: 'Java', 3: 'C', 4: 'R', 5:'C#'}\n",
    "print('Tamanho do dicionário', len(dict1))"
   ]
  },
  {
   "cell_type": "markdown",
   "metadata": {},
   "source": [
    "### Membros"
   ]
  },
  {
   "cell_type": "code",
   "execution_count": 46,
   "metadata": {},
   "outputs": [
    {
     "name": "stdout",
     "output_type": "stream",
     "text": [
      "True\n",
      "True\n"
     ]
    }
   ],
   "source": [
    "dict1 = {'nome': 'William Bonner', 'estado': 'RJ', 'idade': 52}\n",
    "print('nome' in dict1)\n",
    "print('telefone' not in dict1)"
   ]
  },
  {
   "cell_type": "code",
   "execution_count": 47,
   "metadata": {},
   "outputs": [
    {
     "name": "stdout",
     "output_type": "stream",
     "text": [
      "False\n"
     ]
    }
   ],
   "source": [
    "print('William Bonner' in dict1)"
   ]
  },
  {
   "cell_type": "code",
   "execution_count": 48,
   "metadata": {},
   "outputs": [
    {
     "name": "stdout",
     "output_type": "stream",
     "text": [
      "True\n"
     ]
    }
   ],
   "source": [
    "print('William Bonner' in dict1.values())"
   ]
  },
  {
   "cell_type": "markdown",
   "metadata": {},
   "source": [
    "### Ordenação (`sort`)\n",
    "Não existe método `sort` assim como na lista, mas pode ser usada a função sorted. A função se baseará nas chaves, não nos valores."
   ]
  },
  {
   "cell_type": "code",
   "execution_count": 50,
   "metadata": {},
   "outputs": [
    {
     "name": "stdout",
     "output_type": "stream",
     "text": [
      "['a', 'e', 'i', 'o', 'u']\n",
      "['u', 'o', 'i', 'e', 'a']\n"
     ]
    }
   ],
   "source": [
    "vogais = {'e': 1, 'a': 2, 'u': 3, 'o': 4, 'i': 5}\n",
    "print(sorted(vogais))\n",
    "print(sorted(vogais, reverse=True))"
   ]
  },
  {
   "cell_type": "markdown",
   "metadata": {},
   "source": [
    "### `copy`"
   ]
  },
  {
   "cell_type": "code",
   "execution_count": 53,
   "metadata": {},
   "outputs": [
    {
     "name": "stdout",
     "output_type": "stream",
     "text": [
      "dict1 antes {1: 'Python', 2: 'Java', 3: 'C', 4: 'R', 5: '.NET'}\n",
      "dict2 antes {1: 'Python', 2: 'Java', 3: 'C', 4: 'R', 5: '.NET'}\n",
      "\n",
      "dict1 depois {1: 'Assembly', 2: 'Java', 3: 'C', 4: 'R', 5: '.NET'}\n",
      "dict2 depois {1: 'Assembly', 2: 'Java', 3: 'C', 4: 'R', 5: '.NET'}\n"
     ]
    }
   ],
   "source": [
    "dict1 = {1: 'Python', 2: 'Java', 3: 'C', 4: 'R', 5: '.NET'}\n",
    "dict2 = dict1\n",
    "\n",
    "print('dict1 antes', dict1)\n",
    "print('dict2 antes', dict2)\n",
    "print()\n",
    "\n",
    "dict2[1] = 'Assembly'\n",
    "print('dict1 depois', dict1)\n",
    "print('dict2 depois', dict2)"
   ]
  },
  {
   "cell_type": "code",
   "execution_count": 54,
   "metadata": {},
   "outputs": [
    {
     "name": "stdout",
     "output_type": "stream",
     "text": [
      "2157169597056\n",
      "2157169597056\n"
     ]
    }
   ],
   "source": [
    "print(id(dict1))\n",
    "print(id(dict2))"
   ]
  },
  {
   "cell_type": "markdown",
   "metadata": {},
   "source": [
    "Atribuir um dicionário a outra variável apenas passa como referência, ou seja, um ponteiro para onde está o dicionário e não uma cópia. Para evitar problemas, pode-se usar o método `copy`."
   ]
  },
  {
   "cell_type": "code",
   "execution_count": 55,
   "metadata": {},
   "outputs": [
    {
     "name": "stdout",
     "output_type": "stream",
     "text": [
      "dict1 antes {1: 'Python', 2: 'Java', 3: 'C', 4: 'R', 5: '.NET'}\n",
      "dict2 antes {1: 'Python', 2: 'Java', 3: 'C', 4: 'R', 5: '.NET'}\n",
      "\n",
      "dict1 depois {1: 'Python', 2: 'Java', 3: 'C', 4: 'R', 5: '.NET'}\n",
      "dict2 depois {1: 'Assembly', 2: 'Java', 3: 'C', 4: 'R', 5: '.NET'}\n"
     ]
    }
   ],
   "source": [
    "dict1 = {1: 'Python', 2: 'Java', 3: 'C', 4: 'R', 5: '.NET'}\n",
    "dict2 = dict1.copy()\n",
    "\n",
    "print('dict1 antes', dict1)\n",
    "print('dict2 antes', dict2)\n",
    "print()\n",
    "\n",
    "dict2[1] = 'Assembly'\n",
    "print('dict1 depois', dict1)\n",
    "print('dict2 depois', dict2)"
   ]
  },
  {
   "cell_type": "code",
   "execution_count": 56,
   "metadata": {},
   "outputs": [
    {
     "name": "stdout",
     "output_type": "stream",
     "text": [
      "2157169611520\n",
      "2157169611456\n"
     ]
    }
   ],
   "source": [
    "print(id(dict1))\n",
    "print(id(dict2))"
   ]
  },
  {
   "cell_type": "markdown",
   "metadata": {},
   "source": [
    "### `update`\n",
    "* Insere itens ao final do dicionário, se não estiver presente. Do contrário, atualiza valor.\n",
    "* Pode-se passar mais de um item. O parâmetro pode ser uma lista (iterable)."
   ]
  },
  {
   "cell_type": "code",
   "execution_count": 57,
   "metadata": {},
   "outputs": [
    {
     "name": "stdout",
     "output_type": "stream",
     "text": [
      "{'marca': 'Audi', 'modelo': 'A4', 'ano': 2019, 'cor': 'Branca'}\n"
     ]
    }
   ],
   "source": [
    "carro = {'marca': 'Audi', 'modelo': 'A4', 'ano': 2019}\n",
    "carro.update({'cor': 'Branca'})\n",
    "print(carro)"
   ]
  },
  {
   "cell_type": "code",
   "execution_count": 58,
   "metadata": {},
   "outputs": [
    {
     "name": "stdout",
     "output_type": "stream",
     "text": [
      "{'marca': 'Audi', 'modelo': 'A4', 'cor': 'Azul', 'ano': 2019}\n"
     ]
    }
   ],
   "source": [
    "carro = {'marca': 'Audi', 'modelo': 'A4', 'cor': 'Branca', 'ano': 2019}\n",
    "carro.update({'cor': 'Azul'})\n",
    "print(carro)"
   ]
  },
  {
   "cell_type": "code",
   "execution_count": 59,
   "metadata": {},
   "outputs": [
    {
     "name": "stdout",
     "output_type": "stream",
     "text": [
      "{'marca': 'Audi', 'modelo': 'A4', 'ano': 2019, 'cor': 'Branca', 'valor': 'R$ 100.000'}\n"
     ]
    }
   ],
   "source": [
    "carro = {'marca': 'Audi', 'modelo': 'A4', 'ano': 2019}\n",
    "carro.update(cor='Branca', valor='R$ 100.000')\n",
    "print(carro)"
   ]
  },
  {
   "cell_type": "markdown",
   "metadata": {},
   "source": [
    "### `fromkeys`\n",
    "Cria um novo dicionário dada uma sequência de chaves e um valor opcional."
   ]
  },
  {
   "cell_type": "code",
   "execution_count": 61,
   "metadata": {},
   "outputs": [
    {
     "name": "stdout",
     "output_type": "stream",
     "text": [
      "{'o': 'vogal', 'a': 'vogal', 'e': 'vogal', 'i': 'vogal', 'u': 'vogal'}\n"
     ]
    }
   ],
   "source": [
    "mykeys = {'a', 'e', 'i', 'o', 'u'}\n",
    "value = 'vogal'\n",
    "dict1 = dict.fromkeys(mykeys, value)\n",
    "print(dict1)"
   ]
  },
  {
   "cell_type": "markdown",
   "metadata": {},
   "source": [
    "## Dict comprehension\n",
    "Assim como em listas, é possível criar dicionários de forma python de ser a partir de um iterable. Atente-se a criar no esquema de chave-valor. "
   ]
  },
  {
   "cell_type": "code",
   "execution_count": 64,
   "metadata": {},
   "outputs": [
    {
     "name": "stdout",
     "output_type": "stream",
     "text": [
      "{0: 0, 1: 1, 2: 8, 3: 27, 4: 64, 5: 125, 6: 216, 7: 343, 8: 512, 9: 729}\n"
     ]
    }
   ],
   "source": [
    "#       |---- chave\n",
    "#       |  |- valor  \n",
    "#       v  v\n",
    "cubo = {x: x**3 for x in range(10)}\n",
    "print(cubo)"
   ]
  },
  {
   "cell_type": "code",
   "execution_count": 65,
   "metadata": {},
   "outputs": [
    {
     "name": "stdout",
     "output_type": "stream",
     "text": [
      "{'manga': 5, 'banana': 6, 'abacaxi': 7, 'maçã': 4}\n"
     ]
    }
   ],
   "source": [
    "frutas = ['manga', 'banana', 'abacaxi', 'maçã']\n",
    "dict1 = {f: len(f) for f in frutas}\n",
    "print(dict1)"
   ]
  },
  {
   "cell_type": "markdown",
   "metadata": {},
   "source": [
    "# Exercícios"
   ]
  },
  {
   "cell_type": "markdown",
   "metadata": {},
   "source": [
    "**1)** Programe a função `mergedicts(dict1, dict2)` para concatenar 2 dicionários em um só.\n",
    "\n",
    "Parâmetros:\n",
    "* **dict1**: dicionário de entrada 1\n",
    "* **dict2**: dicionário de entrada 2\n",
    "\n",
    "Retorno:\n",
    "Dicionário contendo as chaves e valores de ambos os dicionários\n",
    "\n",
    "Observações:\n",
    "Caso uma chave se repita, a de dict1 deve prevalecer.\n",
    "\n",
    "Exemplos de uso:\n",
    "```python\n",
    "mergedicts({'a': 1}, {'b': 2}) -> {'a': 1, 'b': 2}\n",
    "mergedicts({1: 'macaco', 2: 'baleia'}, {0: 'tubarão', 1: 'leão'}) -> {0: 'tubarão', 1: 'macaco', 2: 'baleia'}\n",
    "```"
   ]
  },
  {
   "cell_type": "code",
   "execution_count": 1,
   "metadata": {},
   "outputs": [
    {
     "name": "stdout",
     "output_type": "stream",
     "text": [
      "{'b': 2, 'a': 1}\n"
     ]
    }
   ],
   "source": [
    "def mergedicts(dict1, dict2):\n",
    "    result = {}\n",
    "    result.update(dict2)\n",
    "    result.update(dict1)\n",
    "    \n",
    "    return result\n",
    "\n",
    "print(mergedicts({'a': 1}, {'b': 2}))"
   ]
  },
  {
   "cell_type": "code",
   "execution_count": 2,
   "metadata": {},
   "outputs": [
    {
     "name": "stdout",
     "output_type": "stream",
     "text": [
      "{'b': 2, 'a': 1}\n",
      "{0: 'tubarão', 1: 'macaco', 2: 'baleia'}\n"
     ]
    }
   ],
   "source": [
    "# veja se ficou legal\n",
    "print(mergedicts({'a': 1}, {'b': 2}))\n",
    "print(mergedicts({1: 'macaco', 2: 'baleia'}, {0: 'tubarão', 1: 'leão'}))"
   ]
  },
  {
   "cell_type": "markdown",
   "metadata": {},
   "source": [
    "**2)** Programe a função `topndictvalues(d, topn)` para retornar um dicionário com N maiores valores. Todos os valores serão numéricos.\n",
    "\n",
    "Parâmetros:\n",
    "* **d**: dicionário de entrada\n",
    "* **topn**: quantidade de valores para retornar\n",
    "\n",
    "Retorno:\n",
    "Dicionário com somente N pares com os maiores valores.\n",
    "\n",
    "Exemplos de uso:\n",
    "```python\n",
    "topndictvalues({'a': 10, 'b': 3, 'c': 40}, 1) -> {'c': 40}\n",
    "topndictvalues({1: 1, 2: 2, 3: 3, 4: 4, 5: 5}, 3) -> {3: 3, 4: 4, 5: 5}\n",
    "```"
   ]
  },
  {
   "cell_type": "code",
   "execution_count": null,
   "metadata": {},
   "outputs": [],
   "source": [
    "def topndictvalues(d, topn):\n",
    "    \n",
    "    \n",
    "    return # seu resultado vai aqui\n",
    "\n",
    "\n",
    "# resultado esperado: {'c': 40}\n",
    "topndictvalues({'a': 10, 'b': 3, 'c': 40}, 1)"
   ]
  },
  {
   "cell_type": "code",
   "execution_count": null,
   "metadata": {},
   "outputs": [],
   "source": [
    "# veja se ficou legal\n",
    "print(topndictvalues({'a': 10, 'b': 3, 'c': 40}, 1))\n",
    "print(topndictvalues({1: 1, 2: 2, 3: 3, 4: 4, 5: 5}, 3))"
   ]
  },
  {
   "cell_type": "markdown",
   "metadata": {},
   "source": [
    "**3)** Programe a função `bagofwords(s)` onde será retornado um dicionário contendo a quantidade de cada palavra de um texto.\n",
    "\n",
    "Parâmetros:\n",
    "* **s**: string de entrada\n",
    "\n",
    "Retorno:\n",
    "Dicionário contendo a palavra como chave e a quantidade como valor\n",
    "\n",
    "Exemplos de uso:\n",
    "```python\n",
    "bagofwords('Python é legal!') -> {'Python': 1, 'é': 1, 'legal': 1}\n",
    "bagofwords('Mult é meu amigo, Mult é meu colega.') -> {'Mult': 2, 'é': 2, 'meu': 2, 'amigo': 1, 'colega': 1}\n",
    "```"
   ]
  },
  {
   "cell_type": "code",
   "execution_count": null,
   "metadata": {},
   "outputs": [],
   "source": [
    "import string\n",
    "\n",
    "def bagofwords(s):\n",
    "    \n",
    "    # tirando pontuação da string. quebrando teu galho aqui.\n",
    "    table = str.maketrans({key: None for key in string.punctuation})\n",
    "    s = s.translate(table)\n",
    "    \n",
    "    # seu código vai aqui\n",
    "    return # seu retorno vai aqui\n",
    "\n",
    "# resultado esperado: {'Python': 1, 'é': 1, 'legal': 1}\n",
    "bagofwords('Python é legal!')"
   ]
  },
  {
   "cell_type": "code",
   "execution_count": null,
   "metadata": {},
   "outputs": [],
   "source": [
    "# veja se ficou legal\n",
    "print(bagofwords('Python é legal!'))\n",
    "print(bagofwords('Mult é meu amigo, Mult é meu colega. Mult tocador de berimbau'))"
   ]
  },
  {
   "cell_type": "code",
   "execution_count": null,
   "metadata": {},
   "outputs": [],
   "source": []
  }
 ],
 "metadata": {
  "kernelspec": {
   "display_name": "Python 3 (ipykernel)",
   "language": "python",
   "name": "python3"
  },
  "language_info": {
   "codemirror_mode": {
    "name": "ipython",
    "version": 3
   },
   "file_extension": ".py",
   "mimetype": "text/x-python",
   "name": "python",
   "nbconvert_exporter": "python",
   "pygments_lexer": "ipython3",
   "version": "3.9.7"
  }
 },
 "nbformat": 4,
 "nbformat_minor": 2
}
