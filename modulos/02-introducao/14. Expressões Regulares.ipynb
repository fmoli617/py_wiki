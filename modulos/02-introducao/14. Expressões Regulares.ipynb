{
 "cells": [
  {
   "cell_type": "markdown",
   "metadata": {},
   "source": [
    "# Expressões Regulares\n",
    "\n",
    "Expressões regulares ou simplesmente *regex* são formas concisas e flexíveis de identificar strings de interesse, como caracteres particulares, palavras ou padrões.\n",
    "\n",
    "Apesar de parecer bem confuso (e é!), *regex* é praticamente inevitável em diversos tipos de aplicação, como validação de dados e extração de conteúdo.\n",
    "\n",
    "Referência: https://docs.python.org/3/library/re.html\n",
    "\n",
    "Testes: https://www.regexpal.com/ e https://regex101.com/"
   ]
  },
  {
   "cell_type": "code",
   "execution_count": 1,
   "metadata": {},
   "outputs": [],
   "source": [
    "import re"
   ]
  },
  {
   "cell_type": "markdown",
   "metadata": {},
   "source": [
    "Por convenção, expressões regulares são expressas com o caractere `r` antes da definição da string."
   ]
  },
  {
   "cell_type": "code",
   "execution_count": 2,
   "metadata": {},
   "outputs": [
    {
     "name": "stdout",
     "output_type": "stream",
     "text": [
      "\\w+\n",
      "\\d+\n"
     ]
    }
   ],
   "source": [
    "print('\\w+\\n\\d+') # padrão representado por uma palavra, quebra de linha, número inteiro"
   ]
  },
  {
   "cell_type": "code",
   "execution_count": 3,
   "metadata": {},
   "outputs": [
    {
     "name": "stdout",
     "output_type": "stream",
     "text": [
      "\\w+\\n\\d+\n"
     ]
    }
   ],
   "source": [
    "print(r'\\w+\\n\\d+') # padrão representado por uma palavra, quebra de linha, número inteiro"
   ]
  },
  {
   "cell_type": "markdown",
   "metadata": {},
   "source": [
    "## Funções de validação\n",
    "\n",
    "Funções de validação servem para validar se a string-alvo possui um determinado padrão."
   ]
  },
  {
   "cell_type": "markdown",
   "metadata": {},
   "source": [
    "### `match`\n",
    "\n",
    "Valida se o começo da string começa com o padrão informado."
   ]
  },
  {
   "cell_type": "code",
   "execution_count": 4,
   "metadata": {},
   "outputs": [],
   "source": [
    "texto = 'galinha pintadinha'"
   ]
  },
  {
   "cell_type": "code",
   "execution_count": 5,
   "metadata": {},
   "outputs": [
    {
     "name": "stdout",
     "output_type": "stream",
     "text": [
      "<re.Match object; span=(0, 7), match='galinha'>\n"
     ]
    }
   ],
   "source": [
    "pattern = r'galinha' # palavra \"galinha\"\n",
    "m = re.match(pattern, texto)\n",
    "if m:\n",
    "    print(m)\n",
    "else:\n",
    "    print('Não encontrado')"
   ]
  },
  {
   "cell_type": "code",
   "execution_count": 6,
   "metadata": {},
   "outputs": [
    {
     "name": "stdout",
     "output_type": "stream",
     "text": [
      "Não encontrado\n"
     ]
    }
   ],
   "source": [
    "pattern = r'pintadinha' # palavra \"pintadinha\"\n",
    "m = re.match(pattern, texto)\n",
    "if m:\n",
    "    print(m)\n",
    "else:\n",
    "    print('Não encontrado')"
   ]
  },
  {
   "cell_type": "markdown",
   "metadata": {},
   "source": [
    "### `fullmatch`\n",
    "\n",
    "Valida se a string-alvo inteira possui o padrão informado."
   ]
  },
  {
   "cell_type": "code",
   "execution_count": 7,
   "metadata": {},
   "outputs": [],
   "source": [
    "texto = 'galinha pintadinha'"
   ]
  },
  {
   "cell_type": "code",
   "execution_count": 8,
   "metadata": {},
   "outputs": [
    {
     "name": "stdout",
     "output_type": "stream",
     "text": [
      "Não encontrado\n"
     ]
    }
   ],
   "source": [
    "pattern = r'galinha' # palavra \"galinha\"\n",
    "m = re.fullmatch(pattern, texto)\n",
    "if m:\n",
    "    print(m)\n",
    "else:\n",
    "    print('Não encontrado')"
   ]
  },
  {
   "cell_type": "code",
   "execution_count": 9,
   "metadata": {},
   "outputs": [
    {
     "name": "stdout",
     "output_type": "stream",
     "text": [
      "<re.Match object; span=(0, 18), match='galinha pintadinha'>\n"
     ]
    }
   ],
   "source": [
    "pattern = r'g.*a' # \"g\" seguido de qualquer coisa seguido de \"a\"\n",
    "m = re.fullmatch(pattern, texto)\n",
    "if m:\n",
    "    print(m)\n",
    "else:\n",
    "    print('Não encontrado')"
   ]
  },
  {
   "cell_type": "markdown",
   "metadata": {},
   "source": [
    "## Funções de busca\n",
    "\n",
    "Em muitos momentos vamos precisar saber se a string-alvo contém ou não um padrão específico. E sabendo que possui, podemos querer saber quais strings possuem o padrão definido."
   ]
  },
  {
   "cell_type": "markdown",
   "metadata": {},
   "source": [
    "### `search`\n",
    "\n",
    "A função `search` verifica se um padrão é encontrado dentro de uma string-alvo. O retorno dela será um objeto do tipo `Match`, que possui alguns métodos úteis.\n",
    "\n",
    "Quando nenhum padrão é encontrado, `None` será retornado."
   ]
  },
  {
   "cell_type": "code",
   "execution_count": 10,
   "metadata": {},
   "outputs": [],
   "source": [
    "texto = 'O rato roeu a roupa vermelha do rei de Roma'"
   ]
  },
  {
   "cell_type": "code",
   "execution_count": 11,
   "metadata": {},
   "outputs": [
    {
     "name": "stdout",
     "output_type": "stream",
     "text": [
      "Padrão encontrado: rato (começando em 2 e terminando em 6)\n"
     ]
    }
   ],
   "source": [
    "pattern = r'\\br\\w+\\b' # palavras com \"r\"\n",
    "match = re.search(pattern, texto)\n",
    "\n",
    "if match: # padrão encontrado\n",
    "    print(f'Padrão encontrado: {match.group()} (começando em {match.start()} e terminando em {match.end()})')\n",
    "else:\n",
    "    print('Padrão não encontrado')"
   ]
  },
  {
   "cell_type": "code",
   "execution_count": 12,
   "metadata": {},
   "outputs": [
    {
     "name": "stdout",
     "output_type": "stream",
     "text": [
      "Padrão não encontrado\n"
     ]
    }
   ],
   "source": [
    "pattern = r'\\bx\\w+\\b' # palavras com \"x\"\n",
    "match = re.search(pattern, texto)\n",
    "\n",
    "if match: # padrão encontrado\n",
    "    print(f'Padrão encontrado: {match.group()} (começando em {match.start()} e terminando em {match.end()})')\n",
    "else:\n",
    "    print('Padrão não encontrado')"
   ]
  },
  {
   "cell_type": "markdown",
   "metadata": {},
   "source": [
    "### `findall`\n",
    "\n",
    "A função `findall` retorna uma lista de ocorrências. Dependendo do padrão, a lista pode conter apenas strings ou tuplas."
   ]
  },
  {
   "cell_type": "code",
   "execution_count": 13,
   "metadata": {},
   "outputs": [],
   "source": [
    "texto = 'O rato roeu a roupa vermelha do rei de Roma'"
   ]
  },
  {
   "cell_type": "code",
   "execution_count": 14,
   "metadata": {},
   "outputs": [
    {
     "data": {
      "text/plain": [
       "['rato', 'roeu', 'roupa', 'rei']"
      ]
     },
     "execution_count": 14,
     "metadata": {},
     "output_type": "execute_result"
    }
   ],
   "source": [
    "pattern = r'\\br\\w+\\b' # palavras com \"r\"\n",
    "re.findall(pattern, texto)"
   ]
  },
  {
   "cell_type": "markdown",
   "metadata": {},
   "source": [
    "E `Roma`?"
   ]
  },
  {
   "cell_type": "markdown",
   "metadata": {},
   "source": [
    "Por padrão, o *regex* é *case sensitive*, ou seja, maiúsculas diferenciam de minúsculas. \n",
    "\n",
    "Podemos alterar o comportamento do *regex* modificando os `flags`. Neste caso, podemos usar a flag `IGNORECASE` ou simplesmente `I`."
   ]
  },
  {
   "cell_type": "code",
   "execution_count": 15,
   "metadata": {},
   "outputs": [
    {
     "data": {
      "text/plain": [
       "['rato', 'roeu', 'roupa', 'rei', 'Roma']"
      ]
     },
     "execution_count": 15,
     "metadata": {},
     "output_type": "execute_result"
    }
   ],
   "source": [
    "re.findall(pattern, texto, flags=re.IGNORECASE)"
   ]
  },
  {
   "cell_type": "code",
   "execution_count": 16,
   "metadata": {},
   "outputs": [
    {
     "data": {
      "text/plain": [
       "['rato', 'roeu', 'roupa', 'rei', 'Roma']"
      ]
     },
     "execution_count": 16,
     "metadata": {},
     "output_type": "execute_result"
    }
   ],
   "source": [
    "re.findall(pattern, texto, flags=re.I)"
   ]
  },
  {
   "cell_type": "markdown",
   "metadata": {},
   "source": [
    "### `finditer`\n",
    "\n",
    "A função `finditer` retorna um iterator onde cada elemento é do tipo `Match`."
   ]
  },
  {
   "cell_type": "code",
   "execution_count": 17,
   "metadata": {},
   "outputs": [],
   "source": [
    "texto = 'O rato roeu a roupa vermelha do rei de Roma'"
   ]
  },
  {
   "cell_type": "code",
   "execution_count": 18,
   "metadata": {},
   "outputs": [
    {
     "name": "stdout",
     "output_type": "stream",
     "text": [
      "rato (2, 6)\n",
      "roeu (7, 11)\n",
      "roupa (14, 19)\n",
      "rei (32, 35)\n",
      "Roma (39, 43)\n"
     ]
    }
   ],
   "source": [
    "pattern = r'\\br\\w+\\b' # palavras com \"r\"\n",
    "for match in re.finditer(pattern, texto, flags=re.I):\n",
    "    print(match.group(), match.span())"
   ]
  },
  {
   "cell_type": "markdown",
   "metadata": {},
   "source": [
    "## Caracteres especiais\n",
    "\n",
    "*Regex* possui diversos caracteres especiais. \n",
    "\n",
    "`. ^ $ * + ? { } [ ] \\ | ( )`"
   ]
  },
  {
   "cell_type": "code",
   "execution_count": 19,
   "metadata": {},
   "outputs": [],
   "source": [
    "from ansimarkup import ansiprint\n",
    "\n",
    "def show_finditer(pattern, string, flags=0):\n",
    "    output = list(string)\n",
    "    \n",
    "    matches = reversed(list(re.finditer(pattern, string, flags)))\n",
    "    for match in matches:\n",
    "        output.insert(match.end(), '</bg #ffff5f>')\n",
    "        output.insert(match.start(), '<bg #ffff5f>')\n",
    "        \n",
    "    ansiprint(''.join(output))"
   ]
  },
  {
   "cell_type": "markdown",
   "metadata": {},
   "source": [
    "### Caractere especial `.`\n",
    "\n",
    "Representa um caractere, qualquer que seja."
   ]
  },
  {
   "cell_type": "code",
   "execution_count": 20,
   "metadata": {},
   "outputs": [],
   "source": [
    "texto = 'Rui é rei de Roma'"
   ]
  },
  {
   "cell_type": "markdown",
   "metadata": {},
   "source": [
    "Vamos supor que queremos procurar todas as ocorrências de strings cujo padrão seja possuir um `r`, um caractere qualquer e em seguida um `i`."
   ]
  },
  {
   "cell_type": "code",
   "execution_count": 21,
   "metadata": {},
   "outputs": [
    {
     "name": "stdout",
     "output_type": "stream",
     "text": [
      "\u001b[48;2;255;255;95mRui\u001b[0m é \u001b[48;2;255;255;95mrei\u001b[0m de Roma\n"
     ]
    }
   ],
   "source": [
    "show_finditer(r'r.i', texto, flags=re.I)"
   ]
  },
  {
   "cell_type": "markdown",
   "metadata": {},
   "source": [
    "### Caractere especial `^`\n",
    "\n",
    "Indica que a validação do padrão validará no início da string."
   ]
  },
  {
   "cell_type": "code",
   "execution_count": 22,
   "metadata": {},
   "outputs": [],
   "source": [
    "texto = 'Star Wars e Star Trek são classícos!'"
   ]
  },
  {
   "cell_type": "markdown",
   "metadata": {},
   "source": [
    "Vamos supor que queremos buscar pela palavra `star` apenas se ela estiver no começo da string."
   ]
  },
  {
   "cell_type": "code",
   "execution_count": 23,
   "metadata": {},
   "outputs": [
    {
     "name": "stdout",
     "output_type": "stream",
     "text": [
      "\u001b[48;2;255;255;95mStar\u001b[0m Wars e \u001b[48;2;255;255;95mStar\u001b[0m Trek são classícos!\n"
     ]
    }
   ],
   "source": [
    "show_finditer(r'star', texto, flags=re.I)"
   ]
  },
  {
   "cell_type": "markdown",
   "metadata": {},
   "source": [
    "Nesse caso, trouxe duas ocorrências, pois não indicamos que queríamos buscar apenas no começo."
   ]
  },
  {
   "cell_type": "code",
   "execution_count": 24,
   "metadata": {},
   "outputs": [
    {
     "name": "stdout",
     "output_type": "stream",
     "text": [
      "\u001b[48;2;255;255;95mStar\u001b[0m Wars e Star Trek são classícos!\n"
     ]
    }
   ],
   "source": [
    "show_finditer(r'^star', texto, flags=re.I)"
   ]
  },
  {
   "cell_type": "markdown",
   "metadata": {},
   "source": [
    "Note que usamos o caractere especial `^`. Ele indica que o padrão precisa começar com `star`."
   ]
  },
  {
   "cell_type": "markdown",
   "metadata": {},
   "source": [
    "#### Múltiplas linhas\n",
    "\n",
    "Vamos ver agora como funciona o *regex* quando a string contém mais de uma linha."
   ]
  },
  {
   "cell_type": "code",
   "execution_count": 25,
   "metadata": {},
   "outputs": [],
   "source": [
    "texto = \"\"\"\\\n",
    "Star Wars\n",
    "Star Trek\n",
    "Superstars\n",
    "\"\"\""
   ]
  },
  {
   "cell_type": "code",
   "execution_count": 26,
   "metadata": {},
   "outputs": [
    {
     "name": "stdout",
     "output_type": "stream",
     "text": [
      "\u001b[48;2;255;255;95mStar\u001b[0m Wars\n",
      "Star Trek\n",
      "Superstars\n",
      "\n"
     ]
    }
   ],
   "source": [
    "show_finditer(r'^star', texto, flags=re.I)"
   ]
  },
  {
   "cell_type": "markdown",
   "metadata": {},
   "source": [
    "Note que apenas a primeira ocorrência foi retornada. Podemos indicar que o padrão deverá ser executado linha a linha usando a flag `MULTILINE` ou simplesmente `M`."
   ]
  },
  {
   "cell_type": "code",
   "execution_count": 27,
   "metadata": {},
   "outputs": [
    {
     "name": "stdout",
     "output_type": "stream",
     "text": [
      "\u001b[48;2;255;255;95mStar\u001b[0m Wars\n",
      "\u001b[48;2;255;255;95mStar\u001b[0m Trek\n",
      "Superstars\n",
      "\n"
     ]
    }
   ],
   "source": [
    "show_finditer('^star', texto, flags=re.I | re.M)"
   ]
  },
  {
   "cell_type": "markdown",
   "metadata": {},
   "source": [
    "Agora, 2 ocorrências foram retornadas, pois a string foi validada linha a linha."
   ]
  },
  {
   "cell_type": "markdown",
   "metadata": {},
   "source": [
    "### Caractere especial `$`\n",
    "\n",
    "Indica que a validação do padrão validará no fim da string."
   ]
  },
  {
   "cell_type": "code",
   "execution_count": 28,
   "metadata": {},
   "outputs": [],
   "source": [
    "texto = \"\"\"\\\n",
    "Star Wars\n",
    "Star Trek\n",
    "Superstar\n",
    "\"\"\""
   ]
  },
  {
   "cell_type": "code",
   "execution_count": 29,
   "metadata": {},
   "outputs": [
    {
     "name": "stdout",
     "output_type": "stream",
     "text": [
      "Star Wars\n",
      "Star Trek\n",
      "Supersta\u001b[48;2;255;255;95mr\u001b[0m\n",
      "\n"
     ]
    }
   ],
   "source": [
    "show_finditer(r'r$', texto, flags=re.I | re.M)"
   ]
  },
  {
   "cell_type": "markdown",
   "metadata": {},
   "source": [
    "### Caractere especial `*`\n",
    "\n",
    "Caractere especial que valida se o caractere anterior se repete zero ou mais vezes. "
   ]
  },
  {
   "cell_type": "code",
   "execution_count": 31,
   "metadata": {},
   "outputs": [],
   "source": [
    "texto = \"\"\"\\\n",
    "Ouch\n",
    "Ah No\n",
    "Ahh\n",
    "Nooo\n",
    "Ahhhhhhh No\n",
    "A No\n",
    "A\n",
    "\"\"\""
   ]
  },
  {
   "cell_type": "code",
   "execution_count": 32,
   "metadata": {},
   "outputs": [
    {
     "name": "stdout",
     "output_type": "stream",
     "text": [
      "Ouch\n",
      "\u001b[48;2;255;255;95mAh No\u001b[0m\n",
      "Ahh\n",
      "Nooo\n",
      "\u001b[48;2;255;255;95mAhhhhhhh No\u001b[0m\n",
      "\u001b[48;2;255;255;95mA No\u001b[0m\n",
      "A\n",
      "\n"
     ]
    }
   ],
   "source": [
    "show_finditer(r'Ah* No', texto, flags=re.I | re.M)"
   ]
  },
  {
   "cell_type": "code",
   "execution_count": 33,
   "metadata": {},
   "outputs": [
    {
     "name": "stdout",
     "output_type": "stream",
     "text": [
      "Ouch\n",
      "\u001b[48;2;255;255;95mAh\u001b[0m No\n",
      "\u001b[48;2;255;255;95mAhh\u001b[0m\n",
      "Nooo\n",
      "\u001b[48;2;255;255;95mAhhhhhhh\u001b[0m No\n",
      "\u001b[48;2;255;255;95mA\u001b[0m No\n",
      "\u001b[48;2;255;255;95mA\u001b[0m\n",
      "\n"
     ]
    }
   ],
   "source": [
    "show_finditer(r'Ah*', texto, flags=re.I | re.M)"
   ]
  },
  {
   "cell_type": "markdown",
   "metadata": {},
   "source": [
    "### Caractere especial `+`\n",
    "\n",
    "Similar ao caractere `*`, porém valida se o caractere anterior se repete uma ou mais vezes. "
   ]
  },
  {
   "cell_type": "code",
   "execution_count": 34,
   "metadata": {},
   "outputs": [],
   "source": [
    "texto = \"\"\"\\\n",
    "Ouch\n",
    "Ah No\n",
    "Ahh\n",
    "Nooo\n",
    "Ahhhhhhh No\n",
    "A No\n",
    "A\n",
    "\"\"\""
   ]
  },
  {
   "cell_type": "code",
   "execution_count": 35,
   "metadata": {},
   "outputs": [
    {
     "name": "stdout",
     "output_type": "stream",
     "text": [
      "Ouch\n",
      "\u001b[48;2;255;255;95mAh No\u001b[0m\n",
      "Ahh\n",
      "Nooo\n",
      "\u001b[48;2;255;255;95mAhhhhhhh No\u001b[0m\n",
      "A No\n",
      "A\n",
      "\n"
     ]
    }
   ],
   "source": [
    "show_finditer(r'Ah+ No', texto, flags=re.I | re.M)"
   ]
  },
  {
   "cell_type": "markdown",
   "metadata": {},
   "source": [
    "### Caractere especial `?`\n",
    "\n",
    "Similar aos caracteres `*` e `+`, porém valida se o caractere anterior se repete zero ou uma vez. Na prática, torna o caractere anterior opcional."
   ]
  },
  {
   "cell_type": "code",
   "execution_count": 36,
   "metadata": {},
   "outputs": [],
   "source": [
    "texto = \"\"\"\\\n",
    "Ouch\n",
    "Ah No\n",
    "Ahh\n",
    "Nooo\n",
    "Ahhhhhhh No\n",
    "A No\n",
    "A\n",
    "\"\"\""
   ]
  },
  {
   "cell_type": "code",
   "execution_count": 37,
   "metadata": {},
   "outputs": [
    {
     "name": "stdout",
     "output_type": "stream",
     "text": [
      "Ouch\n",
      "\u001b[48;2;255;255;95mAh No\u001b[0m\n",
      "Ahh\n",
      "Nooo\n",
      "Ahhhhhhh No\n",
      "\u001b[48;2;255;255;95mA No\u001b[0m\n",
      "A\n",
      "\n"
     ]
    }
   ],
   "source": [
    "show_finditer(r'Ah? No', texto, flags=re.I | re.M)"
   ]
  },
  {
   "cell_type": "markdown",
   "metadata": {},
   "source": [
    "### Caracteres especiais `{` e `}`\n",
    "\n",
    "Também estão relacionados a repetição, mas são mais flexíveis, pois podemos indicar quantas vezes o caractere anterior pode se repetir, tanto na quantidade mínima como máxima.\n",
    "\n",
    "Existem 4 formas de uso:\n",
    "* `a{3}`: valida se o caractere `a` se repete exatamente 3 vezes.\n",
    "* `a{3,}`: valida se o caractere `a` se repete 3 ou mais vezes.\n",
    "* `a{,3}`: valida se o caractere `a` se repete zero até 3 vezes.\n",
    "* `a{3,5}`: valida se o caractere `a` se repete de 3 a 5 vezes."
   ]
  },
  {
   "cell_type": "code",
   "execution_count": 38,
   "metadata": {},
   "outputs": [],
   "source": [
    "texto = \"\"\"\\\n",
    "Ouch\n",
    "Ahhh No\n",
    "Ahh No\n",
    "Nooo\n",
    "Ahhhhhhh No\n",
    "A No\n",
    "A\n",
    "Ahhh\n",
    "\"\"\""
   ]
  },
  {
   "cell_type": "code",
   "execution_count": 39,
   "metadata": {},
   "outputs": [
    {
     "name": "stdout",
     "output_type": "stream",
     "text": [
      "Ouch\n",
      "\u001b[48;2;255;255;95mAhhh No\u001b[0m\n",
      "\u001b[48;2;255;255;95mAhh No\u001b[0m\n",
      "Nooo\n",
      "Ahhhhhhh No\n",
      "A No\n",
      "A\n",
      "Ahhh\n",
      "\n"
     ]
    }
   ],
   "source": [
    "show_finditer(r'Ah{2,5} No', texto, flags=re.I | re.M)"
   ]
  },
  {
   "cell_type": "markdown",
   "metadata": {},
   "source": [
    "### Caractere especial `|`\n",
    "\n",
    "O caractere especial `|` é equivalente à condição **ou**. Valida a string completa antes e depois da barra vertical."
   ]
  },
  {
   "cell_type": "code",
   "execution_count": 40,
   "metadata": {},
   "outputs": [],
   "source": [
    "texto = 'o rato roeu a roupa do rei de roma'"
   ]
  },
  {
   "cell_type": "code",
   "execution_count": 41,
   "metadata": {},
   "outputs": [
    {
     "name": "stdout",
     "output_type": "stream",
     "text": [
      "o \u001b[48;2;255;255;95mrato\u001b[0m roeu a roupa do \u001b[48;2;255;255;95mrei\u001b[0m de roma\n"
     ]
    }
   ],
   "source": [
    "show_finditer(r'rato|rei', texto)"
   ]
  },
  {
   "cell_type": "markdown",
   "metadata": {},
   "source": [
    "Obviamente que podemos ter expressões separadas por `|`."
   ]
  },
  {
   "cell_type": "code",
   "execution_count": 42,
   "metadata": {},
   "outputs": [
    {
     "name": "stdout",
     "output_type": "stream",
     "text": [
      "o \u001b[48;2;255;255;95mrato\u001b[0m \u001b[48;2;255;255;95mroeu\u001b[0m a roupa \u001b[48;2;255;255;95mdo\u001b[0m rei \u001b[48;2;255;255;95mde\u001b[0m \u001b[48;2;255;255;95mroma\u001b[0m\n"
     ]
    }
   ],
   "source": [
    "# palavras começando com \"r\" de 4 letras ou palavras começando com \"d\" de 2 letras\n",
    "show_finditer(r'\\br\\w{3}\\b|\\bd\\w\\b', texto)"
   ]
  },
  {
   "cell_type": "markdown",
   "metadata": {},
   "source": [
    "### Caracteres especiais `[` e `]`\n",
    "\n",
    "Caractere especial que permite validar um em um range de caracteres em uma única posição. `[xyz]`, por exemplo, valida se a string possui `x`, `y` ou `z`. Já `T[aeiou]d` valida se começa com `T`, termina com `d` e possui um único caractere no meio que seja ou `a` ou `e` ou `i` ou `o` ou `u`."
   ]
  },
  {
   "cell_type": "code",
   "execution_count": 43,
   "metadata": {},
   "outputs": [],
   "source": [
    "texto = 'o rato roeu a roupa do rei de roma'"
   ]
  },
  {
   "cell_type": "code",
   "execution_count": 30,
   "metadata": {},
   "outputs": [
    {
     "name": "stdout",
     "output_type": "stream",
     "text": [
      "Star Wars\n",
      "Star Trek\n",
      "Superstar\n",
      "\n"
     ]
    }
   ],
   "source": [
    "# palavras começando com \"r\" e o restante da palavra composta apenas com vogais\n",
    "show_finditer(r'\\br[aeiou]+\\b', texto)"
   ]
  },
  {
   "cell_type": "markdown",
   "metadata": {},
   "source": [
    "Você pode indicar um range de caracteres com `-`. Assim facilita a validação de letras do alfabeto ou dígitos, por exemplo.\n",
    "\n",
    "* `'[0-9]'` representa todos os dígitos entre 0 e 9\n",
    "* `'[a-z]'` representa todas as letras minúsculas\n",
    "* `'[A-Z]'` representa todas as letras maiúsculas\n",
    "* `'[a-zA-Z]'` representa todas as letras minúsculas e maiúsculas"
   ]
  },
  {
   "cell_type": "code",
   "execution_count": 31,
   "metadata": {},
   "outputs": [],
   "source": [
    "texto = 'os 3 porquinhos e os 7 patinhos'"
   ]
  },
  {
   "cell_type": "code",
   "execution_count": 32,
   "metadata": {},
   "outputs": [
    {
     "name": "stdout",
     "output_type": "stream",
     "text": [
      "os \u001b[48;2;255;255;95m3\u001b[0m porquinhos e os \u001b[48;2;255;255;95m7\u001b[0m patinhos\n"
     ]
    }
   ],
   "source": [
    "show_finditer(r'[0-9]', texto)"
   ]
  },
  {
   "cell_type": "markdown",
   "metadata": {},
   "source": [
    "Caracteres especiais perdem seu significado quando estão entre `[ ]`."
   ]
  },
  {
   "cell_type": "code",
   "execution_count": 33,
   "metadata": {},
   "outputs": [],
   "source": [
    "texto = 'minha senha é ******'"
   ]
  },
  {
   "cell_type": "code",
   "execution_count": 34,
   "metadata": {},
   "outputs": [
    {
     "name": "stdout",
     "output_type": "stream",
     "text": [
      "minha senha é \u001b[48;2;255;255;95m******\u001b[0m\n"
     ]
    }
   ],
   "source": [
    "show_finditer(r'[*]+', texto)"
   ]
  },
  {
   "cell_type": "markdown",
   "metadata": {},
   "source": [
    "É possível indicar a exclusão de um range de caracteres com `^`. No exemplo abaixo o regex procurará por strings que tenham `Z` e que o próximo caractere não é uma vogal."
   ]
  },
  {
   "cell_type": "code",
   "execution_count": 35,
   "metadata": {},
   "outputs": [],
   "source": [
    "texto = \"\"\"\\\n",
    "Zabumba\n",
    "Zuleide\n",
    "Zhivago\n",
    "\"\"\""
   ]
  },
  {
   "cell_type": "code",
   "execution_count": 36,
   "metadata": {},
   "outputs": [
    {
     "name": "stdout",
     "output_type": "stream",
     "text": [
      "Zabumba\n",
      "Zuleide\n",
      "\u001b[48;2;255;255;95mZh\u001b[0mivago\n",
      "\n"
     ]
    }
   ],
   "source": [
    "show_finditer(r'Z[^aeiou]', texto)"
   ]
  },
  {
   "cell_type": "markdown",
   "metadata": {},
   "source": [
    "### Caractere especial `\\`\n",
    "\n",
    "É um caractere especial que está vinculado ao próximo caractere para ter seu significado. \n",
    "\n",
    "* `\\d` - todos os dígitos, equivalente a `[0-9]`\n",
    "* `\\D` - qualquer não-dígito\n",
    "* `\\s` - qualquer quantidade de espaços incuindo espaços e tabs\n",
    "* `\\S` - qualquer não-espaço\n",
    "* `\\w` - qualquer palavra, equivalente a `[A-Za-z0-9_]`\n",
    "* `\\W` - qualquer caractere que não-palavra\n",
    "* `\\b` - [limite de palavras][1]\n",
    "* `\\B` - não-limite de palavras\n",
    "\n",
    "[1]: https://www.regular-expressions.info/wordboundaries.html"
   ]
  },
  {
   "cell_type": "code",
   "execution_count": 37,
   "metadata": {},
   "outputs": [],
   "source": [
    "texto = 'sem máscaras, 300 pessoas saíram de suas casas no sábado.'"
   ]
  },
  {
   "cell_type": "code",
   "execution_count": 38,
   "metadata": {},
   "outputs": [
    {
     "name": "stdout",
     "output_type": "stream",
     "text": [
      "sem máscaras, \u001b[48;2;255;255;95m300\u001b[0m pessoas saíram de suas casas no sábado.\n"
     ]
    }
   ],
   "source": [
    "show_finditer(r'\\d+', texto)"
   ]
  },
  {
   "cell_type": "code",
   "execution_count": 39,
   "metadata": {},
   "outputs": [
    {
     "name": "stdout",
     "output_type": "stream",
     "text": [
      "\u001b[48;2;255;255;95msem máscaras, \u001b[0m300\u001b[48;2;255;255;95m pessoas saíram de suas casas no sábado.\u001b[0m\n"
     ]
    }
   ],
   "source": [
    "show_finditer(r'\\D+', texto)"
   ]
  },
  {
   "cell_type": "code",
   "execution_count": 40,
   "metadata": {},
   "outputs": [
    {
     "name": "stdout",
     "output_type": "stream",
     "text": [
      "sem\u001b[48;2;255;255;95m \u001b[0mmáscaras,\u001b[48;2;255;255;95m \u001b[0m300\u001b[48;2;255;255;95m \u001b[0mpessoas\u001b[48;2;255;255;95m \u001b[0msaíram\u001b[48;2;255;255;95m \u001b[0mde\u001b[48;2;255;255;95m \u001b[0msuas\u001b[48;2;255;255;95m \u001b[0mcasas\u001b[48;2;255;255;95m \u001b[0mno\u001b[48;2;255;255;95m \u001b[0msábado.\n"
     ]
    }
   ],
   "source": [
    "show_finditer(r'\\s+', texto)"
   ]
  },
  {
   "cell_type": "code",
   "execution_count": 41,
   "metadata": {},
   "outputs": [
    {
     "name": "stdout",
     "output_type": "stream",
     "text": [
      "\u001b[48;2;255;255;95msem\u001b[0m \u001b[48;2;255;255;95mmáscaras,\u001b[0m \u001b[48;2;255;255;95m300\u001b[0m \u001b[48;2;255;255;95mpessoas\u001b[0m \u001b[48;2;255;255;95msaíram\u001b[0m \u001b[48;2;255;255;95mde\u001b[0m \u001b[48;2;255;255;95msuas\u001b[0m \u001b[48;2;255;255;95mcasas\u001b[0m \u001b[48;2;255;255;95mno\u001b[0m \u001b[48;2;255;255;95msábado.\u001b[0m\n"
     ]
    }
   ],
   "source": [
    "show_finditer(r'\\S+', texto)"
   ]
  },
  {
   "cell_type": "code",
   "execution_count": 42,
   "metadata": {},
   "outputs": [
    {
     "name": "stdout",
     "output_type": "stream",
     "text": [
      "\u001b[48;2;255;255;95msem\u001b[0m \u001b[48;2;255;255;95mmáscaras\u001b[0m, \u001b[48;2;255;255;95m300\u001b[0m \u001b[48;2;255;255;95mpessoas\u001b[0m \u001b[48;2;255;255;95msaíram\u001b[0m \u001b[48;2;255;255;95mde\u001b[0m \u001b[48;2;255;255;95msuas\u001b[0m \u001b[48;2;255;255;95mcasas\u001b[0m \u001b[48;2;255;255;95mno\u001b[0m \u001b[48;2;255;255;95msábado\u001b[0m.\n"
     ]
    }
   ],
   "source": [
    "show_finditer(r'\\w+', texto)"
   ]
  },
  {
   "cell_type": "code",
   "execution_count": 43,
   "metadata": {},
   "outputs": [
    {
     "name": "stdout",
     "output_type": "stream",
     "text": [
      "sem\u001b[48;2;255;255;95m \u001b[0mmáscaras\u001b[48;2;255;255;95m, \u001b[0m300\u001b[48;2;255;255;95m \u001b[0mpessoas\u001b[48;2;255;255;95m \u001b[0msaíram\u001b[48;2;255;255;95m \u001b[0mde\u001b[48;2;255;255;95m \u001b[0msuas\u001b[48;2;255;255;95m \u001b[0mcasas\u001b[48;2;255;255;95m \u001b[0mno\u001b[48;2;255;255;95m \u001b[0msábado\u001b[48;2;255;255;95m.\u001b[0m\n"
     ]
    }
   ],
   "source": [
    "show_finditer(r'\\W+', texto)"
   ]
  },
  {
   "cell_type": "markdown",
   "metadata": {},
   "source": [
    "Para entender `\\b`, melhor na prática. Vamos supor que gostaríamos de identificar todas as palavras que comecem com `s`.\n",
    "\n",
    "Se fizermos `s\\w+`, estaremos buscando um `s` seguido de pelo menos 1 caractere que representa palavra."
   ]
  },
  {
   "cell_type": "code",
   "execution_count": 44,
   "metadata": {},
   "outputs": [
    {
     "name": "stdout",
     "output_type": "stream",
     "text": [
      "\u001b[48;2;255;255;95msem\u001b[0m má\u001b[48;2;255;255;95mscaras\u001b[0m, 300 pe\u001b[48;2;255;255;95mssoas\u001b[0m \u001b[48;2;255;255;95msaíram\u001b[0m de \u001b[48;2;255;255;95msuas\u001b[0m ca\u001b[48;2;255;255;95msas\u001b[0m no \u001b[48;2;255;255;95msábado\u001b[0m.\n"
     ]
    }
   ],
   "source": [
    "show_finditer(r's\\w+', texto)"
   ]
  },
  {
   "cell_type": "markdown",
   "metadata": {},
   "source": [
    "Note que isso trouxe a palavra `pessoas`, pois não validou se a palavra começou com `s`.\n",
    "\n",
    "Podemos delimitar com espaços usando `\\s`."
   ]
  },
  {
   "cell_type": "code",
   "execution_count": 45,
   "metadata": {},
   "outputs": [
    {
     "name": "stdout",
     "output_type": "stream",
     "text": [
      "sem máscaras, 300 pessoas\u001b[48;2;255;255;95m saíram \u001b[0mde\u001b[48;2;255;255;95m suas \u001b[0mcasas no sábado.\n"
     ]
    }
   ],
   "source": [
    "show_finditer(r'\\ss\\w+\\s', texto)"
   ]
  },
  {
   "cell_type": "markdown",
   "metadata": {},
   "source": [
    "Note que os espaços vieram das palavras que estavam no meio do texto, mas as palavras `sem` e `sábado` não vieram.\n",
    "\n",
    "É nisso que podemos usar `\\b`, pois facilita demais esse tipo de uso."
   ]
  },
  {
   "cell_type": "code",
   "execution_count": 46,
   "metadata": {},
   "outputs": [
    {
     "name": "stdout",
     "output_type": "stream",
     "text": [
      "\u001b[48;2;255;255;95msem\u001b[0m máscaras, 300 pessoas \u001b[48;2;255;255;95msaíram\u001b[0m de \u001b[48;2;255;255;95msuas\u001b[0m casas no \u001b[48;2;255;255;95msábado\u001b[0m.\n"
     ]
    }
   ],
   "source": [
    "show_finditer(r'\\bs\\w+\\b', texto)"
   ]
  },
  {
   "cell_type": "markdown",
   "metadata": {},
   "source": [
    "O caractere `\\` também faz caracteres especiais perderem seu sentido."
   ]
  },
  {
   "cell_type": "code",
   "execution_count": 47,
   "metadata": {},
   "outputs": [
    {
     "name": "stdout",
     "output_type": "stream",
     "text": [
      "\u001b[48;2;255;255;95ms\u001b[0m\u001b[48;2;255;255;95me\u001b[0m\u001b[48;2;255;255;95mm\u001b[0m\u001b[48;2;255;255;95m \u001b[0m\u001b[48;2;255;255;95mm\u001b[0m\u001b[48;2;255;255;95má\u001b[0m\u001b[48;2;255;255;95ms\u001b[0m\u001b[48;2;255;255;95mc\u001b[0m\u001b[48;2;255;255;95ma\u001b[0m\u001b[48;2;255;255;95mr\u001b[0m\u001b[48;2;255;255;95ma\u001b[0m\u001b[48;2;255;255;95ms\u001b[0m\u001b[48;2;255;255;95m,\u001b[0m\u001b[48;2;255;255;95m \u001b[0m\u001b[48;2;255;255;95m3\u001b[0m\u001b[48;2;255;255;95m0\u001b[0m\u001b[48;2;255;255;95m0\u001b[0m\u001b[48;2;255;255;95m \u001b[0m\u001b[48;2;255;255;95mp\u001b[0m\u001b[48;2;255;255;95me\u001b[0m\u001b[48;2;255;255;95ms\u001b[0m\u001b[48;2;255;255;95ms\u001b[0m\u001b[48;2;255;255;95mo\u001b[0m\u001b[48;2;255;255;95ma\u001b[0m\u001b[48;2;255;255;95ms\u001b[0m\u001b[48;2;255;255;95m \u001b[0m\u001b[48;2;255;255;95ms\u001b[0m\u001b[48;2;255;255;95ma\u001b[0m\u001b[48;2;255;255;95mí\u001b[0m\u001b[48;2;255;255;95mr\u001b[0m\u001b[48;2;255;255;95ma\u001b[0m\u001b[48;2;255;255;95mm\u001b[0m\u001b[48;2;255;255;95m \u001b[0m\u001b[48;2;255;255;95md\u001b[0m\u001b[48;2;255;255;95me\u001b[0m\u001b[48;2;255;255;95m \u001b[0m\u001b[48;2;255;255;95ms\u001b[0m\u001b[48;2;255;255;95mu\u001b[0m\u001b[48;2;255;255;95ma\u001b[0m\u001b[48;2;255;255;95ms\u001b[0m\u001b[48;2;255;255;95m \u001b[0m\u001b[48;2;255;255;95mc\u001b[0m\u001b[48;2;255;255;95ma\u001b[0m\u001b[48;2;255;255;95ms\u001b[0m\u001b[48;2;255;255;95ma\u001b[0m\u001b[48;2;255;255;95ms\u001b[0m\u001b[48;2;255;255;95m \u001b[0m\u001b[48;2;255;255;95mn\u001b[0m\u001b[48;2;255;255;95mo\u001b[0m\u001b[48;2;255;255;95m \u001b[0m\u001b[48;2;255;255;95ms\u001b[0m\u001b[48;2;255;255;95má\u001b[0m\u001b[48;2;255;255;95mb\u001b[0m\u001b[48;2;255;255;95ma\u001b[0m\u001b[48;2;255;255;95md\u001b[0m\u001b[48;2;255;255;95mo\u001b[0m\u001b[48;2;255;255;95m.\u001b[0m\n"
     ]
    }
   ],
   "source": [
    "show_finditer(r'.', texto)"
   ]
  },
  {
   "cell_type": "code",
   "execution_count": 48,
   "metadata": {},
   "outputs": [
    {
     "name": "stdout",
     "output_type": "stream",
     "text": [
      "sem máscaras, 300 pessoas saíram de suas casas no sábado\u001b[48;2;255;255;95m.\u001b[0m\n"
     ]
    }
   ],
   "source": [
    "show_finditer(r'\\.', texto)"
   ]
  },
  {
   "cell_type": "markdown",
   "metadata": {},
   "source": [
    "### Caracteres especiais `(` e `)`\n",
    "\n",
    "São usados para agrupar partes de um *regex*."
   ]
  },
  {
   "cell_type": "code",
   "execution_count": 49,
   "metadata": {},
   "outputs": [],
   "source": [
    "texto = \"\"\"\\\n",
    "Minha vida\n",
    "Meu amigo\n",
    "Amigo meu\n",
    "Vida minha\n",
    "\"\"\""
   ]
  },
  {
   "cell_type": "markdown",
   "metadata": {},
   "source": [
    "Vamos supor que queremos identificar palavras `meu` e `minha` que estejam presentes no começo de cada linha."
   ]
  },
  {
   "cell_type": "code",
   "execution_count": 50,
   "metadata": {},
   "outputs": [
    {
     "name": "stdout",
     "output_type": "stream",
     "text": [
      "\u001b[48;2;255;255;95mMinha\u001b[0m vida\n",
      "\u001b[48;2;255;255;95mMeu\u001b[0m amigo\n",
      "Amigo meu\n",
      "Vida \u001b[48;2;255;255;95mminha\u001b[0m\n",
      "\n"
     ]
    }
   ],
   "source": [
    "show_finditer(r'^meu|minha', texto, flags=re.I | re.M)"
   ]
  },
  {
   "cell_type": "markdown",
   "metadata": {},
   "source": [
    "Nesse caso, ele procurou por `meu` no começo e `minha` em qualquer lugar. Ainda não conseguimos o que queríamos.\n",
    "\n",
    "Podemos fazer da seguinte forma, mas não fica tão elegante ou fácil de dar manutenção."
   ]
  },
  {
   "cell_type": "code",
   "execution_count": 51,
   "metadata": {},
   "outputs": [
    {
     "name": "stdout",
     "output_type": "stream",
     "text": [
      "\u001b[48;2;255;255;95mMinha\u001b[0m vida\n",
      "\u001b[48;2;255;255;95mMeu\u001b[0m amigo\n",
      "Amigo meu\n",
      "Vida minha\n",
      "\n"
     ]
    }
   ],
   "source": [
    "show_finditer(r'^meu|^minha', texto, flags=re.I | re.M)"
   ]
  },
  {
   "cell_type": "markdown",
   "metadata": {},
   "source": [
    "Uma outra forma, seria através de grupos."
   ]
  },
  {
   "cell_type": "code",
   "execution_count": 52,
   "metadata": {},
   "outputs": [
    {
     "name": "stdout",
     "output_type": "stream",
     "text": [
      "\u001b[48;2;255;255;95mMinha\u001b[0m vida\n",
      "\u001b[48;2;255;255;95mMeu\u001b[0m amigo\n",
      "Amigo meu\n",
      "Vida minha\n",
      "\n"
     ]
    }
   ],
   "source": [
    "show_finditer(r'^(meu|minha)', texto, flags=re.I | re.M)"
   ]
  },
  {
   "cell_type": "markdown",
   "metadata": {},
   "source": [
    "## Grupos de captura\n",
    "\n",
    "Grupos de captura ou somente grupos são padrões que podemos identificar na hora de extrairmos informações de textos.\n",
    "\n",
    "Imagine que temos um texto que possui registros com nomes e CPF's. Queremos extrair todas as informações, linha a linha."
   ]
  },
  {
   "cell_type": "code",
   "execution_count": 53,
   "metadata": {},
   "outputs": [],
   "source": [
    "texto = \"\"\"\\\n",
    "nome: Fulano de Tal, cpf: 000.111.222-33\n",
    "nome: Ciclano de Tal, cpf: 12345678900\n",
    "cpf: 333222111-00, nome: Bandida\n",
    "\"\"\""
   ]
  },
  {
   "cell_type": "markdown",
   "metadata": {},
   "source": [
    "Vamos supor que temos este texto e queremos extrair dados estruturados de cada uma das linhas, neste caso, queremos extrair nome e CPF.\n",
    "\n",
    "Neste caso, precisamos saber que um padrão tem que ser identificado como `nome` e outro como `cpf`. Note também que há registros cuja ordem dessas informações estão trocadas."
   ]
  },
  {
   "cell_type": "markdown",
   "metadata": {},
   "source": [
    "Como a expressão é grande e confusa, podemos comentar todos os passos dela. Não esqueça de usar a flag `re.X` para aceitar os comentários."
   ]
  },
  {
   "cell_type": "code",
   "execution_count": 54,
   "metadata": {},
   "outputs": [],
   "source": [
    "pattern = \"\"\"(?=         # positive look ahead\n",
    "             .*nome:\\s*  # possui o texto nome: seguido de espaços independente do que veio antes\n",
    "             (?P<nome>   # grupo de captura nome\n",
    "             [\\w ]+))    # palavras\n",
    "             (?=         # positive look ahead\n",
    "             .*cpf:\\s*   # possui o texto cpf: seguido de espaços independente do que veio antes\n",
    "             (?P<cpf>    # grupo de captura cpf\n",
    "             \\d{3}\\.?    # 3 dígitos seguido de ponto opcional\n",
    "             \\d{3}\\.?    # 3 dígitos seguido de ponto opcional\n",
    "             \\d{3}\\-?    # 3 dígitos seguido de traço opcional\n",
    "             \\d{2}))     # 2 dígitos\n",
    "\"\"\""
   ]
  },
  {
   "cell_type": "markdown",
   "metadata": {},
   "source": [
    "Ou como uma expressão em uma única linha."
   ]
  },
  {
   "cell_type": "code",
   "execution_count": 55,
   "metadata": {},
   "outputs": [],
   "source": [
    "pattern = r'(?=.*nome:\\s*(?P<nome>[\\w ]+))(?=.*cpf:\\s*(?P<cpf>\\d{3}\\.?\\d{3}\\.?\\d{3}\\-?\\d{2}))'"
   ]
  },
  {
   "cell_type": "markdown",
   "metadata": {},
   "source": [
    "Agora podemos acessar cada informação através do método `groupdict` do objeto `Match`."
   ]
  },
  {
   "cell_type": "code",
   "execution_count": 56,
   "metadata": {},
   "outputs": [
    {
     "name": "stdout",
     "output_type": "stream",
     "text": [
      "{'nome': 'Fulano de Tal', 'cpf': '000.111.222-33'}\n",
      "{'nome': 'Ciclano de Tal', 'cpf': '12345678900'}\n",
      "{'nome': 'Bandida', 'cpf': '333222111-00'}\n"
     ]
    }
   ],
   "source": [
    "for match in re.finditer(pattern, texto, flags=re.I | re.M | re.X):\n",
    "    print(match.groupdict())"
   ]
  },
  {
   "cell_type": "code",
   "execution_count": 57,
   "metadata": {},
   "outputs": [
    {
     "name": "stdout",
     "output_type": "stream",
     "text": [
      "<re.Match object; span=(80, 80), match=''>\n"
     ]
    }
   ],
   "source": []
  },
  {
   "cell_type": "markdown",
   "metadata": {},
   "source": [
    "Bem, agora vamos às explicações.\n",
    "\n",
    "* `(?=...)`: É chamado de *positive lookahead* que nada mais é do que validar positivamente se o padrão indicado nela está mais para frente no texto.\n",
    "* `(?P<grupo>...)`: Cria grupo de captura com o nome indicado em `grupo`.\n",
    "\n",
    "Não usamos aqui, mas temos também:\n",
    "\n",
    "* `(?:...)`: Indica que a expressão dentro dela não será capturada ou que estamos usando parêntesis, mas que não é de um grupo de captura.\n",
    "* `(?!...)`: É chamado de *negative lookahead* que é o inverso do *positive lookahead*. Na prática, se mais para frente tiver o padrão indicado, invalida o padrão."
   ]
  },
  {
   "cell_type": "markdown",
   "metadata": {},
   "source": [
    "### Exemplo: validação de senha\n",
    "\n",
    "Vamos supor que estamos criando um sistema e no controle de acesso queremos desenvolver um validador de senha.\n",
    "\n",
    "As regras definidas são:\n",
    "\n",
    "* Deve conter entre 8 e 15 caracteres\n",
    "* Precisa conter ao menos uma letra maiúscula\n",
    "* Precisa conter ao menos uma letra minúscula\n",
    "* Precisa conter ao menos um dígito\n",
    "* Precisa conter ao menos um símbolo ou caractere especial"
   ]
  },
  {
   "cell_type": "markdown",
   "metadata": {},
   "source": [
    "Nesse caso, poderíamos escrever nosso *regex* da seguinte forma:\n",
    "\n",
    "```\n",
    "^(?=.{8,15}$)(?=.*[A-Z])(?=.*[a-z])(?=.*[0-9])(?=.*[!@#$%^&*]).*$\n",
    " \\__________/\\_________/\\_________/\\_________/\\______________/\n",
    "   tamanho    maiúscula  minúscula   dígito       símbolo\n",
    "```"
   ]
  },
  {
   "cell_type": "markdown",
   "metadata": {},
   "source": [
    "## Função `split`\n",
    "\n",
    "A função `split` possui o mesmo conceito do `split` da string, mas com algumas diferenças."
   ]
  },
  {
   "cell_type": "code",
   "execution_count": null,
   "metadata": {},
   "outputs": [],
   "source": [
    "texto = 'o rato roeu a roupa do rei de roma!'"
   ]
  },
  {
   "cell_type": "markdown",
   "metadata": {},
   "source": [
    "Podemos quebrar o texto por qualquer trecho não composto por caracteres alfanuméricos."
   ]
  },
  {
   "cell_type": "code",
   "execution_count": null,
   "metadata": {},
   "outputs": [],
   "source": [
    "re.split(r'\\W+', texto)"
   ]
  },
  {
   "cell_type": "markdown",
   "metadata": {},
   "source": [
    "Podemos quebrar o texto por palavras que comecem com `r` e que possuam 5 ou mais caracteres."
   ]
  },
  {
   "cell_type": "code",
   "execution_count": null,
   "metadata": {},
   "outputs": [],
   "source": [
    "re.split(r'r\\w{4,}', texto)"
   ]
  },
  {
   "cell_type": "markdown",
   "metadata": {},
   "source": [
    "Note que a palavra `roupa` não apareceu, pois foi ela quem quebrou o texto.\n",
    "\n",
    "Caso haja o interesse de saber do termo que foi usado para separar, podemos colocar em um grupo de captura."
   ]
  },
  {
   "cell_type": "code",
   "execution_count": null,
   "metadata": {},
   "outputs": [],
   "source": [
    "re.split(r'(r\\w{4,})', texto)"
   ]
  },
  {
   "cell_type": "markdown",
   "metadata": {},
   "source": [
    "Um exemplo mais prático seria quebrar um texto de um livro por páginas."
   ]
  },
  {
   "cell_type": "code",
   "execution_count": null,
   "metadata": {},
   "outputs": [],
   "source": [
    "texto = \"\"\"\\\n",
    "Era uma vez\n",
    "Página 1\n",
    "3 porquinhos\n",
    "Página 2\n",
    "Cícero, Heitor e Prático\n",
    "Página 3\n",
    "Cada um tinha uma casa...\n",
    "\"\"\""
   ]
  },
  {
   "cell_type": "code",
   "execution_count": null,
   "metadata": {},
   "outputs": [],
   "source": [
    "re.split(r'\\nPágina (\\d+)\\n', texto)"
   ]
  },
  {
   "cell_type": "markdown",
   "metadata": {},
   "source": [
    "## Função `sub`\n",
    "\n",
    "A função `sub` tem como objetivo substituir termos dentro do texto seguindo um padrão definido por *regex*."
   ]
  },
  {
   "cell_type": "code",
   "execution_count": null,
   "metadata": {},
   "outputs": [],
   "source": [
    "texto = 'o rato roeu a roupa do rei de roma'"
   ]
  },
  {
   "cell_type": "markdown",
   "metadata": {},
   "source": [
    "Vamos supor que queremos substituir todas as palavras que comecem com `r` pela palavra `uva`."
   ]
  },
  {
   "cell_type": "code",
   "execution_count": null,
   "metadata": {},
   "outputs": [],
   "source": [
    "re.sub(r'r\\w+', 'uva', texto)"
   ]
  },
  {
   "cell_type": "markdown",
   "metadata": {},
   "source": [
    "### Back reference\n",
    "\n",
    "Existe um conceito em expressões regulares que se chama *back reference*. Ele serve para você se referir ao que foi identificado em algum grupo de captura.\n",
    "\n",
    "Para melhor entendimento, vamos supor que gostaríamos de colocar `<` e `>` em volta das palavras que comecem com `r`."
   ]
  },
  {
   "cell_type": "code",
   "execution_count": null,
   "metadata": {},
   "outputs": [],
   "source": [
    "re.sub(r'(r\\w+)', r'<\\1>', texto)"
   ]
  },
  {
   "cell_type": "markdown",
   "metadata": {},
   "source": [
    "*Back references* é tão poderoso, que podemos criar coisas bem complexas.\n",
    "\n",
    "O exemplo abaixo mostra a criação de uma função para multi-replace.\n",
    "\n",
    "https://stackoverflow.com/questions/45128959/python-replace-multiple-strings-while-supporting-backreferences/45132893#45132893"
   ]
  },
  {
   "cell_type": "code",
   "execution_count": null,
   "metadata": {},
   "outputs": [],
   "source": [
    "import re\n",
    "from collections import OrderedDict\n",
    "from functools import partial\n",
    "\n",
    "def build_replacer(cases):\n",
    "    ordered_cases = OrderedDict(cases.items())\n",
    "    replacements = {}\n",
    "\n",
    "    leading_groups = 0\n",
    "    for pattern, replacement in ordered_cases.items():\n",
    "        leading_groups += 1\n",
    "\n",
    "        # leading_groups is now the absolute position of the root group (back-references should be relative to this)\n",
    "        group_index = leading_groups\n",
    "        replacement = absolute_backreference(replacement, group_index)\n",
    "        replacements[group_index] = replacement\n",
    "\n",
    "        # This pattern contains N subgroups (determine by compiling pattern)\n",
    "        subgroups = re.compile(pattern).groups\n",
    "        leading_groups += subgroups\n",
    "\n",
    "    catch_all = '|'.join('({})'.format(p) for p in ordered_cases)\n",
    "    pattern = re.compile(catch_all)\n",
    "\n",
    "    def replacer(match):\n",
    "        replacement_pattern = replacements[match.lastindex]\n",
    "        return match.expand(replacement_pattern)\n",
    "\n",
    "    return partial(pattern.sub, replacer)\n",
    "\n",
    "def absolute_backreference(text, n):\n",
    "    ref_pat = re.compile(r'\\\\([0-99])')\n",
    "\n",
    "    def replacer(match):\n",
    "        return '\\\\{}'.format(int(match.group(1)) + n)\n",
    "\n",
    "    return ref_pat.sub(replacer, text)\n",
    "\n",
    "patterns = {\n",
    "    r'(\\d{3})\\.?(\\d{3})\\.?(\\d{3})\\-?(\\d{2})\\b': r'\\1.\\2.\\3-\\4',\n",
    "    r'(\\d{2})\\.?(\\d{3})\\.?(\\d{3})\\/?(\\d{4})\\-?(\\d{2})\\b': r'\\1.\\2.\\3/\\4-\\5'\n",
    "}\n",
    "\n",
    "replacer = build_replacer(patterns)\n",
    "\n",
    "antes = 'cpf 12345678900 e cpnj 11222333000155 são números inválidos'\n",
    "depois = replacer('cpf 12345678900 e cpnj 11222333000155 são números inválidos')\n",
    "\n",
    "print('antes:', antes)\n",
    "print('depois:', depois)"
   ]
  },
  {
   "cell_type": "markdown",
   "metadata": {},
   "source": [
    "# Exercícios\n",
    "\n",
    "Alguns exercícios podem ser feitos sem expressões regulares, mas a ideia aqui é treinar o que acabamos de aprender."
   ]
  },
  {
   "cell_type": "markdown",
   "metadata": {},
   "source": [
    "**1)** Implemente a função `eh_binario(s)` para validar se uma string é binária ou não.\n",
    "\n",
    "Parâmetros:\n",
    "* `s`: string a ser validada.\n",
    "\n",
    "Retorno: `True` quando a string `s` for um número binário."
   ]
  },
  {
   "cell_type": "code",
   "execution_count": null,
   "metadata": {},
   "outputs": [],
   "source": [
    "def eh_binario(s):\n",
    "    # seu código vem aqui\n",
    "    return # seu retorno vem aqui\n",
    "\n",
    "# resultado esperado: True\n",
    "eh_binario('111000')"
   ]
  },
  {
   "cell_type": "code",
   "execution_count": null,
   "metadata": {},
   "outputs": [],
   "source": [
    "assert eh_binario('111000'), 'Você errroooouuuuu!'\n",
    "assert eh_binario('000111'), 'Você errroooouuuuu!'\n",
    "assert not eh_binario('1 0 1 0'), 'Você errroooouuuuu!'\n",
    "\n",
    "print('Show de bola!')"
   ]
  },
  {
   "cell_type": "markdown",
   "metadata": {},
   "source": [
    "**2)** Implemente a função `conta_numeros(s)` para contar quantos números estão presentes na string `s`.\n",
    "\n",
    "Parâmetros:\n",
    "* `s`: string de entrada\n",
    "\n",
    "Retorno: quantidade de números (não dígitos) isolados nós temos no texto.\n",
    "\n",
    "**Observação:** A função deve contar tanto números inteiros como flutuantes (com separador decimal `.`)"
   ]
  },
  {
   "cell_type": "code",
   "execution_count": null,
   "metadata": {},
   "outputs": [],
   "source": [
    "def conta_numeros(s):\n",
    "    # seu código vem aqui\n",
    "    return # seu retorno vem aqui\n",
    "\n",
    "# resultado esperado: 6\n",
    "conta_numeros('200 300 500 12.5 viajante no tempo 123milhas 4 0.7')"
   ]
  },
  {
   "cell_type": "code",
   "execution_count": null,
   "metadata": {},
   "outputs": [],
   "source": [
    "assert conta_numeros('200 300 500 12.5 viajante no tempo 123milhas 4 0.7') == 6, 'Você errroooouuuuu!'\n",
    "assert conta_numeros('12. 50 4b3lh4') == 2, 'Você errroooouuuuu!'\n",
    "assert conta_numeros('um dois três') == 0, 'Você errroooouuuuu!'\n",
    "\n",
    "print('Show de bola!')"
   ]
  },
  {
   "cell_type": "markdown",
   "metadata": {},
   "source": [
    "**3)** Implemente a função `extrair_telefones(s)` para retornar uma lista com todos os telefones identificados na string `s`.\n",
    "\n",
    "Parâmetros:\n",
    "* `s`: string de entrada\n",
    "\n",
    "Retorno: lista contendo todos os telefones identificados no texto.\n",
    "\n",
    "**Observação:** Não há a necessidade de normalizar a informação."
   ]
  },
  {
   "cell_type": "code",
   "execution_count": null,
   "metadata": {},
   "outputs": [],
   "source": [
    "def extrair_telefones(s):\n",
    "    # seu código vem aqui\n",
    "    return # seu retorno vem aqui\n",
    "\n",
    "# resultado esperado: ['5502-2204', '(11) 5502-2422']\n",
    "extrair_telefones('o telefone da moça é 5502-2204, já do seu amigo é (11) 5502-2422')"
   ]
  },
  {
   "cell_type": "code",
   "execution_count": null,
   "metadata": {},
   "outputs": [],
   "source": [
    "assert extrair_telefones('1234') == [], 'Você errroooouuuuu!'\n",
    "assert extrair_telefones('999991234, 123 456, (11) 1234 5678') == ['999991234', '(11) 1234 5678'], 'Você errroooouuuuu!'\n",
    "\n",
    "print('Show de bola!')"
   ]
  },
  {
   "cell_type": "code",
   "execution_count": null,
   "metadata": {},
   "outputs": [],
   "source": []
  },
  {
   "cell_type": "code",
   "execution_count": null,
   "metadata": {},
   "outputs": [],
   "source": []
  }
 ],
 "metadata": {
  "kernelspec": {
   "display_name": "Python 3 (ipykernel)",
   "language": "python",
   "name": "python3"
  },
  "language_info": {
   "codemirror_mode": {
    "name": "ipython",
    "version": 3
   },
   "file_extension": ".py",
   "mimetype": "text/x-python",
   "name": "python",
   "nbconvert_exporter": "python",
   "pygments_lexer": "ipython3",
   "version": "3.9.7"
  }
 },
 "nbformat": 4,
 "nbformat_minor": 4
}
