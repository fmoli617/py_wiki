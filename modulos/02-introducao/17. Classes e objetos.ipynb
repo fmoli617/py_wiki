{
 "cells": [
  {
   "cell_type": "markdown",
   "metadata": {},
   "source": [
    "# Classes e objetos\n",
    "Python é uma linguagem orientada a objetos. Praticamente tudo em Python são objetos, com suas propriedades e métodos.\n",
    "\n",
    "Uma classe é um construtor de objetos ou um blueprint de criação de objetos.\n",
    "\n",
    "Um objeto é uma instância de uma classe."
   ]
  },
  {
   "cell_type": "markdown",
   "metadata": {},
   "source": [
    "## Criação\n",
    "Para criar uma classe, use a palavra chave `class`."
   ]
  },
  {
   "cell_type": "code",
   "execution_count": 1,
   "metadata": {},
   "outputs": [],
   "source": [
    "class MinhaClasse:\n",
    "    x = 5"
   ]
  },
  {
   "cell_type": "markdown",
   "metadata": {},
   "source": [
    "## Utilização\n",
    "Agora que definimos uma classe, podemos instanciá-la (criação de objetos)."
   ]
  },
  {
   "cell_type": "code",
   "execution_count": 2,
   "metadata": {},
   "outputs": [
    {
     "name": "stdout",
     "output_type": "stream",
     "text": [
      "5\n"
     ]
    }
   ],
   "source": [
    "obj = MinhaClasse()\n",
    "print(obj.x)"
   ]
  },
  {
   "cell_type": "markdown",
   "metadata": {},
   "source": [
    "## Função __init__()\n",
    "A função `__init__()` é uma função construtora chamada sempre que instanciar um novo objeto.\n",
    "\n",
    "Todas as classes possuem um método construtor `__init__()`. Definir seu escopo não é obrigatório, mas altamente recomendável para dar legibilidade ao código.\n",
    "\n",
    "Normalmente usado para \"setar\" valores de propriedades iniciais do objeto."
   ]
  },
  {
   "cell_type": "code",
   "execution_count": 3,
   "metadata": {},
   "outputs": [
    {
     "name": "stdout",
     "output_type": "stream",
     "text": [
      "Mult\n",
      "36\n",
      "10/10/2020\n"
     ]
    }
   ],
   "source": [
    "class Pessoa:\n",
    "    def __init__(self, nome, idade):\n",
    "        self.nome = nome\n",
    "        self.idade = idade\n",
    "        self.data_nascimento = '10/10/2020'\n",
    "\n",
    "p1 = Pessoa('Mult', 36)\n",
    "\n",
    "print(p1.nome)\n",
    "print(p1.idade)\n",
    "print(p1.data_nascimento)"
   ]
  },
  {
   "cell_type": "code",
   "execution_count": 4,
   "metadata": {},
   "outputs": [
    {
     "ename": "TypeError",
     "evalue": "__init__() missing 2 required positional arguments: 'nome' and 'idade'",
     "output_type": "error",
     "traceback": [
      "\u001b[1;31m---------------------------------------------------------------------------\u001b[0m",
      "\u001b[1;31mTypeError\u001b[0m                                 Traceback (most recent call last)",
      "\u001b[1;32m<ipython-input-4-4020aa2d2e4d>\u001b[0m in \u001b[0;36m<module>\u001b[1;34m\u001b[0m\n\u001b[1;32m----> 1\u001b[1;33m \u001b[0mp2\u001b[0m \u001b[1;33m=\u001b[0m \u001b[0mPessoa\u001b[0m\u001b[1;33m(\u001b[0m\u001b[1;33m)\u001b[0m\u001b[1;33m\u001b[0m\u001b[1;33m\u001b[0m\u001b[0m\n\u001b[0m\u001b[0;32m      2\u001b[0m \u001b[0mprint\u001b[0m\u001b[1;33m(\u001b[0m\u001b[0mp2\u001b[0m\u001b[1;33m.\u001b[0m\u001b[0mnome\u001b[0m\u001b[1;33m)\u001b[0m\u001b[1;33m\u001b[0m\u001b[1;33m\u001b[0m\u001b[0m\n\u001b[0;32m      3\u001b[0m \u001b[0mprint\u001b[0m\u001b[1;33m(\u001b[0m\u001b[0mp2\u001b[0m\u001b[1;33m.\u001b[0m\u001b[0midade\u001b[0m\u001b[1;33m)\u001b[0m\u001b[1;33m\u001b[0m\u001b[1;33m\u001b[0m\u001b[0m\n",
      "\u001b[1;31mTypeError\u001b[0m: __init__() missing 2 required positional arguments: 'nome' and 'idade'"
     ]
    }
   ],
   "source": [
    "p2 = Pessoa()\n",
    "print(p2.nome)\n",
    "print(p2.idade)"
   ]
  },
  {
   "cell_type": "markdown",
   "metadata": {},
   "source": [
    "Note que ocorreu um erro, pois eu defini um construtor com parâmetros obrigatórios. Podemos agregar parâmetros opcionais da mesma forma que na criação de funções."
   ]
  },
  {
   "cell_type": "code",
   "execution_count": 5,
   "metadata": {},
   "outputs": [],
   "source": [
    "class Pessoa:\n",
    "    def __init__(self, nome='sem nome', idade=-1):\n",
    "        self.nome = nome\n",
    "        self.idade = idade"
   ]
  },
  {
   "cell_type": "code",
   "execution_count": 6,
   "metadata": {},
   "outputs": [
    {
     "name": "stdout",
     "output_type": "stream",
     "text": [
      "Mult\n",
      "36\n",
      "sem nome\n",
      "-1\n"
     ]
    }
   ],
   "source": [
    "p1 = Pessoa('Mult', 36)\n",
    "print(p1.nome)\n",
    "print(p1.idade)\n",
    "\n",
    "p2 = Pessoa()\n",
    "print(p2.nome)\n",
    "print(p2.idade)"
   ]
  },
  {
   "cell_type": "markdown",
   "metadata": {},
   "source": [
    "## Parâmetro self\n",
    "O parâmetro `self` indicado nas definições de métodos serve para que possamos acessar membros da própria classe dentro delas. Pode ser usado outros nomes de parâmetros no lugar, mas por padrão, usamos self."
   ]
  },
  {
   "cell_type": "code",
   "execution_count": 7,
   "metadata": {},
   "outputs": [
    {
     "name": "stdout",
     "output_type": "stream",
     "text": [
      "Oi, meu nome é Mult. Tenho 36 anos.\n"
     ]
    }
   ],
   "source": [
    "class Pessoa:\n",
    "    def __init__(self, nome, idade):\n",
    "        self.nome = nome\n",
    "        self.idade = idade\n",
    "        \n",
    "    def cumprimentar(self):\n",
    "        print(f'Oi, meu nome é {self.nome}. Tenho {self.idade} anos.')\n",
    "        \n",
    "p1 = Pessoa('Mult', 36)\n",
    "p1.cumprimentar()"
   ]
  },
  {
   "cell_type": "markdown",
   "metadata": {},
   "source": [
    "## Métodos\n",
    "Métodos são funções pertencentes à classe. Podem interagir com os atributos ou outros métodos da própria classe."
   ]
  },
  {
   "cell_type": "markdown",
   "metadata": {},
   "source": [
    "### Exemplo 1"
   ]
  },
  {
   "cell_type": "code",
   "execution_count": 8,
   "metadata": {},
   "outputs": [
    {
     "name": "stdout",
     "output_type": "stream",
     "text": [
      "Soma: 30\n",
      "Subtração: -10\n",
      "Multiplicar: 200\n",
      "Dividir: 0.5\n"
     ]
    }
   ],
   "source": [
    "class Calculadora:\n",
    "    def __init__(self, a, b):\n",
    "        self.a = a\n",
    "        self.b = b\n",
    "    \n",
    "    def somar(self):\n",
    "        return self.a + self.b\n",
    "    \n",
    "    def subtrair(self):\n",
    "        return self.a - self.b\n",
    "    \n",
    "    def multiplicar(self):\n",
    "        return self.a * self.b\n",
    "    \n",
    "    def dividir(self):\n",
    "        return self.a / self.b\n",
    "    \n",
    "calc = Calculadora(10, 20)\n",
    "print('Soma:', calc.somar())\n",
    "print('Subtração:', calc.subtrair())\n",
    "print('Multiplicar:', calc.multiplicar())\n",
    "print('Dividir:', calc.dividir())"
   ]
  },
  {
   "cell_type": "code",
   "execution_count": 9,
   "metadata": {},
   "outputs": [
    {
     "name": "stdout",
     "output_type": "stream",
     "text": [
      "Soma: 70\n",
      "Subtração: 30\n",
      "Multiplicar: 1000\n",
      "Dividir: 2.5\n"
     ]
    }
   ],
   "source": [
    "calc.a = 50\n",
    "print('Soma:', calc.somar())\n",
    "print('Subtração:', calc.subtrair())\n",
    "print('Multiplicar:', calc.multiplicar())\n",
    "print('Dividir:', calc.dividir())"
   ]
  },
  {
   "cell_type": "markdown",
   "metadata": {},
   "source": [
    "### Exemplo 2"
   ]
  },
  {
   "cell_type": "code",
   "execution_count": 10,
   "metadata": {},
   "outputs": [
    {
     "name": "stdout",
     "output_type": "stream",
     "text": [
      "Ponto 1: (0, 0)\n",
      "Ponto 2: (4, 3)\n",
      "Distância: 5.0\n"
     ]
    }
   ],
   "source": [
    "class Ponto:\n",
    "    \"\"\" Define um ponto \"\"\"\n",
    "    \n",
    "    def __init__(self, x, y):\n",
    "        \"\"\" Construtor \"\"\"\n",
    "        self.x = x\n",
    "        self.y = y\n",
    "        \n",
    "    def deslocar(self, x=0, y=0):\n",
    "        \"\"\" Desloca o ponto no eixo X e Y \"\"\"\n",
    "        self.x += x\n",
    "        self.y += y\n",
    "        \n",
    "    def distancia(self, p):\n",
    "        \"\"\" Calcula a distância entre um ponto e outro \"\"\"\n",
    "        return ((self.x + p.x) ** 2 + (self.y + p.y) ** 2) ** 0.5\n",
    "    \n",
    "    def __str__(self):\n",
    "        \"\"\" Sobrescrevendo o método de conversão para string \"\"\"\n",
    "        return f'({self.x}, {self.y})'\n",
    "    \n",
    "p1 = Ponto(0, 0)\n",
    "print('Ponto 1:', p1)\n",
    "\n",
    "p2 = Ponto(0, 0)\n",
    "p2.deslocar(4, 3)\n",
    "print('Ponto 2:', p2)\n",
    "\n",
    "distancia = p1.distancia(p2)\n",
    "print('Distância:', distancia)"
   ]
  },
  {
   "cell_type": "markdown",
   "metadata": {},
   "source": [
    "## Herança\n",
    "Herança permite definir uma classe que herda características (métodos e atributos) de outra classe.\n",
    "\n",
    "**Classe-pai**: Classe a qual determina características iniciais.\n",
    "\n",
    "**Classe-filha**: Classe a qual herdou suas características."
   ]
  },
  {
   "cell_type": "code",
   "execution_count": 11,
   "metadata": {},
   "outputs": [
    {
     "name": "stdout",
     "output_type": "stream",
     "text": [
      "Andei 10 metros!\n",
      "Oi, meu nome é Mult. Tenho 36 anos.\n",
      "Andei 20 metros!\n",
      "Oi, meu nome é Juca. Tenho 22 anos. Faço o curso Engenharia da Computação.\n",
      "True\n",
      "True\n",
      "False\n",
      "True\n"
     ]
    }
   ],
   "source": [
    "class Pessoa:\n",
    "    def __init__(self, nome, idade):\n",
    "        self.nome = nome\n",
    "        self.idade = idade\n",
    "        \n",
    "    def cumprimentar(self):\n",
    "        print(f'Oi, meu nome é {self.nome}. Tenho {self.idade} anos.')\n",
    "        \n",
    "    def andar(self, distancia):\n",
    "        print(f'Andei {distancia} metros!')\n",
    "        \n",
    "class Estudante(Pessoa):\n",
    "    def __init__(self, nome, idade, curso):\n",
    "        # note que podemos chamar o construtor do pai, no caso Pessoa\n",
    "        super().__init__(nome, idade) \n",
    "        # curso é um novo atributo que não existe em Pessoa, mas existe em Estudante\n",
    "        self.curso = curso \n",
    "    \n",
    "    # podemos sobrescrever um método já existente\n",
    "    def cumprimentar(self):\n",
    "        print(f'Oi, meu nome é {self.nome}. Tenho {self.idade} anos. Faço o curso {self.curso}.')\n",
    "        \n",
    "p1 = Pessoa('Mult', 36)\n",
    "p2 = Estudante('Juca', 22, 'Engenharia da Computação')\n",
    "\n",
    "p1.andar(10)\n",
    "p1.cumprimentar()\n",
    "\n",
    "p2.andar(20)\n",
    "p2.cumprimentar()\n",
    "\n",
    "# verificando se ambos são instância de Pessoa\n",
    "print(isinstance(p1, Pessoa))\n",
    "print(isinstance(p2, Pessoa))\n",
    "\n",
    "# verificando se ambos são instância de Estudante\n",
    "print(isinstance(p1, Estudante))\n",
    "print(isinstance(p2, Estudante))"
   ]
  },
  {
   "cell_type": "markdown",
   "metadata": {},
   "source": [
    "## Membros privados e protegidos\n",
    "Por padrão, todos os membros são públicos, ou seja, são acessíveis dentro e fora da classe. Em alguns momentos, por definição ou arquitetura, há a necessidade de não deixar os membros públicos, mas sim privados ou protegidos.\n",
    "* **Membros privados**: acessíveis somente dentro da própria classe. Não são visíveis fora da classe.\n",
    "* **Membros protegidos**: acessíveis somente dentro da classe e de seus herdeiros. Não são visíveis fora da classe.\n",
    "* **Membros públicos**: acessíveis dentro e fora da classe."
   ]
  },
  {
   "cell_type": "markdown",
   "metadata": {},
   "source": [
    "Vamos ver o exemplo citado anteriormente."
   ]
  },
  {
   "cell_type": "code",
   "execution_count": 12,
   "metadata": {},
   "outputs": [
    {
     "name": "stdout",
     "output_type": "stream",
     "text": [
      "Nome original: Mult\n",
      "Nome alterado: Multina\n",
      "Oi, meu nome é Multina. Tenho 36 anos. Faço o curso A.\n"
     ]
    }
   ],
   "source": [
    "class Pessoa:\n",
    "    def __init__(self, nome, idade):\n",
    "        self.nome = nome\n",
    "        self.idade = idade\n",
    "        \n",
    "    def cumprimentar(self):\n",
    "        print(f'Oi, meu nome é {self.nome}. Tenho {self.idade} anos.')\n",
    "        \n",
    "    def andar(self, distancia):\n",
    "        print(f'Andei {distancia} metros!')\n",
    "        \n",
    "class Estudante(Pessoa):\n",
    "    def __init__(self, nome, idade, curso):\n",
    "        # note que podemos chamar o construtor do pai, no caso Pessoa\n",
    "        super().__init__(nome, idade) \n",
    "        # curso é um novo atributo que não existe em Pessoa, mas existe em Estudante\n",
    "        self.curso = curso \n",
    "    \n",
    "    # podemos sobrescrever um método já existente\n",
    "    def cumprimentar(self):\n",
    "        print(f'Oi, meu nome é {self.nome}. Tenho {self.idade} anos. Faço o curso {self.curso}.')\n",
    "        \n",
    "p1 = Estudante('Mult', 36, 'A')\n",
    "print('Nome original:', p1.nome)\n",
    "p1.nome = 'Multina' # alterando um membro\n",
    "print('Nome alterado:', p1.nome)\n",
    "p1.cumprimentar()"
   ]
  },
  {
   "cell_type": "markdown",
   "metadata": {},
   "source": [
    "Veja que foi possível alterar o nome, pois ele é público. Nem sempre isso deveria ser feito.\n",
    "\n",
    "### Membros protegidos\n",
    "Vamos refazer as classes Pessoa e Estudante para usar membros protegidos (notem o _ antes de cada membro) e definir propriedades para leitura apenas."
   ]
  },
  {
   "cell_type": "code",
   "execution_count": null,
   "metadata": {},
   "outputs": [],
   "source": [
    "class Pessoa:\n",
    "    def __init__(self, nome, idade):\n",
    "        self._nome = nome\n",
    "        self._idade = idade\n",
    "        \n",
    "    @property\n",
    "    def nome(self):\n",
    "        return self._nome\n",
    "    \n",
    "    @property\n",
    "    def idade(self):\n",
    "        return self._idade\n",
    "        \n",
    "    def cumprimentar(self):\n",
    "        print(f'Oi, meu nome é {self.nome}. Tenho {self.idade} anos.')\n",
    "        \n",
    "    def andar(self, distancia):\n",
    "        print(f'Andei {distancia} metros!')\n",
    "        \n",
    "class Estudante(Pessoa):\n",
    "    def __init__(self, nome, idade, curso):\n",
    "        # note que podemos chamar o construtor do pai, no caso Pessoa\n",
    "        super().__init__(nome, idade) \n",
    "        # curso é um novo atributo que não existe em Pessoa, mas existe em Estudante\n",
    "        self._curso = curso \n",
    "        \n",
    "    @property\n",
    "    def curso(self):\n",
    "        return self._curso\n",
    "    \n",
    "    # podemos sobrescrever um método já existente\n",
    "    def cumprimentar(self):\n",
    "        print(f'Oi, meu nome é {self.nome}. Tenho {self.idade} anos. Faço o curso {self._curso}.')\n",
    "        \n",
    "p1 = Estudante('Mult', 36, 'A')\n",
    "print('Nome original:', p1.nome)\n",
    "p1.nome = 'Multina' # alterando um membro\n",
    "print('Nome alterado:', p1.nome)\n",
    "p1.cumprimentar()"
   ]
  },
  {
   "cell_type": "code",
   "execution_count": null,
   "metadata": {},
   "outputs": [],
   "source": [
    "p1._nome = 'Multina'\n",
    "print('Nome alterado:', p1.nome)\n",
    "p1.cumprimentar()"
   ]
  },
  {
   "cell_type": "markdown",
   "metadata": {},
   "source": [
    "Ué?! Não deveria ser impedido? Teoricamente sim, mas Python ainda permite a sobrescrita, mas o _ deixará evidente de que se trata de um membro protegido e alterar seu valor poderá impactar em algo internamente."
   ]
  },
  {
   "cell_type": "markdown",
   "metadata": {},
   "source": [
    "### Membros privados\n",
    "Vamos refazer as classes, mas agora criando membros privados (notem o __ antes de cada atributo)."
   ]
  },
  {
   "cell_type": "code",
   "execution_count": null,
   "metadata": {},
   "outputs": [],
   "source": [
    "class Pessoa():\n",
    "    def __init__(self, nome, idade):\n",
    "        self.__nome = nome\n",
    "        self.__idade = idade\n",
    "    \n",
    "    @property\n",
    "    def nome(self):\n",
    "        return self.__nome\n",
    "    \n",
    "    @property\n",
    "    def idade(self):\n",
    "        return self.__idade\n",
    "        \n",
    "    def cumprimentar(self):\n",
    "        print(f'Oi, meu nome é {self.nome}. Tenho {self.idade} anos.')\n",
    "        \n",
    "    def andar(self, distancia):\n",
    "        print(f'Andei {distancia} metros!')\n",
    "        \n",
    "class Estudante(Pessoa):\n",
    "    def __init__(self, nome, idade, curso):\n",
    "        # note que podemos chamar o construtor do pai, no caso Pessoa\n",
    "        super().__init__(nome, idade) \n",
    "        # curso é um novo atributo que não existe em Pessoa, mas existe em Estudante\n",
    "        self.__curso = curso \n",
    "    \n",
    "    @property\n",
    "    def curso(self):\n",
    "        return self.__curso\n",
    "    \n",
    "    # podemos sobrescrever um método já existente\n",
    "    def cumprimentar(self):\n",
    "        print(f'Oi, meu nome é {self.nome}. Tenho {self.idade} anos. Faço o curso {self.curso}.')\n",
    "        \n",
    "p1 = Estudante('Mult', 36, 'A')\n",
    "print('Nome original:', p1.nome)\n",
    "p1.nome = 'Multina' # alterando um membro\n",
    "print('Nome alterado:', p1.nome)\n",
    "p1.cumprimentar()"
   ]
  },
  {
   "cell_type": "code",
   "execution_count": null,
   "metadata": {},
   "outputs": [],
   "source": [
    "p1._Estudante__nome"
   ]
  },
  {
   "cell_type": "code",
   "execution_count": null,
   "metadata": {},
   "outputs": [],
   "source": [
    "p1.__nome = 'Multina'\n",
    "print('Nome alterado:', p1.nome)\n",
    "p1.cumprimentar()"
   ]
  },
  {
   "cell_type": "markdown",
   "metadata": {},
   "source": [
    "Aahh, agora sim parece que ficou legal!"
   ]
  },
  {
   "cell_type": "markdown",
   "metadata": {},
   "source": [
    "### Entendendo melhor @property\n",
    "Vamos supor que queremos que a propriedade `nome` possa ser sobrescrita, mas queremos colocar regras na atualização, como por exemplo, só aceitar strings.\n",
    "\n",
    "O decorator `@property` tem mais recursos que podem ser usados. Vamos mostrar o setter."
   ]
  },
  {
   "cell_type": "code",
   "execution_count": null,
   "metadata": {},
   "outputs": [],
   "source": [
    "class Pessoa():\n",
    "    def __init__(self, nome, idade):\n",
    "        self.nome = nome\n",
    "        self.idade = idade\n",
    "    \n",
    "    @property\n",
    "    def nome(self):\n",
    "        return self.__nome\n",
    "    \n",
    "    @nome.setter\n",
    "    def nome(self, value):\n",
    "        self.__nome = str(value)\n",
    "    \n",
    "    @property\n",
    "    def idade(self):\n",
    "        return self.__idade\n",
    "    \n",
    "    @idade.setter\n",
    "    def idade(self, value):\n",
    "        self.__idade = int(value)\n",
    "        \n",
    "    def cumprimentar(self):\n",
    "        print(f'Oi, meu nome é {self.nome}. Tenho {self.idade} anos.')\n",
    "        \n",
    "    def andar(self, distancia):\n",
    "        print(f'Andei {distancia} metros!')\n",
    "        \n",
    "class Estudante(Pessoa):\n",
    "    def __init__(self, nome, idade, curso):\n",
    "        # note que podemos chamar o construtor do pai, no caso Pessoa\n",
    "        super().__init__(nome, idade) \n",
    "        # curso é um novo atributo que não existe em Pessoa, mas existe em Estudante\n",
    "        self.curso = curso \n",
    "    \n",
    "    @property\n",
    "    def curso(self):\n",
    "        return self.__curso\n",
    "    \n",
    "    @curso.setter\n",
    "    def curso(self, value):\n",
    "        self.__curso = str(value)\n",
    "    \n",
    "    # podemos sobrescrever um método já existente\n",
    "    def cumprimentar(self):\n",
    "        print(f'Oi, meu nome é {self.nome}. Tenho {self.idade} anos. Faço o curso {self.curso}.')\n",
    "        \n",
    "p1 = Estudante('Mult', 36, 'A')\n",
    "print('Nome original:', p1.nome)\n",
    "p1.nome = 'Multina' # alterando um membro\n",
    "print('Nome alterado:', p1.nome)\n",
    "p1.cumprimentar()"
   ]
  },
  {
   "cell_type": "code",
   "execution_count": null,
   "metadata": {},
   "outputs": [],
   "source": [
    "p1 = Estudante(1.3, 42.7, 'A')\n",
    "print('Nome original:', p1.nome)\n",
    "p1.nome = 'Multina' # alterando um membro\n",
    "print('Nome alterado:', p1.nome)\n",
    "p1.cumprimentar()"
   ]
  },
  {
   "cell_type": "markdown",
   "metadata": {},
   "source": [
    "## Classes de dados\n",
    "Classes de dados são aquelas que servem basicamente para carregar informações. Basicamente possuem diversas propriedades e eventualmente alguns métodos. Vamos ver algumas das formas que podemos criar classes de dados de forma simples."
   ]
  },
  {
   "cell_type": "markdown",
   "metadata": {},
   "source": [
    "### `namedtuple`\n",
    "Para diversos tipos de classe, principalmente aquelas que guardam apenas informações, podemos usar o conceito de `namedtuple` no lugar de uma definição de classe."
   ]
  },
  {
   "cell_type": "code",
   "execution_count": null,
   "metadata": {},
   "outputs": [],
   "source": [
    "import collections"
   ]
  },
  {
   "cell_type": "code",
   "execution_count": null,
   "metadata": {},
   "outputs": [],
   "source": [
    "# aqui estou declarando uma classe Pessoa com 2 atributos, nome e idade.\n",
    "Pessoa = collections.namedtuple('Pessoa', 'nome idade')"
   ]
  },
  {
   "cell_type": "code",
   "execution_count": null,
   "metadata": {},
   "outputs": [],
   "source": [
    "# instanciando um objeto do tipo Pessoa\n",
    "p1 = Pessoa('Mult', 38)\n",
    "\n",
    "# conversão padrão para string\n",
    "print(p1)\n",
    "# tipo\n",
    "print(type(p1))\n",
    "# acessando propriedades\n",
    "print(f'Oi, meu nome é {p1.nome} e tenho {p1.idade} anos de idade.')"
   ]
  },
  {
   "cell_type": "markdown",
   "metadata": {},
   "source": [
    "Lembram que comentei que veríamos a função `operator.attrgetter`? Vamos ver agora como podemos usar."
   ]
  },
  {
   "cell_type": "code",
   "execution_count": null,
   "metadata": {},
   "outputs": [],
   "source": [
    "import operator"
   ]
  },
  {
   "cell_type": "code",
   "execution_count": null,
   "metadata": {},
   "outputs": [],
   "source": [
    "pessoas = [\n",
    "    Pessoa('Mult', 38),\n",
    "    Pessoa('Abelardo', 50),\n",
    "    Pessoa('Duda', 10)\n",
    "]"
   ]
  },
  {
   "cell_type": "code",
   "execution_count": null,
   "metadata": {},
   "outputs": [],
   "source": [
    "sorted(pessoas, key=lambda p: p.idade)"
   ]
  },
  {
   "cell_type": "code",
   "execution_count": null,
   "metadata": {},
   "outputs": [],
   "source": [
    "sorted(pessoas, key=operator.attrgetter('idade'))"
   ]
  },
  {
   "cell_type": "markdown",
   "metadata": {},
   "source": [
    "### `dataclass`\n",
    "`dataclass` é um tipo de declaração presente desde a versão 3.7 do Python que permite a criação de classes de dados a partir de anotações."
   ]
  },
  {
   "cell_type": "code",
   "execution_count": null,
   "metadata": {},
   "outputs": [],
   "source": [
    "from dataclasses import dataclass, field, asdict, astuple"
   ]
  },
  {
   "cell_type": "code",
   "execution_count": null,
   "metadata": {},
   "outputs": [],
   "source": [
    "@dataclass\n",
    "class Pessoa:\n",
    "    nome: str\n",
    "    idade: int"
   ]
  },
  {
   "cell_type": "code",
   "execution_count": null,
   "metadata": {},
   "outputs": [],
   "source": [
    "# instanciando um objeto do tipo Pessoa\n",
    "p1 = Pessoa('Mult', 38)\n",
    "\n",
    "# conversão padrão para string\n",
    "print(p1)\n",
    "# tipo\n",
    "print(type(p1))\n",
    "# acessando propriedades\n",
    "print(f'Oi, meu nome é {p1.nome} e tenho {p1.idade} anos de idade.')"
   ]
  },
  {
   "cell_type": "markdown",
   "metadata": {},
   "source": [
    "Até aqui, muito semelhante a `namedtuple`. Vamos começar a ver as diferenças agora."
   ]
  },
  {
   "cell_type": "markdown",
   "metadata": {},
   "source": [
    "#### Valores padrão (default)\n",
    "É possível estabelecermos valores padrão para a classe de dados."
   ]
  },
  {
   "cell_type": "code",
   "execution_count": null,
   "metadata": {},
   "outputs": [],
   "source": [
    "from typing import Any, List"
   ]
  },
  {
   "cell_type": "markdown",
   "metadata": {},
   "source": [
    "Quando formos definir um valor como default, podemos fazer da seguinte forma."
   ]
  },
  {
   "cell_type": "code",
   "execution_count": null,
   "metadata": {},
   "outputs": [],
   "source": [
    "@dataclass\n",
    "class Ponto:\n",
    "    # podemos definir dessa forma\n",
    "    x: float = 0 \n",
    "    # ou dessa\n",
    "    y: float = field(default=0)\n",
    "        \n",
    "ponto = Ponto()\n",
    "print(ponto)"
   ]
  },
  {
   "cell_type": "markdown",
   "metadata": {},
   "source": [
    "Caso não queiramos definir um tipo estático a um membro, podemos usar `Any`."
   ]
  },
  {
   "cell_type": "code",
   "execution_count": null,
   "metadata": {},
   "outputs": [],
   "source": [
    "@dataclass\n",
    "class Ponto:\n",
    "    x: Any = 0\n",
    "    y: Any = 0\n",
    "        \n",
    "ponto = Ponto()\n",
    "print(ponto)"
   ]
  },
  {
   "cell_type": "markdown",
   "metadata": {},
   "source": [
    "O processo muda quando queremos usar um objeto ao invés de um valor. Vamos imaginar que queremos ter uma lista como membro da nossa variável."
   ]
  },
  {
   "cell_type": "code",
   "execution_count": null,
   "metadata": {},
   "outputs": [],
   "source": [
    "@dataclass\n",
    "class Pessoa:\n",
    "    nome: str\n",
    "    idade: int\n",
    "\n",
    "@dataclass\n",
    "class Funcionario:\n",
    "    nome: str\n",
    "    matricula: str\n",
    "    idade: int\n",
    "    dependentes: List[Pessoa] = field(default_factory=list)"
   ]
  },
  {
   "cell_type": "code",
   "execution_count": null,
   "metadata": {},
   "outputs": [],
   "source": [
    "dependentes_f1 = [Pessoa('Nestor', 32), Pessoa('Durval', 27)]\n",
    "f1 = Funcionario(nome='Agenor', matricula='12345', idade=53, dependentes=dependentes_f1)\n",
    "f1"
   ]
  },
  {
   "cell_type": "markdown",
   "metadata": {},
   "source": [
    "#### `asdict` e `astuple`\n",
    "Duas funções que vêm com a biblioteca que facilita a exportação dos dados para dicionários ou tuplas."
   ]
  },
  {
   "cell_type": "code",
   "execution_count": null,
   "metadata": {},
   "outputs": [],
   "source": [
    "asdict(f1)"
   ]
  },
  {
   "cell_type": "code",
   "execution_count": null,
   "metadata": {},
   "outputs": [],
   "source": [
    "astuple(f1)"
   ]
  },
  {
   "cell_type": "markdown",
   "metadata": {},
   "source": [
    "#### Adicionando métodos\n",
    "Outra vantagem que temos quando criamos classes de dados com `dataclass` é de que podemos incluir novos métodos facilmente."
   ]
  },
  {
   "cell_type": "code",
   "execution_count": null,
   "metadata": {},
   "outputs": [],
   "source": [
    "@dataclass\n",
    "class Pessoa:\n",
    "    nome: str\n",
    "    idade: int\n",
    "        \n",
    "    def cumprimentar(self):\n",
    "        print(f'Olá, meu nome é {self.nome}. Tenho {self.idade} anos.')\n",
    "        \n",
    "p1 = Pessoa('Nestor', 32)\n",
    "p1.cumprimentar()"
   ]
  },
  {
   "cell_type": "markdown",
   "metadata": {},
   "source": [
    "#### Classes de dados protegida\n",
    "Imagine que queremos proteger os dados de uma classe para que ela não possa ser alterada após criação."
   ]
  },
  {
   "cell_type": "code",
   "execution_count": null,
   "metadata": {},
   "outputs": [],
   "source": [
    "p1.nome = 'Durval'\n",
    "p1"
   ]
  },
  {
   "cell_type": "markdown",
   "metadata": {},
   "source": [
    "Conseguimos alterar, certo? Agora vamos configurar a classe de dados para não permitir edição. Para isso, vamos usar o parâmetro `frozen` como `True`."
   ]
  },
  {
   "cell_type": "code",
   "execution_count": null,
   "metadata": {},
   "outputs": [],
   "source": [
    "@dataclass(frozen=True)\n",
    "class Pessoa:\n",
    "    nome: str\n",
    "    idade: int\n",
    "        \n",
    "    def cumprimentar(self):\n",
    "        print(f'Olá, meu nome é {self.nome}. Tenho {self.idade} anos.')\n",
    "        \n",
    "p1 = Pessoa('Nestor', 32)\n",
    "p1.cumprimentar()"
   ]
  },
  {
   "cell_type": "code",
   "execution_count": null,
   "metadata": {},
   "outputs": [],
   "source": [
    "p1.nome = 'Durval'\n",
    "p1"
   ]
  },
  {
   "cell_type": "markdown",
   "metadata": {},
   "source": [
    "# Exercícios"
   ]
  },
  {
   "cell_type": "markdown",
   "metadata": {},
   "source": [
    "**1)** Crie as devidas propriedades de leitura e escrita para todos os membros das classes abaixo."
   ]
  },
  {
   "cell_type": "code",
   "execution_count": null,
   "metadata": {},
   "outputs": [],
   "source": [
    "class Carro():\n",
    "    def __init__(self, marca, modelo, ano):\n",
    "        self.__marca = marca\n",
    "        self.__modelo = modelo\n",
    "        self.__ano = ano\n",
    "        \n",
    "    @property\n",
    "    def marca(self):\n",
    "        return self.__marca\n",
    "    \n",
    "    @marca.setter\n",
    "    def marca(self, value):\n",
    "        self.__marca = str(value)\n",
    "        \n",
    "    @property\n",
    "    def modelo(self):\n",
    "        return self.__modelo\n",
    "    \n",
    "    @modelo.setter\n",
    "    def modelo(self, value):\n",
    "        self.__modelo = str(value)\n",
    "\n",
    "    @property\n",
    "    def ano(self):\n",
    "        return self.__ano\n",
    "    \n",
    "    @ano.setter\n",
    "    def ano(self, value):\n",
    "        self.__ano = int(value)\n",
    "\n",
    "# testando escrita e leitura de propriedades\n",
    "c1 = Carro('Audi', 'A4', 2018)\n",
    "\n",
    "c1.marca = 'Volkswagen'\n",
    "c1.modelo = 'Fusca'\n",
    "c1.ano = 1970\n",
    "\n",
    "print(c1.marca, c1.modelo, c1.ano)"
   ]
  },
  {
   "cell_type": "code",
   "execution_count": null,
   "metadata": {},
   "outputs": [],
   "source": [
    "class Livro():\n",
    "    def __init__(self, titulo, autor, editora):\n",
    "        self.__titulo = titulo\n",
    "        self.__autor = autor\n",
    "        self.__editora = editora\n",
    "        \n",
    "    @property\n",
    "    def titulo(self):\n",
    "        return self.__titulo\n",
    "    \n",
    "    @titulo.setter\n",
    "    def titulo(self, value):\n",
    "        self.__titulo = str(value)\n",
    "\n",
    "    @property\n",
    "    def autor(self):\n",
    "        return self.__autor\n",
    "    \n",
    "    @autor.setter\n",
    "    def autor(self, value):\n",
    "        self.__autor = str(value)\n",
    "\n",
    "    @property\n",
    "    def editora(self):\n",
    "        return self.__editora\n",
    "    \n",
    "    @editora.setter\n",
    "    def editora(self, value):\n",
    "        self.__editora = str(value)\n",
    "\n",
    "# testando escrita e leitura de propriedades\n",
    "l1 = Livro('Os Lusíadas', 'Luis de Camões', 'Abril')\n",
    "\n",
    "l1.titulo = 'A Divina Comédia'\n",
    "l1.autor = 'Dante Alighieri'\n",
    "l1.editora = 'Ática'\n",
    "\n",
    "print(l1.titulo, l1.autor, l1.editora)"
   ]
  },
  {
   "cell_type": "markdown",
   "metadata": {},
   "source": [
    "**2)** Dada a classe Poligono, crie as classes Triangulo e Quadrilatero e da Quadrilatero, crie Quadrado e Retangulo de acordo com os construtores abaixo:\n",
    "```python\n",
    "Triangulo(p1, p2, p3)\n",
    "Quadrilatero(p1, p2, p3, p4)\n",
    "Quadrado(p1, tamanho)\n",
    "Retangulo(p1, largura, altura)\n",
    "```\n",
    "Onde:\n",
    "* **p1, p2, p3, p4**: tupla com 2 elementos para indicar a posição do ponto\n",
    "* **tamanho**: tamanho do lado do quadrado\n",
    "* **largura**: tamanho da largura do retângulo\n",
    "* **altura**: tamanho da altura do retângulo"
   ]
  },
  {
   "cell_type": "code",
   "execution_count": null,
   "metadata": {},
   "outputs": [],
   "source": [
    "from matplotlib import pyplot as plt\n",
    "%matplotlib inline\n",
    "\n",
    "class Poligono:\n",
    "    def __init__(self, pontos):\n",
    "        assert len(pontos) > 2, 'Para um polígono, precisa ter mais de 2 pontos'\n",
    "        self.__pontos = pontos\n",
    "        \n",
    "    @property\n",
    "    def pontos(self):\n",
    "        return self.__pontos\n",
    "    \n",
    "    @property\n",
    "    def qtdlados(self):\n",
    "        return len(self.pontos)\n",
    "    \n",
    "    def area(self):\n",
    "        n = self.qtdlados\n",
    "        area = 0.0\n",
    "        for i in range(n):\n",
    "            j = (i + 1) % n\n",
    "            area += self.pontos[i][0] * self.pontos[j][1]\n",
    "            area -= self.pontos[j][0] * self.pontos[i][1]\n",
    "        area = abs(area) / 2.0\n",
    "        return area\n",
    "    \n",
    "    def plot(self):\n",
    "        x = [t[0] for t in self.pontos]\n",
    "        y = [t[1] for t in self.pontos]\n",
    "        \n",
    "        x.append(self.pontos[0][0])\n",
    "        y.append(self.pontos[0][1])\n",
    "        \n",
    "        fig = plt.figure(1, figsize=(5,5), dpi=90)\n",
    "        ax = fig.add_subplot(111)\n",
    "        ax.plot(x, y, color='red', alpha=0.7, linewidth=3, solid_capstyle='round', zorder=2)\n",
    "        ax.set_title(f'Polígono (lados={self.qtdlados})')\n",
    "        plt.show()\n",
    "    \n",
    "pontos = [(0.0, 0.0), (2.0, 0.0), (2.0, 2.0), (0.0, 2.0)]    \n",
    "poligono = Poligono(pontos)\n",
    "\n",
    "poligono.plot()\n",
    "print('Área:', poligono.area())"
   ]
  },
  {
   "cell_type": "code",
   "execution_count": null,
   "metadata": {},
   "outputs": [],
   "source": [
    "class Triangulo(Poligono):\n",
    "    def __init__(self, p1, p2, p3):\n",
    "        # seu código vem aqui\n",
    "        pass\n",
    "        \n",
    "class Quadrilatero(Poligono):\n",
    "    def __init__(self, p1, p2, p3, p4):\n",
    "        # seu código vem aqui\n",
    "        pass\n",
    "        \n",
    "class Quadrado(Quadrilatero):\n",
    "    def __init__(self, p1, tamanho):\n",
    "        # seu código vem aqui\n",
    "        pass\n",
    "        \n",
    "class Retangulo(Quadrilatero):\n",
    "    def __init__(self, p1, largura, altura):\n",
    "        # seu código vem aqui\n",
    "        pass"
   ]
  },
  {
   "cell_type": "code",
   "execution_count": null,
   "metadata": {},
   "outputs": [],
   "source": [
    "# teste para o triângulo\n",
    "triangulo = Triangulo((0, 0), (1, 2), (2, 0))\n",
    "triangulo.plot()\n",
    "print('Área do triângulo:', triangulo.area())"
   ]
  },
  {
   "cell_type": "code",
   "execution_count": null,
   "metadata": {},
   "outputs": [],
   "source": [
    "# teste para o quadrilátero\n",
    "quadrilatero = Quadrilatero((0, 2), (2, 2), (3, 0), (1, 0))\n",
    "quadrilatero.plot()\n",
    "print('Área do quadrilatero:', quadrilatero.area())"
   ]
  },
  {
   "cell_type": "code",
   "execution_count": null,
   "metadata": {},
   "outputs": [],
   "source": [
    "# teste para o quadrado\n",
    "quadrado = Quadrado((1, 2), 2)\n",
    "quadrado.plot()\n",
    "print('Área do quadrado:', quadrado.area())"
   ]
  },
  {
   "cell_type": "code",
   "execution_count": null,
   "metadata": {},
   "outputs": [],
   "source": [
    "# teste para o retângulo\n",
    "retangulo = Retangulo((1, 2), 4, 2)\n",
    "retangulo.plot()\n",
    "print('Área do retângulo:', retangulo.area())"
   ]
  },
  {
   "cell_type": "markdown",
   "metadata": {},
   "source": [
    "**3)** Com o uso de `namedtuple` crie as seguintes classes."
   ]
  },
  {
   "cell_type": "markdown",
   "metadata": {},
   "source": [
    "**a)** `Ponto(x, y)`"
   ]
  },
  {
   "cell_type": "code",
   "execution_count": null,
   "metadata": {},
   "outputs": [],
   "source": []
  },
  {
   "cell_type": "code",
   "execution_count": null,
   "metadata": {},
   "outputs": [],
   "source": []
  },
  {
   "cell_type": "markdown",
   "metadata": {},
   "source": [
    "**b)** `Cor(r, g, b)`"
   ]
  },
  {
   "cell_type": "code",
   "execution_count": null,
   "metadata": {},
   "outputs": [],
   "source": []
  },
  {
   "cell_type": "markdown",
   "metadata": {},
   "source": [
    "**c)** `SqlConfig(server, database, user, password)`"
   ]
  },
  {
   "cell_type": "code",
   "execution_count": null,
   "metadata": {},
   "outputs": [],
   "source": []
  },
  {
   "cell_type": "markdown",
   "metadata": {},
   "source": [
    "**4)** Agora recrie as mesmas classes com `dataclass`, porém todas devem ter `0` como valor padrão para dados numéricos e `''` para strings."
   ]
  },
  {
   "cell_type": "markdown",
   "metadata": {},
   "source": [
    "**a)** `Ponto(x, y)`"
   ]
  },
  {
   "cell_type": "code",
   "execution_count": null,
   "metadata": {},
   "outputs": [],
   "source": [
    " "
   ]
  },
  {
   "cell_type": "markdown",
   "metadata": {},
   "source": [
    "**b)** `Cor(r, g, b)`"
   ]
  },
  {
   "cell_type": "code",
   "execution_count": null,
   "metadata": {},
   "outputs": [],
   "source": []
  },
  {
   "cell_type": "markdown",
   "metadata": {},
   "source": [
    "**c)** `SqlConfig(server, database, user, password)`"
   ]
  },
  {
   "cell_type": "code",
   "execution_count": null,
   "metadata": {},
   "outputs": [],
   "source": []
  },
  {
   "cell_type": "code",
   "execution_count": null,
   "metadata": {},
   "outputs": [],
   "source": []
  }
 ],
 "metadata": {
  "kernelspec": {
   "display_name": "Python 3",
   "language": "python",
   "name": "python3"
  },
  "language_info": {
   "codemirror_mode": {
    "name": "ipython",
    "version": 3
   },
   "file_extension": ".py",
   "mimetype": "text/x-python",
   "name": "python",
   "nbconvert_exporter": "python",
   "pygments_lexer": "ipython3",
   "version": "3.8.5"
  }
 },
 "nbformat": 4,
 "nbformat_minor": 2
}
