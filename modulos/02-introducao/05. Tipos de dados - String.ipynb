{
 "cells": [
  {
   "cell_type": "markdown",
   "metadata": {},
   "source": [
    "# Tipos de dados\n",
    "Por padrão, Python oferece alguns tipos de dados comuns.\n",
    "* ~~Números (inteiros, decimais, complexos)~~\n",
    "* **Strings**\n",
    "* Listas\n",
    "* Tuplas\n",
    "* Conjuntos\n",
    "* Dicionários"
   ]
  },
  {
   "cell_type": "markdown",
   "metadata": {},
   "source": [
    "# Strings\n",
    "* É uma cadeia ou sequência de caracteres\n",
    "* Pode ser representada entre aspas duplas ou simples\n",
    "* Pode também ser representada por aspas triplas, mas isso é normalmente usado em textos múltiplas linhas ou documentação\n",
    "\n",
    "**Observação**: Em algumas linguagens, há um tipo de dado que representa um único caractere (char). Em Python, isso não existe."
   ]
  },
  {
   "cell_type": "markdown",
   "metadata": {},
   "source": [
    "### Declaração\n",
    "\n",
    "Existem várias formas de declarar strings, com aspas simples, aspas duplas ou uma sequência de 3 aspas (simples ou duplas) para strings multilinhas."
   ]
  },
  {
   "cell_type": "code",
   "execution_count": null,
   "metadata": {},
   "outputs": [],
   "source": [
    "singlequote = 'Python String'\n",
    "print(singlequote)\n",
    "\n",
    "doublequote = \"Python String\"\n",
    "print(doublequote)\n",
    "\n",
    "triplequote = \"\"\"\n",
    "    SELECT *\n",
    "    FROM TABLE\n",
    "    WHERE A = 10\n",
    "\"\"\"\n",
    "print(triplequote)"
   ]
  },
  {
   "cell_type": "markdown",
   "metadata": {},
   "source": [
    "### Acessando elementos (slicing)\n",
    "\n",
    "Podemos acessar elementos ou extrairmos substrings com o conceito de fatiamento (slicing)."
   ]
  },
  {
   "cell_type": "code",
   "execution_count": 1,
   "metadata": {},
   "outputs": [
    {
     "name": "stdout",
     "output_type": "stream",
     "text": [
      "P\n",
      "muito\n",
      "Python é muito legal\n",
      "muito legal\n",
      "Python é muito\n"
     ]
    }
   ],
   "source": [
    "myString = 'Python é muito legal'\n",
    "\n",
    "# imprimindo o primeiro caracter\n",
    "print(myString[0])\n",
    "\n",
    "# imprimindo do 10º ao 15º caracter (lembrem-se que índices começam de 0)\n",
    "print(myString[9:14])\n",
    "\n",
    "# outras formas de slicing\n",
    "print(myString[:])\n",
    "print(myString[9:]) \n",
    "print(myString[:14])"
   ]
  },
  {
   "cell_type": "markdown",
   "metadata": {},
   "source": [
    "### Índice negativo\n",
    "\n",
    "Diferentemente da maioria das linguagens de programação, Python aceita índices negativos. Quando negativos, o índice conta a partir do final da string, como mostrado abaixo.\n",
    "\n",
    "![alt text](images/1.png \"Índices negativos\")"
   ]
  },
  {
   "cell_type": "code",
   "execution_count": 2,
   "metadata": {},
   "outputs": [
    {
     "name": "stdout",
     "output_type": "stream",
     "text": [
      "l\n",
      "l\n"
     ]
    }
   ],
   "source": [
    "# jeito bobão\n",
    "print(myString[len(myString) - 1])\n",
    "\n",
    "# jeito Python de ser\n",
    "print(myString[-1])"
   ]
  },
  {
   "cell_type": "code",
   "execution_count": 3,
   "metadata": {},
   "outputs": [
    {
     "name": "stdout",
     "output_type": "stream",
     "text": [
      "l\n",
      "a\n",
      "l\n",
      "muito leg\n"
     ]
    }
   ],
   "source": [
    "print(myString[-1])\n",
    "print(myString[-2])\n",
    "print(myString[-5])\n",
    "\n",
    "print(myString[9:-2])"
   ]
  },
  {
   "cell_type": "markdown",
   "metadata": {},
   "source": [
    "### Index out of range\n",
    "É muito comum tentarmos acessar índices que não existem na string ou qualquer outra sequência."
   ]
  },
  {
   "cell_type": "code",
   "execution_count": 4,
   "metadata": {},
   "outputs": [
    {
     "ename": "IndexError",
     "evalue": "string index out of range",
     "output_type": "error",
     "traceback": [
      "\u001b[1;31m---------------------------------------------------------------------------\u001b[0m",
      "\u001b[1;31mIndexError\u001b[0m                                Traceback (most recent call last)",
      "\u001b[1;32m<ipython-input-4-99ce70b923e9>\u001b[0m in \u001b[0;36m<module>\u001b[1;34m\u001b[0m\n\u001b[1;32m----> 1\u001b[1;33m \u001b[0mmyString\u001b[0m\u001b[1;33m[\u001b[0m\u001b[1;36m30\u001b[0m\u001b[1;33m]\u001b[0m\u001b[1;33m\u001b[0m\u001b[1;33m\u001b[0m\u001b[0m\n\u001b[0m",
      "\u001b[1;31mIndexError\u001b[0m: string index out of range"
     ]
    }
   ],
   "source": [
    "myString[30]"
   ]
  },
  {
   "cell_type": "code",
   "execution_count": 5,
   "metadata": {},
   "outputs": [
    {
     "ename": "TypeError",
     "evalue": "string indices must be integers",
     "output_type": "error",
     "traceback": [
      "\u001b[1;31m---------------------------------------------------------------------------\u001b[0m",
      "\u001b[1;31mTypeError\u001b[0m                                 Traceback (most recent call last)",
      "\u001b[1;32m<ipython-input-5-bee166a05bc0>\u001b[0m in \u001b[0;36m<module>\u001b[1;34m\u001b[0m\n\u001b[1;32m----> 1\u001b[1;33m \u001b[0mmyString\u001b[0m\u001b[1;33m[\u001b[0m\u001b[1;36m1.5\u001b[0m\u001b[1;33m]\u001b[0m\u001b[1;33m\u001b[0m\u001b[1;33m\u001b[0m\u001b[0m\n\u001b[0m",
      "\u001b[1;31mTypeError\u001b[0m: string indices must be integers"
     ]
    }
   ],
   "source": [
    "myString[1.5]"
   ]
  },
  {
   "cell_type": "markdown",
   "metadata": {},
   "source": [
    "Entretanto, quando fatiamos usando índices que não existem, exceções não são geradas."
   ]
  },
  {
   "cell_type": "code",
   "execution_count": 6,
   "metadata": {},
   "outputs": [
    {
     "data": {
      "text/plain": [
       "'muito legal'"
      ]
     },
     "execution_count": 6,
     "metadata": {},
     "output_type": "execute_result"
    }
   ],
   "source": [
    "myString[9:100]"
   ]
  },
  {
   "cell_type": "code",
   "execution_count": 7,
   "metadata": {},
   "outputs": [
    {
     "data": {
      "text/plain": [
       "''"
      ]
     },
     "execution_count": 7,
     "metadata": {},
     "output_type": "execute_result"
    }
   ],
   "source": [
    "myString[30:31]"
   ]
  },
  {
   "cell_type": "markdown",
   "metadata": {},
   "source": [
    "### Mudando ou atualizando uma string\n",
    "Strings são imutáveis, ou seja, não podem ser alteradas. Basta reatribuir um novo valor."
   ]
  },
  {
   "cell_type": "code",
   "execution_count": 8,
   "metadata": {},
   "outputs": [
    {
     "name": "stdout",
     "output_type": "stream",
     "text": [
      "Python \n",
      "Endereço de memória da string antes da alteração 1919043416624\n",
      "Python é legal!\n",
      "Endereço de memória da string depois da alteração 1919043270768\n"
     ]
    }
   ],
   "source": [
    "# criando strings e verificando endereço de memória\n",
    "str1 = 'Python '\n",
    "print(str1)\n",
    "print('Endereço de memória da string antes da alteração', id(str1))\n",
    "\n",
    "# modificando\n",
    "str1 += 'é legal!' \n",
    "print(str1)\n",
    "print('Endereço de memória da string depois da alteração', id(str1))"
   ]
  },
  {
   "cell_type": "code",
   "execution_count": 11,
   "metadata": {},
   "outputs": [
    {
     "name": "stdout",
     "output_type": "stream",
     "text": [
      "Python\n"
     ]
    },
    {
     "ename": "TypeError",
     "evalue": "'str' object does not support item assignment",
     "output_type": "error",
     "traceback": [
      "\u001b[1;31m---------------------------------------------------------------------------\u001b[0m",
      "\u001b[1;31mTypeError\u001b[0m                                 Traceback (most recent call last)",
      "\u001b[1;32m<ipython-input-11-9a188a5d01da>\u001b[0m in \u001b[0;36m<module>\u001b[1;34m\u001b[0m\n\u001b[0;32m      1\u001b[0m \u001b[0mstr2\u001b[0m \u001b[1;33m=\u001b[0m \u001b[1;34m'Python'\u001b[0m\u001b[1;33m\u001b[0m\u001b[1;33m\u001b[0m\u001b[0m\n\u001b[0;32m      2\u001b[0m \u001b[0mprint\u001b[0m\u001b[1;33m(\u001b[0m\u001b[0mstr2\u001b[0m\u001b[1;33m)\u001b[0m\u001b[1;33m\u001b[0m\u001b[1;33m\u001b[0m\u001b[0m\n\u001b[1;32m----> 3\u001b[1;33m \u001b[0mstr2\u001b[0m\u001b[1;33m[\u001b[0m\u001b[1;36m4\u001b[0m\u001b[1;33m]\u001b[0m \u001b[1;33m=\u001b[0m \u001b[1;34m's'\u001b[0m\u001b[1;33m\u001b[0m\u001b[1;33m\u001b[0m\u001b[0m\n\u001b[0m",
      "\u001b[1;31mTypeError\u001b[0m: 'str' object does not support item assignment"
     ]
    }
   ],
   "source": [
    "str2 = 'Python'\n",
    "print(str2)\n",
    "str2[4] = 's'"
   ]
  },
  {
   "cell_type": "markdown",
   "metadata": {},
   "source": [
    "### Deletando uma string"
   ]
  },
  {
   "cell_type": "code",
   "execution_count": 12,
   "metadata": {},
   "outputs": [
    {
     "ename": "NameError",
     "evalue": "name 'str3' is not defined",
     "output_type": "error",
     "traceback": [
      "\u001b[1;31m---------------------------------------------------------------------------\u001b[0m",
      "\u001b[1;31mNameError\u001b[0m                                 Traceback (most recent call last)",
      "\u001b[1;32m<ipython-input-12-649e3b412745>\u001b[0m in \u001b[0;36m<module>\u001b[1;34m\u001b[0m\n\u001b[0;32m      1\u001b[0m \u001b[0mstr3\u001b[0m \u001b[1;33m=\u001b[0m \u001b[1;34m'Au au au'\u001b[0m\u001b[1;33m\u001b[0m\u001b[1;33m\u001b[0m\u001b[0m\n\u001b[0;32m      2\u001b[0m \u001b[1;32mdel\u001b[0m \u001b[0mstr3\u001b[0m\u001b[1;33m\u001b[0m\u001b[1;33m\u001b[0m\u001b[0m\n\u001b[1;32m----> 3\u001b[1;33m \u001b[0mprint\u001b[0m\u001b[1;33m(\u001b[0m\u001b[0mstr3\u001b[0m\u001b[1;33m)\u001b[0m\u001b[1;33m\u001b[0m\u001b[1;33m\u001b[0m\u001b[0m\n\u001b[0m",
      "\u001b[1;31mNameError\u001b[0m: name 'str3' is not defined"
     ]
    }
   ],
   "source": [
    "str3 = 'Au au au'\n",
    "del str3\n",
    "print(str3)"
   ]
  },
  {
   "cell_type": "markdown",
   "metadata": {},
   "source": [
    "### Iterando uma string"
   ]
  },
  {
   "cell_type": "code",
   "execution_count": 13,
   "metadata": {},
   "outputs": [
    {
     "name": "stdout",
     "output_type": "stream",
     "text": [
      "P\n",
      "y\n",
      "t\n",
      "h\n",
      "o\n",
      "n\n"
     ]
    }
   ],
   "source": [
    "str1 = 'Python'\n",
    "for s in str1:\n",
    "    print(s)"
   ]
  },
  {
   "cell_type": "markdown",
   "metadata": {},
   "source": [
    "### Comparando strings"
   ]
  },
  {
   "cell_type": "code",
   "execution_count": 14,
   "metadata": {},
   "outputs": [
    {
     "name": "stdout",
     "output_type": "stream",
     "text": [
      "True\n",
      "False\n"
     ]
    }
   ],
   "source": [
    "print('Python' == 'Python')\n",
    "print('PYTHON' == 'Python')"
   ]
  },
  {
   "cell_type": "code",
   "execution_count": 15,
   "metadata": {},
   "outputs": [
    {
     "name": "stdout",
     "output_type": "stream",
     "text": [
      "True\n"
     ]
    }
   ],
   "source": [
    "print('PYTHON' != 'Java')"
   ]
  },
  {
   "cell_type": "code",
   "execution_count": 16,
   "metadata": {},
   "outputs": [
    {
     "name": "stdout",
     "output_type": "stream",
     "text": [
      "True\n",
      "False\n"
     ]
    }
   ],
   "source": [
    "print('Python' > 'PYTHON')\n",
    "print('Python' < 'PYTHON')"
   ]
  },
  {
   "cell_type": "code",
   "execution_count": 17,
   "metadata": {},
   "outputs": [
    {
     "name": "stdout",
     "output_type": "stream",
     "text": [
      "True\n",
      "False\n"
     ]
    }
   ],
   "source": [
    "print('Python' >= 'PYTHON')\n",
    "print('Python' <= 'PYTHON')"
   ]
  },
  {
   "cell_type": "markdown",
   "metadata": {},
   "source": [
    "### Operador `in`\n",
    "\n",
    "Como vimos anteriormente, o operador `in` verifica se o operando da esquerda é membro ou está contido no operando da direita."
   ]
  },
  {
   "cell_type": "code",
   "execution_count": 18,
   "metadata": {},
   "outputs": [
    {
     "name": "stdout",
     "output_type": "stream",
     "text": [
      "True\n"
     ]
    }
   ],
   "source": [
    "str1 = 'Feliz Natal! Ho-ho-ho'\n",
    "print('Natal' in str1)"
   ]
  },
  {
   "cell_type": "code",
   "execution_count": 19,
   "metadata": {},
   "outputs": [
    {
     "name": "stdout",
     "output_type": "stream",
     "text": [
      "True\n"
     ]
    }
   ],
   "source": [
    "str2 = 'Bons estudos, galera!'\n",
    "print('maus' not in str2)"
   ]
  },
  {
   "cell_type": "markdown",
   "metadata": {},
   "source": [
    "### Escape codes\n",
    "https://www.quackit.com/python/reference/python_3_escape_sequences.cfm"
   ]
  },
  {
   "cell_type": "code",
   "execution_count": 20,
   "metadata": {},
   "outputs": [
    {
     "ename": "SyntaxError",
     "evalue": "EOL while scanning string literal (<ipython-input-20-06c2fac1c191>, line 1)",
     "output_type": "error",
     "traceback": [
      "\u001b[1;36m  File \u001b[1;32m\"<ipython-input-20-06c2fac1c191>\"\u001b[1;36m, line \u001b[1;32m1\u001b[0m\n\u001b[1;33m    str1 = '\\'\u001b[0m\n\u001b[1;37m              ^\u001b[0m\n\u001b[1;31mSyntaxError\u001b[0m\u001b[1;31m:\u001b[0m EOL while scanning string literal\n"
     ]
    }
   ],
   "source": [
    "str1 = '\\'\n",
    "print(str1)"
   ]
  },
  {
   "cell_type": "code",
   "execution_count": 21,
   "metadata": {},
   "outputs": [
    {
     "name": "stdout",
     "output_type": "stream",
     "text": [
      "\\\n"
     ]
    }
   ],
   "source": [
    "str1 = '\\\\'\n",
    "print(str1)"
   ]
  },
  {
   "cell_type": "code",
   "execution_count": 22,
   "metadata": {},
   "outputs": [
    {
     "name": "stdout",
     "output_type": "stream",
     "text": [
      "'Hello World!'\n"
     ]
    }
   ],
   "source": [
    "str1 = '\\'Hello World!\\''\n",
    "print(str1)"
   ]
  },
  {
   "cell_type": "code",
   "execution_count": 23,
   "metadata": {},
   "outputs": [
    {
     "name": "stdout",
     "output_type": "stream",
     "text": [
      "\"Hello World!\"\n"
     ]
    }
   ],
   "source": [
    "str1 = '\\\"Hello World!\\\"'\n",
    "print(str1)"
   ]
  },
  {
   "cell_type": "code",
   "execution_count": 24,
   "metadata": {},
   "outputs": [
    {
     "name": "stdout",
     "output_type": "stream",
     "text": [
      "\tHello\n",
      "World!\n"
     ]
    }
   ],
   "source": [
    "str1 = '\\tHello\\nWorld!'\n",
    "print(str1)"
   ]
  },
  {
   "cell_type": "code",
   "execution_count": 25,
   "metadata": {},
   "outputs": [
    {
     "name": "stdout",
     "output_type": "stream",
     "text": [
      "Hello World!\n"
     ]
    }
   ],
   "source": [
    "str1 = '\\x48\\x65\\x6c\\x6c\\x6f\\x20\\x57\\x6f\\x72\\x6c\\x64\\x21'\n",
    "print(str1)"
   ]
  },
  {
   "cell_type": "markdown",
   "metadata": {},
   "source": [
    "### Funções\n",
    "#### Concatenando uma ou mais strings"
   ]
  },
  {
   "cell_type": "code",
   "execution_count": 26,
   "metadata": {},
   "outputs": [
    {
     "name": "stdout",
     "output_type": "stream",
     "text": [
      "Python é legal!\n"
     ]
    }
   ],
   "source": [
    "str1 = 'Python'\n",
    "str2 = ' é legal!'\n",
    "print(str1 + str2)"
   ]
  },
  {
   "cell_type": "code",
   "execution_count": 27,
   "metadata": {},
   "outputs": [
    {
     "name": "stdout",
     "output_type": "stream",
     "text": [
      "Python Python Python Python Python \n"
     ]
    }
   ],
   "source": [
    "str1 = 'Python '\n",
    "print(str1 * 5)"
   ]
  },
  {
   "cell_type": "code",
   "execution_count": 28,
   "metadata": {},
   "outputs": [
    {
     "name": "stdout",
     "output_type": "stream",
     "text": [
      "******************************\n",
      "*** TÍTULO ESTILIZADO      ***\n",
      "******************************\n"
     ]
    }
   ],
   "source": [
    "title = ' TÍTULO ESTILIZADO '\n",
    "print('*' * 30)\n",
    "print('*' * 3 + title + ' ' * (30 - len(title) - 6) + '*' * 3)\n",
    "print('*' * 30)"
   ]
  },
  {
   "cell_type": "markdown",
   "metadata": {},
   "source": [
    "#### Função `len`\n",
    "\n",
    "Retorna o tamanho da string."
   ]
  },
  {
   "cell_type": "code",
   "execution_count": 29,
   "metadata": {},
   "outputs": [
    {
     "name": "stdout",
     "output_type": "stream",
     "text": [
      "6\n"
     ]
    }
   ],
   "source": [
    "str1 = 'Python'\n",
    "print(len(str1))"
   ]
  },
  {
   "cell_type": "markdown",
   "metadata": {},
   "source": [
    "#### Funções `ord` e `chr` \n",
    "\n",
    "* `ord` retorna o código da tabela ASCII do caracter em questão.\n",
    "* `chr` retorna a string com o símbolo da tabela ASCII a partir do código."
   ]
  },
  {
   "cell_type": "code",
   "execution_count": 30,
   "metadata": {},
   "outputs": [
    {
     "name": "stdout",
     "output_type": "stream",
     "text": [
      "97\n"
     ]
    }
   ],
   "source": [
    "print(ord('a'))"
   ]
  },
  {
   "cell_type": "code",
   "execution_count": 31,
   "metadata": {},
   "outputs": [
    {
     "ename": "TypeError",
     "evalue": "ord() expected a character, but string of length 2 found",
     "output_type": "error",
     "traceback": [
      "\u001b[1;31m---------------------------------------------------------------------------\u001b[0m",
      "\u001b[1;31mTypeError\u001b[0m                                 Traceback (most recent call last)",
      "\u001b[1;32m<ipython-input-31-0c516b80bb92>\u001b[0m in \u001b[0;36m<module>\u001b[1;34m\u001b[0m\n\u001b[1;32m----> 1\u001b[1;33m \u001b[0mprint\u001b[0m\u001b[1;33m(\u001b[0m\u001b[0mord\u001b[0m\u001b[1;33m(\u001b[0m\u001b[1;34m'ab'\u001b[0m\u001b[1;33m)\u001b[0m\u001b[1;33m)\u001b[0m\u001b[1;33m\u001b[0m\u001b[1;33m\u001b[0m\u001b[0m\n\u001b[0m",
      "\u001b[1;31mTypeError\u001b[0m: ord() expected a character, but string of length 2 found"
     ]
    }
   ],
   "source": [
    "print(ord('ab'))"
   ]
  },
  {
   "cell_type": "code",
   "execution_count": 32,
   "metadata": {},
   "outputs": [
    {
     "name": "stdout",
     "output_type": "stream",
     "text": [
      "a\n",
      "A\n"
     ]
    }
   ],
   "source": [
    "print(chr(97))\n",
    "print(chr(65))"
   ]
  },
  {
   "cell_type": "markdown",
   "metadata": {},
   "source": [
    "#### Função `str`\n",
    "\n",
    "Converte um objeto qualquer em string. Veremos mais adiante como que isso funciona internamente."
   ]
  },
  {
   "cell_type": "code",
   "execution_count": 33,
   "metadata": {},
   "outputs": [
    {
     "name": "stdout",
     "output_type": "stream",
     "text": [
      "2 <class 'str'>\n"
     ]
    }
   ],
   "source": [
    "str1 = str(2)\n",
    "print(str1, type(str1))"
   ]
  },
  {
   "cell_type": "code",
   "execution_count": 34,
   "metadata": {},
   "outputs": [
    {
     "name": "stdout",
     "output_type": "stream",
     "text": [
      "1.5 <class 'str'>\n"
     ]
    }
   ],
   "source": [
    "str1 = str(1.5)\n",
    "print(str1, type(str1))"
   ]
  },
  {
   "cell_type": "markdown",
   "metadata": {},
   "source": [
    "#### Funções `int` e `float`"
   ]
  },
  {
   "cell_type": "code",
   "execution_count": 35,
   "metadata": {},
   "outputs": [
    {
     "name": "stdout",
     "output_type": "stream",
     "text": [
      "5\n"
     ]
    }
   ],
   "source": [
    "str1 = '5'\n",
    "print(int(str1))"
   ]
  },
  {
   "cell_type": "code",
   "execution_count": 36,
   "metadata": {},
   "outputs": [
    {
     "name": "stdout",
     "output_type": "stream",
     "text": [
      "5.2\n"
     ]
    }
   ],
   "source": [
    "str1 = '5.2'\n",
    "print(float(str1))"
   ]
  },
  {
   "cell_type": "code",
   "execution_count": 37,
   "metadata": {},
   "outputs": [
    {
     "ename": "ValueError",
     "evalue": "invalid literal for int() with base 10: '5.2'",
     "output_type": "error",
     "traceback": [
      "\u001b[1;31m---------------------------------------------------------------------------\u001b[0m",
      "\u001b[1;31mValueError\u001b[0m                                Traceback (most recent call last)",
      "\u001b[1;32m<ipython-input-37-36fdfb38ff47>\u001b[0m in \u001b[0;36m<module>\u001b[1;34m\u001b[0m\n\u001b[0;32m      1\u001b[0m \u001b[0mstr1\u001b[0m \u001b[1;33m=\u001b[0m \u001b[1;34m'5.2'\u001b[0m\u001b[1;33m\u001b[0m\u001b[1;33m\u001b[0m\u001b[0m\n\u001b[1;32m----> 2\u001b[1;33m \u001b[0mprint\u001b[0m\u001b[1;33m(\u001b[0m\u001b[0mint\u001b[0m\u001b[1;33m(\u001b[0m\u001b[0mstr1\u001b[0m\u001b[1;33m)\u001b[0m\u001b[1;33m)\u001b[0m\u001b[1;33m\u001b[0m\u001b[1;33m\u001b[0m\u001b[0m\n\u001b[0m",
      "\u001b[1;31mValueError\u001b[0m: invalid literal for int() with base 10: '5.2'"
     ]
    }
   ],
   "source": [
    "str1 = '5.2'\n",
    "print(int(str1))"
   ]
  },
  {
   "cell_type": "markdown",
   "metadata": {},
   "source": [
    "### Métodos ou membros"
   ]
  },
  {
   "cell_type": "markdown",
   "metadata": {},
   "source": [
    "#### Método `strip`\n",
    "\n",
    "Remove os espaços à esquerda e à direita da string."
   ]
  },
  {
   "cell_type": "code",
   "execution_count": 38,
   "metadata": {},
   "outputs": [
    {
     "name": "stdout",
     "output_type": "stream",
     "text": [
      "    Bem-vindos ao treinamento em Python \n",
      "Bem-vindos ao treinamento em Python\n"
     ]
    }
   ],
   "source": [
    "str1 = '    Bem-vindos ao treinamento em Python '\n",
    "print(str1) # imprimindo com espaços\n",
    "print(str1.strip()) # imprimindo sem espaços"
   ]
  },
  {
   "cell_type": "markdown",
   "metadata": {},
   "source": [
    "#### Métodos `lower` e `islower`\n",
    "\n",
    "* `lower` converte caracteres da string em minúscula.\n",
    "* `islower` verifica se a string está toda em minúscula."
   ]
  },
  {
   "cell_type": "code",
   "execution_count": 39,
   "metadata": {},
   "outputs": [
    {
     "name": "stdout",
     "output_type": "stream",
     "text": [
      "False\n",
      "andrade gutierrez\n"
     ]
    }
   ],
   "source": [
    "str1 = 'Andrade Gutierrez'\n",
    "print(str1.islower())\n",
    "print(str1.lower())"
   ]
  },
  {
   "cell_type": "markdown",
   "metadata": {},
   "source": [
    "#### Métodos `upper` e `isupper`\n",
    "\n",
    "* `upper` converte caracteres da string em maiúscula.\n",
    "* `isupper` verifica se a string está toda em maiúscula."
   ]
  },
  {
   "cell_type": "code",
   "execution_count": 40,
   "metadata": {},
   "outputs": [
    {
     "name": "stdout",
     "output_type": "stream",
     "text": [
      "False\n",
      "ANDRADE GUTIERREZ\n"
     ]
    }
   ],
   "source": [
    "str1 = 'Andrade Gutierrez'\n",
    "print(str1.isupper())\n",
    "print(str1.upper())"
   ]
  },
  {
   "cell_type": "markdown",
   "metadata": {},
   "source": [
    "#### Método `isalpha`\n",
    "\n",
    "Verifica se todos os caracteres da string são letras."
   ]
  },
  {
   "cell_type": "code",
   "execution_count": 41,
   "metadata": {},
   "outputs": [
    {
     "name": "stdout",
     "output_type": "stream",
     "text": [
      "True\n",
      "False\n",
      "False\n",
      "False\n",
      "False\n"
     ]
    }
   ],
   "source": [
    "str1 = 'Python'\n",
    "str2 = 'Python123'\n",
    "str3 = '123'\n",
    "str4 = 'Python@#@#'\n",
    "str5 = 'Python123@#@#'\n",
    "print(str1.isalpha())\n",
    "print(str2.isalpha())\n",
    "print(str3.isalpha())\n",
    "print(str4.isalpha()) \n",
    "print(str5.isalpha()) "
   ]
  },
  {
   "cell_type": "markdown",
   "metadata": {},
   "source": [
    "#### Método `isdigit`\n",
    "\n",
    "Verifica se todos os caracteres da string são dígitos."
   ]
  },
  {
   "cell_type": "code",
   "execution_count": 63,
   "metadata": {},
   "outputs": [
    {
     "name": "stdout",
     "output_type": "stream",
     "text": [
      "False\n",
      "False\n",
      "True\n",
      "True\n",
      "True\n"
     ]
    }
   ],
   "source": [
    "str1 = 'P'\n",
    "str2 = 'y'\n",
    "str3 = '1'\n",
    "str4 = '2'\n",
    "str5 = '3'\n",
    "print(str1.isdigit())\n",
    "print(str2.isdigit())\n",
    "print(str3.isdigit())\n",
    "print(str4.isdigit()) \n",
    "print(str5.isdigit()) "
   ]
  },
  {
   "cell_type": "markdown",
   "metadata": {},
   "source": [
    "#### Método `isalnum`\n",
    "\n",
    "Verifica se todos os caracteres da string são alfa-numéricos."
   ]
  },
  {
   "cell_type": "code",
   "execution_count": 71,
   "metadata": {},
   "outputs": [
    {
     "name": "stdout",
     "output_type": "stream",
     "text": [
      "True\n",
      "True\n",
      "True\n",
      "False\n",
      "False\n"
     ]
    }
   ],
   "source": [
    "str1 = 'Python'\n",
    "str2 = 'Python123'\n",
    "str3 = '123'\n",
    "str4 = 'Python@#@#'\n",
    "str5 = 'Python123@#@#'\n",
    "print(str1.isalnum())\n",
    "print(str2.isalnum())\n",
    "print(str3.isalnum())\n",
    "print(str4.isalnum()) \n",
    "print(str5.isalnum()) "
   ]
  },
  {
   "cell_type": "markdown",
   "metadata": {},
   "source": [
    "#### Método `count`\n",
    "\n",
    "Retorna o número de ocorrências de uma string em outra."
   ]
  },
  {
   "cell_type": "code",
   "execution_count": 44,
   "metadata": {},
   "outputs": [
    {
     "name": "stdout",
     "output_type": "stream",
     "text": [
      "2\n"
     ]
    }
   ],
   "source": [
    "str1 = 'Mult é meu amigo, Mult é meu colega...'\n",
    "substr = 'Mult'\n",
    "print(str1.count(substr))"
   ]
  },
  {
   "cell_type": "markdown",
   "metadata": {},
   "source": [
    "#### Método `join`\n",
    "\n",
    "Junta uma lista (veremos mais adiante) em uma única string. A string invocada servirá como string de união."
   ]
  },
  {
   "cell_type": "code",
   "execution_count": 45,
   "metadata": {},
   "outputs": [
    {
     "name": "stdout",
     "output_type": "stream",
     "text": [
      "P-y-t-h-o-n\n"
     ]
    }
   ],
   "source": [
    "str1 = '-'\n",
    "str2 = 'Python'\n",
    "print(str1.join(str2))"
   ]
  },
  {
   "cell_type": "code",
   "execution_count": 46,
   "metadata": {},
   "outputs": [
    {
     "name": "stdout",
     "output_type": "stream",
     "text": [
      "Python-é-legal-!\n"
     ]
    }
   ],
   "source": [
    "str1 = '-'\n",
    "list1 = ['Python', 'é', 'legal', '!']\n",
    "print(str1.join(list1))"
   ]
  },
  {
   "cell_type": "code",
   "execution_count": 47,
   "metadata": {},
   "outputs": [
    {
     "name": "stdout",
     "output_type": "stream",
     "text": [
      "A, B, C\n"
     ]
    }
   ],
   "source": [
    "print(', '.join('ABC'))"
   ]
  },
  {
   "cell_type": "code",
   "execution_count": 48,
   "metadata": {},
   "outputs": [
    {
     "name": "stdout",
     "output_type": "stream",
     "text": [
      "C:\\Arquivos de Programas\\Python\n"
     ]
    }
   ],
   "source": [
    "print('\\\\'.join(['C:', 'Arquivos de Programas', 'Python']))"
   ]
  },
  {
   "cell_type": "markdown",
   "metadata": {},
   "source": [
    "#### Método `split`\n",
    "\n",
    "\"Quebra\" a string em uma lista de strings a partir de uma string de entrada."
   ]
  },
  {
   "cell_type": "code",
   "execution_count": 49,
   "metadata": {},
   "outputs": [
    {
     "name": "stdout",
     "output_type": "stream",
     "text": [
      "['Bem-vindos', 'ao', 'treinamento', 'em', 'Python']\n"
     ]
    }
   ],
   "source": [
    "str1 = 'Bem-vindos ao treinamento em Python'\n",
    "print(str1.split())"
   ]
  },
  {
   "cell_type": "code",
   "execution_count": 50,
   "metadata": {},
   "outputs": [
    {
     "name": "stdout",
     "output_type": "stream",
     "text": [
      "['Bem-vindos', 'ao', 'treinamento', 'em', 'Python']\n"
     ]
    }
   ],
   "source": [
    "str1 = 'Bem-vindos  ao  treinamento em Python '\n",
    "print(str1.split())"
   ]
  },
  {
   "cell_type": "code",
   "execution_count": 57,
   "metadata": {},
   "outputs": [
    {
     "name": "stdout",
     "output_type": "stream",
     "text": [
      "['A', 'B', 'C']\n"
     ]
    }
   ],
   "source": [
    "str1 = 'A,B,C'\n",
    "print(str1.split(','))"
   ]
  },
  {
   "cell_type": "code",
   "execution_count": 52,
   "metadata": {},
   "outputs": [
    {
     "name": "stdout",
     "output_type": "stream",
     "text": [
      "['A', ' B', ' C']\n"
     ]
    }
   ],
   "source": [
    "str1 = 'A, B, C'\n",
    "print(str1.split(','))"
   ]
  },
  {
   "cell_type": "code",
   "execution_count": 53,
   "metadata": {},
   "outputs": [
    {
     "name": "stdout",
     "output_type": "stream",
     "text": [
      "['A', 'B', 'C', '']\n"
     ]
    }
   ],
   "source": [
    "str1 = 'A,B,C,'\n",
    "print(str1.split(','))"
   ]
  },
  {
   "cell_type": "code",
   "execution_count": 54,
   "metadata": {},
   "outputs": [
    {
     "name": "stdout",
     "output_type": "stream",
     "text": [
      "['Bem-vindos', '', 'ao', '', 'treinamento', 'em', 'Python', '']\n"
     ]
    }
   ],
   "source": [
    "str1 = 'Bem-vindos  ao  treinamento em Python '\n",
    "print(str1.split(' '))"
   ]
  },
  {
   "cell_type": "markdown",
   "metadata": {},
   "source": [
    "#### Método `find`\n",
    "\n",
    "Retorna o índice da primeira ocorrência da string alvo.\n",
    "\n",
    "Quando nenhuma ocorrência for encontrada, o valor `-1` será retornado."
   ]
  },
  {
   "cell_type": "code",
   "execution_count": 63,
   "metadata": {},
   "outputs": [
    {
     "name": "stdout",
     "output_type": "stream",
     "text": [
      "Achamos a substring 'muito' no índice 9\n"
     ]
    }
   ],
   "source": [
    "str1 = 'Python é muito legal!'\n",
    "substr = 'muito'\n",
    "print('Achamos a substring \\'muito\\' no índice', str1.find(substr))"
   ]
  },
  {
   "cell_type": "code",
   "execution_count": 61,
   "metadata": {},
   "outputs": [
    {
     "name": "stdout",
     "output_type": "stream",
     "text": [
      "Achamos a substring 'pouco' no índice -1\n"
     ]
    }
   ],
   "source": [
    "str1 = 'Python é muito legal!'\n",
    "substr = 'pouco'\n",
    "print('Achamos a substring \\'pouco\\' no índice', str1.find(substr))"
   ]
  },
  {
   "cell_type": "markdown",
   "metadata": {},
   "source": [
    "#### Método `replace`\n",
    "\n",
    "Substitui dentro de uma string uma string por outra."
   ]
  },
  {
   "cell_type": "code",
   "execution_count": 64,
   "metadata": {},
   "outputs": [
    {
     "name": "stdout",
     "output_type": "stream",
     "text": [
      "Apple\n"
     ]
    }
   ],
   "source": [
    "# substituindo caracteres\n",
    "fruit = 'Appla'\n",
    "print(fruit.replace('a', 'e'))"
   ]
  },
  {
   "cell_type": "code",
   "execution_count": 65,
   "metadata": {},
   "outputs": [
    {
     "name": "stdout",
     "output_type": "stream",
     "text": [
      "vermelho, azul, verde, amarelo, azul\n"
     ]
    }
   ],
   "source": [
    "# substituindo strings\n",
    "colors = 'vermelho, rosa, verde, amarelo, rosa'\n",
    "print(colors.replace('rosa', 'azul'))"
   ]
  },
  {
   "cell_type": "markdown",
   "metadata": {},
   "source": [
    "#### Métodos `startswith` e `endswith`\n",
    "\n",
    "Verifica se a string começa ou termina com outra indicada."
   ]
  },
  {
   "cell_type": "code",
   "execution_count": 66,
   "metadata": {},
   "outputs": [
    {
     "name": "stdout",
     "output_type": "stream",
     "text": [
      "True\n"
     ]
    }
   ],
   "source": [
    "text = 'Python é fácil de aprender'\n",
    "print(text.startswith('Python'))"
   ]
  },
  {
   "cell_type": "code",
   "execution_count": 67,
   "metadata": {},
   "outputs": [
    {
     "name": "stdout",
     "output_type": "stream",
     "text": [
      "True\n"
     ]
    }
   ],
   "source": [
    "text = 'Python é fácil de aprender'\n",
    "print(text.endswith('aprender'))"
   ]
  },
  {
   "cell_type": "markdown",
   "metadata": {},
   "source": [
    "## Formatando strings\n",
    "https://pyformat.info/\n",
    "\n",
    "Vimos anteriormente que podemos formatar strings para apresentação de mensagens. Essa formatação tem como objetivo facilitar diversas operações como concatenação, padronização, delimitação, etc."
   ]
  },
  {
   "cell_type": "markdown",
   "metadata": {},
   "source": [
    "#### Formatação básica"
   ]
  },
  {
   "cell_type": "code",
   "execution_count": 68,
   "metadata": {},
   "outputs": [],
   "source": [
    "str1 = 'one'\n",
    "str2 = 'two'"
   ]
  },
  {
   "cell_type": "code",
   "execution_count": 69,
   "metadata": {},
   "outputs": [
    {
     "data": {
      "text/plain": [
       "'one two'"
      ]
     },
     "execution_count": 69,
     "metadata": {},
     "output_type": "execute_result"
    }
   ],
   "source": [
    "# forma antiga\n",
    "'%s %s' % (str1, str2)"
   ]
  },
  {
   "cell_type": "code",
   "execution_count": 70,
   "metadata": {},
   "outputs": [
    {
     "data": {
      "text/plain": [
       "'one two'"
      ]
     },
     "execution_count": 70,
     "metadata": {},
     "output_type": "execute_result"
    }
   ],
   "source": [
    "# forma nova\n",
    "'{} {}'.format(str1, str2)"
   ]
  },
  {
   "cell_type": "code",
   "execution_count": 71,
   "metadata": {},
   "outputs": [
    {
     "data": {
      "text/plain": [
       "'one two'"
      ]
     },
     "execution_count": 71,
     "metadata": {},
     "output_type": "execute_result"
    }
   ],
   "source": [
    "# forma ainda mais nova\n",
    "f'{str1} {str2}'"
   ]
  },
  {
   "cell_type": "code",
   "execution_count": 72,
   "metadata": {},
   "outputs": [
    {
     "data": {
      "text/plain": [
       "'two one'"
      ]
     },
     "execution_count": 72,
     "metadata": {},
     "output_type": "execute_result"
    }
   ],
   "source": [
    "# invertendo\n",
    "'{1} {0}'.format(str1, str2)"
   ]
  },
  {
   "cell_type": "markdown",
   "metadata": {},
   "source": [
    "#### Paddings"
   ]
  },
  {
   "cell_type": "markdown",
   "metadata": {},
   "source": [
    "Alinhando à direita"
   ]
  },
  {
   "cell_type": "code",
   "execution_count": 73,
   "metadata": {},
   "outputs": [
    {
     "name": "stdout",
     "output_type": "stream",
     "text": [
      "|       one|\n",
      "|       one|\n",
      "|       one|\n"
     ]
    }
   ],
   "source": [
    "# forma antiga\n",
    "print('|%10s|' % (str1))\n",
    "\n",
    "# forma nova\n",
    "print('|{:>10}|'.format(str1))\n",
    "\n",
    "# forma ainda mais nova\n",
    "print(f'|{str1:>10}|')"
   ]
  },
  {
   "cell_type": "markdown",
   "metadata": {},
   "source": [
    "Alinhando à esquerda"
   ]
  },
  {
   "cell_type": "code",
   "execution_count": 74,
   "metadata": {},
   "outputs": [
    {
     "name": "stdout",
     "output_type": "stream",
     "text": [
      "|one       |\n",
      "|one       |\n",
      "|one       |\n"
     ]
    }
   ],
   "source": [
    "# forma antiga\n",
    "print('|%-10s|' % (str1))\n",
    "\n",
    "# forma nova\n",
    "print('|{:<10}|'.format(str1))\n",
    "\n",
    "# forma ainda mais nova\n",
    "print(f'|{str1:<10}|')"
   ]
  },
  {
   "cell_type": "markdown",
   "metadata": {},
   "source": [
    "Alinhando no centro"
   ]
  },
  {
   "cell_type": "code",
   "execution_count": 75,
   "metadata": {},
   "outputs": [
    {
     "name": "stdout",
     "output_type": "stream",
     "text": [
      "|   one    |\n",
      "|   one    |\n"
     ]
    }
   ],
   "source": [
    "# não existe no formato antigo\n",
    "\n",
    "# forma nova\n",
    "print('|{:^10}|'.format(str1))\n",
    "\n",
    "# forma ainda mais nova\n",
    "print(f'|{str1:^10}|')"
   ]
  },
  {
   "cell_type": "markdown",
   "metadata": {},
   "source": [
    "Caractere de padding"
   ]
  },
  {
   "cell_type": "code",
   "execution_count": 76,
   "metadata": {},
   "outputs": [
    {
     "name": "stdout",
     "output_type": "stream",
     "text": [
      "|~~~~~~~one|\n",
      "|one~~~~~~~|\n",
      "|~~~one~~~~|\n",
      "\n",
      "|~~~~~~~one|\n",
      "|one~~~~~~~|\n",
      "|~~~one~~~~|\n"
     ]
    }
   ],
   "source": [
    "# forma nova\n",
    "print('|{:~>10}|'.format(str1))\n",
    "print('|{:~<10}|'.format(str1))\n",
    "print('|{:~^10}|'.format(str1))\n",
    "print()\n",
    "print(f'|{str1:~>10}|')\n",
    "print(f'|{str1:~<10}|')\n",
    "print(f'|{str1:~^10}|')"
   ]
  },
  {
   "cell_type": "markdown",
   "metadata": {},
   "source": [
    "#### Truncando"
   ]
  },
  {
   "cell_type": "code",
   "execution_count": 77,
   "metadata": {},
   "outputs": [
    {
     "name": "stdout",
     "output_type": "stream",
     "text": [
      "on\n",
      "on\n",
      "on\n"
     ]
    }
   ],
   "source": [
    "# forma antiga\n",
    "print('%.2s' % (str1))\n",
    "\n",
    "# forma nova\n",
    "print('{:.2s}'.format(str1))\n",
    "\n",
    "# forma ainda mais nova\n",
    "print(f'{str1:.2s}')"
   ]
  },
  {
   "cell_type": "markdown",
   "metadata": {},
   "source": [
    "Combinando o truncar com o alinhar (padding)"
   ]
  },
  {
   "cell_type": "code",
   "execution_count": 78,
   "metadata": {},
   "outputs": [
    {
     "name": "stdout",
     "output_type": "stream",
     "text": [
      "|on        |\n",
      "|on        |\n",
      "|on        |\n"
     ]
    }
   ],
   "source": [
    "# forma antiga\n",
    "print('|%-10.2s|' % (str1))\n",
    "\n",
    "# forma nova\n",
    "print('|{:<10.2s}|'.format(str1))\n",
    "\n",
    "# forma ainda mais nova\n",
    "print(f'|{str1:<10.2s}|')"
   ]
  },
  {
   "cell_type": "markdown",
   "metadata": {},
   "source": [
    "#### Formatando números"
   ]
  },
  {
   "cell_type": "code",
   "execution_count": 79,
   "metadata": {},
   "outputs": [],
   "source": [
    "i1 = 42\n",
    "f1 = 3.141592653589793"
   ]
  },
  {
   "cell_type": "code",
   "execution_count": 80,
   "metadata": {},
   "outputs": [
    {
     "name": "stdout",
     "output_type": "stream",
     "text": [
      "42\n",
      "42\n",
      "42\n"
     ]
    }
   ],
   "source": [
    "# forma antiga\n",
    "print('%d' % (i1))\n",
    "\n",
    "# forma nova\n",
    "print('{:d}'.format(i1))\n",
    "\n",
    "# forma ainda mais nova\n",
    "print(f'{i1:d}')"
   ]
  },
  {
   "cell_type": "code",
   "execution_count": 81,
   "metadata": {},
   "outputs": [
    {
     "name": "stdout",
     "output_type": "stream",
     "text": [
      "3.141593\n",
      "3.141593\n",
      "3.141593\n"
     ]
    }
   ],
   "source": [
    "# forma antiga\n",
    "print('%f' % (f1))\n",
    "\n",
    "# forma nova\n",
    "print('{:f}'.format(f1))\n",
    "\n",
    "# forma ainda mais nova\n",
    "print(f'{f1:f}')"
   ]
  },
  {
   "cell_type": "code",
   "execution_count": 82,
   "metadata": {},
   "outputs": [
    {
     "name": "stdout",
     "output_type": "stream",
     "text": [
      "42\n",
      "3.141592653589793\n"
     ]
    }
   ],
   "source": [
    "print(f'{i1}')\n",
    "print(f'{f1}')"
   ]
  },
  {
   "cell_type": "code",
   "execution_count": 83,
   "metadata": {},
   "outputs": [
    {
     "name": "stdout",
     "output_type": "stream",
     "text": [
      "42.000000\n"
     ]
    },
    {
     "ename": "ValueError",
     "evalue": "Unknown format code 'd' for object of type 'float'",
     "output_type": "error",
     "traceback": [
      "\u001b[1;31m---------------------------------------------------------------------------\u001b[0m",
      "\u001b[1;31mValueError\u001b[0m                                Traceback (most recent call last)",
      "\u001b[1;32m<ipython-input-83-737d09c1dbf5>\u001b[0m in \u001b[0;36m<module>\u001b[1;34m\u001b[0m\n\u001b[0;32m      1\u001b[0m \u001b[0mprint\u001b[0m\u001b[1;33m(\u001b[0m\u001b[1;34mf'{i1:f}'\u001b[0m\u001b[1;33m)\u001b[0m\u001b[1;33m\u001b[0m\u001b[1;33m\u001b[0m\u001b[0m\n\u001b[1;32m----> 2\u001b[1;33m \u001b[0mprint\u001b[0m\u001b[1;33m(\u001b[0m\u001b[1;34mf'{f1:d}'\u001b[0m\u001b[1;33m)\u001b[0m\u001b[1;33m\u001b[0m\u001b[1;33m\u001b[0m\u001b[0m\n\u001b[0m",
      "\u001b[1;31mValueError\u001b[0m: Unknown format code 'd' for object of type 'float'"
     ]
    }
   ],
   "source": [
    "print(f'{i1:f}')\n",
    "print(f'{f1:d}')"
   ]
  },
  {
   "cell_type": "markdown",
   "metadata": {},
   "source": [
    "#### Alinhando números"
   ]
  },
  {
   "cell_type": "code",
   "execution_count": 84,
   "metadata": {},
   "outputs": [
    {
     "name": "stdout",
     "output_type": "stream",
     "text": [
      "  42\n",
      "  42\n",
      "  42\n"
     ]
    }
   ],
   "source": [
    "# forma antiga\n",
    "print('%4d' % (i1))\n",
    "\n",
    "# forma nova\n",
    "print('{:4d}'.format(i1))\n",
    "\n",
    "# forma ainda mais nova\n",
    "print(f'{i1:4d}')"
   ]
  },
  {
   "cell_type": "code",
   "execution_count": 85,
   "metadata": {},
   "outputs": [
    {
     "name": "stdout",
     "output_type": "stream",
     "text": [
      "0042\n",
      "0042\n",
      "0042\n"
     ]
    }
   ],
   "source": [
    "# forma antiga\n",
    "print('%04d' % (i1))\n",
    "\n",
    "# forma nova\n",
    "print('{:04d}'.format(i1))\n",
    "\n",
    "# forma ainda mais nova\n",
    "print(f'{i1:04d}')"
   ]
  },
  {
   "cell_type": "code",
   "execution_count": 86,
   "metadata": {},
   "outputs": [
    {
     "name": "stdout",
     "output_type": "stream",
     "text": [
      "003.14\n",
      "003.14\n",
      "003.14\n"
     ]
    }
   ],
   "source": [
    "# forma antiga\n",
    "print('%06.2f' % (f1))\n",
    "\n",
    "# forma nova\n",
    "print('{:06.2f}'.format(f1))\n",
    "\n",
    "# forma ainda mais nova\n",
    "print(f'{f1:06.2f}')"
   ]
  },
  {
   "cell_type": "markdown",
   "metadata": {},
   "source": [
    "#### `getitem` e `getattr`"
   ]
  },
  {
   "cell_type": "code",
   "execution_count": 87,
   "metadata": {},
   "outputs": [
    {
     "name": "stdout",
     "output_type": "stream",
     "text": [
      "Pieter Voloshyn\n"
     ]
    }
   ],
   "source": [
    "person = {'first': 'Pieter', 'last': 'Voloshyn'}\n",
    "print('{p[first]} {p[last]}'.format(p=person))"
   ]
  },
  {
   "cell_type": "code",
   "execution_count": 88,
   "metadata": {},
   "outputs": [
    {
     "name": "stdout",
     "output_type": "stream",
     "text": [
      "23 42\n"
     ]
    }
   ],
   "source": [
    "data = [4, 8, 15, 16, 23, 42]\n",
    "print('{d[4]} {d[5]}'.format(d=data))"
   ]
  },
  {
   "cell_type": "markdown",
   "metadata": {},
   "source": [
    "#### Datetime"
   ]
  },
  {
   "cell_type": "code",
   "execution_count": 89,
   "metadata": {},
   "outputs": [
    {
     "name": "stdout",
     "output_type": "stream",
     "text": [
      "2001-02-03 04:05\n",
      "2001-02-03 04:05\n"
     ]
    }
   ],
   "source": [
    "from datetime import datetime\n",
    "\n",
    "dt = datetime(2001, 2, 3, 4, 5)\n",
    "\n",
    "# forma nova\n",
    "print('{:%Y-%m-%d %H:%M}'.format(dt))\n",
    "\n",
    "# forma ainda mais nova\n",
    "print(f'{dt:%Y-%m-%d %H:%M}')"
   ]
  },
  {
   "cell_type": "markdown",
   "metadata": {},
   "source": [
    "# Exercícios"
   ]
  },
  {
   "cell_type": "code",
   "execution_count": 90,
   "metadata": {},
   "outputs": [],
   "source": [
    "str1 = 'Python'\n",
    "str2 = 'massa'\n",
    "int1 = 5\n",
    "float1 = 4.7"
   ]
  },
  {
   "cell_type": "markdown",
   "metadata": {},
   "source": [
    "**1)** Dadas as variáveis acima, formate uma saída (com `print`) de acordo com os testes que serão executados."
   ]
  },
  {
   "cell_type": "code",
   "execution_count": 94,
   "metadata": {},
   "outputs": [
    {
     "name": "stdout",
     "output_type": "stream",
     "text": [
      "Python é \"massa\"!\n",
      "Show de bola!\n"
     ]
    }
   ],
   "source": [
    "str_formatada = '{} é \\\"{}\\\"!'.format(str1, str2)\n",
    "print(str_formatada)\n",
    "assert str_formatada == 'Python é \"massa\"!', 'Você errrouuuuu'\n",
    "print('Show de bola!')"
   ]
  },
  {
   "cell_type": "code",
   "execution_count": 102,
   "metadata": {},
   "outputs": [
    {
     "name": "stdout",
     "output_type": "stream",
     "text": [
      "A divisão entre 5 e 4.7 resulta em 1.06\n",
      "Show de bola!\n"
     ]
    }
   ],
   "source": [
    "str_formatada = 'A divisão entre {} e {} resulta em {:.2f}'.format(int1, float1,int1/float1)\n",
    "print(str_formatada)\n",
    "assert str_formatada == 'A divisão entre 5 e 4.7 resulta em 1.06', 'Você errrouuuuu'\n",
    "print('Show de bola!')"
   ]
  },
  {
   "cell_type": "code",
   "execution_count": 105,
   "metadata": {},
   "outputs": [
    {
     "name": "stdout",
     "output_type": "stream",
     "text": [
      "A primeira letra de Python é \"P\" e a última é \"n\".\n",
      "Show de bola!\n"
     ]
    }
   ],
   "source": [
    "str_formatada = 'A primeira letra de {} é \\\"{}\\\" e a última é \\\"{}\\\".'.format(str1, str1[0],str1[-1])\n",
    "print(str_formatada)\n",
    "assert str_formatada == 'A primeira letra de Python é \"P\" e a última é \"n\".', 'Você errrouuuuu'\n",
    "print('Show de bola!')"
   ]
  },
  {
   "cell_type": "markdown",
   "metadata": {},
   "source": [
    "**2)** Programe a função `inverterstring(s)` para inverter uma string `s`.\n",
    "\n",
    "Parâmetros:\n",
    "* **s**: string de entrada\n",
    "\n",
    "Retorno: String invertida\n",
    "\n",
    "Exemplos de uso:\n",
    "```python\n",
    "inverterstring('cadeira') -> 'ariedac'\n",
    "inverterstring('uva') -> 'avu'\n",
    "```"
   ]
  },
  {
   "cell_type": "code",
   "execution_count": 4,
   "metadata": {},
   "outputs": [
    {
     "data": {
      "text/plain": [
       "'odnanreF'"
      ]
     },
     "execution_count": 4,
     "metadata": {},
     "output_type": "execute_result"
    }
   ],
   "source": [
    "def inverterstring(s):\n",
    "    # seu código vem aqui\n",
    "    \n",
    "    t = (len(s)*-1)\n",
    "    i = -1\n",
    "    invertido = ''\n",
    "    \n",
    "    while (i >= t):\n",
    "        \n",
    "        invertido = invertido + s[i]\n",
    "       \n",
    "        i+=(-1)\n",
    "    \n",
    "    return invertido\n",
    "\n",
    "# resultado esperado: 'avu'\n",
    "inverterstring('Fernando')"
   ]
  },
  {
   "cell_type": "code",
   "execution_count": 122,
   "metadata": {},
   "outputs": [
    {
     "name": "stdout",
     "output_type": "stream",
     "text": [
      "Show de bola!\n"
     ]
    }
   ],
   "source": [
    "assert inverterstring('uva') == 'avu', 'Você errrouuuuu'\n",
    "assert inverterstring('cadeira') == 'ariedac', 'Você errrouuuuu'\n",
    "print('Show de bola!')"
   ]
  },
  {
   "cell_type": "markdown",
   "metadata": {},
   "source": [
    "**3)** Programe a função `ehpalindromo(s)` que verifica se uma string `s` é um palíndromo ou não. Lembrando que palíndromos são palavras ou frases que se comparadas com seu inverso são idênticas.\n",
    "\n",
    "Parâmetros:\n",
    "* **s**: string de entrada\n",
    "\n",
    "Retorno: `True` quando a string for um palíndromo. **Obs.**: essa função deve ser *case insensitive*, ou seja, deve ignorar se as letras estão em maiúsculas ou minúsculas.\n",
    "\n",
    "Exemplos de uso:\n",
    "```python\n",
    "ehpalindromo('radar') -> True\n",
    "ehpalindromo('Lael é leal') -> True\n",
    "ehpalindromo('olho') -> False\n",
    "```"
   ]
  },
  {
   "cell_type": "code",
   "execution_count": 123,
   "metadata": {},
   "outputs": [
    {
     "data": {
      "text/plain": [
       "'lael é leaL'"
      ]
     },
     "execution_count": 123,
     "metadata": {},
     "output_type": "execute_result"
    }
   ],
   "source": [
    "inverterstring('Lael é leal')"
   ]
  },
  {
   "cell_type": "code",
   "execution_count": 5,
   "metadata": {},
   "outputs": [
    {
     "data": {
      "text/plain": [
       "True"
      ]
     },
     "execution_count": 5,
     "metadata": {},
     "output_type": "execute_result"
    }
   ],
   "source": [
    "def ehpalindromo(s):\n",
    "    \n",
    "    return inverterstring(s).lower() == s.lower()\n",
    "    \n",
    "\n",
    "# resultado esperado: True\n",
    "ehpalindromo('Lael é leal')"
   ]
  },
  {
   "cell_type": "code",
   "execution_count": 6,
   "metadata": {},
   "outputs": [
    {
     "name": "stdout",
     "output_type": "stream",
     "text": [
      "Show de bola!\n"
     ]
    }
   ],
   "source": [
    "assert ehpalindromo('radar') == True, 'Você errrouuuuu'\n",
    "assert ehpalindromo('Lael é leal') == True, 'Você errrouuuuu'\n",
    "assert ehpalindromo('olho') == False, 'Você errrouuuuu'\n",
    "print('Show de bola!')"
   ]
  },
  {
   "cell_type": "markdown",
   "metadata": {},
   "source": [
    "**4)** Programe a função `getmiddlestr(s)` para retornar os 3 caracteres do meio de uma string (`s`).\n",
    "\n",
    "Parâmetros:\n",
    "* **s**: string de entrada\n",
    "\n",
    "Retorno:\n",
    "Substring com 3 caracteres do meio da string\n",
    "\n",
    "Exemplos de uso:\n",
    "```python\n",
    "getmiddlestr('abracadabra') -> 'cad'\n",
    "getmiddlestr('lapis') -> 'api'\n",
    "getmiddlestr('azul') -> 'azu'\n",
    "getmiddlestr('a') -> 'a'\n",
    "```"
   ]
  },
  {
   "cell_type": "code",
   "execution_count": 13,
   "metadata": {},
   "outputs": [
    {
     "data": {
      "text/plain": [
       "'4'"
      ]
     },
     "execution_count": 13,
     "metadata": {},
     "output_type": "execute_result"
    }
   ],
   "source": [
    "def getmiddlestr(s,mid):\n",
    "    \n",
    "    if len(s) >=mid:\n",
    "        \n",
    "        while (len(s) > mid):\n",
    "        \n",
    "            s = s[:len(s)-1]\n",
    "            \n",
    "            if len(s) > mid:\n",
    "                \n",
    "                s = s[(len(s)-1)*(-1):] \n",
    "        \n",
    "            else:\n",
    "                \n",
    "                return s\n",
    "            \n",
    "        return s\n",
    "            \n",
    "    else:\n",
    "    \n",
    "        return s\n",
    "        \n",
    "# resultado esperado: 'cad'\n",
    "getmiddlestr('0123456789',1)"
   ]
  },
  {
   "cell_type": "code",
   "execution_count": 9,
   "metadata": {},
   "outputs": [
    {
     "name": "stdout",
     "output_type": "stream",
     "text": [
      "Show de bola!\n"
     ]
    }
   ],
   "source": [
    "assert getmiddlestr('abracadabra',3) == 'cad', 'Você errrouuuuu'\n",
    "assert getmiddlestr('lapis',3) == 'api', 'Você errrouuuuu'\n",
    "assert getmiddlestr('azul',3) == 'azu', 'Você errrouuuuu'\n",
    "assert getmiddlestr('a',3) == 'a', 'Você errrouuuuu'\n",
    "print('Show de bola!')"
   ]
  },
  {
   "cell_type": "markdown",
   "metadata": {},
   "source": [
    "**5)** Programe a função `countdigits(s)` para retornar a quantidade de dígitos existentes em uma string (`s`).\n",
    "\n",
    "Parâmetros:\n",
    "* **s**: string de entrada\n",
    "\n",
    "Retorno:\n",
    "Quantidade de dígitos (0-9) dentro da string\n",
    "\n",
    "Exemplos de uso:\n",
    "```python\n",
    "countdigits('123') -> 3\n",
    "countdigits('Python1') -> 1\n",
    "countdigits('foo@bar.com') -> 0\n",
    "```"
   ]
  },
  {
   "cell_type": "code",
   "execution_count": 11,
   "metadata": {},
   "outputs": [
    {
     "data": {
      "text/plain": [
       "3"
      ]
     },
     "execution_count": 11,
     "metadata": {},
     "output_type": "execute_result"
    }
   ],
   "source": [
    "def countdigits(s):\n",
    "    \n",
    "    count = 0\n",
    "    \n",
    "    for i in s:\n",
    "        \n",
    "        if i.isdigit():\n",
    "            \n",
    "            count +=1\n",
    "            \n",
    "    return count\n",
    "\n",
    "# resultado esperado: 3\n",
    "countdigits('fernando123')"
   ]
  },
  {
   "cell_type": "code",
   "execution_count": 75,
   "metadata": {},
   "outputs": [
    {
     "name": "stdout",
     "output_type": "stream",
     "text": [
      "Show de bola!\n"
     ]
    }
   ],
   "source": [
    "assert countdigits('123') == 3, 'Você errrouuuuu'\n",
    "assert countdigits('Python1') == 1, 'Você errrouuuuu'\n",
    "assert countdigits('foo@bar.com') == 0, 'Você errrouuuuu'\n",
    "print('Show de bola!')"
   ]
  },
  {
   "cell_type": "markdown",
   "metadata": {},
   "source": [
    "**6)** Programe a função `validapalavra(s, alfabeto)` para retornar `True` quando uma palavra (`s`) pode ser escrita com o alfabeto (`alfabeto`) informado. \n",
    "\n",
    "Parâmetros:\n",
    "* **s**: string com a palavra\n",
    "* **alfabeto**: string contendo todas as letras/ caracteres que devem ser obedecidos para indicar se a palavra é válida ou não.\n",
    "\n",
    "Retorno:\n",
    "**True** quando é possível montar a palavra\n",
    "**False** quando não\n",
    "\n",
    "Observação:\n",
    "* Case insensitive, ou seja, se no alfabeto tiver a letra 'p' e apareça uma palavra com 'P', deve ser considerado como válido. \n",
    "* Accent sensitive, ou seja, o acento é relevante. Se não tiver 'á' no alfabeto e uma palavra vier com 'á', deve ser invalidada.\n",
    "* Espaços devem ser ignorados.\n",
    "\n",
    "Exemplos de uso:\n",
    "```python\n",
    "validapalavra('Python', 'honpty') -> True\n",
    "validapalavra('ae ae ae ei ei ei o o o o', 'aeiou') -> True\n",
    "validapalavra('ábaco', 'abco') -> False\n",
    "validapalavra('PapaCo', 'apco') -> True\n",
    "validapalavra('3m', 'maco') -> False\n",
    "validapalavra('ei', 'aeiou') -> True\n",
    "```"
   ]
  },
  {
   "cell_type": "code",
   "execution_count": 12,
   "metadata": {},
   "outputs": [
    {
     "data": {
      "text/plain": [
       "True"
      ]
     },
     "execution_count": 12,
     "metadata": {},
     "output_type": "execute_result"
    }
   ],
   "source": [
    "def validapalavra(s, alfabeto):\n",
    "\n",
    "    s = (s.lower()).replace(' ','')\n",
    "    alfabeto = alfabeto.lower()\n",
    "    \n",
    "    for i in s:\n",
    "        \n",
    "        if alfabeto.find(i) == -1:\n",
    "            \n",
    "            return False\n",
    "        \n",
    "    return True    \n",
    "\n",
    "# resultado esperado: True\n",
    "validapalavra('ae ae ae ei ei ei o o o o', 'aeiou')"
   ]
  },
  {
   "cell_type": "code",
   "execution_count": 10,
   "metadata": {},
   "outputs": [
    {
     "name": "stdout",
     "output_type": "stream",
     "text": [
      "Show de bola!\n"
     ]
    }
   ],
   "source": [
    "assert validapalavra('Python', 'honpty') == True, 'Você errrouuuuu'\n",
    "assert validapalavra('ae ae ae ei ei ei o o o o', 'aeiou') == True, 'Você errrouuuuu'\n",
    "assert validapalavra('ábaco', 'abco') == False, 'Você errrouuuuu'\n",
    "assert validapalavra('PapaCo', 'apco') == True, 'Você errrouuuuu'\n",
    "assert validapalavra('3m', 'maco') == False, 'Você errrouuuuu'\n",
    "assert validapalavra('ei', 'aeiou') == True, 'Você errrouuuuu'\n",
    "print('Show de bola!')"
   ]
  },
  {
   "cell_type": "markdown",
   "metadata": {},
   "source": [
    "**7)** Programe a função `findlast(s, value)` para retornar o último índice de uma string (`value`) dentro de outra (`s`).\n",
    "\n",
    "Parâmetros:\n",
    "* **s**: string de entrada\n",
    "* **value**: string a ser procurada\n",
    "\n",
    "Retorno:\n",
    "Último índice onde \"value\" é encontrada. -1 quando não for encontrada.\n",
    "\n",
    "Exemplo de uso:\n",
    "\n",
    "```python\n",
    "findlast('Mult é meu amigo, Mult é meu colega', 'Mult') -> 18\n",
    "findlast('Mult é meu amigo, Mult é meu colega', 'Maluco') -> -1\n",
    "```\n",
    "\n",
    "Dica: olhem a documentação do método *find()* em https://www.w3schools.com/python/ref_string_find.asp"
   ]
  },
  {
   "cell_type": "code",
   "execution_count": 82,
   "metadata": {},
   "outputs": [
    {
     "data": {
      "text/plain": [
       "18"
      ]
     },
     "execution_count": 82,
     "metadata": {},
     "output_type": "execute_result"
    }
   ],
   "source": [
    "def findlast(s, value):\n",
    "    \n",
    "    indice = s.rfind(value)\n",
    "        \n",
    "    return indice\n",
    "\n",
    "# resultado esperado: 18\n",
    "findlast('Mult é meu amigo, Mult é meu colega', 'Mult')"
   ]
  },
  {
   "cell_type": "code",
   "execution_count": 81,
   "metadata": {},
   "outputs": [
    {
     "name": "stdout",
     "output_type": "stream",
     "text": [
      "Show de bola!\n"
     ]
    }
   ],
   "source": [
    "assert findlast('Mult é meu amigo, Mult é meu colega', 'Mult') == 18, 'Você errrouuuuu'\n",
    "assert findlast('ABBA', 'A') == 3, 'Você errrouuuuu'\n",
    "assert findlast('abracadabra', 'c') == 4, 'Você errrouuuuu'\n",
    "assert findlast('abracadabra', 'z') == -1, 'Você errrouuuuu'\n",
    "print('Show de bola!')"
   ]
  },
  {
   "cell_type": "code",
   "execution_count": null,
   "metadata": {},
   "outputs": [],
   "source": []
  }
 ],
 "metadata": {
  "kernelspec": {
   "display_name": "Python 3 (ipykernel)",
   "language": "python",
   "name": "python3"
  },
  "language_info": {
   "codemirror_mode": {
    "name": "ipython",
    "version": 3
   },
   "file_extension": ".py",
   "mimetype": "text/x-python",
   "name": "python",
   "nbconvert_exporter": "python",
   "pygments_lexer": "ipython3",
   "version": "3.9.7"
  }
 },
 "nbformat": 4,
 "nbformat_minor": 2
}
