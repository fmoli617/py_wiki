{
 "cells": [
  {
   "cell_type": "markdown",
   "metadata": {},
   "source": [
    "# Tipos de dados\n",
    "Por padrão, Python oferece alguns tipos de dados comuns.\n",
    "* ~~Números (inteiros, decimais, complexos)~~\n",
    "* ~~Strings~~\n",
    "* ~~Listas~~\n",
    "* **Tuplas**\n",
    "* Conjuntos\n",
    "* Dicionários"
   ]
  },
  {
   "cell_type": "markdown",
   "metadata": {},
   "source": [
    "# Tuplas\n",
    "* Tupla é uma coleção ordenada e imutável, ou seja, uma vez criada, não se pode alterar.\n",
    "* Representada entre ( ) e os dados separados por vírgulas. Ex.: tuple1 = (1, 2, 3, 4, 5)\n",
    "* Podem conter diferentes tipos de dados.\n",
    "* Cada item da tupla tem seu próprio índice."
   ]
  },
  {
   "cell_type": "markdown",
   "metadata": {},
   "source": [
    "## Declaração"
   ]
  },
  {
   "cell_type": "code",
   "execution_count": 1,
   "metadata": {},
   "outputs": [
    {
     "name": "stdout",
     "output_type": "stream",
     "text": [
      "tupla vazia ()\n",
      "tupla com inteiros (1, 2, 3, 4, 5)\n",
      "tupla com strings ('python', 'java')\n",
      "tupla com tuplas ((1, 25), ('python', 'R'))\n",
      "tupla com diferentes tipos de dados ('python', 2, 4.7, (23, 'java'), [4, 5, 6])\n"
     ]
    }
   ],
   "source": [
    "# criando tupla vazia\n",
    "tuple1 = ()\n",
    "print('tupla vazia', tuple1)\n",
    "\n",
    "# tupla com inteiros\n",
    "tuple2 = (1, 2, 3, 4, 5)\n",
    "print('tupla com inteiros', tuple2)\n",
    "\n",
    "# tupla com strings\n",
    "tuple3 = ('python', 'java')\n",
    "print('tupla com strings', tuple3)\n",
    "\n",
    "# tupla com tuplas\n",
    "tuple4 = ((1, 25), ('python', 'R'))\n",
    "print('tupla com tuplas', tuple4)\n",
    "\n",
    "# tupla com diferentes tipos de dados\n",
    "tuple5 = ('python', 2, 4.7, (23, 'java'), [4, 5, 6])\n",
    "print('tupla com diferentes tipos de dados', tuple5)"
   ]
  },
  {
   "cell_type": "markdown",
   "metadata": {},
   "source": [
    "## Indexação e sub-tuplas (slicing)\n",
    "Assim como em strings e listas, podemos acessar elementos individualmente usando seu índice (começando em 0) ou um range usando slicing."
   ]
  },
  {
   "cell_type": "code",
   "execution_count": 2,
   "metadata": {},
   "outputs": [
    {
     "name": "stdout",
     "output_type": "stream",
     "text": [
      "30\n",
      "40\n",
      "(20, 30)\n",
      "(10, 20, 30, 40, 50)\n",
      "(20, 30, 40, 50)\n",
      "(10, 20, 30)\n"
     ]
    }
   ],
   "source": [
    "tuple1 = (10, 20, 30, 40, 50)\n",
    "# imprimindo o elemento no índice 2 (3º item)\n",
    "print(tuple1[2])\n",
    "\n",
    "# imprimindo o elemento no índice -2 (penúltimo item)\n",
    "print(tuple1[-2])\n",
    "\n",
    "# slicing de 1 a 3 (o índice 3 é exclusivo)\n",
    "print(tuple1[1:3])\n",
    "\n",
    "# outras formas de slicing\n",
    "print(tuple1[:])  # retorna tudo\n",
    "print(tuple1[1:]) # retorna do índice 1 ao final\n",
    "print(tuple1[:3]) # retorna do índice 0 ao 3 (exclusivo)"
   ]
  },
  {
   "cell_type": "markdown",
   "metadata": {},
   "source": [
    "## Atualizando tuplas\n",
    "Tuplas são imutáveis, ou seja, não podem ser alteradas."
   ]
  },
  {
   "cell_type": "code",
   "execution_count": 3,
   "metadata": {},
   "outputs": [
    {
     "name": "stdout",
     "output_type": "stream",
     "text": [
      "Tupla antes da atualização ('Python', 'C#', 'Java')\n"
     ]
    },
    {
     "ename": "TypeError",
     "evalue": "'tuple' object does not support item assignment",
     "output_type": "error",
     "traceback": [
      "\u001b[1;31m---------------------------------------------------------------------------\u001b[0m",
      "\u001b[1;31mTypeError\u001b[0m                                 Traceback (most recent call last)",
      "\u001b[1;32m<ipython-input-3-86bc839a4e59>\u001b[0m in \u001b[0;36m<module>\u001b[1;34m\u001b[0m\n\u001b[0;32m      2\u001b[0m \u001b[0mprint\u001b[0m\u001b[1;33m(\u001b[0m\u001b[1;34m'Tupla antes da atualização'\u001b[0m\u001b[1;33m,\u001b[0m \u001b[0mtuple1\u001b[0m\u001b[1;33m)\u001b[0m\u001b[1;33m\u001b[0m\u001b[1;33m\u001b[0m\u001b[0m\n\u001b[0;32m      3\u001b[0m \u001b[1;33m\u001b[0m\u001b[0m\n\u001b[1;32m----> 4\u001b[1;33m \u001b[0mtuple1\u001b[0m\u001b[1;33m[\u001b[0m\u001b[1;36m2\u001b[0m\u001b[1;33m]\u001b[0m \u001b[1;33m=\u001b[0m \u001b[1;34m'R'\u001b[0m\u001b[1;33m\u001b[0m\u001b[1;33m\u001b[0m\u001b[0m\n\u001b[0m\u001b[0;32m      5\u001b[0m \u001b[0mprint\u001b[0m\u001b[1;33m(\u001b[0m\u001b[1;34m'Tupla depois da atualização'\u001b[0m\u001b[1;33m,\u001b[0m \u001b[0mtuple1\u001b[0m\u001b[1;33m)\u001b[0m\u001b[1;33m\u001b[0m\u001b[1;33m\u001b[0m\u001b[0m\n",
      "\u001b[1;31mTypeError\u001b[0m: 'tuple' object does not support item assignment"
     ]
    }
   ],
   "source": [
    "tuple1 = ('Python', 'C#', 'Java')\n",
    "print('Tupla antes da atualização', tuple1)\n",
    "\n",
    "tuple1[2] = 'R'\n",
    "print('Tupla depois da atualização', tuple1)"
   ]
  },
  {
   "cell_type": "markdown",
   "metadata": {},
   "source": [
    "## Deletando itens da tupla\n",
    "Não é possível remover itens de uma tupla, apenas deletar ela inteira."
   ]
  },
  {
   "cell_type": "code",
   "execution_count": 4,
   "metadata": {},
   "outputs": [
    {
     "ename": "TypeError",
     "evalue": "'tuple' object doesn't support item deletion",
     "output_type": "error",
     "traceback": [
      "\u001b[1;31m---------------------------------------------------------------------------\u001b[0m",
      "\u001b[1;31mTypeError\u001b[0m                                 Traceback (most recent call last)",
      "\u001b[1;32m<ipython-input-4-792745cdd69b>\u001b[0m in \u001b[0;36m<module>\u001b[1;34m\u001b[0m\n\u001b[0;32m      1\u001b[0m \u001b[0mtuple1\u001b[0m \u001b[1;33m=\u001b[0m \u001b[1;33m(\u001b[0m\u001b[1;34m'Python'\u001b[0m\u001b[1;33m,\u001b[0m \u001b[1;34m'C#'\u001b[0m\u001b[1;33m,\u001b[0m \u001b[1;34m'Java'\u001b[0m\u001b[1;33m,\u001b[0m \u001b[1;34m'R'\u001b[0m\u001b[1;33m,\u001b[0m \u001b[1;34m'C'\u001b[0m\u001b[1;33m,\u001b[0m \u001b[1;34m'C++'\u001b[0m\u001b[1;33m)\u001b[0m\u001b[1;33m\u001b[0m\u001b[1;33m\u001b[0m\u001b[0m\n\u001b[1;32m----> 2\u001b[1;33m \u001b[1;32mdel\u001b[0m \u001b[0mtuple1\u001b[0m\u001b[1;33m[\u001b[0m\u001b[1;36m0\u001b[0m\u001b[1;33m]\u001b[0m\u001b[1;33m\u001b[0m\u001b[1;33m\u001b[0m\u001b[0m\n\u001b[0m\u001b[0;32m      3\u001b[0m \u001b[0mprint\u001b[0m\u001b[1;33m(\u001b[0m\u001b[0mtuple1\u001b[0m\u001b[1;33m)\u001b[0m\u001b[1;33m\u001b[0m\u001b[1;33m\u001b[0m\u001b[0m\n",
      "\u001b[1;31mTypeError\u001b[0m: 'tuple' object doesn't support item deletion"
     ]
    }
   ],
   "source": [
    "tuple1 = ('Python', 'C#', 'Java', 'R', 'C', 'C++')\n",
    "del tuple1[0]\n",
    "print(tuple1)"
   ]
  },
  {
   "cell_type": "code",
   "execution_count": 5,
   "metadata": {},
   "outputs": [
    {
     "ename": "NameError",
     "evalue": "name 'tuple1' is not defined",
     "output_type": "error",
     "traceback": [
      "\u001b[1;31m---------------------------------------------------------------------------\u001b[0m",
      "\u001b[1;31mNameError\u001b[0m                                 Traceback (most recent call last)",
      "\u001b[1;32m<ipython-input-5-8c91080a054a>\u001b[0m in \u001b[0;36m<module>\u001b[1;34m\u001b[0m\n\u001b[0;32m      1\u001b[0m \u001b[1;32mdel\u001b[0m \u001b[0mtuple1\u001b[0m\u001b[1;33m\u001b[0m\u001b[1;33m\u001b[0m\u001b[0m\n\u001b[1;32m----> 2\u001b[1;33m \u001b[0mprint\u001b[0m\u001b[1;33m(\u001b[0m\u001b[0mtuple1\u001b[0m\u001b[1;33m)\u001b[0m\u001b[1;33m\u001b[0m\u001b[1;33m\u001b[0m\u001b[0m\n\u001b[0m",
      "\u001b[1;31mNameError\u001b[0m: name 'tuple1' is not defined"
     ]
    }
   ],
   "source": [
    "del tuple1\n",
    "print(tuple1)"
   ]
  },
  {
   "cell_type": "markdown",
   "metadata": {},
   "source": [
    "## Iterando uma tupla"
   ]
  },
  {
   "cell_type": "code",
   "execution_count": 6,
   "metadata": {},
   "outputs": [
    {
     "name": "stdout",
     "output_type": "stream",
     "text": [
      "janeiro\n",
      "fevereiro\n",
      "março\n",
      "abril\n",
      "maio\n",
      "junho\n",
      "julho\n",
      "agosto\n",
      "setembro\n",
      "outubro\n",
      "novembro\n",
      "dezembro\n"
     ]
    }
   ],
   "source": [
    "months = ('janeiro', \n",
    "          'fevereiro', \n",
    "          'março', \n",
    "          'abril', \n",
    "          'maio', \n",
    "          'junho', \n",
    "          'julho', \n",
    "          'agosto', \n",
    "          'setembro', \n",
    "          'outubro', \n",
    "          'novembro', \n",
    "          'dezembro')\n",
    "\n",
    "for month in months:\n",
    "    print(month)"
   ]
  },
  {
   "cell_type": "markdown",
   "metadata": {},
   "source": [
    "## Métodos e funções"
   ]
  },
  {
   "cell_type": "markdown",
   "metadata": {},
   "source": [
    "### Concatenação"
   ]
  },
  {
   "cell_type": "code",
   "execution_count": 7,
   "metadata": {},
   "outputs": [
    {
     "name": "stdout",
     "output_type": "stream",
     "text": [
      "(1, 2, 3, 4)\n",
      "(5, 6, 7, 8)\n",
      "(1, 2, 3, 4, 5, 6, 7, 8)\n"
     ]
    }
   ],
   "source": [
    "tuple1 = (1, 2, 3, 4)\n",
    "tuple2 = (5, 6, 7, 8)\n",
    "supertuple = tuple1 + tuple2\n",
    "print(tuple1)\n",
    "print(tuple2)\n",
    "print(supertuple)"
   ]
  },
  {
   "cell_type": "markdown",
   "metadata": {},
   "source": [
    "### Tamanho"
   ]
  },
  {
   "cell_type": "code",
   "execution_count": 8,
   "metadata": {},
   "outputs": [
    {
     "name": "stdout",
     "output_type": "stream",
     "text": [
      "O tamanho da tupla é 5\n"
     ]
    }
   ],
   "source": [
    "tuple1 = (1, 2, 3, 4, 5)\n",
    "print('O tamanho da tupla é', len(tuple1))"
   ]
  },
  {
   "cell_type": "markdown",
   "metadata": {},
   "source": [
    "### Repetição"
   ]
  },
  {
   "cell_type": "code",
   "execution_count": 9,
   "metadata": {},
   "outputs": [
    {
     "name": "stdout",
     "output_type": "stream",
     "text": [
      "7\n"
     ]
    }
   ],
   "source": [
    "tuple1 = (1)\n",
    "print(tuple1 * 7)"
   ]
  },
  {
   "cell_type": "code",
   "execution_count": 10,
   "metadata": {},
   "outputs": [
    {
     "name": "stdout",
     "output_type": "stream",
     "text": [
      "(1, 1, 1, 1, 1, 1, 1)\n"
     ]
    }
   ],
   "source": [
    "tuple1 = (1, )\n",
    "print(tuple1 * 7)"
   ]
  },
  {
   "cell_type": "markdown",
   "metadata": {},
   "source": [
    "### Membros"
   ]
  },
  {
   "cell_type": "code",
   "execution_count": 11,
   "metadata": {},
   "outputs": [
    {
     "name": "stdout",
     "output_type": "stream",
     "text": [
      "True\n",
      "True\n"
     ]
    }
   ],
   "source": [
    "tuple1 = (0, 1, 1, 2, 3, 5, 8, 13, 21)\n",
    "# verificando se um valor está dentro de uma tupla\n",
    "print(13 in tuple1)\n",
    "# verificando se um valor não está dentro de uma tupla\n",
    "print(35 not in tuple1)"
   ]
  },
  {
   "cell_type": "markdown",
   "metadata": {},
   "source": [
    "### Menor e maior valor de uma tupla"
   ]
  },
  {
   "cell_type": "code",
   "execution_count": 12,
   "metadata": {},
   "outputs": [
    {
     "name": "stdout",
     "output_type": "stream",
     "text": [
      "O menor valor da tupla é o 0\n",
      "O maior valor da tupla é o 21\n"
     ]
    }
   ],
   "source": [
    "tuple1 = (0, 1, 1, 2, 3, 5, 8, 13, 21)\n",
    "print('O menor valor da tupla é o', min(tuple1))\n",
    "print('O maior valor da tupla é o', max(tuple1))"
   ]
  },
  {
   "cell_type": "markdown",
   "metadata": {},
   "source": [
    "### Soma de todos os elementos da tupla"
   ]
  },
  {
   "cell_type": "code",
   "execution_count": 13,
   "metadata": {},
   "outputs": [
    {
     "name": "stdout",
     "output_type": "stream",
     "text": [
      "A soma de todos os elementos da tupla é 54\n"
     ]
    }
   ],
   "source": [
    "tuple1 = (0, 1, 1, 2, 3, 5, 8, 13, 21)\n",
    "print('A soma de todos os elementos da tupla é', sum(tuple1))"
   ]
  },
  {
   "cell_type": "markdown",
   "metadata": {},
   "source": [
    "### Count (contando elementos)"
   ]
  },
  {
   "cell_type": "code",
   "execution_count": 14,
   "metadata": {},
   "outputs": [
    {
     "name": "stdout",
     "output_type": "stream",
     "text": [
      "2\n"
     ]
    }
   ],
   "source": [
    "tuple1 = (0, 1, 1, 2, 3, 5, 8, 13, 21)\n",
    "print(tuple1.count(1))"
   ]
  },
  {
   "cell_type": "markdown",
   "metadata": {},
   "source": [
    "### Index (procurando elemento)"
   ]
  },
  {
   "cell_type": "code",
   "execution_count": 15,
   "metadata": {},
   "outputs": [
    {
     "name": "stdout",
     "output_type": "stream",
     "text": [
      "4\n"
     ]
    }
   ],
   "source": [
    "tuple1 = (0, 1, 1, 2, 3, 5, 8, 13, 21)\n",
    "print(tuple1.index(3))"
   ]
  },
  {
   "cell_type": "markdown",
   "metadata": {},
   "source": [
    "### Sort (ordenando tupla)"
   ]
  },
  {
   "cell_type": "code",
   "execution_count": 16,
   "metadata": {},
   "outputs": [
    {
     "ename": "AttributeError",
     "evalue": "'tuple' object has no attribute 'sort'",
     "output_type": "error",
     "traceback": [
      "\u001b[1;31m---------------------------------------------------------------------------\u001b[0m",
      "\u001b[1;31mAttributeError\u001b[0m                            Traceback (most recent call last)",
      "\u001b[1;32m<ipython-input-16-c111461f2d0f>\u001b[0m in \u001b[0;36m<module>\u001b[1;34m\u001b[0m\n\u001b[0;32m      1\u001b[0m \u001b[0mtuple1\u001b[0m \u001b[1;33m=\u001b[0m \u001b[1;33m(\u001b[0m\u001b[1;34m'e'\u001b[0m\u001b[1;33m,\u001b[0m \u001b[1;34m'o'\u001b[0m\u001b[1;33m,\u001b[0m \u001b[1;34m'a'\u001b[0m\u001b[1;33m,\u001b[0m \u001b[1;34m'u'\u001b[0m\u001b[1;33m,\u001b[0m \u001b[1;34m'i'\u001b[0m\u001b[1;33m)\u001b[0m\u001b[1;33m\u001b[0m\u001b[1;33m\u001b[0m\u001b[0m\n\u001b[0;32m      2\u001b[0m \u001b[1;31m# será que tem método de ordenação?\u001b[0m\u001b[1;33m\u001b[0m\u001b[1;33m\u001b[0m\u001b[1;33m\u001b[0m\u001b[0m\n\u001b[1;32m----> 3\u001b[1;33m \u001b[0mtuple1\u001b[0m\u001b[1;33m.\u001b[0m\u001b[0msort\u001b[0m\u001b[1;33m(\u001b[0m\u001b[1;33m)\u001b[0m\u001b[1;33m\u001b[0m\u001b[1;33m\u001b[0m\u001b[0m\n\u001b[0m\u001b[0;32m      4\u001b[0m \u001b[0mprint\u001b[0m\u001b[1;33m(\u001b[0m\u001b[0mtuple1\u001b[0m\u001b[1;33m)\u001b[0m\u001b[1;33m\u001b[0m\u001b[1;33m\u001b[0m\u001b[0m\n",
      "\u001b[1;31mAttributeError\u001b[0m: 'tuple' object has no attribute 'sort'"
     ]
    }
   ],
   "source": [
    "tuple1 = ('e', 'o', 'a', 'u', 'i')\n",
    "# será que tem método de ordenação?\n",
    "tuple1.sort()\n",
    "print(tuple1)"
   ]
  },
  {
   "cell_type": "code",
   "execution_count": 17,
   "metadata": {},
   "outputs": [
    {
     "name": "stdout",
     "output_type": "stream",
     "text": [
      "['a', 'e', 'i', 'o', 'u']\n"
     ]
    }
   ],
   "source": [
    "tuple1 = ('e', 'o', 'a', 'u', 'i')\n",
    "# cria uma cópia ordenada\n",
    "print(sorted(tuple1))"
   ]
  },
  {
   "cell_type": "code",
   "execution_count": 18,
   "metadata": {},
   "outputs": [
    {
     "name": "stdout",
     "output_type": "stream",
     "text": [
      "('a', 'e', 'i', 'o', 'u')\n"
     ]
    }
   ],
   "source": [
    "tuple1 = ('e', 'o', 'a', 'u', 'i')\n",
    "# cria uma cópia ordenada\n",
    "print(tuple(sorted(tuple1)))"
   ]
  },
  {
   "cell_type": "markdown",
   "metadata": {},
   "source": [
    "## Tuple comprehension?\n",
    "A sintaxe usada em listas existe também entre ( ), mas há grandes diferenças conceituais."
   ]
  },
  {
   "cell_type": "code",
   "execution_count": 24,
   "metadata": {},
   "outputs": [
    {
     "name": "stdout",
     "output_type": "stream",
     "text": [
      "[0, 1, 8, 27, 64, 125, 216, 343, 512, 729]\n"
     ]
    }
   ],
   "source": [
    "# listas\n",
    "cubo = [i**3 for i in range(10)]\n",
    "print(cubo)"
   ]
  },
  {
   "cell_type": "code",
   "execution_count": 25,
   "metadata": {},
   "outputs": [
    {
     "name": "stdout",
     "output_type": "stream",
     "text": [
      "<generator object <genexpr> at 0x0000021070AD3190>\n"
     ]
    }
   ],
   "source": [
    "# tuplas\n",
    "cubo = (i**3 for i in range(10))\n",
    "print(cubo)"
   ]
  },
  {
   "cell_type": "markdown",
   "metadata": {},
   "source": [
    "Ao contrário de listas, compreender tuplas cria um objeto gerador, ou seja, ele não ocupa espaço em memória. Ele gera o valor durante a iteração e uma vez iterado, não o gera novamente."
   ]
  },
  {
   "cell_type": "code",
   "execution_count": 26,
   "metadata": {},
   "outputs": [
    {
     "name": "stdout",
     "output_type": "stream",
     "text": [
      "0\n",
      "1\n",
      "8\n",
      "27\n",
      "64\n",
      "125\n",
      "216\n",
      "343\n",
      "512\n",
      "729\n"
     ]
    }
   ],
   "source": [
    "for c in cubo:\n",
    "    print(c)"
   ]
  },
  {
   "cell_type": "code",
   "execution_count": 27,
   "metadata": {},
   "outputs": [],
   "source": [
    "for c in cubo:\n",
    "    print(c)"
   ]
  },
  {
   "cell_type": "markdown",
   "metadata": {},
   "source": [
    "Caso não queira criar um gerador, pode-se converter a tupla a partir de uma lista."
   ]
  },
  {
   "cell_type": "code",
   "execution_count": 28,
   "metadata": {},
   "outputs": [
    {
     "name": "stdout",
     "output_type": "stream",
     "text": [
      "(0, 1, 8, 27, 64, 125, 216, 343, 512, 729)\n"
     ]
    }
   ],
   "source": [
    "# tuplas\n",
    "cubo = tuple([i**3 for i in range(10)])\n",
    "print(cubo)"
   ]
  },
  {
   "cell_type": "markdown",
   "metadata": {},
   "source": [
    "### Generators\n",
    "Vimos que compreensão de tuplas resulta em um generator (objeto gerador). Generators são conhecidos como *lazy iterators* por retornarem o próximo valor quando solicitado.\n",
    "\n",
    "A vantagem de se criar um generator é de não ter que guardar toda a informação em memória.\n",
    "\n",
    "Podemos criar generators como funções comuns. A diferença está na forma de retornarmos. Em funções comuns usamos `return` para retornar o resultado. Em generators usamos `yield` para retornarmos o valor atual.\n",
    "\n",
    "**Exemplo**: sequência infinita"
   ]
  },
  {
   "cell_type": "code",
   "execution_count": 34,
   "metadata": {},
   "outputs": [],
   "source": [
    "def infinite_sequence():\n",
    "    num = 0\n",
    "    while True:\n",
    "        yield num\n",
    "        num += 1"
   ]
  },
  {
   "cell_type": "code",
   "execution_count": 35,
   "metadata": {},
   "outputs": [
    {
     "name": "stdout",
     "output_type": "stream",
     "text": [
      "0 1 2 3 4 5 6 7 8 9 10 11 12 13 14 15 16 17 18 19 20 21 22 23 24 25 26 27 28 29 30 31 32 33 34 35 "
     ]
    },
    {
     "ename": "KeyboardInterrupt",
     "evalue": "",
     "output_type": "error",
     "traceback": [
      "\u001b[1;31m---------------------------------------------------------------------------\u001b[0m",
      "\u001b[1;31mKeyboardInterrupt\u001b[0m                         Traceback (most recent call last)",
      "\u001b[1;32m<ipython-input-35-7ef03ec3b782>\u001b[0m in \u001b[0;36m<module>\u001b[1;34m\u001b[0m\n\u001b[0;32m      3\u001b[0m \u001b[1;32mfor\u001b[0m \u001b[0mi\u001b[0m \u001b[1;32min\u001b[0m \u001b[0minfinite_sequence\u001b[0m\u001b[1;33m(\u001b[0m\u001b[1;33m)\u001b[0m\u001b[1;33m:\u001b[0m\u001b[1;33m\u001b[0m\u001b[1;33m\u001b[0m\u001b[0m\n\u001b[0;32m      4\u001b[0m     \u001b[0mprint\u001b[0m\u001b[1;33m(\u001b[0m\u001b[0mi\u001b[0m\u001b[1;33m,\u001b[0m \u001b[0mend\u001b[0m\u001b[1;33m=\u001b[0m\u001b[1;34m' '\u001b[0m\u001b[1;33m)\u001b[0m\u001b[1;33m\u001b[0m\u001b[1;33m\u001b[0m\u001b[0m\n\u001b[1;32m----> 5\u001b[1;33m     \u001b[0msleep\u001b[0m\u001b[1;33m(\u001b[0m\u001b[1;36m0.1\u001b[0m\u001b[1;33m)\u001b[0m\u001b[1;33m\u001b[0m\u001b[1;33m\u001b[0m\u001b[0m\n\u001b[0m",
      "\u001b[1;31mKeyboardInterrupt\u001b[0m: "
     ]
    }
   ],
   "source": [
    "from time import sleep\n",
    "\n",
    "for i in infinite_sequence():\n",
    "    print(i, end=' ')\n",
    "    sleep(0.1)"
   ]
  },
  {
   "cell_type": "markdown",
   "metadata": {},
   "source": [
    "Podemos usar a função `next` para iterar item a item de um generator."
   ]
  },
  {
   "cell_type": "code",
   "execution_count": 36,
   "metadata": {},
   "outputs": [
    {
     "data": {
      "text/plain": [
       "0"
      ]
     },
     "execution_count": 36,
     "metadata": {},
     "output_type": "execute_result"
    }
   ],
   "source": [
    "gen = infinite_sequence()\n",
    "next(gen)"
   ]
  },
  {
   "cell_type": "code",
   "execution_count": 38,
   "metadata": {},
   "outputs": [
    {
     "data": {
      "text/plain": [
       "2"
      ]
     },
     "execution_count": 38,
     "metadata": {},
     "output_type": "execute_result"
    }
   ],
   "source": [
    "next(gen)"
   ]
  },
  {
   "cell_type": "markdown",
   "metadata": {},
   "source": [
    "## Vantagens das tuplas sobre listas\n",
    "* Tuplas são imutáveis. É garantido que não haverá alteração de seus elementos.\n",
    "* Como tuplas são imutáveis, iterar uma tupla é mais rápido do que iterar uma lista."
   ]
  },
  {
   "cell_type": "markdown",
   "metadata": {},
   "source": [
    "# Exercícios"
   ]
  },
  {
   "cell_type": "markdown",
   "metadata": {},
   "source": [
    "**1)** Programe a função `gen(it)` para criar um gerador dado um `iterable` `it` qualquer (lista, string, etc).\n",
    "\n",
    "Parâmetros:\n",
    "* **it**: qualquer objeto iterável como listas, strings, tuplas, etc.\n",
    "\n",
    "Retorno: Deve ser retornado um `generator` para percorrer esse iterável.\n",
    "\n",
    "Exemplo de uso:\n",
    "```python\n",
    "g = gen([1, 2, 3, 4])\n",
    "next(g) -> 1\n",
    "```"
   ]
  },
  {
   "cell_type": "code",
   "execution_count": 40,
   "metadata": {},
   "outputs": [
    {
     "name": "stdout",
     "output_type": "stream",
     "text": [
      "1\n"
     ]
    }
   ],
   "source": [
    "def gen(it):\n",
    "\n",
    "    i=0\n",
    "    while i < len(it):\n",
    "        yield it[i]\n",
    "        i +=1\n",
    "\n",
    "# resultado esperado: 1\n",
    "g = gen([1, 2, 3, 4])\n",
    "print(next(g))"
   ]
  },
  {
   "cell_type": "code",
   "execution_count": 41,
   "metadata": {},
   "outputs": [
    {
     "name": "stdout",
     "output_type": "stream",
     "text": [
      "Show de bola!\n"
     ]
    }
   ],
   "source": [
    "assert next(gen([1, 2, 3, 4])) == 1, 'Você errroooouuuuu!'\n",
    "assert next(gen('python')) == 'p', 'Você errroooouuuuu!'\n",
    "assert next(gen((1, 2, 3, 4))) == 1, 'Você errroooouuuuu!'\n",
    "print('Show de bola!')"
   ]
  },
  {
   "cell_type": "markdown",
   "metadata": {},
   "source": [
    "**2)** Programe a função `linear(inicio, fim, tamanho)` para criar um gerador que vá de `inicio` até `fim` na quantidade de elementos definida por `tamanho`.\n",
    "\n",
    "Parâmetros:\n",
    "* **inicio**: valor inicial\n",
    "* **fim**: valor final\n",
    "* **tamanho**: quantidade de elementos entre `inicio` e `fim`\n",
    "\n",
    "Retorno: Deve ser retornado um `generator` que inicia em `inicio`, termina em `fim` e tem a quantidade de elementos definida por `tamanho`.\n",
    "\n",
    "Exemplos de uso:\n",
    "```python\n",
    "list(linear(0, 1, 3)) -> [0.0, 0.5, 1.0]\n",
    "list(linear(0, 1, 2)) -> [0.0, 1.0]\n",
    "list(linear(1, 2, 4)) -> [1.0, 1.3333333333333333, 1.6666666666666665, 2.0]\n",
    "list(linear(-1, 1, 3)) -> [-1.0, 0.0, 1.0]\n",
    "list(linear(1, -1, 3)) -> [1.0, 0.0, -1.0]\n",
    "list(linear(1, 1, 3)) -> [1.0, 1.0, 1.0]\n",
    "```\n",
    "\n",
    "**Observações**:\n",
    "* Não é necessário validar se `tamanho` foi passado corretamente.\n",
    "* Todos os valores retornados devem ser do tipo `float`, mesmo que `inicio` ou `fim` sejam inteiros.\n",
    "* Obrigatoriamente o primeiro elemento retornado deverá ser o mesmo que `inicio` e que o último elemento retornado deverá ser o mesmo que `fim` (obedecendo a regra de retorno como `float`)"
   ]
  },
  {
   "cell_type": "code",
   "execution_count": null,
   "metadata": {},
   "outputs": [],
   "source": []
  },
  {
   "cell_type": "code",
   "execution_count": 61,
   "metadata": {},
   "outputs": [
    {
     "data": {
      "text/plain": [
       "[0.0, 0.5, 1.0]"
      ]
     },
     "execution_count": 61,
     "metadata": {},
     "output_type": "execute_result"
    }
   ],
   "source": [
    "def linear(inicio, fim, tamanho):\n",
    "    \n",
    "    incr = (fim - inicio)/(tamanho - 1)\n",
    "    atual = float(inicio)\n",
    "    c = 0\n",
    "    \n",
    "    while c < tamanho-1:\n",
    "        \n",
    "        yield atual\n",
    "        atual +=incr\n",
    "        c+=1\n",
    "        \n",
    "    yield float(fim)\n",
    "    \n",
    "# resultado esperado: [0.0, 0.5, 1.0]\n",
    "list(linear(0, 1, 3))"
   ]
  },
  {
   "cell_type": "code",
   "execution_count": 62,
   "metadata": {},
   "outputs": [
    {
     "name": "stdout",
     "output_type": "stream",
     "text": [
      "Show de bola!\n"
     ]
    }
   ],
   "source": [
    "assert list(linear(0, 1, 3)) == [0.0, 0.5, 1.0], 'Você errroooouuuuu!'\n",
    "assert list(linear(0, 1, 2)) == [0.0, 1.0], 'Você errroooouuuuu!'\n",
    "assert list(linear(1, 2, 4)) == [1.0, 1.3333333333333333, 1.6666666666666665, 2.0], 'Você errroooouuuuu!'\n",
    "assert list(linear(-1, 1, 3)) == [-1.0, 0.0, 1.0], 'Você errroooouuuuu!'\n",
    "assert list(linear(1, -1, 3)) == [1.0, 0.0, -1.0], 'Você errroooouuuuu!'\n",
    "assert list(linear(1, 1, 3)) == [1.0, 1.0, 1.0], 'Você errroooouuuuu!'\n",
    "print('Show de bola!')"
   ]
  },
  {
   "cell_type": "code",
   "execution_count": null,
   "metadata": {},
   "outputs": [],
   "source": []
  }
 ],
 "metadata": {
  "kernelspec": {
   "display_name": "Python 3 (ipykernel)",
   "language": "python",
   "name": "python3"
  },
  "language_info": {
   "codemirror_mode": {
    "name": "ipython",
    "version": 3
   },
   "file_extension": ".py",
   "mimetype": "text/x-python",
   "name": "python",
   "nbconvert_exporter": "python",
   "pygments_lexer": "ipython3",
   "version": "3.9.7"
  }
 },
 "nbformat": 4,
 "nbformat_minor": 2
}
