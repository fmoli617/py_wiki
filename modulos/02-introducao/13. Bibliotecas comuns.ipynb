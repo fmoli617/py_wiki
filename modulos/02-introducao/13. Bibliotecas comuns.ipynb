{
 "cells": [
  {
   "cell_type": "markdown",
   "metadata": {},
   "source": [
    "# Bibliotecas comuns\n",
    "Nesse notebook, vamos explorar algumas bibliotecas bem comuns em diversas aplicações. Exploraremos NumPy, Pandas, Matplotlib e quaiquer bibliotecas voltadas a machine learning mais para frente."
   ]
  },
  {
   "cell_type": "markdown",
   "metadata": {},
   "source": [
    "## `datetime`\n",
    "\n",
    "Biblioteca para trabalhar com datas.\n",
    "\n",
    "Referência: https://www.w3schools.com/python/python_datetime.asp"
   ]
  },
  {
   "cell_type": "code",
   "execution_count": 3,
   "metadata": {},
   "outputs": [],
   "source": [
    "import datetime"
   ]
  },
  {
   "cell_type": "markdown",
   "metadata": {},
   "source": [
    "### Criação\n",
    "Para criar datas, pode-se usar o método `now` ou através do construtor `datetime`."
   ]
  },
  {
   "cell_type": "code",
   "execution_count": 4,
   "metadata": {},
   "outputs": [
    {
     "name": "stdout",
     "output_type": "stream",
     "text": [
      "2021-03-18 10:35:49.220066\n",
      "2020-05-17 00:00:00\n"
     ]
    }
   ],
   "source": [
    "now = datetime.datetime.now()\n",
    "print(now)\n",
    "\n",
    "date = datetime.datetime(2020, 5, 17)\n",
    "print(date)"
   ]
  },
  {
   "cell_type": "markdown",
   "metadata": {},
   "source": [
    "### Formatando saída\n",
    "datetime permite diversos tipos de formatação."
   ]
  },
  {
   "cell_type": "code",
   "execution_count": 5,
   "metadata": {},
   "outputs": [
    {
     "name": "stdout",
     "output_type": "stream",
     "text": [
      "2021\n",
      "Thursday\n",
      "21 03 18\n",
      "18/03/2021\n"
     ]
    }
   ],
   "source": [
    "print(now.year)\n",
    "print(now.strftime('%A'))\n",
    "print(now.strftime('%y %m %d'))\n",
    "print(now.strftime('%d/%m/%Y'))"
   ]
  },
  {
   "cell_type": "markdown",
   "metadata": {},
   "source": [
    "## `time`\n",
    "\n",
    "Biblioteca para trabalhar com tempos.\n",
    "\n",
    "Referência: https://docs.python.org/3/library/time.html"
   ]
  },
  {
   "cell_type": "code",
   "execution_count": 6,
   "metadata": {},
   "outputs": [],
   "source": [
    "import time"
   ]
  },
  {
   "cell_type": "code",
   "execution_count": 7,
   "metadata": {},
   "outputs": [
    {
     "name": "stdout",
     "output_type": "stream",
     "text": [
      "1616074552.3438733\n"
     ]
    }
   ],
   "source": [
    "start = time.time()\n",
    "print(start)"
   ]
  },
  {
   "cell_type": "markdown",
   "metadata": {},
   "source": [
    "O resultado foi a quantidade de segundos a partir do tempo inicial, que pode ser obtido através do método abaixo."
   ]
  },
  {
   "cell_type": "code",
   "execution_count": 8,
   "metadata": {},
   "outputs": [
    {
     "data": {
      "text/plain": [
       "time.struct_time(tm_year=1970, tm_mon=1, tm_mday=1, tm_hour=0, tm_min=0, tm_sec=0, tm_wday=3, tm_yday=1, tm_isdst=0)"
      ]
     },
     "execution_count": 8,
     "metadata": {},
     "output_type": "execute_result"
    }
   ],
   "source": [
    "time.gmtime(0)"
   ]
  },
  {
   "cell_type": "markdown",
   "metadata": {},
   "source": [
    "### Benchmarking\n",
    "\n",
    "Existem várias funções da biblioteca, mas normalmente é usado para medir um tempo decorrido ou para para um por um período de tempo."
   ]
  },
  {
   "cell_type": "code",
   "execution_count": 9,
   "metadata": {},
   "outputs": [
    {
     "name": "stdout",
     "output_type": "stream",
     "text": [
      "Esse comando levou 5.01s para concluir\n"
     ]
    }
   ],
   "source": [
    "start = time.time()\n",
    "time.sleep(5)\n",
    "end = time.time()\n",
    "print(f'Esse comando levou {end - start:.2f}s para concluir')"
   ]
  },
  {
   "cell_type": "markdown",
   "metadata": {},
   "source": [
    "## `math`\n",
    "\n",
    "Biblioteca para trabalhar com algumas funções matemáticas.\n",
    "\n",
    "Referência: https://docs.python.org/3/library/math.html"
   ]
  },
  {
   "cell_type": "code",
   "execution_count": 10,
   "metadata": {},
   "outputs": [],
   "source": [
    "import math"
   ]
  },
  {
   "cell_type": "code",
   "execution_count": 11,
   "metadata": {},
   "outputs": [
    {
     "name": "stdout",
     "output_type": "stream",
     "text": [
      "3.141592653589793\n",
      "180.0\n",
      "1.5707963267948966\n"
     ]
    }
   ],
   "source": [
    "# imprimindo valor de PI\n",
    "print(math.pi)\n",
    "\n",
    "# convertendo PI em graus\n",
    "print(math.degrees(math.pi))\n",
    "\n",
    "# convertendo 90 graus em radianos\n",
    "print(math.radians(90.))"
   ]
  },
  {
   "cell_type": "code",
   "execution_count": 12,
   "metadata": {},
   "outputs": [
    {
     "name": "stdout",
     "output_type": "stream",
     "text": [
      "Número original: 5.7\n",
      "\"Teto\" do número: 6\n",
      "\"Chão\" do número: 5\n"
     ]
    }
   ],
   "source": [
    "n = 5.7\n",
    "\n",
    "print('Número original:', n)\n",
    "print('\"Teto\" do número:', math.ceil(n))\n",
    "print('\"Chão\" do número:', math.floor(n))"
   ]
  },
  {
   "cell_type": "code",
   "execution_count": 13,
   "metadata": {},
   "outputs": [
    {
     "name": "stdout",
     "output_type": "stream",
     "text": [
      "Número original: 100\n",
      "Log: 4.605170185988092\n",
      "Log na base 10: 2.0\n",
      "Log na base 2: 6.643856189774724\n",
      "Raiz quadrada: 10.0\n"
     ]
    }
   ],
   "source": [
    "n = 100\n",
    "\n",
    "print('Número original:', n)\n",
    "print('Log:', math.log(n))\n",
    "print('Log na base 10:', math.log10(n))\n",
    "print('Log na base 2:', math.log2(n))\n",
    "print('Raiz quadrada:', math.sqrt(n))"
   ]
  },
  {
   "cell_type": "code",
   "execution_count": 14,
   "metadata": {},
   "outputs": [
    {
     "name": "stdout",
     "output_type": "stream",
     "text": [
      "[0.1, 0.1, 0.1, 0.1, 0.1, 0.1, 0.1, 0.1, 0.1, 0.1]\n",
      "Soma com função \"sum\": 0.9999999999999999\n",
      "Soma com função \"fsum\": 1.0\n"
     ]
    }
   ],
   "source": [
    "numbers = [.1, .1, .1, .1, .1, .1, .1, .1, .1, .1]\n",
    "\n",
    "print(numbers)\n",
    "print('Soma com função \"sum\":', sum(numbers))\n",
    "print('Soma com função \"fsum\":', math.fsum(numbers))"
   ]
  },
  {
   "cell_type": "markdown",
   "metadata": {},
   "source": [
    "## `random`\n",
    "\n",
    "Biblioteca especializada em geração de números aleatórios.\n",
    "\n",
    "Referência: https://docs.python.org/3/library/random.html"
   ]
  },
  {
   "cell_type": "code",
   "execution_count": 15,
   "metadata": {},
   "outputs": [],
   "source": [
    "import random"
   ]
  },
  {
   "cell_type": "markdown",
   "metadata": {},
   "source": [
    "### Configurando seed\n",
    "Você pode informar uma \"semente\" para início da geração dos números aleatórios. Muito importante quando se quer reproduzir algo com os mesmos resultados."
   ]
  },
  {
   "cell_type": "code",
   "execution_count": 16,
   "metadata": {},
   "outputs": [
    {
     "name": "stdout",
     "output_type": "stream",
     "text": [
      "Sem seed\n",
      "7\n",
      "2\n",
      "7\n",
      "1\n",
      "9\n",
      "\n",
      "Com seed\n",
      "6\n",
      "6\n",
      "6\n",
      "6\n",
      "6\n"
     ]
    }
   ],
   "source": [
    "print('Sem seed')\n",
    "for _ in range(5):\n",
    "    print(random.randrange(0, 10))\n",
    "    \n",
    "print()\n",
    "\n",
    "print('Com seed')\n",
    "for _ in range(5):\n",
    "    random.seed(0)\n",
    "    print(random.randrange(0, 10))"
   ]
  },
  {
   "cell_type": "markdown",
   "metadata": {},
   "source": [
    "### Geração de números inteiros"
   ]
  },
  {
   "cell_type": "code",
   "execution_count": 17,
   "metadata": {},
   "outputs": [
    {
     "name": "stdout",
     "output_type": "stream",
     "text": [
      "6\n",
      "20\n",
      "132\n"
     ]
    }
   ],
   "source": [
    "print(random.randrange(10)) # imprime um valor aleatório de 0 a 9\n",
    "print(random.randrange(20, 31)) # imprime um valor aleatório de 20 a 30\n",
    "print(random.randrange(100, 201, 2)) # imprime um valor aleatório na sequência de 100 a 200 de 2 em 2"
   ]
  },
  {
   "cell_type": "markdown",
   "metadata": {},
   "source": [
    "### Geração de números flutuantes"
   ]
  },
  {
   "cell_type": "code",
   "execution_count": 18,
   "metadata": {},
   "outputs": [
    {
     "name": "stdout",
     "output_type": "stream",
     "text": [
      "0.9654648863619172\n",
      "3.457783089688438\n"
     ]
    }
   ],
   "source": [
    "print(random.random()) # imprime um valor aleatório entre [0., 1.]\n",
    "print(random.uniform(2, 5)) # imprime um valor aleatório entre [2., 5.]"
   ]
  },
  {
   "cell_type": "markdown",
   "metadata": {},
   "source": [
    "### Trabalhando com sequências"
   ]
  },
  {
   "cell_type": "code",
   "execution_count": 19,
   "metadata": {},
   "outputs": [
    {
     "name": "stdout",
     "output_type": "stream",
     "text": [
      "['A♠', '2♠', '3♠', '4♠', '5♠', '6♠', '7♠', '8♠', '9♠', '10♠', 'J♠', 'Q♠', 'K♠', 'A♣', '2♣', '3♣', '4♣', '5♣', '6♣', '7♣', '8♣', '9♣', '10♣', 'J♣', 'Q♣', 'K♣', 'A♥', '2♥', '3♥', '4♥', '5♥', '6♥', '7♥', '8♥', '9♥', '10♥', 'J♥', 'Q♥', 'K♥', 'A♦', '2♦', '3♦', '4♦', '5♦', '6♦', '7♦', '8♦', '9♦', '10♦', 'J♦', 'Q♦', 'K♦']\n"
     ]
    }
   ],
   "source": [
    "valores = ['A', '2', '3', '4', '5', '6', '7', '8', '9', '10', 'J', 'Q', 'K']\n",
    "naipes = ['♠', '♣', '♥', '♦']\n",
    "baralho = [valor + naipe for naipe in naipes for valor in valores]\n",
    "print(baralho)"
   ]
  },
  {
   "cell_type": "code",
   "execution_count": 30,
   "metadata": {},
   "outputs": [
    {
     "name": "stdout",
     "output_type": "stream",
     "text": [
      "8♣\n"
     ]
    }
   ],
   "source": [
    "# escolhe aleatóriamente um item da lista\n",
    "print(random.choice(baralho)) "
   ]
  },
  {
   "cell_type": "code",
   "execution_count": 31,
   "metadata": {},
   "outputs": [
    {
     "name": "stdout",
     "output_type": "stream",
     "text": [
      "['5♣', '6♥', '8♥', '3♥', '10♥', 'A♥', '4♥', 'J♠', '4♦', 'J♣', '7♠', '7♣', '9♦', 'K♣', 'A♠', 'Q♠', 'Q♣', '10♣', 'K♦', 'J♦', '4♣', '9♠', 'Q♦', 'J♥', 'Q♥', '2♥', '8♠', '9♥', '6♦', '5♠', '2♠', '7♦', '10♦', '10♠', 'K♠', '2♦', '5♥', '3♦', 'K♥', '8♣', '6♣', '5♦', '6♠', '2♣', '3♠', 'A♦', '7♥', '4♠', '9♣', '8♦', '3♣', 'A♣']\n"
     ]
    }
   ],
   "source": [
    "# embaralha lista\n",
    "random.shuffle(baralho)\n",
    "print(baralho) "
   ]
  },
  {
   "cell_type": "code",
   "execution_count": 32,
   "metadata": {},
   "outputs": [
    {
     "name": "stdout",
     "output_type": "stream",
     "text": [
      "['K♥', '5♦', '9♦', 'J♦', '10♣', '3♠', '7♣']\n"
     ]
    }
   ],
   "source": [
    "# pega uma amostra da lista (no caso, amostra de 7 elementos)\n",
    "print(random.sample(baralho, k=7))"
   ]
  },
  {
   "cell_type": "code",
   "execution_count": 41,
   "metadata": {},
   "outputs": [
    {
     "name": "stdout",
     "output_type": "stream",
     "text": [
      "['perder', 'ganhar', 'perder', 'ganhar', 'perder', 'ganhar', 'perder', 'perder', 'perder', 'perder']\n"
     ]
    }
   ],
   "source": [
    "# escolhe aleatoriamente 10 itens da lista na proporção 1:2\n",
    "opcoes = ['ganhar', 'perder']\n",
    "print(random.choices(opcoes, [1, 2], k=10))"
   ]
  },
  {
   "cell_type": "markdown",
   "metadata": {},
   "source": [
    "## `string`\n",
    "\n",
    "Biblioteca com alguns recursos para trabalhar com strings.\n",
    "\n",
    "Referência: https://docs.python.org/3/library/string.html"
   ]
  },
  {
   "cell_type": "code",
   "execution_count": 42,
   "metadata": {},
   "outputs": [],
   "source": [
    "import string"
   ]
  },
  {
   "cell_type": "markdown",
   "metadata": {},
   "source": [
    "### Constantes"
   ]
  },
  {
   "cell_type": "code",
   "execution_count": 43,
   "metadata": {},
   "outputs": [
    {
     "name": "stdout",
     "output_type": "stream",
     "text": [
      "abcdefghijklmnopqrstuvwxyzABCDEFGHIJKLMNOPQRSTUVWXYZ\n",
      "abcdefghijklmnopqrstuvwxyz\n",
      "ABCDEFGHIJKLMNOPQRSTUVWXYZ\n"
     ]
    }
   ],
   "source": [
    "print(string.ascii_letters)\n",
    "print(string.ascii_lowercase)\n",
    "print(string.ascii_uppercase)"
   ]
  },
  {
   "cell_type": "code",
   "execution_count": 44,
   "metadata": {},
   "outputs": [
    {
     "name": "stdout",
     "output_type": "stream",
     "text": [
      "0123456789\n",
      "0123456789abcdefABCDEF\n"
     ]
    }
   ],
   "source": [
    "print(string.digits)\n",
    "print(string.hexdigits)"
   ]
  },
  {
   "cell_type": "code",
   "execution_count": 45,
   "metadata": {},
   "outputs": [
    {
     "name": "stdout",
     "output_type": "stream",
     "text": [
      "!\"#$%&'()*+,-./:;<=>?@[\\]^_`{|}~\n"
     ]
    }
   ],
   "source": [
    "print(string.punctuation)"
   ]
  },
  {
   "cell_type": "code",
   "execution_count": 46,
   "metadata": {},
   "outputs": [
    {
     "name": "stdout",
     "output_type": "stream",
     "text": [
      "0123456789abcdefghijklmnopqrstuvwxyzABCDEFGHIJKLMNOPQRSTUVWXYZ!\"#$%&'()*+,-./:;<=>?@[\\]^_`{|}~ \t\n",
      "\r",
      "\u000b",
      "\f",
      "\n"
     ]
    }
   ],
   "source": [
    "print(string.printable)"
   ]
  },
  {
   "cell_type": "code",
   "execution_count": 47,
   "metadata": {},
   "outputs": [
    {
     "name": "stdout",
     "output_type": "stream",
     "text": [
      " \t\n",
      "\r",
      "\u000b",
      "\f",
      "\n"
     ]
    }
   ],
   "source": [
    "print(string.whitespace)"
   ]
  },
  {
   "cell_type": "markdown",
   "metadata": {},
   "source": [
    "### Templates\n",
    "\n",
    "Classe para criação de templates de texto."
   ]
  },
  {
   "cell_type": "code",
   "execution_count": 48,
   "metadata": {},
   "outputs": [
    {
     "name": "stdout",
     "output_type": "stream",
     "text": [
      "Mult gosta de baguete.\n"
     ]
    }
   ],
   "source": [
    "s = string.Template('$quem gosta de $algo.')\n",
    "print(s.substitute(quem='Mult', algo='baguete'))"
   ]
  },
  {
   "cell_type": "code",
   "execution_count": 52,
   "metadata": {},
   "outputs": [],
   "source": [
    "d = dict(quem='Mult')"
   ]
  },
  {
   "cell_type": "code",
   "execution_count": 53,
   "metadata": {},
   "outputs": [
    {
     "ename": "KeyError",
     "evalue": "'algo'",
     "output_type": "error",
     "traceback": [
      "\u001b[1;31m---------------------------------------------------------------------------\u001b[0m",
      "\u001b[1;31mKeyError\u001b[0m                                  Traceback (most recent call last)",
      "\u001b[1;32m<ipython-input-53-a9de471f9bcc>\u001b[0m in \u001b[0;36m<module>\u001b[1;34m\u001b[0m\n\u001b[1;32m----> 1\u001b[1;33m \u001b[0mprint\u001b[0m\u001b[1;33m(\u001b[0m\u001b[0ms\u001b[0m\u001b[1;33m.\u001b[0m\u001b[0msubstitute\u001b[0m\u001b[1;33m(\u001b[0m\u001b[0md\u001b[0m\u001b[1;33m)\u001b[0m\u001b[1;33m)\u001b[0m\u001b[1;33m\u001b[0m\u001b[1;33m\u001b[0m\u001b[0m\n\u001b[0m",
      "\u001b[1;32m~\\Anaconda3\\lib\\string.py\u001b[0m in \u001b[0;36msubstitute\u001b[1;34m(self, mapping, **kws)\u001b[0m\n\u001b[0;32m    124\u001b[0m             raise ValueError('Unrecognized named group in pattern',\n\u001b[0;32m    125\u001b[0m                              self.pattern)\n\u001b[1;32m--> 126\u001b[1;33m         \u001b[1;32mreturn\u001b[0m \u001b[0mself\u001b[0m\u001b[1;33m.\u001b[0m\u001b[0mpattern\u001b[0m\u001b[1;33m.\u001b[0m\u001b[0msub\u001b[0m\u001b[1;33m(\u001b[0m\u001b[0mconvert\u001b[0m\u001b[1;33m,\u001b[0m \u001b[0mself\u001b[0m\u001b[1;33m.\u001b[0m\u001b[0mtemplate\u001b[0m\u001b[1;33m)\u001b[0m\u001b[1;33m\u001b[0m\u001b[1;33m\u001b[0m\u001b[0m\n\u001b[0m\u001b[0;32m    127\u001b[0m \u001b[1;33m\u001b[0m\u001b[0m\n\u001b[0;32m    128\u001b[0m     \u001b[1;32mdef\u001b[0m \u001b[0msafe_substitute\u001b[0m\u001b[1;33m(\u001b[0m\u001b[0mself\u001b[0m\u001b[1;33m,\u001b[0m \u001b[0mmapping\u001b[0m\u001b[1;33m=\u001b[0m\u001b[0m_sentinel_dict\u001b[0m\u001b[1;33m,\u001b[0m \u001b[1;33m/\u001b[0m\u001b[1;33m,\u001b[0m \u001b[1;33m**\u001b[0m\u001b[0mkws\u001b[0m\u001b[1;33m)\u001b[0m\u001b[1;33m:\u001b[0m\u001b[1;33m\u001b[0m\u001b[1;33m\u001b[0m\u001b[0m\n",
      "\u001b[1;32m~\\Anaconda3\\lib\\string.py\u001b[0m in \u001b[0;36mconvert\u001b[1;34m(mo)\u001b[0m\n\u001b[0;32m    117\u001b[0m             \u001b[0mnamed\u001b[0m \u001b[1;33m=\u001b[0m \u001b[0mmo\u001b[0m\u001b[1;33m.\u001b[0m\u001b[0mgroup\u001b[0m\u001b[1;33m(\u001b[0m\u001b[1;34m'named'\u001b[0m\u001b[1;33m)\u001b[0m \u001b[1;32mor\u001b[0m \u001b[0mmo\u001b[0m\u001b[1;33m.\u001b[0m\u001b[0mgroup\u001b[0m\u001b[1;33m(\u001b[0m\u001b[1;34m'braced'\u001b[0m\u001b[1;33m)\u001b[0m\u001b[1;33m\u001b[0m\u001b[1;33m\u001b[0m\u001b[0m\n\u001b[0;32m    118\u001b[0m             \u001b[1;32mif\u001b[0m \u001b[0mnamed\u001b[0m \u001b[1;32mis\u001b[0m \u001b[1;32mnot\u001b[0m \u001b[1;32mNone\u001b[0m\u001b[1;33m:\u001b[0m\u001b[1;33m\u001b[0m\u001b[1;33m\u001b[0m\u001b[0m\n\u001b[1;32m--> 119\u001b[1;33m                 \u001b[1;32mreturn\u001b[0m \u001b[0mstr\u001b[0m\u001b[1;33m(\u001b[0m\u001b[0mmapping\u001b[0m\u001b[1;33m[\u001b[0m\u001b[0mnamed\u001b[0m\u001b[1;33m]\u001b[0m\u001b[1;33m)\u001b[0m\u001b[1;33m\u001b[0m\u001b[1;33m\u001b[0m\u001b[0m\n\u001b[0m\u001b[0;32m    120\u001b[0m             \u001b[1;32mif\u001b[0m \u001b[0mmo\u001b[0m\u001b[1;33m.\u001b[0m\u001b[0mgroup\u001b[0m\u001b[1;33m(\u001b[0m\u001b[1;34m'escaped'\u001b[0m\u001b[1;33m)\u001b[0m \u001b[1;32mis\u001b[0m \u001b[1;32mnot\u001b[0m \u001b[1;32mNone\u001b[0m\u001b[1;33m:\u001b[0m\u001b[1;33m\u001b[0m\u001b[1;33m\u001b[0m\u001b[0m\n\u001b[0;32m    121\u001b[0m                 \u001b[1;32mreturn\u001b[0m \u001b[0mself\u001b[0m\u001b[1;33m.\u001b[0m\u001b[0mdelimiter\u001b[0m\u001b[1;33m\u001b[0m\u001b[1;33m\u001b[0m\u001b[0m\n",
      "\u001b[1;31mKeyError\u001b[0m: 'algo'"
     ]
    }
   ],
   "source": [
    "print(s.substitute(d))"
   ]
  },
  {
   "cell_type": "code",
   "execution_count": 54,
   "metadata": {},
   "outputs": [
    {
     "name": "stdout",
     "output_type": "stream",
     "text": [
      "Mult gosta de $algo.\n"
     ]
    }
   ],
   "source": [
    "print(s.safe_substitute(d))"
   ]
  },
  {
   "cell_type": "markdown",
   "metadata": {},
   "source": [
    "### Função `capwords`\n",
    "\n",
    "Capitaliza todas as palavras da string."
   ]
  },
  {
   "cell_type": "code",
   "execution_count": 56,
   "metadata": {},
   "outputs": [
    {
     "name": "stdout",
     "output_type": "stream",
     "text": [
      "O Rato Roeu A Roupa Do Rei De Roma\n"
     ]
    }
   ],
   "source": [
    "s = 'o rato roeu a roupa do rei de roma'\n",
    "print(string.capwords(s))"
   ]
  },
  {
   "cell_type": "markdown",
   "metadata": {},
   "source": [
    "## `textwrap`\n",
    "\n",
    "Biblioteca com algumas conveniências para trabalhar com strings.\n",
    "\n",
    "Referência: https://docs.python.org/3/library/textwrap.html"
   ]
  },
  {
   "cell_type": "code",
   "execution_count": 57,
   "metadata": {},
   "outputs": [],
   "source": [
    "import textwrap"
   ]
  },
  {
   "cell_type": "markdown",
   "metadata": {},
   "source": [
    "### Função `wrap`\n",
    "\n",
    "Cria lista com strings de no máximo `width` caracteres."
   ]
  },
  {
   "cell_type": "code",
   "execution_count": 58,
   "metadata": {},
   "outputs": [
    {
     "name": "stdout",
     "output_type": "stream",
     "text": [
      "['O rato roeu a roupa', 'do rei de Roma']\n"
     ]
    }
   ],
   "source": [
    "texto = 'O rato roeu a roupa do rei de Roma'\n",
    "print(textwrap.wrap(texto, width=20))"
   ]
  },
  {
   "cell_type": "markdown",
   "metadata": {},
   "source": [
    "### Função `fill`\n",
    "\n",
    "Cria string multilinha de strings de no máximo `width` caracteres."
   ]
  },
  {
   "cell_type": "code",
   "execution_count": 59,
   "metadata": {},
   "outputs": [
    {
     "name": "stdout",
     "output_type": "stream",
     "text": [
      "O rato roeu a roupa\n",
      "do rei de Roma\n"
     ]
    }
   ],
   "source": [
    "texto = 'O rato roeu a roupa do rei de Roma'\n",
    "print(textwrap.fill(texto, width=20))"
   ]
  },
  {
   "cell_type": "markdown",
   "metadata": {},
   "source": [
    "### Função `shorten`\n",
    "\n",
    "Encurta string com padrão indicado."
   ]
  },
  {
   "cell_type": "code",
   "execution_count": 60,
   "metadata": {},
   "outputs": [
    {
     "name": "stdout",
     "output_type": "stream",
     "text": [
      "O rato roeu a [...]\n",
      "O rato roeu a...\n"
     ]
    }
   ],
   "source": [
    "texto = 'O rato roeu a roupa do rei de Roma'\n",
    "print(textwrap.shorten(texto, width=20))\n",
    "print(textwrap.shorten(texto, width=20, placeholder='...'))"
   ]
  },
  {
   "cell_type": "markdown",
   "metadata": {},
   "source": [
    "### Função `dedent`\n",
    "\n",
    "Remove espaços iniciais de um texto multilinha."
   ]
  },
  {
   "cell_type": "code",
   "execution_count": 61,
   "metadata": {},
   "outputs": [
    {
     "name": "stdout",
     "output_type": "stream",
     "text": [
      "\n",
      "    SELECT\n",
      "        COLUNA1,\n",
      "        COLUNA2\n",
      "    FROM\n",
      "        TABELA\n",
      "    WHERE\n",
      "        CONDICAO\n",
      "\n",
      "\n",
      "\n",
      "SELECT\n",
      "    COLUNA1,\n",
      "    COLUNA2\n",
      "FROM\n",
      "    TABELA\n",
      "WHERE\n",
      "    CONDICAO\n",
      "\n"
     ]
    }
   ],
   "source": [
    "sql = \"\"\"\n",
    "    SELECT\n",
    "        COLUNA1,\n",
    "        COLUNA2\n",
    "    FROM\n",
    "        TABELA\n",
    "    WHERE\n",
    "        CONDICAO\n",
    "\"\"\"\n",
    "print(sql)\n",
    "print()\n",
    "print(textwrap.dedent(sql))"
   ]
  },
  {
   "cell_type": "markdown",
   "metadata": {},
   "source": [
    "## `itertools`\n",
    "\n",
    "Biblioteca para trabalhar com iterators para loopings eficientes.\n",
    "\n",
    "Referência: https://docs.python.org/3/library/itertools.html"
   ]
  },
  {
   "cell_type": "code",
   "execution_count": 62,
   "metadata": {},
   "outputs": [],
   "source": [
    "import itertools"
   ]
  },
  {
   "cell_type": "markdown",
   "metadata": {},
   "source": [
    "### Função `chain`\n",
    "\n",
    "Encadeia diversas listas em diversos níveis em uma só \"flat\"."
   ]
  },
  {
   "cell_type": "code",
   "execution_count": 63,
   "metadata": {},
   "outputs": [
    {
     "name": "stdout",
     "output_type": "stream",
     "text": [
      "[1, 2, 3, 4, 5, 6]\n"
     ]
    }
   ],
   "source": [
    "# listas dentro de listas\n",
    "print(list(itertools.chain([1, 2], [3, 4], [5, 6])))"
   ]
  },
  {
   "cell_type": "code",
   "execution_count": 64,
   "metadata": {},
   "outputs": [
    {
     "name": "stdout",
     "output_type": "stream",
     "text": [
      "[1, 2, 3, 4, 5, 6]\n"
     ]
    }
   ],
   "source": [
    "# listas dentro de listas\n",
    "list1 = [[1, 2], [3, 4], [5, 6]]\n",
    "print(list(itertools.chain.from_iterable(list1)))"
   ]
  },
  {
   "cell_type": "markdown",
   "metadata": {},
   "source": [
    "### Função `combinations`\n",
    "\n",
    "Gera todas as combinações com o tamanho especificado."
   ]
  },
  {
   "cell_type": "code",
   "execution_count": 65,
   "metadata": {},
   "outputs": [
    {
     "name": "stdout",
     "output_type": "stream",
     "text": [
      "[(1, 2), (1, 3), (1, 4), (2, 3), (2, 4), (3, 4)]\n"
     ]
    }
   ],
   "source": [
    "list1 = [1, 2, 3, 4]\n",
    "print(list(itertools.combinations(list1, r=2)))"
   ]
  },
  {
   "cell_type": "markdown",
   "metadata": {},
   "source": [
    "### Função `permutations`\n",
    "\n",
    "Gera todas as permutações possíveis."
   ]
  },
  {
   "cell_type": "code",
   "execution_count": 66,
   "metadata": {},
   "outputs": [
    {
     "name": "stdout",
     "output_type": "stream",
     "text": [
      "[(1, 2), (1, 3), (1, 4), (2, 1), (2, 3), (2, 4), (3, 1), (3, 2), (3, 4), (4, 1), (4, 2), (4, 3)]\n"
     ]
    }
   ],
   "source": [
    "list1 = [1, 2, 3, 4]\n",
    "print(list(itertools.permutations(list1, r=2)))"
   ]
  },
  {
   "cell_type": "markdown",
   "metadata": {},
   "source": [
    "## `functools`\n",
    "\n",
    "Biblioteca com alguns aprimoramentos às funções, como cache, comparações automáticas, etc.\n",
    "\n",
    "Referência: https://docs.python.org/3/library/functools.html"
   ]
  },
  {
   "cell_type": "code",
   "execution_count": 67,
   "metadata": {},
   "outputs": [],
   "source": [
    "import functools"
   ]
  },
  {
   "cell_type": "markdown",
   "metadata": {},
   "source": [
    "### Função `reduce`\n",
    "\n",
    "Reduz uma lista a um único valor, assim como `sum`, que reduz uma lista à soma de todos os elementos.\n",
    "\n",
    "A função é simples e poderia ser escrita da seguinte forma:\n",
    "```python\n",
    "def reduce(function, iterable, initializer=None):\n",
    "    it = iter(iterable)\n",
    "    if initializer is None:\n",
    "        value = next(it)\n",
    "    else:\n",
    "        value = initializer\n",
    "    for element in it:\n",
    "        value = function(value, element)\n",
    "    return value\n",
    "```"
   ]
  },
  {
   "cell_type": "code",
   "execution_count": 68,
   "metadata": {},
   "outputs": [
    {
     "name": "stdout",
     "output_type": "stream",
     "text": [
      "150\n"
     ]
    }
   ],
   "source": [
    "lista = [10, 20, 30, 40, 50]\n",
    "\n",
    "soma = functools.reduce(lambda x, y: x+y, lista)\n",
    "print(soma)"
   ]
  },
  {
   "cell_type": "code",
   "execution_count": 69,
   "metadata": {},
   "outputs": [
    {
     "name": "stdout",
     "output_type": "stream",
     "text": [
      "50\n"
     ]
    }
   ],
   "source": [
    "maior = functools.reduce(lambda x, y: x if x > y else y, lista)\n",
    "print(maior)"
   ]
  },
  {
   "cell_type": "markdown",
   "metadata": {},
   "source": [
    "### `@lru_cache`\n",
    "\n",
    "Guarda temporariamente o resultado de uma função em cache (memória) de acordo com os parâmetros passados na entrada."
   ]
  },
  {
   "cell_type": "code",
   "execution_count": 70,
   "metadata": {},
   "outputs": [],
   "source": [
    "import time"
   ]
  },
  {
   "cell_type": "markdown",
   "metadata": {},
   "source": [
    "Vamos criar uma função qualquer para mostrar o potencial desse recurso. Note que `lru_cache` é um `decorator`, ou seja, deve ser declarado acima da função.\n",
    "\n",
    "O número indicado em `lru_cache` indica quantos espaços serão reservados em memória para o cache."
   ]
  },
  {
   "cell_type": "code",
   "execution_count": 71,
   "metadata": {},
   "outputs": [],
   "source": [
    "@functools.lru_cache(maxsize=1)\n",
    "def calculo_qualquer(numero):\n",
    "    time.sleep(numero)\n",
    "    return numero**2"
   ]
  },
  {
   "cell_type": "markdown",
   "metadata": {},
   "source": [
    "Agora vamos executar uma única vez com o parâmetro `5`."
   ]
  },
  {
   "cell_type": "code",
   "execution_count": 72,
   "metadata": {},
   "outputs": [
    {
     "name": "stdout",
     "output_type": "stream",
     "text": [
      "25\n",
      "5.003528118133545\n"
     ]
    }
   ],
   "source": [
    "start = time.time()\n",
    "print(calculo_qualquer(5))\n",
    "print(time.time() - start)"
   ]
  },
  {
   "cell_type": "markdown",
   "metadata": {},
   "source": [
    "Demorou 5 segundos para retornar o valor 25. Agora se executarmos novamente, veremos a diferença."
   ]
  },
  {
   "cell_type": "code",
   "execution_count": 73,
   "metadata": {},
   "outputs": [
    {
     "name": "stdout",
     "output_type": "stream",
     "text": [
      "25\n",
      "0.0019948482513427734\n"
     ]
    }
   ],
   "source": [
    "start = time.time()\n",
    "print(calculo_qualquer(5))\n",
    "print(time.time() - start)"
   ]
  },
  {
   "cell_type": "markdown",
   "metadata": {},
   "source": [
    "O resultado foi imediato, pois o código não foi executado novamente, mas sim, o valor 25 já estava associado ao parâmetro 5.\n",
    "\n",
    "Se executarmos com o parâmetro `2`, veremos que ele executará o código novamente."
   ]
  },
  {
   "cell_type": "code",
   "execution_count": 74,
   "metadata": {},
   "outputs": [
    {
     "name": "stdout",
     "output_type": "stream",
     "text": [
      "4\n",
      "2.013794422149658\n"
     ]
    }
   ],
   "source": [
    "start = time.time()\n",
    "print(calculo_qualquer(2))\n",
    "print(time.time() - start)"
   ]
  },
  {
   "cell_type": "markdown",
   "metadata": {},
   "source": [
    "Note também que se executarmos novamente com o parâmetro `5` o código será executado novamente, pois indicamos que o tamanho máximo do cache é `1`, que na prática é como se quiséssemos guardar o último resultado."
   ]
  },
  {
   "cell_type": "code",
   "execution_count": 75,
   "metadata": {},
   "outputs": [
    {
     "name": "stdout",
     "output_type": "stream",
     "text": [
      "25\n",
      "5.009026288986206\n"
     ]
    }
   ],
   "source": [
    "start = time.time()\n",
    "print(calculo_qualquer(5))\n",
    "print(time.time() - start)"
   ]
  },
  {
   "cell_type": "markdown",
   "metadata": {},
   "source": [
    "Podemos criar o concerito de `memoization` na função de fibonacci. Vamos comparar os resultados."
   ]
  },
  {
   "cell_type": "code",
   "execution_count": 76,
   "metadata": {},
   "outputs": [],
   "source": [
    "@functools.lru_cache(maxsize=None)\n",
    "def cached_fibonacci(n):\n",
    "    if n < 2:\n",
    "        return n\n",
    "    return cached_fibonacci(n-1) + cached_fibonacci(n-2)\n",
    "\n",
    "def noncached_fibonacci(n):\n",
    "    if n < 2:\n",
    "        return n\n",
    "    return noncached_fibonacci(n-1) + noncached_fibonacci(n-2)"
   ]
  },
  {
   "cell_type": "code",
   "execution_count": 77,
   "metadata": {},
   "outputs": [
    {
     "name": "stdout",
     "output_type": "stream",
     "text": [
      "9227465\n",
      "10.750161170959473\n"
     ]
    }
   ],
   "source": [
    "start = time.time()\n",
    "print(noncached_fibonacci(35))\n",
    "print(time.time() - start)"
   ]
  },
  {
   "cell_type": "code",
   "execution_count": 81,
   "metadata": {},
   "outputs": [
    {
     "name": "stdout",
     "output_type": "stream",
     "text": [
      "9227465\n",
      "0.0\n"
     ]
    }
   ],
   "source": [
    "start = time.time()\n",
    "print(cached_fibonacci(35))\n",
    "print(time.time() - start)"
   ]
  },
  {
   "cell_type": "markdown",
   "metadata": {},
   "source": [
    "O resultado foi muito superior!\n",
    "\n",
    "**Observação**: Como o resultado é associado a somente os parâmetros de entrada. Não é aconselhável guardar em cache resultados que por ventura foram obtidos em conjunto com valores aleatórios."
   ]
  },
  {
   "cell_type": "markdown",
   "metadata": {},
   "source": [
    "## `operator`\n",
    "\n",
    "Biblioteca com diversas funções simples já programadas para tarefas comuns.\n",
    "\n",
    "Referência: https://docs.python.org/3/library/operator.html"
   ]
  },
  {
   "cell_type": "code",
   "execution_count": 82,
   "metadata": {},
   "outputs": [],
   "source": [
    "import operator"
   ]
  },
  {
   "cell_type": "markdown",
   "metadata": {},
   "source": [
    "Podemos chamar algumas funções da seguinte forma."
   ]
  },
  {
   "cell_type": "markdown",
   "metadata": {},
   "source": [
    "### Operações aritméticas"
   ]
  },
  {
   "cell_type": "code",
   "execution_count": 83,
   "metadata": {},
   "outputs": [
    {
     "name": "stdout",
     "output_type": "stream",
     "text": [
      "30\n",
      "-10\n",
      "200\n",
      "0.5\n",
      "0\n"
     ]
    }
   ],
   "source": [
    "print(operator.add(10, 20))\n",
    "print(operator.sub(10, 20))\n",
    "print(operator.mul(10, 20))\n",
    "print(operator.truediv(10, 20))\n",
    "print(operator.floordiv(10, 20))"
   ]
  },
  {
   "cell_type": "markdown",
   "metadata": {},
   "source": [
    "Dãã! Mas que coisa mais sem sentido. Bastaria usar os operadores no lugar."
   ]
  },
  {
   "cell_type": "markdown",
   "metadata": {},
   "source": [
    "A grande vantagem está quando usamos em conjunto com funções que recebem funções como parâmetros."
   ]
  },
  {
   "cell_type": "code",
   "execution_count": 84,
   "metadata": {},
   "outputs": [
    {
     "name": "stdout",
     "output_type": "stream",
     "text": [
      "120\n",
      "120\n"
     ]
    }
   ],
   "source": [
    "# esse seria o jeito de criarmos uma função de multiplicação acumulada\n",
    "print(functools.reduce(lambda x, y: x * y, [1, 2, 3, 4, 5]))\n",
    "\n",
    "# agora usando a função mul da biblioteca operator... fica bem mais simples de entender.\n",
    "print(functools.reduce(operator.mul, [1, 2, 3, 4, 5]))"
   ]
  },
  {
   "cell_type": "markdown",
   "metadata": {},
   "source": [
    "### `itemgetter` e `attrgetter`\n",
    "\n",
    "Existem duas funções na biblioteca **operator** que facilitam a extração de valores pelos seus índices ou atributos."
   ]
  },
  {
   "cell_type": "markdown",
   "metadata": {},
   "source": [
    "Suponhamos que queremos ordenar uma lista pelo segundo índice."
   ]
  },
  {
   "cell_type": "code",
   "execution_count": 85,
   "metadata": {},
   "outputs": [],
   "source": [
    "lista = [('Duda', 20), ('Abelardo', 50), ('Maria', 10)]"
   ]
  },
  {
   "cell_type": "code",
   "execution_count": 86,
   "metadata": {},
   "outputs": [
    {
     "data": {
      "text/plain": [
       "[('Maria', 10), ('Duda', 20), ('Abelardo', 50)]"
      ]
     },
     "execution_count": 86,
     "metadata": {},
     "output_type": "execute_result"
    }
   ],
   "source": [
    "sorted(lista, key=lambda item: item[1])"
   ]
  },
  {
   "cell_type": "markdown",
   "metadata": {},
   "source": [
    "Podemos usar a função `operator.itemgetter` no lugar para deixar ainda mais legível."
   ]
  },
  {
   "cell_type": "code",
   "execution_count": 87,
   "metadata": {},
   "outputs": [
    {
     "data": {
      "text/plain": [
       "[('Maria', 10), ('Duda', 20), ('Abelardo', 50)]"
      ]
     },
     "execution_count": 87,
     "metadata": {},
     "output_type": "execute_result"
    }
   ],
   "source": [
    "sorted(lista, key=operator.itemgetter(1))"
   ]
  },
  {
   "cell_type": "markdown",
   "metadata": {},
   "source": [
    "Agora vamos ver um outro caso. Quando queremos acessar uma chave ao invés de índice."
   ]
  },
  {
   "cell_type": "code",
   "execution_count": null,
   "metadata": {},
   "outputs": [],
   "source": [
    "lista = [\n",
    "    {'nome': 'Duda', 'idade': 20},\n",
    "    {'nome': 'Abelardo', 'idade': 50},\n",
    "    {'nome': 'Maria', 'idade': 10}\n",
    "]"
   ]
  },
  {
   "cell_type": "code",
   "execution_count": null,
   "metadata": {},
   "outputs": [],
   "source": [
    "sorted(lista, key=lambda item: item['idade'])"
   ]
  },
  {
   "cell_type": "code",
   "execution_count": null,
   "metadata": {},
   "outputs": [],
   "source": [
    "sorted(lista, key=operator.itemgetter('idade'))"
   ]
  },
  {
   "cell_type": "markdown",
   "metadata": {},
   "source": [
    "Para entendermos mais sobre `operator.attrgetter`, precisaremos seguir adiante nos notebooks, pois precisamos entender um pouco mais sobre propriedades em Python."
   ]
  },
  {
   "cell_type": "markdown",
   "metadata": {},
   "source": [
    "# Exercícios"
   ]
  },
  {
   "cell_type": "markdown",
   "metadata": {},
   "source": [
    "**1)** Quantas combinações únicas existem para uma lista com 5 elementos?"
   ]
  },
  {
   "cell_type": "code",
   "execution_count": null,
   "metadata": {},
   "outputs": [],
   "source": []
  },
  {
   "cell_type": "code",
   "execution_count": null,
   "metadata": {},
   "outputs": [],
   "source": []
  },
  {
   "cell_type": "markdown",
   "metadata": {},
   "source": [
    "**2)** Quanto tempo leva para extrair 4 cartas aleatórias de um baralho ordenado e as 4 forem Ás (a semente deve ser 0)?"
   ]
  },
  {
   "cell_type": "code",
   "execution_count": null,
   "metadata": {},
   "outputs": [],
   "source": [
    "valores = ['A', '2', '3', '4', '5', '6', '7', '8', '9', '10', 'J', 'Q', 'K']\n",
    "naipes = ['♠', '♣', '♥', '♦']\n",
    "baralho = [valor + naipe for naipe in naipes for valor in valores]\n",
    "\n",
    "# seu código vai abaixo\n"
   ]
  },
  {
   "cell_type": "code",
   "execution_count": null,
   "metadata": {},
   "outputs": [],
   "source": []
  },
  {
   "cell_type": "code",
   "execution_count": null,
   "metadata": {},
   "outputs": [],
   "source": []
  },
  {
   "cell_type": "markdown",
   "metadata": {},
   "source": [
    "**3)** Usando a função `functools.reduce` implemente a função `multireplace(s, repls)` que fará múltiplas substituições de termos em uma mesma string.\n",
    "\n",
    "Parâmetros:\n",
    "* **s**: string de entrada\n",
    "* **repls**: dicionário onde cada chave é o termo a ser substituído e o valor é o termo de substituição\n",
    "\n",
    "Retorno: string com todos os termos substituídos.\n",
    "\n",
    "Exemplos de uso:\n",
    "```python\n",
    "multireplace('abracadabra', {'a': 'x', 'b': 'y', 'c': 'z'}) -> 'xyrxzxdxyrx'\n",
    "multireplace('mult é meu amigo, mult é meu colega', {'mult': 'maomé', 'colega': 'camarada'}) -> \n",
    "    'maomé é meu amigo, maomé é meu camarada'\n",
    "```\n",
    "\n",
    "**Dicas:**\n",
    "* Passe como iterador na função `reduce` o método `items()` do dicionário `repls`.\n",
    "* `reduce` precisa de 2 parâmetros na função anônima, o primeiro receberá a string em si, o segundo será a tupla contendo a chave e o valor obtido pelo método `items()`.\n",
    "* Você usará o método `replace` da string, você poderá passar os parâmetros através dos índices 0 e 1 da tupla, ou simplesmente usando o `*` como vimos no notebook sobre funções.\n",
    "* O parâmetro `initial` da função `reduce` deverá ser a string `s`."
   ]
  },
  {
   "cell_type": "code",
   "execution_count": null,
   "metadata": {},
   "outputs": [],
   "source": [
    "def multireplace(s, repls):\n",
    "    # seu código vem aqui\n",
    "    return # seu retorno vem aqui\n",
    "\n",
    "# resultado esperado: 'maomé é meu amigo, maomé é meu camarada'\n",
    "multireplace('mult é meu amigo, mult é meu colega', {'mult': 'maomé', 'colega': 'camarada'})"
   ]
  },
  {
   "cell_type": "code",
   "execution_count": null,
   "metadata": {},
   "outputs": [],
   "source": [
    "assert multireplace('mult é meu amigo, mult é meu colega', {'mult': 'maomé', 'colega': 'camarada'}) == \\\n",
    "    'maomé é meu amigo, maomé é meu camarada', 'Você errroooouuuuu!'\n",
    "\n",
    "assert multireplace('abracadabra', {'a': 'x', 'b': 'y', 'c': 'z'}) == 'xyrxzxdxyrx', 'Você errroooouuuuu!'\n",
    "\n",
    "print('Show de bola!')"
   ]
  },
  {
   "cell_type": "code",
   "execution_count": null,
   "metadata": {},
   "outputs": [],
   "source": []
  }
 ],
 "metadata": {
  "kernelspec": {
   "display_name": "Python 3",
   "language": "python",
   "name": "python3"
  },
  "language_info": {
   "codemirror_mode": {
    "name": "ipython",
    "version": 3
   },
   "file_extension": ".py",
   "mimetype": "text/x-python",
   "name": "python",
   "nbconvert_exporter": "python",
   "pygments_lexer": "ipython3",
   "version": "3.8.5"
  }
 },
 "nbformat": 4,
 "nbformat_minor": 2
}
