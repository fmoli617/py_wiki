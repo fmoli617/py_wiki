{
 "cells": [
  {
   "cell_type": "markdown",
   "metadata": {},
   "source": [
    "# Hello Python\n",
    "Vamos aprender agora um pouco mais da sintaxe e da forma simples de programar em Python"
   ]
  },
  {
   "cell_type": "markdown",
   "metadata": {},
   "source": [
    "## Comentários\n",
    "\n",
    "Comentários servem para documentar trechos do código ou até mesmo funções, classes ou métodos como veremos mais adiante.\n",
    "\n",
    "Existem duas formas de comentar código Python. Através de `#` ou através de blocos com 3 aspas duplas `\"\"\"` ou 3 aspas simples `'''`."
   ]
  },
  {
   "cell_type": "code",
   "execution_count": 1,
   "metadata": {},
   "outputs": [
    {
     "name": "stdout",
     "output_type": "stream",
     "text": [
      "Essa forma é muito usada para documentar partes de um código ou evitar que algo seja executado\n"
     ]
    }
   ],
   "source": [
    "# essa é uma forma de comentar uma única linha em Python\n",
    "print('Essa forma é muito usada para documentar partes de um código ou evitar que algo seja executado')\n",
    "# print('Eu não serei executado...')"
   ]
  },
  {
   "cell_type": "code",
   "execution_count": null,
   "metadata": {},
   "outputs": [],
   "source": [
    "\"\"\"\n",
    "essa \n",
    "é \n",
    "a \n",
    "forma \n",
    "de \n",
    "comentar\n",
    "diversas\n",
    "linhas\n",
    "ou\n",
    "em\n",
    "blocos\n",
    "\"\"\"\n",
    "print('Essa forma é muito usada para documentar funções, métodos, classes, etc.')"
   ]
  },
  {
   "cell_type": "markdown",
   "metadata": {},
   "source": [
    "## Função `print`\n",
    "\n",
    "A função `print` serve para emitir uma mensagem ou um texto para a saída padrão do console (no caso do jupyter notebook a saída ocorrerá logo após a célula do código executado).\n",
    "\n",
    "Ela possui diversos parâmetros que podem ser configurados, mas isso deixaremos para alguns notebooks adiante."
   ]
  },
  {
   "cell_type": "code",
   "execution_count": 3,
   "metadata": {},
   "outputs": [
    {
     "name": "stdout",
     "output_type": "stream",
     "text": [
      "hello python\n"
     ]
    }
   ],
   "source": [
    "# imprimindo strings\n",
    "print('hello python')"
   ]
  },
  {
   "cell_type": "code",
   "execution_count": 2,
   "metadata": {},
   "outputs": [
    {
     "name": "stdout",
     "output_type": "stream",
     "text": [
      "1\n"
     ]
    }
   ],
   "source": [
    "# imprimindo números inteiros\n",
    "print(1)"
   ]
  },
  {
   "cell_type": "code",
   "execution_count": 4,
   "metadata": {},
   "outputs": [
    {
     "name": "stdout",
     "output_type": "stream",
     "text": [
      "\n"
     ]
    }
   ],
   "source": [
    "# quando não informado nada, imprime uma linha em branco\n",
    "print()"
   ]
  },
  {
   "cell_type": "markdown",
   "metadata": {},
   "source": [
    "## Formatação de strings\n",
    "\n",
    "É muito comum formatarmos mensagens juntando strings com outras variáveis, como numéricas. Um dos usos comuns de formatação de strings está relacionado com a formatação de mensagens na saída de aplicações.\n",
    "\n",
    "Quando tratarmos de strings, veremos que é possível formatarmos strings de diversas formas, mas por enquanto vamos ver algumas formas básicas."
   ]
  },
  {
   "cell_type": "code",
   "execution_count": 5,
   "metadata": {},
   "outputs": [
    {
     "name": "stdout",
     "output_type": "stream",
     "text": [
      "hello python\n"
     ]
    }
   ],
   "source": [
    "# imprimindo 2 strings (note que um espaço separará as duas)\n",
    "print('hello', 'python')"
   ]
  },
  {
   "cell_type": "code",
   "execution_count": 6,
   "metadata": {},
   "outputs": [
    {
     "name": "stdout",
     "output_type": "stream",
     "text": [
      "numero 1\n"
     ]
    }
   ],
   "source": [
    "# podemos imprimir diversos tipos\n",
    "print('numero', 1)"
   ]
  },
  {
   "cell_type": "code",
   "execution_count": 7,
   "metadata": {},
   "outputs": [
    {
     "name": "stdout",
     "output_type": "stream",
     "text": [
      "contando de 1 a 10\n"
     ]
    }
   ],
   "source": [
    "# podemos imprimir quantas informações forem necessárias\n",
    "print('contando de', 1, 'a', 10)"
   ]
  },
  {
   "cell_type": "code",
   "execution_count": 8,
   "metadata": {},
   "outputs": [
    {
     "name": "stdout",
     "output_type": "stream",
     "text": [
      "contando de 1 a 10.\n"
     ]
    }
   ],
   "source": [
    "# podemos formatar strings ao invés de encadear informações\n",
    "print('contando de {} a {}.'.format(1, 10))"
   ]
  },
  {
   "cell_type": "code",
   "execution_count": 9,
   "metadata": {},
   "outputs": [
    {
     "name": "stdout",
     "output_type": "stream",
     "text": [
      "contando de 10 a 1\n"
     ]
    }
   ],
   "source": [
    "# podemos definir na formatação, qual a ordem queremos\n",
    "print('contando de {1} a {0}'.format(1, 10))"
   ]
  },
  {
   "cell_type": "code",
   "execution_count": 10,
   "metadata": {},
   "outputs": [
    {
     "name": "stdout",
     "output_type": "stream",
     "text": [
      "contando de 1 a 10.\n"
     ]
    }
   ],
   "source": [
    "a = 1\n",
    "b = 10\n",
    "\n",
    "# podemos formatar com variáveis\n",
    "print(f'contando de {a} a {b}.')"
   ]
  },
  {
   "cell_type": "code",
   "execution_count": 11,
   "metadata": {},
   "outputs": [
    {
     "name": "stdout",
     "output_type": "stream",
     "text": [
      "float 2.52\n",
      "float 2.52500\n"
     ]
    }
   ],
   "source": [
    "f = 2.525\n",
    "\n",
    "# podemos formatar números decimais (flutuantes)\n",
    "print('float {:.2f}'.format(f))\n",
    "print('float {:.5f}'.format(f))"
   ]
  },
  {
   "cell_type": "code",
   "execution_count": 12,
   "metadata": {},
   "outputs": [
    {
     "name": "stdout",
     "output_type": "stream",
     "text": [
      "float 2.52\n",
      "float 2.52500\n"
     ]
    }
   ],
   "source": [
    "f = 2.525\n",
    "\n",
    "# podemos usar a formatação abreviada\n",
    "print(f'float {f:.2f}')\n",
    "print(f'float {f:.5f}')"
   ]
  },
  {
   "cell_type": "markdown",
   "metadata": {},
   "source": [
    "# Exercícios"
   ]
  },
  {
   "cell_type": "markdown",
   "metadata": {},
   "source": [
    "**1)** Imprima seu nome"
   ]
  },
  {
   "cell_type": "code",
   "execution_count": 13,
   "metadata": {},
   "outputs": [
    {
     "name": "stdout",
     "output_type": "stream",
     "text": [
      "Fernando\n"
     ]
    }
   ],
   "source": [
    "print ('Fernando')"
   ]
  },
  {
   "cell_type": "markdown",
   "metadata": {},
   "source": [
    "**2)** Imprima seu nome com sua idade da seguinte forma: `Meu nome é {nome} e tenho {idade} anos de idade.` (pode usar qualquer estilo de formatação)"
   ]
  },
  {
   "cell_type": "code",
   "execution_count": 16,
   "metadata": {},
   "outputs": [
    {
     "name": "stdout",
     "output_type": "stream",
     "text": [
      "Meu nome é Fernando e tenho 24 anos\n"
     ]
    }
   ],
   "source": [
    "a = 'Fernando'\n",
    "b = 24\n",
    "\n",
    "print('Meu nome é {} e tenho {} anos'.format(a,b))"
   ]
  },
  {
   "cell_type": "markdown",
   "metadata": {},
   "source": [
    "**3)** Imprima a divisão entre `1` e `3` com **5** casas decimais"
   ]
  },
  {
   "cell_type": "code",
   "execution_count": 20,
   "metadata": {},
   "outputs": [
    {
     "name": "stdout",
     "output_type": "stream",
     "text": [
      "0.33333\n"
     ]
    }
   ],
   "source": [
    "dividendo = 1\n",
    "divisor = 3\n",
    "\n",
    "print ('{:.5f}'.format(dividendo/divisor))"
   ]
  },
  {
   "cell_type": "code",
   "execution_count": null,
   "metadata": {},
   "outputs": [],
   "source": []
  }
 ],
 "metadata": {
  "kernelspec": {
   "display_name": "Python 3",
   "language": "python",
   "name": "python3"
  },
  "language_info": {
   "codemirror_mode": {
    "name": "ipython",
    "version": 3
   },
   "file_extension": ".py",
   "mimetype": "text/x-python",
   "name": "python",
   "nbconvert_exporter": "python",
   "pygments_lexer": "ipython3",
   "version": "3.8.5"
  }
 },
 "nbformat": 4,
 "nbformat_minor": 2
}
