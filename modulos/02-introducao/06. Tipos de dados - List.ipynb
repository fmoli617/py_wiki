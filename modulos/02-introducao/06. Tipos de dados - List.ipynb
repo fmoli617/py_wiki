{
 "cells": [
  {
   "cell_type": "markdown",
   "metadata": {},
   "source": [
    "# Tipos de dados\n",
    "Por padrão, Python oferece alguns tipos de dados comuns.\n",
    "* ~~Números (inteiros, decimais, complexos)~~\n",
    "* ~~Strings~~\n",
    "* **Listas**\n",
    "* Tuplas\n",
    "* Conjuntos\n",
    "* Dicionários"
   ]
  },
  {
   "cell_type": "markdown",
   "metadata": {},
   "source": [
    "# Listas (list)\n",
    "* É uma coleção ordenada e alterável.\n",
    "* Listas são MUTÁVEIS, ou seja, podem sofrer alteração.\n",
    "* São representadas entre [ ].\n",
    "* Cada item é separado por ','s. Exemplo: [1, 2, 3, 4, 5]\n",
    "* É uma coleção de itens de diversos tipos (strings, números, outras listas)\n",
    "* Cada item tem um respectivo índice"
   ]
  },
  {
   "cell_type": "markdown",
   "metadata": {},
   "source": [
    "## Declaração"
   ]
  },
  {
   "cell_type": "code",
   "execution_count": 1,
   "metadata": {},
   "outputs": [
    {
     "name": "stdout",
     "output_type": "stream",
     "text": [
      "[]\n",
      "[1]\n",
      "['Python', 'C#', 'Java']\n",
      "[[15, 25], ['Python', 'Data Science']]\n",
      "[50, 98.3, 'Python', [15, 25]]\n"
     ]
    }
   ],
   "source": [
    "list1 = [] # criando uma lista vazia\n",
    "print(list1)\n",
    "\n",
    "list2 = [1,] # criando uma lista de int's\n",
    "print(list2)\n",
    "\n",
    "list3 = ['Python', 'C#', 'Java'] # criando lista de string's\n",
    "print(list3)\n",
    "\n",
    "list4 = [[15, 25], ['Python', 'Data Science']] # lista de listas\n",
    "print(list4)\n",
    "\n",
    "list5 = [50, 98.3, 'Python', [15, 25]] # lista de diferentes tipos de dados\n",
    "print(list5)"
   ]
  },
  {
   "cell_type": "markdown",
   "metadata": {},
   "source": [
    "## Indexação e sub-listas (slicing)\n",
    "Assim como em strings, podemos acessar elementos individualmente usando seu índice (começando em 0) ou um range usando slicing."
   ]
  },
  {
   "cell_type": "code",
   "execution_count": 2,
   "metadata": {},
   "outputs": [
    {
     "name": "stdout",
     "output_type": "stream",
     "text": [
      "30\n",
      "40\n",
      "[20, 30]\n",
      "[10, 20, 30, 40, 50]\n",
      "[20, 30, 40, 50]\n",
      "[10, 20, 30]\n"
     ]
    }
   ],
   "source": [
    "list1 = [10, 20, 30, 40, 50]\n",
    "# imprimindo o elemento no índice 2 (3º item)\n",
    "print(list1[2])\n",
    "\n",
    "# imprimindo o elemento no índice -2 (penúltimo item)\n",
    "print(list1[-2])\n",
    "\n",
    "# slicing de 1 a 3 (o índice 3 é exclusivo)\n",
    "print(list1[1:3])\n",
    "\n",
    "# outras formas de slicing\n",
    "print(list1[:])  # retorna tudo\n",
    "print(list1[1:]) # retorna do índice 1 ao final\n",
    "print(list1[:3]) # retorna do índice 0 ao 3 (exclusivo)"
   ]
  },
  {
   "cell_type": "markdown",
   "metadata": {},
   "source": [
    "## Atualizando listas"
   ]
  },
  {
   "cell_type": "code",
   "execution_count": 3,
   "metadata": {},
   "outputs": [
    {
     "name": "stdout",
     "output_type": "stream",
     "text": [
      "Lista antes da atualização ['Python', 'C#', 'Java']\n",
      "Lista depois da atualização ['Python', 'C#', 'R']\n"
     ]
    }
   ],
   "source": [
    "list1 = ['Python', 'C#', 'Java']\n",
    "print('Lista antes da atualização', list1)\n",
    "\n",
    "list1[2] = 'R'\n",
    "print('Lista depois da atualização', list1)"
   ]
  },
  {
   "cell_type": "markdown",
   "metadata": {},
   "source": [
    "## Deletando itens da lista\n",
    "Para remover um elemento da lista, você pode usar o comando `del` se souber exatamente qual elemento você está deletando ou usar o método `remove` do contrário."
   ]
  },
  {
   "cell_type": "code",
   "execution_count": 4,
   "metadata": {},
   "outputs": [
    {
     "name": "stdout",
     "output_type": "stream",
     "text": [
      "['C#', 'Java', 'R', 'C', 'C++']\n",
      "['C#', 'C', 'C++']\n"
     ]
    },
    {
     "ename": "NameError",
     "evalue": "name 'list1' is not defined",
     "output_type": "error",
     "traceback": [
      "\u001b[1;31m---------------------------------------------------------------------------\u001b[0m",
      "\u001b[1;31mNameError\u001b[0m                                 Traceback (most recent call last)",
      "\u001b[1;32m<ipython-input-4-4a521a84bfb6>\u001b[0m in \u001b[0;36m<module>\u001b[1;34m\u001b[0m\n\u001b[0;32m      7\u001b[0m \u001b[1;33m\u001b[0m\u001b[0m\n\u001b[0;32m      8\u001b[0m \u001b[1;32mdel\u001b[0m \u001b[0mlist1\u001b[0m\u001b[1;33m\u001b[0m\u001b[1;33m\u001b[0m\u001b[0m\n\u001b[1;32m----> 9\u001b[1;33m \u001b[0mprint\u001b[0m\u001b[1;33m(\u001b[0m\u001b[0mlist1\u001b[0m\u001b[1;33m)\u001b[0m\u001b[1;33m\u001b[0m\u001b[1;33m\u001b[0m\u001b[0m\n\u001b[0m",
      "\u001b[1;31mNameError\u001b[0m: name 'list1' is not defined"
     ]
    }
   ],
   "source": [
    "list1 = ['Python', 'C#', 'Java', 'R', 'C', 'C++']\n",
    "del list1[0]\n",
    "print(list1)\n",
    "\n",
    "del list1[1:3]\n",
    "print(list1)\n",
    "\n",
    "del list1\n",
    "print(list1)"
   ]
  },
  {
   "cell_type": "markdown",
   "metadata": {},
   "source": [
    "## Iterando uma lista"
   ]
  },
  {
   "cell_type": "code",
   "execution_count": 5,
   "metadata": {},
   "outputs": [
    {
     "name": "stdout",
     "output_type": "stream",
     "text": [
      "janeiro\n",
      "fevereiro\n",
      "março\n",
      "abril\n",
      "maio\n",
      "junho\n",
      "julho\n",
      "agosto\n",
      "setembro\n",
      "outubro\n",
      "novembro\n",
      "dezembro\n"
     ]
    }
   ],
   "source": [
    "months = ['janeiro', \n",
    "          'fevereiro', \n",
    "          'março', \n",
    "          'abril', \n",
    "          'maio', \n",
    "          'junho', \n",
    "          'julho', \n",
    "          'agosto', \n",
    "          'setembro', \n",
    "          'outubro', \n",
    "          'novembro', \n",
    "          'dezembro']\n",
    "\n"
   ]
  },
  {
   "cell_type": "markdown",
   "metadata": {},
   "source": [
    "## Métodos e funções"
   ]
  },
  {
   "cell_type": "markdown",
   "metadata": {},
   "source": [
    "### Concatenação"
   ]
  },
  {
   "cell_type": "code",
   "execution_count": 6,
   "metadata": {},
   "outputs": [
    {
     "name": "stdout",
     "output_type": "stream",
     "text": [
      "[1, 2, 3, 4]\n",
      "[5, 6, 7, 8]\n",
      "[1, 2, 3, 4, 5, 6, 7, 8]\n"
     ]
    }
   ],
   "source": [
    "list1 = [1, 2, 3, 4]\n",
    "list2 = [5, 6, 7, 8]\n",
    "superlist = list1 + list2\n",
    "print(list1)\n",
    "print(list2)\n",
    "print(superlist)"
   ]
  },
  {
   "cell_type": "markdown",
   "metadata": {},
   "source": [
    "### Tamanho"
   ]
  },
  {
   "cell_type": "code",
   "execution_count": 7,
   "metadata": {},
   "outputs": [
    {
     "name": "stdout",
     "output_type": "stream",
     "text": [
      "O tamanho da lista é 5\n"
     ]
    }
   ],
   "source": [
    "list1 = [1, 2, 3, 4, 5]\n",
    "print('O tamanho da lista é', len(list1))"
   ]
  },
  {
   "cell_type": "markdown",
   "metadata": {},
   "source": [
    "### Repetição"
   ]
  },
  {
   "cell_type": "code",
   "execution_count": 9,
   "metadata": {},
   "outputs": [
    {
     "name": "stdout",
     "output_type": "stream",
     "text": [
      "[1, 2, 1, 2, 1, 2, 1, 2, 1, 2, 1, 2, 1, 2]\n"
     ]
    }
   ],
   "source": [
    "list1 = [1,2]\n",
    "print(list1 * 7)"
   ]
  },
  {
   "cell_type": "markdown",
   "metadata": {},
   "source": [
    "### Membros"
   ]
  },
  {
   "cell_type": "code",
   "execution_count": 10,
   "metadata": {},
   "outputs": [
    {
     "name": "stdout",
     "output_type": "stream",
     "text": [
      "True\n",
      "True\n"
     ]
    }
   ],
   "source": [
    "list1 = [0, 1, 1, 2, 3, 5, 8, 13, 21]\n",
    "# verificando se um valor está dentro de uma lista\n",
    "print(13 in list1)\n",
    "# verificando se um valor não está dentro de uma lista\n",
    "print(35 not in list1)"
   ]
  },
  {
   "cell_type": "markdown",
   "metadata": {},
   "source": [
    "### Menor e maior valor de uma lista"
   ]
  },
  {
   "cell_type": "code",
   "execution_count": 13,
   "metadata": {},
   "outputs": [
    {
     "name": "stdout",
     "output_type": "stream",
     "text": [
      "O menor valor da lista é o 0\n",
      "O maior valor da lista é o 21\n"
     ]
    }
   ],
   "source": [
    "list1 = [0, 1, 1, 2, 3, 5, 8, 13, 21]\n",
    "print('O menor valor da lista é o', min(list1))\n",
    "print('O maior valor da lista é o', max(list1))"
   ]
  },
  {
   "cell_type": "markdown",
   "metadata": {},
   "source": [
    "### Soma de todos os elementos da lista"
   ]
  },
  {
   "cell_type": "code",
   "execution_count": 14,
   "metadata": {},
   "outputs": [
    {
     "name": "stdout",
     "output_type": "stream",
     "text": [
      "A soma de todos os elementos da lista é 54\n"
     ]
    }
   ],
   "source": [
    "list1 = [0, 1, 1, 2, 3, 5, 8, 13, 21]\n",
    "print('A soma de todos os elementos da lista é', sum(list1))"
   ]
  },
  {
   "cell_type": "markdown",
   "metadata": {},
   "source": [
    "### Append (colocando elemento no final da lista)"
   ]
  },
  {
   "cell_type": "code",
   "execution_count": 15,
   "metadata": {},
   "outputs": [
    {
     "name": "stdout",
     "output_type": "stream",
     "text": [
      "['Python', 'C#', 'Java', 'R']\n",
      "['Python', 'C#', 'Java', 'R', ['C', 'C++']]\n"
     ]
    }
   ],
   "source": [
    "list1 = ['Python', 'C#', 'Java']\n",
    "list1.append('R')\n",
    "print(list1)\n",
    "\n",
    "list2 = ['C', 'C++']\n",
    "list1.append(list2)\n",
    "print(list1)"
   ]
  },
  {
   "cell_type": "markdown",
   "metadata": {},
   "source": [
    "### Extend (estendendo a lista)"
   ]
  },
  {
   "cell_type": "code",
   "execution_count": 16,
   "metadata": {},
   "outputs": [
    {
     "name": "stdout",
     "output_type": "stream",
     "text": [
      "['Python', 'C#', 'Java', 'R']\n",
      "['Python', 'C#', 'Java', 'R', 'C', 'C++']\n"
     ]
    }
   ],
   "source": [
    "list1 = ['Python', 'C#', 'Java']\n",
    "list1.extend('R')\n",
    "print(list1)\n",
    "\n",
    "list2 = ['C', 'C++']\n",
    "list1.extend(list2)\n",
    "print(list1)"
   ]
  },
  {
   "cell_type": "markdown",
   "metadata": {},
   "source": [
    "### Insert (inserindo item na lista)"
   ]
  },
  {
   "cell_type": "code",
   "execution_count": 17,
   "metadata": {},
   "outputs": [
    {
     "name": "stdout",
     "output_type": "stream",
     "text": [
      "[1, 2, 3, 4, 5, 6, 7, 8, 9, 10]\n",
      "['Python', 'C#', 'Java', 'R']\n"
     ]
    }
   ],
   "source": [
    "list1 = [1, 2, 3, 4, 6, 7, 8, 9, 10]\n",
    "list1.insert(4, 5) # local, valor\n",
    "print(list1)\n",
    "\n",
    "list2 = ['Python', 'C#', 'R']\n",
    "list2.insert(2, 'Java')\n",
    "print(list2)"
   ]
  },
  {
   "cell_type": "markdown",
   "metadata": {},
   "source": [
    "### Remove (removendo um item da lista)"
   ]
  },
  {
   "cell_type": "code",
   "execution_count": 18,
   "metadata": {},
   "outputs": [
    {
     "name": "stdout",
     "output_type": "stream",
     "text": [
      "[1, 2, 3, 5, 6, 7, 8, 9, 10, 4]\n",
      "['Python', 'C#', 'R']\n"
     ]
    }
   ],
   "source": [
    "list1 = [1, 2, 3, 4, 5, 6, 7, 8, 9, 10, 4]\n",
    "list1.remove(4) # irá remover a primeira ocorrência do valor 4 na lista\n",
    "print(list1)\n",
    "\n",
    "list2 = ['Python', 'C#', 'Java', 'R']\n",
    "list2.remove('Java')\n",
    "print(list2)"
   ]
  },
  {
   "cell_type": "markdown",
   "metadata": {},
   "source": [
    "### Pop (retirando último elemento ou um qualquer)"
   ]
  },
  {
   "cell_type": "code",
   "execution_count": 19,
   "metadata": {},
   "outputs": [
    {
     "name": "stdout",
     "output_type": "stream",
     "text": [
      "Valor removido é 10\n",
      "[1, 2, 3, 4, 6, 7, 8, 9]\n",
      "Valor removido é Java\n",
      "['Python', 'C#', 'R']\n"
     ]
    }
   ],
   "source": [
    "list1 = [1, 2, 3, 4, 6, 7, 8, 9, 10]\n",
    "a = list1.pop()\n",
    "print('Valor removido é', a)\n",
    "print(list1)\n",
    "\n",
    "list2 = ['Python', 'C#', 'Java', 'R']\n",
    "a = list2.pop(2) # foi passado o índice a qual se quer retirar\n",
    "print('Valor removido é', a)\n",
    "print(list2)"
   ]
  },
  {
   "cell_type": "markdown",
   "metadata": {},
   "source": [
    "### Count (contando elementos)"
   ]
  },
  {
   "cell_type": "code",
   "execution_count": 20,
   "metadata": {},
   "outputs": [
    {
     "name": "stdout",
     "output_type": "stream",
     "text": [
      "2\n"
     ]
    }
   ],
   "source": [
    "list1 = [0, 1, 1, 2, 3, 5, 8, 13, 21]\n",
    "print(list1.count(1))"
   ]
  },
  {
   "cell_type": "markdown",
   "metadata": {},
   "source": [
    "### Index (procurando elemento)"
   ]
  },
  {
   "cell_type": "code",
   "execution_count": 21,
   "metadata": {},
   "outputs": [
    {
     "name": "stdout",
     "output_type": "stream",
     "text": [
      "4\n"
     ]
    }
   ],
   "source": [
    "list1 = [0, 1, 1, 2, 3, 5, 8, 13, 21]\n",
    "print(list1.index(3))"
   ]
  },
  {
   "cell_type": "markdown",
   "metadata": {},
   "source": [
    "### Reverse (invertendo ordem)"
   ]
  },
  {
   "cell_type": "code",
   "execution_count": 22,
   "metadata": {},
   "outputs": [
    {
     "name": "stdout",
     "output_type": "stream",
     "text": [
      "[21, 13, 8, 5, 3, 2, 1, 1, 0]\n"
     ]
    }
   ],
   "source": [
    "list1 = [0, 1, 1, 2, 3, 5, 8, 13, 21]\n",
    "list1.reverse()\n",
    "print(list1)"
   ]
  },
  {
   "cell_type": "markdown",
   "metadata": {},
   "source": [
    "### Sort (ordenando lista)"
   ]
  },
  {
   "cell_type": "code",
   "execution_count": 23,
   "metadata": {},
   "outputs": [
    {
     "name": "stdout",
     "output_type": "stream",
     "text": [
      "['a', 'e', 'i', 'o', 'u']\n"
     ]
    }
   ],
   "source": [
    "list1 = ['e', 'o', 'a', 'u', 'i']\n",
    "# ordena dentro da própria lista\n",
    "list1.sort()\n",
    "print(list1)"
   ]
  },
  {
   "cell_type": "code",
   "execution_count": 24,
   "metadata": {},
   "outputs": [
    {
     "name": "stdout",
     "output_type": "stream",
     "text": [
      "['a', 'e', 'i', 'o', 'u']\n"
     ]
    }
   ],
   "source": [
    "list1 = ['e', 'o', 'a', 'u', 'i']\n",
    "# cria uma cópia ordenada\n",
    "print(sorted(list1))"
   ]
  },
  {
   "cell_type": "markdown",
   "metadata": {},
   "source": [
    "### Lista a partir do split de uma string"
   ]
  },
  {
   "cell_type": "code",
   "execution_count": 25,
   "metadata": {},
   "outputs": [
    {
     "name": "stdout",
     "output_type": "stream",
     "text": [
      "['Bem-vindos', 'ao', 'treinamento', 'em', 'Python']\n",
      "['A', 'B', 'C']\n",
      "['192', '0', '0', '1']\n"
     ]
    }
   ],
   "source": [
    "str1 = 'Bem-vindos ao treinamento em Python'\n",
    "print(str1.split()) # split em espaços\n",
    "\n",
    "str2 = 'A,B,C'\n",
    "print(str2.split(','))\n",
    "\n",
    "str3 = '192.0.0.1'\n",
    "print(str3.split('.'))"
   ]
  },
  {
   "cell_type": "markdown",
   "metadata": {},
   "source": [
    "### Função `range`\n",
    "Sintaxe:\n",
    "```python\n",
    "range(start, stop[, step])\n",
    "```\n",
    "Referência: https://pynative.com/python-range-function/"
   ]
  },
  {
   "cell_type": "code",
   "execution_count": 26,
   "metadata": {},
   "outputs": [
    {
     "name": "stdout",
     "output_type": "stream",
     "text": [
      "range(0, 10)\n",
      "[0, 1, 2, 3, 4, 5, 6, 7, 8, 9]\n",
      "[1, 3, 5, 7, 9]\n"
     ]
    }
   ],
   "source": [
    "# range retorna um objeto do tipo range que é iterable\n",
    "print(range(10))\n",
    "\n",
    "# é possível converter qualquer iterable em list\n",
    "print(list(range(10)))\n",
    "\n",
    "# mexendo nos demais parâmetros\n",
    "print(list(range(1, 10, 2)))"
   ]
  },
  {
   "cell_type": "markdown",
   "metadata": {},
   "source": [
    "### Função `enumerate`\n",
    "Sintaxe:\n",
    "```python\n",
    "enumerate(iterable, start=0)\n",
    "```\n",
    "Referência: https://www.geeksforgeeks.org/enumerate-in-python/\n",
    "\n",
    "Na maioria das linguagens de programação é possível ter um laço `for` com o controle do índice. Em python não existe isso. Como alternativa, é possível usar a função `enumerate` que no laço `for` retorna o índice e o valor em si."
   ]
  },
  {
   "cell_type": "code",
   "execution_count": 1,
   "metadata": {},
   "outputs": [
    {
     "name": "stdout",
     "output_type": "stream",
     "text": [
      "Python\n",
      "Java\n",
      "C\n",
      "C++\n"
     ]
    }
   ],
   "source": [
    "list1 = ['Python', 'Java', 'C', 'C++']\n",
    "\n",
    "for v in list1:\n",
    "    print(v)"
   ]
  },
  {
   "cell_type": "code",
   "execution_count": 2,
   "metadata": {},
   "outputs": [
    {
     "name": "stdout",
     "output_type": "stream",
     "text": [
      "0 Python\n",
      "1 Java\n",
      "2 C\n",
      "3 C++\n"
     ]
    }
   ],
   "source": [
    "for i, v in enumerate(list1):\n",
    "    print(i, v)"
   ]
  },
  {
   "cell_type": "markdown",
   "metadata": {},
   "source": [
    "## List comprehension\n",
    "Um dos pontos mais interessantes da lista e do Python.\n",
    "* Compreensão de listas é uma forma concisa e elegante de criar uma nova lista a partir de outra.\n",
    "* Consiste em uma expressão definida entre colchetes [ ]\n",
    "* É mais rápido. Deve ser usado no lugar de loops com *for* e *while* sempre que possível."
   ]
  },
  {
   "cell_type": "code",
   "execution_count": 3,
   "metadata": {},
   "outputs": [
    {
     "name": "stdout",
     "output_type": "stream",
     "text": [
      "[0, 1, 8, 27, 64, 125, 216, 343, 512, 729]\n"
     ]
    }
   ],
   "source": [
    "# jeito bobão de criar uma lista a partir de outra\n",
    "cubo = []\n",
    "for i in range(10):\n",
    "    cubo.append(i**3)\n",
    "print(cubo)"
   ]
  },
  {
   "cell_type": "code",
   "execution_count": 4,
   "metadata": {},
   "outputs": [
    {
     "name": "stdout",
     "output_type": "stream",
     "text": [
      "[0, 1, 8, 27, 64, 125, 216, 343, 512, 729]\n"
     ]
    }
   ],
   "source": [
    "# jeito Python\n",
    "cubo = [i**3 for i in range(10)]\n",
    "print(cubo)"
   ]
  },
  {
   "cell_type": "code",
   "execution_count": 5,
   "metadata": {},
   "outputs": [
    {
     "name": "stdout",
     "output_type": "stream",
     "text": [
      "['p', 'y', 't', 'h', 'o', 'n']\n"
     ]
    }
   ],
   "source": [
    "python_letters = []\n",
    "for letter in 'python':\n",
    "    python_letters.append(letter)\n",
    "\n",
    "print(python_letters)"
   ]
  },
  {
   "cell_type": "code",
   "execution_count": 6,
   "metadata": {},
   "outputs": [
    {
     "name": "stdout",
     "output_type": "stream",
     "text": [
      "['p', 'y', 't', 'h', 'o', 'n']\n"
     ]
    }
   ],
   "source": [
    "python_letters = [letter for letter in 'python']\n",
    "print(python_letters)"
   ]
  },
  {
   "cell_type": "markdown",
   "metadata": {},
   "source": [
    "### Condições dentro de list comprehensions"
   ]
  },
  {
   "cell_type": "markdown",
   "metadata": {},
   "source": [
    "#### Exemplo 1"
   ]
  },
  {
   "cell_type": "code",
   "execution_count": 7,
   "metadata": {},
   "outputs": [
    {
     "name": "stdout",
     "output_type": "stream",
     "text": [
      "[1, 3, 7, -10]\n"
     ]
    }
   ],
   "source": [
    "# jeito bobão\n",
    "numlist = [1, 20, 40, 50, 3, 7, -10]\n",
    "numbers_less_than_10 = []\n",
    "for n in numlist:\n",
    "    if n < 10:\n",
    "        numbers_less_than_10.append(n)\n",
    "\n",
    "print(numbers_less_than_10)"
   ]
  },
  {
   "cell_type": "code",
   "execution_count": 8,
   "metadata": {},
   "outputs": [
    {
     "name": "stdout",
     "output_type": "stream",
     "text": [
      "[1, 3, 7, -10]\n"
     ]
    }
   ],
   "source": [
    "# jeito Python\n",
    "numlist = [1, 20, 40, 50, 3, 7, -10]\n",
    "numbers_less_than_10 = [n for n in numlist if n < 10]\n",
    "print(numbers_less_than_10)"
   ]
  },
  {
   "cell_type": "markdown",
   "metadata": {},
   "source": [
    "#### Exemplo 2"
   ]
  },
  {
   "cell_type": "code",
   "execution_count": 9,
   "metadata": {},
   "outputs": [
    {
     "name": "stdout",
     "output_type": "stream",
     "text": [
      "['ímpar', 'ímpar', 'par', 'ímpar', 'par', 'par', 'par']\n"
     ]
    }
   ],
   "source": [
    "# jeito bobão\n",
    "numlist = [1, 5, 20, 33, 40, 80, 2]\n",
    "par_impar = []\n",
    "for n in numlist:\n",
    "    if n % 2 == 0:\n",
    "        par_impar.append('par')\n",
    "    else:\n",
    "        par_impar.append('ímpar')\n",
    "\n",
    "print(par_impar)"
   ]
  },
  {
   "cell_type": "code",
   "execution_count": 10,
   "metadata": {},
   "outputs": [
    {
     "name": "stdout",
     "output_type": "stream",
     "text": [
      "['ímpar', 'ímpar', 'par', 'ímpar', 'par', 'par', 'par']\n"
     ]
    }
   ],
   "source": [
    "# jeito Python\n",
    "numlist = [1, 5, 20, 33, 40, 80, 2]\n",
    "par_impar = ['par' if n % 2 == 0 else 'ímpar' for n in numlist]\n",
    "print(par_impar)"
   ]
  },
  {
   "cell_type": "markdown",
   "metadata": {},
   "source": [
    "#### Exemplo 3"
   ]
  },
  {
   "cell_type": "code",
   "execution_count": 12,
   "metadata": {},
   "outputs": [
    {
     "name": "stdout",
     "output_type": "stream",
     "text": [
      "[20, 40, 80, 2]\n"
     ]
    }
   ],
   "source": [
    "# jeito bobão\n",
    "numlist = [1, 5, 20, 33, 40, 80, 2]\n",
    "pares = []\n",
    "for n in numlist:\n",
    "    if n % 2 == 0:\n",
    "        pares.append(n)\n",
    "\n",
    "print(pares)"
   ]
  },
  {
   "cell_type": "code",
   "execution_count": 11,
   "metadata": {},
   "outputs": [
    {
     "name": "stdout",
     "output_type": "stream",
     "text": [
      "[20, 40, 80, 2]\n"
     ]
    }
   ],
   "source": [
    "# jeito Python\n",
    "numlist = [1, 5, 20, 33, 40, 80, 2]\n",
    "pares = [n for n in numlist if n % 2 == 0]\n",
    "print(pares)"
   ]
  },
  {
   "cell_type": "markdown",
   "metadata": {},
   "source": [
    "### List comprehensions dentro de outro"
   ]
  },
  {
   "cell_type": "code",
   "execution_count": 26,
   "metadata": {},
   "outputs": [
    {
     "ename": "IndentationError",
     "evalue": "unexpected indent (<ipython-input-26-a3d363469d66>, line 3)",
     "output_type": "error",
     "traceback": [
      "\u001b[1;36m  File \u001b[1;32m\"<ipython-input-26-a3d363469d66>\"\u001b[1;36m, line \u001b[1;32m3\u001b[0m\n\u001b[1;33m    for y in [2, 4, 6]:for x in [20, 40, 60]:\u001b[0m\n\u001b[1;37m    ^\u001b[0m\n\u001b[1;31mIndentationError\u001b[0m\u001b[1;31m:\u001b[0m unexpected indent\n"
     ]
    }
   ],
   "source": [
    "my_list = []\n",
    "\n",
    "    for y in [2, 4, 6]:for x in [20, 40, 60]:\n",
    "        my_list.append(x * y)\n",
    "\n",
    "print(my_list)"
   ]
  },
  {
   "cell_type": "code",
   "execution_count": 13,
   "metadata": {},
   "outputs": [
    {
     "name": "stdout",
     "output_type": "stream",
     "text": [
      "[40, 80, 120, 80, 160, 240, 120, 240, 360]\n"
     ]
    }
   ],
   "source": [
    "my_list = [x * y for x in [20, 40, 60] for y in [2, 4, 6]]\n",
    "print(my_list)"
   ]
  },
  {
   "cell_type": "markdown",
   "metadata": {},
   "source": [
    "# Exercícios"
   ]
  },
  {
   "cell_type": "markdown",
   "metadata": {},
   "source": [
    "**1)** Converta os seguintes laços em compreensão de listas."
   ]
  },
  {
   "cell_type": "markdown",
   "metadata": {},
   "source": [
    "**a)** \n",
    "```python\n",
    "resultado = []\n",
    "for i in range(10):\n",
    "    resultado.append(i * 2)\n",
    "```"
   ]
  },
  {
   "cell_type": "code",
   "execution_count": 16,
   "metadata": {},
   "outputs": [
    {
     "name": "stdout",
     "output_type": "stream",
     "text": [
      "[0, 2, 4, 6, 8, 10, 12, 14, 16, 18]\n"
     ]
    }
   ],
   "source": [
    "resultado = [i*2 for i in range(10)]\n",
    "print(resultado)"
   ]
  },
  {
   "cell_type": "code",
   "execution_count": 17,
   "metadata": {},
   "outputs": [
    {
     "name": "stdout",
     "output_type": "stream",
     "text": [
      "Show de bola!\n"
     ]
    }
   ],
   "source": [
    "assert resultado == [0, 2, 4, 6, 8, 10, 12, 14, 16, 18], 'Você errroooouuuuu!'\n",
    "print('Show de bola!')"
   ]
  },
  {
   "cell_type": "markdown",
   "metadata": {},
   "source": [
    "**b)**\n",
    "```python\n",
    "resultado = []\n",
    "for i in range(10):\n",
    "    if i > 5:\n",
    "        resultado.append(-i)\n",
    "```"
   ]
  },
  {
   "cell_type": "code",
   "execution_count": 21,
   "metadata": {},
   "outputs": [
    {
     "name": "stdout",
     "output_type": "stream",
     "text": [
      "[-6, -7, -8, -9]\n"
     ]
    }
   ],
   "source": [
    "resultado = [i*(-1) for i in range(10) if i > 5]\n",
    "print(resultado)"
   ]
  },
  {
   "cell_type": "code",
   "execution_count": 22,
   "metadata": {},
   "outputs": [
    {
     "name": "stdout",
     "output_type": "stream",
     "text": [
      "Show de bola!\n"
     ]
    }
   ],
   "source": [
    "assert resultado == [-6, -7, -8, -9], 'Você errroooouuuuu!'\n",
    "print('Show de bola!')"
   ]
  },
  {
   "cell_type": "markdown",
   "metadata": {},
   "source": [
    "**c)**\n",
    "```python\n",
    "lista = [10, 2, 5, 15, 3]\n",
    "resultado = []\n",
    "for i, v in enumerate(lista):\n",
    "    resultado.append(v ** i)\n",
    "```"
   ]
  },
  {
   "cell_type": "code",
   "execution_count": 24,
   "metadata": {},
   "outputs": [
    {
     "name": "stdout",
     "output_type": "stream",
     "text": [
      "[1, 2, 25, 3375, 81]\n"
     ]
    }
   ],
   "source": [
    "lista = [10, 2, 5, 15, 3]\n",
    "resultado = [v** for i, v in enumerate(lista)]\n",
    "print(resultado)"
   ]
  },
  {
   "cell_type": "code",
   "execution_count": 25,
   "metadata": {},
   "outputs": [
    {
     "name": "stdout",
     "output_type": "stream",
     "text": [
      "Show de bola!\n"
     ]
    }
   ],
   "source": [
    "assert resultado == [1, 2, 25, 3375, 81], 'Você errroooouuuuu!'\n",
    "print('Show de bola!')"
   ]
  },
  {
   "cell_type": "markdown",
   "metadata": {},
   "source": [
    "**d)**\n",
    "```python\n",
    "resultado = []\n",
    "for i in range(5):\n",
    "    for j in range(5):\n",
    "        if (i * j) % 2 == 0:\n",
    "            if j < 3:\n",
    "                resultado.append(i ** j)\n",
    "            else:\n",
    "                resultado.append(j ** i)\n",
    "```"
   ]
  },
  {
   "cell_type": "code",
   "execution_count": 41,
   "metadata": {},
   "outputs": [
    {
     "name": "stdout",
     "output_type": "stream",
     "text": [
      "[1, 0, 0, 1, 1, 1, 1, 4, 1, 2, 4, 9, 16, 1, 9, 64, 1, 4, 16, 81, 256]\n"
     ]
    }
   ],
   "source": [
    "resultado = [i ** j if j < 3 else  j ** i for i in range(5) for j in range(5) if (i*j)%2==0]\n",
    "print(resultado)"
   ]
  },
  {
   "cell_type": "code",
   "execution_count": 42,
   "metadata": {},
   "outputs": [
    {
     "name": "stdout",
     "output_type": "stream",
     "text": [
      "Show de bola!\n"
     ]
    }
   ],
   "source": [
    "assert resultado == [1, 0, 0, 1, 1, 1, 1, 4, 1, 2, 4, 9, 16, 1, 9, 64, 1, 4, 16, 81, 256], 'Você errroooouuuuu!'\n",
    "print('Show de bola!')"
   ]
  },
  {
   "cell_type": "markdown",
   "metadata": {},
   "source": [
    "**2)** Programe a função `strtolist(s)` onde converterá qualquer string (`s`) em uma lista de caracteres isolados.\n",
    "\n",
    "Parâmetros:\n",
    "* **s**: string de entrada\n",
    "\n",
    "Retorno:\n",
    "Lista com os caracteres isolados\n",
    "\n",
    "Exemplos de uso:\n",
    "```python\n",
    "strtolist('python') -> ['p', 'y', 't', 'h', 'o', 'n']\n",
    "strtolist('hugo') -> ['h', 'u', 'g', 'o']\n",
    "```"
   ]
  },
  {
   "cell_type": "code",
   "execution_count": 47,
   "metadata": {},
   "outputs": [
    {
     "data": {
      "text/plain": [
       "['p', 'y', 't', 'h', 'o', 'n']"
      ]
     },
     "execution_count": 47,
     "metadata": {},
     "output_type": "execute_result"
    }
   ],
   "source": [
    "def strtolist(s):\n",
    "   \n",
    "    return [i for i in s]\n",
    "\n",
    "# resultado esperado: ['p', 'y', 't', 'h', 'o', 'n']\n",
    "strtolist('python')"
   ]
  },
  {
   "cell_type": "code",
   "execution_count": 48,
   "metadata": {},
   "outputs": [
    {
     "name": "stdout",
     "output_type": "stream",
     "text": [
      "Show de bola!\n"
     ]
    }
   ],
   "source": [
    "assert strtolist('python') == ['p', 'y', 't', 'h', 'o', 'n'], 'Você errroooouuuuu!'\n",
    "assert strtolist('hugo') == ['h', 'u', 'g', 'o'], 'Você errroooouuuuu!'\n",
    "print('Show de bola!')"
   ]
  },
  {
   "cell_type": "markdown",
   "metadata": {},
   "source": [
    "**3)** Programe a função `splitstring(s, sep)`. Ela é similar ao método `split` da string, porém ela remove espaços das strings resultantes e se a string resultante for vazia, ignora.\n",
    "\n",
    "Parâmetros:\n",
    "* **s**: string de entrada\n",
    "* **sep**: string de separação\n",
    "\n",
    "Retorno:\n",
    "Lista com substrings sem espaços separadas ignorando strings vazias.\n",
    "\n",
    "Exemplos de uso:\n",
    "```python\n",
    "splitstring('A,B,C', ',') -> ['A', 'B', 'C']\n",
    "splitstring('A, B, C, ', ',') -> ['A', 'B', 'C']\n",
    "splitstring('aaaa', 'a') -> []\n",
    "splitstring('Python é legal!', 'z') -> ['Python é legal!']\n",
    "splitstring('Texto com    vários    espaços   !', ' ') -> ['Texto', 'com', 'vários', 'espaços', '!']\n",
    "```"
   ]
  },
  {
   "cell_type": "code",
   "execution_count": 80,
   "metadata": {},
   "outputs": [
    {
     "data": {
      "text/plain": [
       "['Python é legal!']"
      ]
     },
     "execution_count": 80,
     "metadata": {},
     "output_type": "execute_result"
    }
   ],
   "source": [
    "def splitstring(s, sep=' '):\n",
    "    \n",
    "    separados = s.split(sep)\n",
    "    \n",
    "    return [i for i in separados if i != ' ' if i != '']\n",
    "\n",
    "# resultado esperado: ['A', 'B', 'C']\n",
    "splitstring('Python é legal!', 'z')"
   ]
  },
  {
   "cell_type": "code",
   "execution_count": 81,
   "metadata": {},
   "outputs": [
    {
     "ename": "AssertionError",
     "evalue": "Você errroooouuuuu!",
     "output_type": "error",
     "traceback": [
      "\u001b[1;31m---------------------------------------------------------------------------\u001b[0m",
      "\u001b[1;31mAssertionError\u001b[0m                            Traceback (most recent call last)",
      "\u001b[1;32m<ipython-input-81-e0dbd7d34dfe>\u001b[0m in \u001b[0;36m<module>\u001b[1;34m\u001b[0m\n\u001b[0;32m      1\u001b[0m \u001b[1;32massert\u001b[0m \u001b[0msplitstring\u001b[0m\u001b[1;33m(\u001b[0m\u001b[1;34m'A,B,C'\u001b[0m\u001b[1;33m,\u001b[0m \u001b[1;34m','\u001b[0m\u001b[1;33m)\u001b[0m \u001b[1;33m==\u001b[0m \u001b[1;33m[\u001b[0m\u001b[1;34m'A'\u001b[0m\u001b[1;33m,\u001b[0m \u001b[1;34m'B'\u001b[0m\u001b[1;33m,\u001b[0m \u001b[1;34m'C'\u001b[0m\u001b[1;33m]\u001b[0m\u001b[1;33m,\u001b[0m \u001b[1;34m'Você errroooouuuuu!'\u001b[0m\u001b[1;33m\u001b[0m\u001b[1;33m\u001b[0m\u001b[0m\n\u001b[1;32m----> 2\u001b[1;33m \u001b[1;32massert\u001b[0m \u001b[0msplitstring\u001b[0m\u001b[1;33m(\u001b[0m\u001b[1;34m'A, B, C, '\u001b[0m\u001b[1;33m,\u001b[0m \u001b[1;34m','\u001b[0m\u001b[1;33m)\u001b[0m \u001b[1;33m==\u001b[0m \u001b[1;33m[\u001b[0m\u001b[1;34m'A'\u001b[0m\u001b[1;33m,\u001b[0m \u001b[1;34m'B'\u001b[0m\u001b[1;33m,\u001b[0m \u001b[1;34m'C'\u001b[0m\u001b[1;33m]\u001b[0m\u001b[1;33m,\u001b[0m \u001b[1;34m'Você errroooouuuuu!'\u001b[0m\u001b[1;33m\u001b[0m\u001b[1;33m\u001b[0m\u001b[0m\n\u001b[0m\u001b[0;32m      3\u001b[0m \u001b[1;32massert\u001b[0m \u001b[0msplitstring\u001b[0m\u001b[1;33m(\u001b[0m\u001b[1;34m'aaaa'\u001b[0m\u001b[1;33m,\u001b[0m \u001b[1;34m'a'\u001b[0m\u001b[1;33m)\u001b[0m \u001b[1;33m==\u001b[0m \u001b[1;33m[\u001b[0m\u001b[1;33m]\u001b[0m\u001b[1;33m,\u001b[0m \u001b[1;34m'Você errroooouuuuu!'\u001b[0m\u001b[1;33m\u001b[0m\u001b[1;33m\u001b[0m\u001b[0m\n\u001b[0;32m      4\u001b[0m \u001b[1;32massert\u001b[0m \u001b[0msplitstring\u001b[0m\u001b[1;33m(\u001b[0m\u001b[1;34m'Python é legal!'\u001b[0m\u001b[1;33m,\u001b[0m \u001b[1;34m'z'\u001b[0m\u001b[1;33m)\u001b[0m \u001b[1;33m==\u001b[0m \u001b[1;33m[\u001b[0m\u001b[1;34m'Python é legal!'\u001b[0m\u001b[1;33m]\u001b[0m\u001b[1;33m,\u001b[0m \u001b[1;34m'Você errroooouuuuu!'\u001b[0m\u001b[1;33m\u001b[0m\u001b[1;33m\u001b[0m\u001b[0m\n\u001b[0;32m      5\u001b[0m \u001b[1;31m#assert splitstring('Texto com    vários    espaços   !', ' ') == ['Texto', 'com', 'vários', 'espaços', '!'], 'Você errroooouuuuu!'\u001b[0m\u001b[1;33m\u001b[0m\u001b[1;33m\u001b[0m\u001b[1;33m\u001b[0m\u001b[0m\n",
      "\u001b[1;31mAssertionError\u001b[0m: Você errroooouuuuu!"
     ]
    }
   ],
   "source": [
    "assert splitstring('A,B,C', ',') == ['A', 'B', 'C'], 'Você errroooouuuuu!'\n",
    "assert splitstring('A, B, C, ', ',') == ['A', 'B', 'C'], 'Você errroooouuuuu!'\n",
    "assert splitstring('aaaa', 'a') == [], 'Você errroooouuuuu!'\n",
    "assert splitstring('Python é legal!', 'z') == ['Python é legal!'], 'Você errroooouuuuu!'\n",
    "#assert splitstring('Texto com    vários    espaços   !', ' ') == ['Texto', 'com', 'vários', 'espaços', '!'], 'Você errroooouuuuu!'\n",
    "print('Show de bola!')"
   ]
  },
  {
   "cell_type": "markdown",
   "metadata": {},
   "source": [
    "**4)** Programe a função `printmaneiro(s)` onde o retorno será uma única string com o seguinte padrão (`s='PYTHON'`):\n",
    "```\n",
    "P\n",
    "YY\n",
    "TTT\n",
    "HHHH\n",
    "OOOOO\n",
    "NNNNNN\n",
    "```\n",
    "\n",
    "Parâmetros:\n",
    "* **s**: string de entrada\n",
    "\n",
    "Retorno:\n",
    "String contendo o padrão indicado"
   ]
  },
  {
   "cell_type": "code",
   "execution_count": null,
   "metadata": {},
   "outputs": [],
   "source": [
    "def printmaneiro(s):\n",
    "    \n",
    "    \n",
    "\n",
    "\n",
    "\n",
    "    return \n",
    "\n",
    "# resultado esperado: 'a\\nee\\niii\\noooo\\nuuuuu'\n",
    "printmaneiro('aeiou')"
   ]
  },
  {
   "cell_type": "code",
   "execution_count": null,
   "metadata": {},
   "outputs": [],
   "source": [
    "assert printmaneiro('aeiou') == 'a\\nee\\niii\\noooo\\nuuuuu', 'Você errroooouuuuu!'\n",
    "assert printmaneiro('123') == '1\\n22\\n333', 'Você errroooouuuuu!'\n",
    "assert printmaneiro('a a') == 'a\\n  \\naaa', 'Você errroooouuuuu!'\n",
    "print('Show de bola!')"
   ]
  }
 ],
 "metadata": {
  "kernelspec": {
   "display_name": "Python 3 (ipykernel)",
   "language": "python",
   "name": "python3"
  },
  "language_info": {
   "codemirror_mode": {
    "name": "ipython",
    "version": 3
   },
   "file_extension": ".py",
   "mimetype": "text/x-python",
   "name": "python",
   "nbconvert_exporter": "python",
   "pygments_lexer": "ipython3",
   "version": "3.9.7"
  }
 },
 "nbformat": 4,
 "nbformat_minor": 2
}
