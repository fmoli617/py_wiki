{
 "cells": [
  {
   "cell_type": "markdown",
   "metadata": {},
   "source": [
    "# Funções\n",
    "Funções são blocos organizados e reusáveis de código para ser usado com um único fim. Ajuda a diminuir o tamanho do código-fonte por permitir a modularização. "
   ]
  },
  {
   "cell_type": "markdown",
   "metadata": {},
   "source": [
    "## Sintaxe de uma função\n",
    "```python\n",
    "def function_name(parameters):\n",
    "    \"\"\"docstring\"\"\"\n",
    "    código\n",
    "    return [expression] - opcional\n",
    "```"
   ]
  },
  {
   "cell_type": "markdown",
   "metadata": {},
   "source": [
    "### Regras\n",
    "* Precisa começar com `def`, indicar o nome da função e indicar os parâmetros de entrada entre parêntesis. Não esquecer dos dois pontos ':'.\n",
    "* Parâmetros são opcionais, mas precisam ser declarados dentro dos parêntesis.\n",
    "* Docstring é uma documentação opcional que ajuda o programador a entender o que faz a função e para que serve cada parâmetro.\n",
    "* Todo o bloco de código deve seguir a identação para \"fazer parte\" da função.\n",
    "* A função pode retornar alguma coisa ou nada ou várias. É opcional retornar algo.\n",
    "* `return` sem nada é o mesmo que `return None`."
   ]
  },
  {
   "cell_type": "markdown",
   "metadata": {},
   "source": [
    "### Exemplo 1"
   ]
  },
  {
   "cell_type": "code",
   "execution_count": 1,
   "metadata": {},
   "outputs": [],
   "source": [
    "def passarcumprimento(nome):\n",
    "    \"\"\"Função de exemplo com um parâmetro de entrada e sem retorno.\"\"\"\n",
    "    print(f'Olá, {nome}! Vim aqui para te passar o cumprimento.')"
   ]
  },
  {
   "cell_type": "code",
   "execution_count": 2,
   "metadata": {},
   "outputs": [
    {
     "name": "stdout",
     "output_type": "stream",
     "text": [
      "Olá, Mult! Vim aqui para te passar o cumprimento.\n"
     ]
    }
   ],
   "source": [
    "# chamando a função. Dê [shift] + [tab] dentro dos parêntesis para ver a documentação\n",
    "passarcumprimento('Mult')"
   ]
  },
  {
   "cell_type": "markdown",
   "metadata": {},
   "source": [
    "### Exemplo 2"
   ]
  },
  {
   "cell_type": "code",
   "execution_count": 3,
   "metadata": {},
   "outputs": [],
   "source": [
    "def ehpar(numero):\n",
    "    \"\"\"Função que indica se o número é par ou não.\"\"\"\n",
    "    return numero % 2 == 0"
   ]
  },
  {
   "cell_type": "code",
   "execution_count": 4,
   "metadata": {},
   "outputs": [
    {
     "data": {
      "text/plain": [
       "True"
      ]
     },
     "execution_count": 4,
     "metadata": {},
     "output_type": "execute_result"
    }
   ],
   "source": [
    "ehpar(2)"
   ]
  },
  {
   "cell_type": "code",
   "execution_count": 5,
   "metadata": {},
   "outputs": [
    {
     "data": {
      "text/plain": [
       "False"
      ]
     },
     "execution_count": 5,
     "metadata": {},
     "output_type": "execute_result"
    }
   ],
   "source": [
    "ehpar(5)"
   ]
  },
  {
   "cell_type": "code",
   "execution_count": 6,
   "metadata": {},
   "outputs": [
    {
     "name": "stdout",
     "output_type": "stream",
     "text": [
      "Número 40 é par!\n"
     ]
    }
   ],
   "source": [
    "# podemos guardar o retorno de uma função a uma variável\n",
    "numero = 40\n",
    "par = ehpar(numero)\n",
    "\n",
    "if par:\n",
    "    print(f'Número {numero} é par!')\n",
    "else:\n",
    "    print(f'Número {numero} não é par!')"
   ]
  },
  {
   "cell_type": "markdown",
   "metadata": {},
   "source": [
    "## Consultando docstrings"
   ]
  },
  {
   "cell_type": "code",
   "execution_count": 7,
   "metadata": {},
   "outputs": [
    {
     "name": "stdout",
     "output_type": "stream",
     "text": [
      "Função de exemplo com um parâmetro de entrada e sem retorno.\n",
      "Função que indica se o número é par ou não.\n"
     ]
    }
   ],
   "source": [
    "print(passarcumprimento.__doc__)\n",
    "print(ehpar.__doc__)"
   ]
  },
  {
   "cell_type": "code",
   "execution_count": 8,
   "metadata": {},
   "outputs": [],
   "source": [
    "passarcumprimento?"
   ]
  },
  {
   "cell_type": "markdown",
   "metadata": {},
   "source": [
    "## Escopo das variáveis\n",
    "Parâmetros e variáveis seguem o conceito de escopo local. Salvo quando especificado que é global."
   ]
  },
  {
   "cell_type": "markdown",
   "metadata": {},
   "source": [
    "### Exemplo 1"
   ]
  },
  {
   "cell_type": "code",
   "execution_count": 9,
   "metadata": {},
   "outputs": [
    {
     "name": "stdout",
     "output_type": "stream",
     "text": [
      "Antes 5\n",
      "Depois 5\n"
     ]
    }
   ],
   "source": [
    "a = 5\n",
    "\n",
    "def add10(a):\n",
    "    a += 10\n",
    "\n",
    "print('Antes', a)\n",
    "add10(a)\n",
    "print('Depois', a)"
   ]
  },
  {
   "cell_type": "code",
   "execution_count": 10,
   "metadata": {},
   "outputs": [
    {
     "name": "stdout",
     "output_type": "stream",
     "text": [
      "Antes 5\n",
      "Depois 15\n"
     ]
    }
   ],
   "source": [
    "a = 5\n",
    "\n",
    "def add10():\n",
    "    global a # indica que estou me referindo a uma variável criada fora\n",
    "    a += 10\n",
    "\n",
    "print('Antes', a)\n",
    "add10()\n",
    "print('Depois', a)"
   ]
  },
  {
   "cell_type": "markdown",
   "metadata": {},
   "source": [
    "## Tipos de dados genéricos\n",
    "Por padrão, não há a necessidade de informar os tipos dos parâmetros de uma função, nem o tipo de seu retorno. Mas é possível anotar os tipos dos parâmetros e retorno se conveniente. "
   ]
  },
  {
   "cell_type": "markdown",
   "metadata": {},
   "source": [
    "### Exemplo 1"
   ]
  },
  {
   "cell_type": "code",
   "execution_count": 11,
   "metadata": {},
   "outputs": [],
   "source": [
    "def add(a, b):\n",
    "    \"\"\"Adiciona A com B\"\"\"\n",
    "    return a + b"
   ]
  },
  {
   "cell_type": "code",
   "execution_count": 12,
   "metadata": {},
   "outputs": [
    {
     "data": {
      "text/plain": [
       "6"
      ]
     },
     "execution_count": 12,
     "metadata": {},
     "output_type": "execute_result"
    }
   ],
   "source": [
    "add(2, 4)"
   ]
  },
  {
   "cell_type": "code",
   "execution_count": 13,
   "metadata": {},
   "outputs": [
    {
     "data": {
      "text/plain": [
       "'ab'"
      ]
     },
     "execution_count": 13,
     "metadata": {},
     "output_type": "execute_result"
    }
   ],
   "source": [
    "add('a', 'b')"
   ]
  },
  {
   "cell_type": "code",
   "execution_count": 14,
   "metadata": {},
   "outputs": [
    {
     "data": {
      "text/plain": [
       "[1, 2, 3, 4, 5, 6]"
      ]
     },
     "execution_count": 14,
     "metadata": {},
     "output_type": "execute_result"
    }
   ],
   "source": [
    "add([1, 2, 3], [4, 5, 6])"
   ]
  },
  {
   "cell_type": "markdown",
   "metadata": {},
   "source": [
    "### Exemplo 2"
   ]
  },
  {
   "cell_type": "code",
   "execution_count": 15,
   "metadata": {},
   "outputs": [],
   "source": [
    "def add(a: int, b: int) -> int:\n",
    "    \"\"\"Adiciona 2 inteiros, A e B\"\"\"\n",
    "    return a + b"
   ]
  },
  {
   "cell_type": "code",
   "execution_count": 16,
   "metadata": {},
   "outputs": [
    {
     "data": {
      "text/plain": [
       "6"
      ]
     },
     "execution_count": 16,
     "metadata": {},
     "output_type": "execute_result"
    }
   ],
   "source": [
    "add(2, 4)"
   ]
  },
  {
   "cell_type": "code",
   "execution_count": 17,
   "metadata": {},
   "outputs": [
    {
     "data": {
      "text/plain": [
       "'ab'"
      ]
     },
     "execution_count": 17,
     "metadata": {},
     "output_type": "execute_result"
    }
   ],
   "source": [
    "add('a', 'b') # é só uma anotação"
   ]
  },
  {
   "cell_type": "markdown",
   "metadata": {},
   "source": [
    "## Parâmetros em qualquer ordem\n",
    "Você pode indicar o nome do parâmetro na chamada da função. Ela pode ser em qualquer ordem. Caso não seja dado o nome, seguirá na ordem de criação da função."
   ]
  },
  {
   "cell_type": "markdown",
   "metadata": {},
   "source": [
    "### Exemplo 1"
   ]
  },
  {
   "cell_type": "code",
   "execution_count": 18,
   "metadata": {},
   "outputs": [],
   "source": [
    "def printargs(a, b, c):\n",
    "    \"\"\"Exemplo de função com vários parâmetros\"\"\"\n",
    "    print('a', a)\n",
    "    print('b', b)\n",
    "    print('c', c)"
   ]
  },
  {
   "cell_type": "code",
   "execution_count": 19,
   "metadata": {},
   "outputs": [
    {
     "name": "stdout",
     "output_type": "stream",
     "text": [
      "a 1\n",
      "b 2\n",
      "c 3\n"
     ]
    }
   ],
   "source": [
    "printargs(1, 2, 3)"
   ]
  },
  {
   "cell_type": "code",
   "execution_count": 20,
   "metadata": {},
   "outputs": [
    {
     "name": "stdout",
     "output_type": "stream",
     "text": [
      "a 3\n",
      "b 2\n",
      "c 1\n"
     ]
    }
   ],
   "source": [
    "printargs(c=1, b=2, a=3)"
   ]
  },
  {
   "cell_type": "markdown",
   "metadata": {},
   "source": [
    "## Parâmetros opcionais\n",
    "Você pode indicar um valor padrão para cada parâmetro."
   ]
  },
  {
   "cell_type": "markdown",
   "metadata": {},
   "source": [
    "### Exemplo 1"
   ]
  },
  {
   "cell_type": "code",
   "execution_count": 21,
   "metadata": {},
   "outputs": [],
   "source": [
    "def printargs(a=1, b=2, c=3):\n",
    "    \"\"\"Exemplo de função com vários parâmetros opcionais\"\"\"\n",
    "    print('a', a)\n",
    "    print('b', b)\n",
    "    print('c', c)"
   ]
  },
  {
   "cell_type": "code",
   "execution_count": 22,
   "metadata": {},
   "outputs": [
    {
     "name": "stdout",
     "output_type": "stream",
     "text": [
      "a 1\n",
      "b 2\n",
      "c 3\n"
     ]
    }
   ],
   "source": [
    "printargs()"
   ]
  },
  {
   "cell_type": "code",
   "execution_count": 23,
   "metadata": {},
   "outputs": [
    {
     "name": "stdout",
     "output_type": "stream",
     "text": [
      "a 1\n",
      "b 2\n",
      "c 40\n"
     ]
    }
   ],
   "source": [
    "printargs(c=40)"
   ]
  },
  {
   "cell_type": "code",
   "execution_count": 24,
   "metadata": {},
   "outputs": [
    {
     "name": "stdout",
     "output_type": "stream",
     "text": [
      "a 0\n",
      "b 0\n",
      "c 0\n"
     ]
    }
   ],
   "source": [
    "printargs(0, 0, 0)"
   ]
  },
  {
   "cell_type": "markdown",
   "metadata": {},
   "source": [
    "## Retornando mais de um valor\n",
    "Funções podem retornar mais de um valor. É loco demais!"
   ]
  },
  {
   "cell_type": "markdown",
   "metadata": {},
   "source": [
    "### Exemplo 1"
   ]
  },
  {
   "cell_type": "code",
   "execution_count": 25,
   "metadata": {},
   "outputs": [],
   "source": [
    "def multireturn():\n",
    "    \"\"\"Exemplo de múltiplo retorno\"\"\"\n",
    "    return 1, 'Python'"
   ]
  },
  {
   "cell_type": "code",
   "execution_count": 26,
   "metadata": {},
   "outputs": [
    {
     "name": "stdout",
     "output_type": "stream",
     "text": [
      "(1, 'Python') <class 'tuple'>\n"
     ]
    }
   ],
   "source": [
    "result = multireturn()\n",
    "print(result, type(result))"
   ]
  },
  {
   "cell_type": "code",
   "execution_count": 27,
   "metadata": {},
   "outputs": [
    {
     "name": "stdout",
     "output_type": "stream",
     "text": [
      "1 <class 'int'>\n",
      "Python <class 'str'>\n"
     ]
    }
   ],
   "source": [
    "n, s = multireturn()\n",
    "print(n, type(n))\n",
    "print(s, type(s))"
   ]
  },
  {
   "cell_type": "code",
   "execution_count": 28,
   "metadata": {},
   "outputs": [],
   "source": [
    "n, _ = multireturn() # ignorando o 2º retorno\n",
    "_, s = multireturn() # ignorando o 1º retorno"
   ]
  },
  {
   "cell_type": "markdown",
   "metadata": {},
   "source": [
    "## Keyword arguments (`kwargs`)\n",
    "É possível passar argumentos similar a um dicionário, mas sem definir os nomes dos parâmetros."
   ]
  },
  {
   "cell_type": "markdown",
   "metadata": {},
   "source": [
    "### Exemplo 1"
   ]
  },
  {
   "cell_type": "code",
   "execution_count": 29,
   "metadata": {},
   "outputs": [],
   "source": [
    "def printdados(**kwargs):\n",
    "    \"\"\"Exemplo de kwargs\"\"\"\n",
    "    print(kwargs['nome'])\n",
    "    print(kwargs['matricula'])\n",
    "    print(kwargs['telefone'])\n",
    "    print(kwargs['admissao'])"
   ]
  },
  {
   "cell_type": "code",
   "execution_count": 30,
   "metadata": {},
   "outputs": [
    {
     "name": "stdout",
     "output_type": "stream",
     "text": [
      "Pieter\n",
      "014562895\n",
      "532 8082\n",
      "02/08/2007\n"
     ]
    }
   ],
   "source": [
    "printdados(nome='Pieter', matricula='014562895', telefone='532 8082', admissao='02/08/2007')"
   ]
  },
  {
   "cell_type": "code",
   "execution_count": 31,
   "metadata": {},
   "outputs": [
    {
     "name": "stdout",
     "output_type": "stream",
     "text": [
      "Pieter\n",
      "014562895\n",
      "532 8082\n",
      "02/08/2007\n"
     ]
    }
   ],
   "source": [
    "user = {'nome': 'Pieter', 'matricula': '014562895', 'telefone': '532 8082', 'admissao': '02/08/2007'}\n",
    "printdados(**user)"
   ]
  },
  {
   "cell_type": "code",
   "execution_count": 32,
   "metadata": {},
   "outputs": [
    {
     "data": {
      "text/plain": [
       "3"
      ]
     },
     "execution_count": 32,
     "metadata": {},
     "output_type": "execute_result"
    }
   ],
   "source": [
    "params = {'a': 1, 'b': 2}\n",
    "add(**params)"
   ]
  },
  {
   "cell_type": "markdown",
   "metadata": {},
   "source": [
    "### Exemplo 2\n",
    "Mesmo sem definir como keyword arguments, é possível passar um dicionário como parâmetro (não esqueça do **)"
   ]
  },
  {
   "cell_type": "code",
   "execution_count": 33,
   "metadata": {},
   "outputs": [],
   "source": [
    "def printargs(a=1, b=2, c=3):\n",
    "    \"\"\"Exemplo de função com vários parâmetros opcionais\"\"\"\n",
    "    print('a', a)\n",
    "    print('b', b)\n",
    "    print('c', c)"
   ]
  },
  {
   "cell_type": "code",
   "execution_count": 34,
   "metadata": {},
   "outputs": [
    {
     "name": "stdout",
     "output_type": "stream",
     "text": [
      "a 1\n",
      "b 40\n",
      "c 50\n"
     ]
    }
   ],
   "source": [
    "params = {'b': 40, 'c': 50}\n",
    "printargs(**params)"
   ]
  },
  {
   "cell_type": "markdown",
   "metadata": {},
   "source": [
    "## Parâmetros arbitrários\n",
    "É possível definir que uma função receberá parâmetros arbitrários, assim como a função `print` que permite colocar parâmetros indefinidamente."
   ]
  },
  {
   "cell_type": "markdown",
   "metadata": {},
   "source": [
    "### Exemplo 1"
   ]
  },
  {
   "cell_type": "code",
   "execution_count": 35,
   "metadata": {},
   "outputs": [],
   "source": [
    "def cumprimentar(*args):\n",
    "    \"\"\"Exemplo de função que pode receber uma lista de parâmetros\"\"\"\n",
    "    for nome in args:\n",
    "        print(f'Seja bem-vindo, {nome}')"
   ]
  },
  {
   "cell_type": "code",
   "execution_count": 36,
   "metadata": {},
   "outputs": [
    {
     "name": "stdout",
     "output_type": "stream",
     "text": [
      "Seja bem-vindo, Hulk\n",
      "Seja bem-vindo, Homem-aranha\n",
      "Seja bem-vindo, Dr. Estranho\n"
     ]
    }
   ],
   "source": [
    "cumprimentar('Hulk', 'Homem-aranha', 'Dr. Estranho')"
   ]
  },
  {
   "cell_type": "markdown",
   "metadata": {},
   "source": [
    "## Recursividade de funções\n",
    "Recursividade é quando uma função chama ela mesma dentro do seu próprio bloco de código.\n",
    "\n",
    "Vantagens:\n",
    "* O código fica elegante e simples\n",
    "* Tarefas complexas podem ser quebradas em funções mais simples\n",
    "\n",
    "Desvantagens:\n",
    "* As vezes fica muito difícil de entender o código ou depurar.\n",
    "* Usam muitos recursos e muitas vezes são menos eficientes do que se fosse feito sem recursividade."
   ]
  },
  {
   "cell_type": "markdown",
   "metadata": {},
   "source": [
    "### Exemplo 1\n",
    "Calcular fatorial"
   ]
  },
  {
   "cell_type": "code",
   "execution_count": 37,
   "metadata": {},
   "outputs": [
    {
     "name": "stdout",
     "output_type": "stream",
     "text": [
      "Fatorial de 5 é 120\n"
     ]
    }
   ],
   "source": [
    "def fatorial(n):\n",
    "    return 1 if n == 1 else n * fatorial(n - 1)\n",
    "\n",
    "num = 5\n",
    "print(f'Fatorial de {num} é {fatorial(num)}')"
   ]
  },
  {
   "cell_type": "code",
   "execution_count": 38,
   "metadata": {},
   "outputs": [
    {
     "name": "stdout",
     "output_type": "stream",
     "text": [
      "entrada de 5\n",
      "entrada de 4\n",
      "entrada de 3\n",
      "entrada de 2\n",
      "entrada de 1\n",
      "retorno de 1\n",
      "retorno de 2\n",
      "retorno de 3\n",
      "retorno de 4\n",
      "retorno de 5\n",
      "Fatorial de 5 é 120\n"
     ]
    }
   ],
   "source": [
    "def fatorial(n):\n",
    "    print('entrada de', n) # apenas para entender o que está acontecendo\n",
    "    result = 1 if n == 1 else n * fatorial(n - 1)\n",
    "    print('retorno de', n)\n",
    "    return result\n",
    "\n",
    "num = 5\n",
    "print(f'Fatorial de {num} é {fatorial(num)}')"
   ]
  },
  {
   "cell_type": "markdown",
   "metadata": {},
   "source": [
    "Note que a primeira chamada à função `fatorial` só conclui depois de executar todas as funções chamadas internamente."
   ]
  },
  {
   "cell_type": "markdown",
   "metadata": {},
   "source": [
    "### Exemplo 2\n",
    "Sequência de Fibonacci"
   ]
  },
  {
   "cell_type": "code",
   "execution_count": 39,
   "metadata": {},
   "outputs": [
    {
     "name": "stdout",
     "output_type": "stream",
     "text": [
      "O elemento número 30 é 832040\n"
     ]
    }
   ],
   "source": [
    "def fibonacci(n):\n",
    "    return n if n <= 1 else fibonacci(n - 1) + fibonacci(n - 2)\n",
    "\n",
    "num = 30\n",
    "print(f'O elemento número {num} é {fibonacci(num)}')"
   ]
  },
  {
   "cell_type": "code",
   "execution_count": 40,
   "metadata": {},
   "outputs": [
    {
     "name": "stdout",
     "output_type": "stream",
     "text": [
      "[0, 1, 1, 2, 3, 5, 8, 13, 21, 34, 55, 89, 144, 233, 377, 610, 987, 1597, 2584, 4181]\n"
     ]
    }
   ],
   "source": [
    "seq = [fibonacci(n) for n in range(20)]\n",
    "print(seq)"
   ]
  },
  {
   "cell_type": "markdown",
   "metadata": {},
   "source": [
    "## Funções lambda (anônimas)\n",
    "Funções anônimas são funções definidas sem um nome.\n",
    "\n",
    "* Funções normais são definidas com `def`\n",
    "* Funções anônimas são definidas com `lambda`"
   ]
  },
  {
   "cell_type": "markdown",
   "metadata": {},
   "source": [
    "### Regras\n",
    "* Funções lambda são pequenas, normalmente definidas em uma única linha de código.\n",
    "* Funções lambda podem ter vários parâmetros assim como em uma função normal.\n",
    "* O retorno é o valor resultante das interações com os parâmetros.\n",
    "* Não há a necessidade de chamar o comando return."
   ]
  },
  {
   "cell_type": "markdown",
   "metadata": {},
   "source": [
    "### Sintaxe\n",
    "```python\n",
    "lambda [arg1, arg2, arg3, ..., argn]: expression\n",
    "```"
   ]
  },
  {
   "cell_type": "markdown",
   "metadata": {},
   "source": [
    "### Exemplo 1"
   ]
  },
  {
   "cell_type": "code",
   "execution_count": 41,
   "metadata": {},
   "outputs": [
    {
     "name": "stdout",
     "output_type": "stream",
     "text": [
      "35\n",
      "<class 'function'>\n"
     ]
    }
   ],
   "source": [
    "# forma normal de definição de função\n",
    "def add(x, y):\n",
    "    return x + y\n",
    "\n",
    "print(add(10, 25))\n",
    "print(type(add))"
   ]
  },
  {
   "cell_type": "code",
   "execution_count": 42,
   "metadata": {},
   "outputs": [
    {
     "name": "stdout",
     "output_type": "stream",
     "text": [
      "35\n",
      "<class 'function'>\n"
     ]
    }
   ],
   "source": [
    "# definindo como função anônima e atribuindo a uma variável\n",
    "add = lambda x, y: x + y\n",
    "print(add(10, 25))\n",
    "print(type(add))"
   ]
  },
  {
   "cell_type": "markdown",
   "metadata": {},
   "source": [
    "Veremos nos próximos notebooks onde são usados funções lambda, mas acreditem, é bem usado."
   ]
  },
  {
   "cell_type": "markdown",
   "metadata": {},
   "source": [
    "### Exemplo 2"
   ]
  },
  {
   "cell_type": "code",
   "execution_count": 43,
   "metadata": {},
   "outputs": [
    {
     "name": "stdout",
     "output_type": "stream",
     "text": [
      "Soma 35\n",
      "Subtração -15\n",
      "Multiplicação 250\n",
      "Divisão 0.4\n"
     ]
    }
   ],
   "source": [
    "# recebendo uma função como parâmetro de outra função\n",
    "def operacao(func, x, y):\n",
    "    return func(x, y)\n",
    "\n",
    "print('Soma', operacao(lambda x, y: x + y, 10, 25))\n",
    "print('Subtração', operacao(lambda x, y: x - y, 10, 25))\n",
    "print('Multiplicação', operacao(lambda x, y: x * y, 10, 25))\n",
    "print('Divisão', operacao(lambda x, y: x / y, 10, 25))"
   ]
  },
  {
   "cell_type": "markdown",
   "metadata": {},
   "source": [
    "# Exercícios"
   ]
  },
  {
   "cell_type": "markdown",
   "metadata": {},
   "source": [
    "**1)** Programe a função `swap(a, b)` onde o resultado é o troca de duas variáveis.\n",
    "\n",
    "Parâmetros:\n",
    "* **a**: primeiro valor\n",
    "* **b**: segundo valor\n",
    "\n",
    "Retorno:\n",
    "A troca de variáveis, ou seja, o valor de `a` é `b` e de `b` é `a`.\n",
    "\n",
    "Exemplo de uso:\n",
    "```python\n",
    "swap(5, 6) -> (6, 5)\n",
    "swap(1, 1) -> (1, 1)\n",
    "```"
   ]
  },
  {
   "cell_type": "code",
   "execution_count": 44,
   "metadata": {},
   "outputs": [],
   "source": [
    "def swap(a, b):\n",
    "    \n",
    "    return b,a"
   ]
  },
  {
   "cell_type": "code",
   "execution_count": 45,
   "metadata": {},
   "outputs": [
    {
     "name": "stdout",
     "output_type": "stream",
     "text": [
      "Show de bola!\n"
     ]
    }
   ],
   "source": [
    "assert swap(5, 6) == (6, 5), 'Você errroooouuuuu!'\n",
    "assert swap(1, 1) == (1, 1), 'Você errroooouuuuu!'\n",
    "print('Show de bola!')"
   ]
  },
  {
   "cell_type": "markdown",
   "metadata": {},
   "source": [
    "**2)** Programe a função `somartudo()`, que pode receber quaisquer quantidade de parâmetros, e o retorno é a soma de tudo.\n",
    "\n",
    "Exemplos de uso:\n",
    "```python\n",
    "somartudo(10, 25, 5, 30) -> 70\n",
    "somartudo(4.7, 0.3) -> 5.0\n",
    "somartudo(2) -> 2\n",
    "somartudo() -> 0\n",
    "```"
   ]
  },
  {
   "cell_type": "code",
   "execution_count": 46,
   "metadata": {},
   "outputs": [],
   "source": [
    "def somartudo(*numeros): \n",
    "    \n",
    "    return sum(numeros)"
   ]
  },
  {
   "cell_type": "code",
   "execution_count": 47,
   "metadata": {},
   "outputs": [
    {
     "name": "stdout",
     "output_type": "stream",
     "text": [
      "Show de bola!\n"
     ]
    }
   ],
   "source": [
    "assert somartudo(10, 25, 5, 30) == 70, 'Você errroooouuuuu!'\n",
    "assert somartudo(4.7, 0.3) == 5.0, 'Você errroooouuuuu!'\n",
    "assert somartudo(2) == 2, 'Você errroooouuuuu!'\n",
    "assert somartudo() == 0, 'Você errroooouuuuu!'\n",
    "print('Show de bola!')"
   ]
  },
  {
   "cell_type": "markdown",
   "metadata": {},
   "source": [
    "**3)** Programe a função `posneg(numeros)` onde deve-se retornar a proporção de números positivos, negativos e zeros da lista de números `numeros`.\n",
    "\n",
    "Parâmetros:\n",
    "* **numeros**: Lista com os números que serão avaliados.\n",
    "\n",
    "Retorno: O retorno serão 3 números. Proporção de positivos, proporção de negativos e proporção de zeros.\n",
    "\n",
    "Exemplos de uso:\n",
    "```python\n",
    "posneg([1, 0.5, 0, -0.5, -1]) -> (0.4, 0.4, 0.2)\n",
    "posneg([1, 2, 3, 4, 5]) -> (1.0, 0.0, 0.0)\n",
    "posneg([0, 0, 1, 0, 0]) -> (0.2, 0.0, 0.8)\n",
    "```"
   ]
  },
  {
   "cell_type": "code",
   "execution_count": 48,
   "metadata": {},
   "outputs": [
    {
     "data": {
      "text/plain": [
       "(0.4, 0.4, 0.2)"
      ]
     },
     "execution_count": 48,
     "metadata": {},
     "output_type": "execute_result"
    }
   ],
   "source": [
    "def posneg(numeros):\n",
    "    \n",
    "    p, n, z = 0, 0, 0\n",
    "    \n",
    "    for numero in numeros:\n",
    "        if numero > 0:\n",
    "            p +=1\n",
    "        elif numero < 0:\n",
    "            n+=1\n",
    "        \n",
    "        else:\n",
    "            z +=1\n",
    "    \n",
    "    p /= len(numeros)\n",
    "    n /= len(numeros)\n",
    "    z /= len(numeros)\n",
    "    \n",
    "    return p, n, z\n",
    "\n",
    "# resultado esperado: (0.4, 0.4, 0.2)\n",
    "posneg([1, 0.5, 0, -0.5, -1])"
   ]
  },
  {
   "cell_type": "code",
   "execution_count": 49,
   "metadata": {},
   "outputs": [
    {
     "name": "stdout",
     "output_type": "stream",
     "text": [
      "Show de bola!\n"
     ]
    }
   ],
   "source": [
    "assert posneg([1, 0.5, 0, -0.5, -1]) == (0.4, 0.4, 0.2), 'Você errroooouuuuu!'\n",
    "assert posneg([1, 2, 3, 4, 5]) == (1.0, 0.0, 0.0), 'Você errroooouuuuu!'\n",
    "assert posneg([0, 0, 1, 0, 0]) == (0.2, 0.0, 0.8), 'Você errroooouuuuu!'\n",
    "print('Show de bola!')"
   ]
  },
  {
   "cell_type": "markdown",
   "metadata": {},
   "source": [
    "**4)** Programe as funções `fatorial(n)` e `fibonacci(n)` vistas na parte de recursividade, mas sem recursividade."
   ]
  },
  {
   "cell_type": "code",
   "execution_count": 50,
   "metadata": {},
   "outputs": [
    {
     "data": {
      "text/plain": [
       "120"
      ]
     },
     "execution_count": 50,
     "metadata": {},
     "output_type": "execute_result"
    }
   ],
   "source": [
    "def fatorial(n):\n",
    "    \n",
    "    resultado  = 1 \n",
    "    for i in range (2, n + 1):\n",
    "        resultado *= i\n",
    "        \n",
    "    return resultado\n",
    "\n",
    "# resultado esperado: 120\n",
    "fatorial(5)"
   ]
  },
  {
   "cell_type": "code",
   "execution_count": 51,
   "metadata": {},
   "outputs": [
    {
     "data": {
      "text/plain": [
       "55"
      ]
     },
     "execution_count": 51,
     "metadata": {},
     "output_type": "execute_result"
    }
   ],
   "source": [
    "def fibonacci(n):\n",
    "    \n",
    "    i1 = 0\n",
    "    i2 = 1\n",
    "    \n",
    "    if n == 0: return i1\n",
    "    if n == 1: return i2\n",
    "    \n",
    "    for i in range (2,n):\n",
    "        i1,i2 = i2,i1+i2\n",
    "        \n",
    "    return i1 + i2   \n",
    "\n",
    "# resultado esperado: 55\n",
    "fibonacci(10)"
   ]
  },
  {
   "cell_type": "code",
   "execution_count": 53,
   "metadata": {},
   "outputs": [
    {
     "data": {
      "text/plain": [
       "102334155"
      ]
     },
     "execution_count": 53,
     "metadata": {},
     "output_type": "execute_result"
    }
   ],
   "source": [
    "def fibonacci(n):\n",
    "    \n",
    "    seq  = [0,1]\n",
    "    for i in range(2,n+1):\n",
    "        seq.append(seq[-1] + seq[-2])\n",
    "        \n",
    "    return seq[n]   \n",
    "\n",
    "# resultado esperado: 55\n",
    "fibonacci(40)"
   ]
  },
  {
   "cell_type": "markdown",
   "metadata": {},
   "source": [
    "**5)** Programe a função `kaprekar(n)` que retorna quantas iterações são necessárias até chegar à constante de kaprekar. A constante de kaprekar (6174) é obtida a partir de qualquer número com 4 dígitos tendo pelo menos 2 dígitos distintos. A forma de se obter é a seguinte: subtraia o número em ordem decrescente do número em ordem crescente até chegar à constante. Caso não seja obtido, refaça a operação com o resultado. Preencha com 0's caso o resultado não seja um número com 4 dígitos.\n",
    "\n",
    "Parâmetros:\n",
    "* **n**: número de entrada com 4 dígitos tendo pelo menos 2 distintos.\n",
    "\n",
    "Retorno: Quantidade de iterações necessárias para chegar à constante de kaprekar.\n",
    "\n",
    "Demonstrações:\n",
    "* 3524: (1) 5432 - 2345 = 3087, (2) 8730 - 0378 = 8352, (3) 8532 - 2358 = 6174. Resutaldo: 3\n",
    "\n",
    "Exemplos de uso:\n",
    "```python\n",
    "kaprekar(3524) -> 3\n",
    "kaprekar(2111) -> 5\n",
    "kaprekar(9831) -> 7\n",
    "```\n",
    "\n",
    "**Observação**: Caso o número informado tenha apenas um dígito distinto, deve-se retornar `-1`."
   ]
  },
  {
   "cell_type": "code",
   "execution_count": 13,
   "metadata": {},
   "outputs": [],
   "source": [
    "def list_int(num):\n",
    "    list = []\n",
    "    for n in str(num):\n",
    "        list.append(int(n))\n",
    "    return list"
   ]
  },
  {
   "cell_type": "code",
   "execution_count": 14,
   "metadata": {},
   "outputs": [],
   "source": [
    "def ordenar_num(num,verif):\n",
    "    num = f'{num:04d}'   \n",
    "    num = int(''.join(sorted(str(num),reverse=verif)))\n",
    "    return num"
   ]
  },
  {
   "cell_type": "code",
   "execution_count": 9,
   "metadata": {},
   "outputs": [
    {
     "data": {
      "text/plain": [
       "3"
      ]
     },
     "execution_count": 9,
     "metadata": {},
     "output_type": "execute_result"
    }
   ],
   "source": [
    "def kaprekar(n):\n",
    "    if sum(list_int(n)) != list_int(n)[0] * len(list_int(n)):\n",
    "        contador = 0\n",
    "        while n != 6174:\n",
    "            n = ordenar_num(n,True) - ordenar_num(n,False)\n",
    "            contador += 1\n",
    "        return contador\n",
    "    else:\n",
    "        return -1\n",
    "\n",
    "kaprekar(3524)"
   ]
  },
  {
   "cell_type": "code",
   "execution_count": 10,
   "metadata": {},
   "outputs": [
    {
     "name": "stdout",
     "output_type": "stream",
     "text": [
      "Show de bola!\n"
     ]
    }
   ],
   "source": [
    "assert kaprekar(3524) == 3, 'Você errroooouuuuu!'\n",
    "assert kaprekar(2111) == 5, 'Você errroooouuuuu!'\n",
    "assert kaprekar(9831) == 7, 'Você errroooouuuuu!'\n",
    "assert kaprekar(1111) == -1, 'Você errroooouuuuu!'\n",
    "print('Show de bola!')"
   ]
  },
  {
   "cell_type": "code",
   "execution_count": null,
   "metadata": {},
   "outputs": [],
   "source": []
  }
 ],
 "metadata": {
  "kernelspec": {
   "display_name": "Python 3 (ipykernel)",
   "language": "python",
   "name": "python3"
  },
  "language_info": {
   "codemirror_mode": {
    "name": "ipython",
    "version": 3
   },
   "file_extension": ".py",
   "mimetype": "text/x-python",
   "name": "python",
   "nbconvert_exporter": "python",
   "pygments_lexer": "ipython3",
   "version": "3.10.9"
  }
 },
 "nbformat": 4,
 "nbformat_minor": 2
}
