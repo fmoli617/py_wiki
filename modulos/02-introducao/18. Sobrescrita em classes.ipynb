{
 "cells": [
  {
   "cell_type": "markdown",
   "metadata": {},
   "source": [
    "# Sobrescrita em classes\n",
    "Vimos um pouco de como descrever classes e como instanciá-los como objetos. Vamos ver neste notebook um pouco sobre o conceito de sobrescrita.\n",
    "\n",
    "Sobrescrita ou override é quando recodificamos um método ou operador de uma classe para que ela possua uma nova funcionalidade. Exemplo disso é quando sobrescrevemos o construtor da classe definindo um novo método `__init__`."
   ]
  },
  {
   "cell_type": "markdown",
   "metadata": {},
   "source": [
    "## Sobrescrevendo a conversão para string\n",
    "Vamos imaginar o seguinte trecho de código."
   ]
  },
  {
   "cell_type": "code",
   "execution_count": null,
   "metadata": {},
   "outputs": [],
   "source": [
    "class Pessoa():\n",
    "    def __init__(self, nome, idade):\n",
    "        self.nome = nome\n",
    "        self.idade = idade\n",
    "\n",
    "    def cumprimentar(self):\n",
    "        print(f'Olá, meu nome é {self.nome}. Tenho {self.idade} anos de idade.')"
   ]
  },
  {
   "cell_type": "code",
   "execution_count": null,
   "metadata": {},
   "outputs": [],
   "source": [
    "p1 = Pessoa('Mult', 38)\n",
    "p1.cumprimentar()"
   ]
  },
  {
   "cell_type": "markdown",
   "metadata": {},
   "source": [
    "Até aqui, nenhuma novidade. O que acontece se eu der um `print` em `p1`?"
   ]
  },
  {
   "cell_type": "code",
   "execution_count": null,
   "metadata": {},
   "outputs": [],
   "source": [
    "print(p1)"
   ]
  },
  {
   "cell_type": "markdown",
   "metadata": {},
   "source": [
    "Por padrão, a função `print` converte todos os objetos passados em string e imprime na saída imediata."
   ]
  },
  {
   "cell_type": "code",
   "execution_count": null,
   "metadata": {},
   "outputs": [],
   "source": [
    "str(p1)"
   ]
  },
  {
   "cell_type": "markdown",
   "metadata": {},
   "source": [
    "Não ficou muito legal, certo? Podemos sobrescrever a funcionalidade de conversão da classe para string definindo um novo método `__str__`."
   ]
  },
  {
   "cell_type": "code",
   "execution_count": null,
   "metadata": {},
   "outputs": [],
   "source": [
    "class Pessoa():\n",
    "    def __init__(self, nome, idade):\n",
    "        self.nome = nome\n",
    "        self.idade = idade\n",
    "\n",
    "    def cumprimentar(self):\n",
    "        print(f'Olá, meu nome é {self.nome}. Tenho {self.idade} anos de idade.')\n",
    "\n",
    "    def __str__(self):\n",
    "        return f'Pessoa (Nome={self.nome}, Idade={self.idade})' "
   ]
  },
  {
   "cell_type": "code",
   "execution_count": null,
   "metadata": {},
   "outputs": [],
   "source": [
    "p1 = Pessoa('Mult', 38)\n",
    "print(p1)"
   ]
  },
  {
   "cell_type": "code",
   "execution_count": null,
   "metadata": {},
   "outputs": [],
   "source": [
    "str(p1)"
   ]
  },
  {
   "cell_type": "markdown",
   "metadata": {},
   "source": [
    "Show de bola!"
   ]
  },
  {
   "cell_type": "markdown",
   "metadata": {},
   "source": [
    "## Sobrescrevendo a forma como a classe é representada\n",
    "Agora vamos ver o que acontece se mandamos p1 para o output. Será que é feita alguma conversão?"
   ]
  },
  {
   "cell_type": "code",
   "execution_count": null,
   "metadata": {},
   "outputs": [],
   "source": [
    "p1"
   ]
  },
  {
   "cell_type": "markdown",
   "metadata": {},
   "source": [
    "Hmmm... Voltamos à estaca zero? Não não... é que agora precisamos definir o comportamento do método que indica como a classe deve ser representada no output. Devemos sobrescrever o método `__repr__`."
   ]
  },
  {
   "cell_type": "code",
   "execution_count": null,
   "metadata": {},
   "outputs": [],
   "source": [
    "class Pessoa():\n",
    "    def __init__(self, nome, idade):\n",
    "        self.nome = nome\n",
    "        self.idade = idade\n",
    "\n",
    "    def cumprimentar(self):\n",
    "        print(f'Olá, meu nome é {self.nome}. Tenho {self.idade} anos de idade.')\n",
    "\n",
    "    def __str__(self):\n",
    "        return f'Pessoa (Nome={self.nome}, Idade={self.idade})'\n",
    "\n",
    "    def __repr__(self):\n",
    "        return str(self)"
   ]
  },
  {
   "cell_type": "code",
   "execution_count": null,
   "metadata": {},
   "outputs": [],
   "source": [
    "p1 = Pessoa('Mult', 38)\n",
    "p1"
   ]
  },
  {
   "cell_type": "markdown",
   "metadata": {},
   "source": [
    "## Sobrescrevendo o operador de comparação\n",
    "Vamos imaginar agora que queremos comparar uma classe `Pessoa` com outra e verificar se são iguais."
   ]
  },
  {
   "cell_type": "code",
   "execution_count": null,
   "metadata": {},
   "outputs": [],
   "source": [
    "p2 = Pessoa('Mult', 38)\n",
    "p1 == p2"
   ]
  },
  {
   "cell_type": "markdown",
   "metadata": {},
   "source": [
    "Poxa! Mas são iguaizinhas... E se eu convertesse para string e comparasse?"
   ]
  },
  {
   "cell_type": "code",
   "execution_count": null,
   "metadata": {},
   "outputs": [],
   "source": [
    "str(p1) == str(p2)"
   ]
  },
  {
   "cell_type": "markdown",
   "metadata": {},
   "source": [
    "U-hul! Péra lá, isso aí é gol de mão! A forma correta é sobrescrevermos o método `__eq__`."
   ]
  },
  {
   "cell_type": "code",
   "execution_count": null,
   "metadata": {},
   "outputs": [],
   "source": [
    "class Pessoa():\n",
    "    def __init__(self, nome, idade):\n",
    "        self.nome = nome\n",
    "        self.idade = idade\n",
    "\n",
    "    def cumprimentar(self):\n",
    "        print(f'Olá, meu nome é {self.nome}. Tenho {self.idade} anos de idade.')\n",
    "\n",
    "    def __str__(self):\n",
    "        return f'Pessoa (Nome={self.nome}, Idade={self.idade})'\n",
    "\n",
    "    def __repr__(self):\n",
    "        return str(self)\n",
    "\n",
    "    def __eq__(self, other):\n",
    "        return (self.nome == other.nome) and (self.idade == other.idade)"
   ]
  },
  {
   "cell_type": "code",
   "execution_count": null,
   "metadata": {},
   "outputs": [],
   "source": [
    "p1 = Pessoa('Mult', 38)\n",
    "p2 = Pessoa('Mult', 38)\n",
    "p1 == p2"
   ]
  },
  {
   "cell_type": "markdown",
   "metadata": {},
   "source": [
    "Internamente é o mesmo que chamar da seguinte forma."
   ]
  },
  {
   "cell_type": "code",
   "execution_count": null,
   "metadata": {},
   "outputs": [],
   "source": [
    "p1.__eq__(p2)"
   ]
  },
  {
   "cell_type": "markdown",
   "metadata": {},
   "source": [
    "Show de bola!"
   ]
  },
  {
   "cell_type": "markdown",
   "metadata": {},
   "source": [
    "## O que mais posso sobrescrever?\n",
    "Em Python, assim como qualquer outra linguagem, é possível sobrescrever uma série de funcionalidades. Vimos somente algumas, mas podemos sobrescrever o comportamento de sinais de maior que, menor que, maior ou igual a, etc."
   ]
  },
  {
   "cell_type": "code",
   "execution_count": null,
   "metadata": {},
   "outputs": [],
   "source": [
    "dir(p1)"
   ]
  },
  {
   "cell_type": "markdown",
   "metadata": {},
   "source": [
    "Não é tão comum assim sobrescrever esses métodos, mas é válido o conhecimento. :)"
   ]
  },
  {
   "cell_type": "markdown",
   "metadata": {},
   "source": [
    "# Exercícios"
   ]
  },
  {
   "cell_type": "code",
   "execution_count": null,
   "metadata": {},
   "outputs": [],
   "source": [
    "import math"
   ]
  },
  {
   "cell_type": "markdown",
   "metadata": {},
   "source": [
    "**1)** Vamos criar uma classe `Ponto`, que é definido por duas coordenadas, X e Y. Vamos implementar usando os conceitos que vimos até aqui.\n",
    "\n",
    "Detalhes da implementação:\n",
    "* O construtor deverá receber `x` e `y` como parâmetros.\n",
    "* Se convertido para string ou ser representado, a saída deverá ser `(x, y)`. Lembrando que `x` e `y` devem ser substituídos pelos seus respectivos valores.\n",
    "* Você deverá rescrever os métodos `__eq__`, `__lt__` (menor que), `__le__` (menor ou igual), `__gt__` (maior que) e `__ge__` (maior ou igual). Para comparar, deve-se calcular a distância do ponto ao ponto (0, 0) (distância euclidiana ou hipotenusa) e aí sim comparar. Usem a função `math.hypot`."
   ]
  },
  {
   "cell_type": "code",
   "execution_count": null,
   "metadata": {},
   "outputs": [],
   "source": [
    "class Ponto():\n",
    "    pass"
   ]
  },
  {
   "cell_type": "code",
   "execution_count": null,
   "metadata": {},
   "outputs": [],
   "source": [
    "p1 = Ponto(3, 4)\n",
    "p2 = Ponto(5, 5)\n",
    "p3 = Ponto(4, 3)\n",
    "p4 = Ponto(1, 1)"
   ]
  },
  {
   "cell_type": "code",
   "execution_count": null,
   "metadata": {},
   "outputs": [],
   "source": [
    "assert str(p1) == '(3, 4)', 'Você errroooouuuuu!'\n",
    "assert repr(p1) == '(3, 4)', 'Você errroooouuuuu!'\n",
    "assert p1 == p1, 'Você errroooouuuuu!'\n",
    "assert p1 >= p3, 'Você errroooouuuuu!'\n",
    "assert p1 <= p3, 'Você errroooouuuuu!'\n",
    "assert p1 > p4, 'Você errroooouuuuu!'\n",
    "assert p1 < p2, 'Você errroooouuuuu!'\n",
    "print('Show de bola!')"
   ]
  },
  {
   "cell_type": "code",
   "execution_count": null,
   "metadata": {},
   "outputs": [],
   "source": []
  }
 ],
 "metadata": {
  "file_extension": ".py",
  "kernelspec": {
   "display_name": "Python (curso)",
   "language": "python",
   "name": "cursopython"
  },
  "language_info": {
   "codemirror_mode": {
    "name": "ipython",
    "version": 3
   },
   "file_extension": ".py",
   "mimetype": "text/x-python",
   "name": "python",
   "nbconvert_exporter": "python",
   "pygments_lexer": "ipython3",
   "version": "3.7.9"
  },
  "mimetype": "text/x-python",
  "name": "python",
  "npconvert_exporter": "python",
  "pygments_lexer": "ipython3",
  "version": 3
 },
 "nbformat": 4,
 "nbformat_minor": 2
}
